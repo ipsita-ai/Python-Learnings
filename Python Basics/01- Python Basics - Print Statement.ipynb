{
 "cells": [
  {
   "cell_type": "code",
   "execution_count": 1,
   "id": "c8c5353f",
   "metadata": {},
   "outputs": [
    {
     "name": "stdout",
     "output_type": "stream",
     "text": [
      "Hello World\n"
     ]
    }
   ],
   "source": [
    "print('Hello World')"
   ]
  },
  {
   "cell_type": "code",
   "execution_count": 2,
   "id": "8b9f2f22",
   "metadata": {},
   "outputs": [
    {
     "name": "stdout",
     "output_type": "stream",
     "text": [
      "10\n"
     ]
    }
   ],
   "source": [
    "print(10)"
   ]
  },
  {
   "cell_type": "code",
   "execution_count": 3,
   "id": "9704a2bd",
   "metadata": {},
   "outputs": [
    {
     "name": "stdout",
     "output_type": "stream",
     "text": [
      "India Pakistan Nepal Srilanka\n"
     ]
    }
   ],
   "source": [
    "print('India','Pakistan','Nepal','Srilanka')"
   ]
  },
  {
   "cell_type": "code",
   "execution_count": 4,
   "id": "066c1974",
   "metadata": {},
   "outputs": [
    {
     "name": "stdout",
     "output_type": "stream",
     "text": [
      "India 5 True\n"
     ]
    }
   ],
   "source": [
    "print('India',5,True)"
   ]
  },
  {
   "cell_type": "code",
   "execution_count": 5,
   "id": "bbb30500",
   "metadata": {},
   "outputs": [
    {
     "name": "stdout",
     "output_type": "stream",
     "text": [
      "India/Pakistan/Bangladesh/France\n"
     ]
    }
   ],
   "source": [
    "print('India','Pakistan','Bangladesh','France',sep = '/')"
   ]
  },
  {
   "cell_type": "code",
   "execution_count": 8,
   "id": "4851f250",
   "metadata": {},
   "outputs": [
    {
     "name": "stdout",
     "output_type": "stream",
     "text": [
      "10.12."
     ]
    }
   ],
   "source": [
    "print(10,end = '.')\n",
    "print(12,end = '.')"
   ]
  },
  {
   "cell_type": "code",
   "execution_count": null,
   "id": "14375d0f",
   "metadata": {},
   "outputs": [],
   "source": []
  }
 ],
 "metadata": {
  "kernelspec": {
   "display_name": "Python 3 (ipykernel)",
   "language": "python",
   "name": "python3"
  },
  "language_info": {
   "codemirror_mode": {
    "name": "ipython",
    "version": 3
   },
   "file_extension": ".py",
   "mimetype": "text/x-python",
   "name": "python",
   "nbconvert_exporter": "python",
   "pygments_lexer": "ipython3",
   "version": "3.11.3"
  }
 },
 "nbformat": 4,
 "nbformat_minor": 5
}
