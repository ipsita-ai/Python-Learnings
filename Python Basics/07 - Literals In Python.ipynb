{
 "cells": [
  {
   "cell_type": "code",
   "execution_count": 1,
   "id": "f84f5d0c",
   "metadata": {},
   "outputs": [],
   "source": [
    "# Literals is a raw data given in a variable . In Python ,there are:"
   ]
  },
  {
   "cell_type": "code",
   "execution_count": 7,
   "id": "7bb58ed8",
   "metadata": {},
   "outputs": [
    {
     "name": "stdout",
     "output_type": "stream",
     "text": [
      "100 10 200 300\n",
      "10.5 150.0 0.0015\n",
      "3.14j 3.14 0.0\n"
     ]
    }
   ],
   "source": [
    "# Numeric Literals\n",
    "# Integer Literal\n",
    "a = 100 # decimal literal\n",
    "b = 0b1010 #binary literal\n",
    "c = 0o310 #Octal literal\n",
    "d = 0x12c #Hexadecimal literal\n",
    "\n",
    "print(a,b,c,d)\n",
    "\n",
    "# Floar literal\n",
    "float1 = 10.5\n",
    "float2 = 1.5e2\n",
    "float3 = 1.5e-3\n",
    "\n",
    "print(float1,float2,float3)\n",
    "\n",
    "# Complex literal \n",
    "x = 3.14j\n",
    "print(x,x.imag,x.real)"
   ]
  },
  {
   "cell_type": "code",
   "execution_count": 15,
   "id": "6194401b",
   "metadata": {},
   "outputs": [
    {
     "name": "stdout",
     "output_type": "stream",
     "text": [
      "Hi this is string\n",
      "Hi this is another string\n",
      "This is a multiline string with more than one line code.\n",
      "😀😆🤣\n",
      "this is a raw string.\\n Introducing a new line.\\t Introducing a tab\n"
     ]
    }
   ],
   "source": [
    "# String Literals\n",
    "string1 = 'Hi this is string'\n",
    "string2 = \"Hi this is another string\"\n",
    "multiline_string = \"\"\"This is a multiline string with more than one line code.\"\"\"\n",
    "unicode = u\"\\U0001F600\\U0001F606\\U0001F923\"\n",
    "\n",
    "\n",
    "'''Python raw strings are created by prefixing string literals with 'r' or 'R'.\n",
    "Raw Python strings treat backslashes () as literals. \n",
    "Backslashes are useful when we don't want them treated as escape characters in a string.'''\n",
    "\n",
    "\n",
    "raw_str = r\"this is a raw string.\\n Introducing a new line.\\t Introducing a tab\"\n",
    "\n",
    "print(string1)\n",
    "print(string2)\n",
    "print(multiline_string)\n",
    "print(unicode)\n",
    "print(raw_str)"
   ]
  },
  {
   "cell_type": "code",
   "execution_count": 9,
   "id": "e8452af2",
   "metadata": {},
   "outputs": [
    {
     "data": {
      "text/plain": [
       "'this is a raw string.\\\\n Introducing a new line.\\\\t Introducing a tab'"
      ]
     },
     "execution_count": 9,
     "metadata": {},
     "output_type": "execute_result"
    }
   ],
   "source": [
    "raw_str"
   ]
  },
  {
   "cell_type": "code",
   "execution_count": 10,
   "id": "8100bdf8",
   "metadata": {},
   "outputs": [
    {
     "name": "stdout",
     "output_type": "stream",
     "text": [
      "a is : 5\n",
      "b is : 1\n"
     ]
    }
   ],
   "source": [
    "# Boolean Literal\n",
    "a = True + 4\n",
    "b = False + 1\n",
    "\n",
    "print('a is :',a)\n",
    "print('b is :',b)"
   ]
  },
  {
   "cell_type": "code",
   "execution_count": 13,
   "id": "bde0bd27",
   "metadata": {},
   "outputs": [
    {
     "name": "stdout",
     "output_type": "stream",
     "text": [
      "None\n"
     ]
    }
   ],
   "source": [
    "# None Literal : Absence of anything \n",
    "# When you dont know what would be type or value of a variable you can use None.\n",
    "# Used for variable declaration\n",
    "a = None\n",
    "print(a)"
   ]
  },
  {
   "cell_type": "code",
   "execution_count": null,
   "id": "75655774",
   "metadata": {},
   "outputs": [],
   "source": []
  }
 ],
 "metadata": {
  "kernelspec": {
   "display_name": "Python 3 (ipykernel)",
   "language": "python",
   "name": "python3"
  },
  "language_info": {
   "codemirror_mode": {
    "name": "ipython",
    "version": 3
   },
   "file_extension": ".py",
   "mimetype": "text/x-python",
   "name": "python",
   "nbconvert_exporter": "python",
   "pygments_lexer": "ipython3",
   "version": "3.11.3"
  }
 },
 "nbformat": 4,
 "nbformat_minor": 5
}
