{
 "cells": [
  {
   "cell_type": "code",
   "execution_count": 1,
   "id": "75baad93",
   "metadata": {},
   "outputs": [],
   "source": [
    "# List : What is a List\n",
    "# List vs Array\n",
    "# Creation of list\n",
    "# Access\n",
    "# Edit\n",
    "# Add\n",
    "# Del\n",
    "# Operations on List\n",
    "# List Specific Function"
   ]
  },
  {
   "cell_type": "code",
   "execution_count": 3,
   "id": "f282be5a",
   "metadata": {},
   "outputs": [],
   "source": [
    "# List is a data type where you can store multiple data type\n",
    "# Array and list are fundamentally the same with following difference :\n",
    "## Arrays are homogeneous / List can have different data type\n",
    "## Arrays are stored in continous memory location/ In lists the storage is not continous\n",
    "## Arrays are much faster than list\n",
    "## Lists are more programmer friendly"
   ]
  },
  {
   "cell_type": "code",
   "execution_count": 23,
   "id": "d376356c",
   "metadata": {},
   "outputs": [
    {
     "name": "stdout",
     "output_type": "stream",
     "text": [
      "l1 [] <class 'list'>\n",
      "l2 [1, 2, 3, 4] <class 'list'>\n",
      "l3 [1, 2, 'new', True] <class 'list'>\n",
      "l4 [[1, 2], [3, 4]] <class 'list'>\n",
      "l5 [[[1, 2], [3, 4]], [[5, 6], [7, 8]]] <class 'list'>\n",
      "l6 ['s', 't', 'r', 'i', 'n', 'g'] <class 'list'>\n"
     ]
    }
   ],
   "source": [
    "# Creation of List in Python\n",
    "# Empty list \n",
    "l1 = []\n",
    "print('l1',l1,type(l1))\n",
    "\n",
    "# Homogeneous list\n",
    "l2 = [1,2,3,4]\n",
    "print('l2',l2,type(l2))\n",
    "\n",
    "# Heterogeneous List\n",
    "l3 = [1,2,'new',True]\n",
    "print('l3',l3,type(l3))\n",
    "\n",
    "# 2d list\n",
    "l4 = [[1,2],[3,4]]\n",
    "print('l4',l4,type(l4))\n",
    "\n",
    "# 3d list\n",
    "l5 = [[[1,2],[3,4]],[[5,6],[7,8]]]\n",
    "print('l5',l5,type(l5))\n",
    "\n",
    "# Type conversion\n",
    "l6 = list('string')\n",
    "print('l6',l6,type(l6))\n"
   ]
  },
  {
   "cell_type": "code",
   "execution_count": 24,
   "id": "a9181fed",
   "metadata": {},
   "outputs": [
    {
     "name": "stdout",
     "output_type": "stream",
     "text": [
      "[1, 2, 3, 4]\n",
      "2\n",
      "[4, 3, 2, 1]\n",
      "[1, 2, 3]\n",
      "[[1, 2], [3, 4]]\n",
      "2\n",
      "[[[1, 2], [3, 4]], [[5, 6], [7, 8]]]\n",
      "1\n"
     ]
    }
   ],
   "source": [
    "# Indexing and Slicing\n",
    "print(l2)\n",
    "print(l2[1])\n",
    "print(l2[::-1])\n",
    "print(l2[:-1])\n",
    "\n",
    "# Multidimension\n",
    "print(l4)\n",
    "print(l4[0][1])\n",
    "\n",
    "print(l5)\n",
    "print(l5[0][0][0])"
   ]
  },
  {
   "cell_type": "code",
   "execution_count": 25,
   "id": "19d5811f",
   "metadata": {},
   "outputs": [
    {
     "name": "stdout",
     "output_type": "stream",
     "text": [
      "Before editing [1, 2, 3, 4]\n",
      "After editing [100, 2, 3, 4]\n",
      "After editing multiple items [101, 201, 3, 4]\n"
     ]
    }
   ],
   "source": [
    "# Editing List  --> Lists are mutable\n",
    "print('Before editing',l2)\n",
    "l2[0] = 100\n",
    "print('After editing',l2)\n",
    "l2[0:2] = [101,201] \n",
    "print('After editing multiple items',l2)"
   ]
  },
  {
   "cell_type": "code",
   "execution_count": 26,
   "id": "045e97d9",
   "metadata": {},
   "outputs": [
    {
     "name": "stdout",
     "output_type": "stream",
     "text": [
      "Before appending [101, 201, 3, 4]\n",
      "After appending [101, 201, 3, 4, 1000]\n",
      "After appending a list [101, 201, 3, 4, 1000, [5, 6]]\n",
      "Before extending [101, 201, 3, 4, 1000, [5, 6]]\n",
      "After extending [101, 201, 3, 4, 1000, [5, 6], 1001, 1002, 1003]\n",
      "After extending [101, 201, 3, 4, 1000, [5, 6], 1001, 1002, 1003, 'g', 'o', 'a']\n",
      "After Inserting [101, 'world', 201, 3, 4, 1000, [5, 6], 1001, 1002, 1003, 'g', 'o', 'a']\n"
     ]
    }
   ],
   "source": [
    "# Adding Items to list\n",
    "# append --> always append one item\n",
    "print('Before appending',l2)\n",
    "l2.append(1000)\n",
    "print('After appending',l2)\n",
    "l2.append([5,6])\n",
    "print('After appending a list',l2)\n",
    "\n",
    "# extend --> always extend multiple items\n",
    "\n",
    "print('Before extending',l2)\n",
    "l2.extend([1001,1002,1003])\n",
    "print('After extending',l2)\n",
    "l2.extend('goa')\n",
    "print('After extending',l2)\n",
    "\n",
    "# insert\n",
    "l2.insert(1,'world')\n",
    "print('After Inserting',l2)"
   ]
  },
  {
   "cell_type": "code",
   "execution_count": 34,
   "id": "bf30828e",
   "metadata": {},
   "outputs": [
    {
     "name": "stdout",
     "output_type": "stream",
     "text": [
      "[2, 3, 4]\n",
      "[101, 'world', 201, 3, 4, 1000, [5, 6], 1001, 1002, 1003]\n",
      "[101, 201, 3, 4, 1000, [5, 6], 1001, 1002, 1003]\n",
      "[]\n"
     ]
    }
   ],
   "source": [
    "# Delete\n",
    "# DEL\n",
    "del l2\n",
    "# print(l2)\n",
    "l2 = [1,2,3,4]\n",
    "del l2[0]\n",
    "print(l2)\n",
    "\n",
    "l2 = [101, 'world', 201, 3, 4, 1000, [5, 6], 1001, 1002, 1003, 'g', 'o', 'a']\n",
    "del l2[-3:]\n",
    "print(l2)\n",
    "\n",
    "\n",
    "# Remove\n",
    "l2.remove('world')\n",
    "print(l2)\n",
    "\n",
    "# POP\n",
    "l2.pop()\n",
    "\n",
    "# clear \n",
    "l2.clear()\n",
    "print(l2)"
   ]
  },
  {
   "cell_type": "code",
   "execution_count": 37,
   "id": "937e27ce",
   "metadata": {},
   "outputs": [
    {
     "name": "stdout",
     "output_type": "stream",
     "text": [
      "[1, 2, 3, 4, 5, 6, 7, 8]\n",
      "[1, 2, 3, 4, 1, 2, 3, 4, 1, 2, 3, 4]\n",
      "True\n",
      "1\n",
      "2\n",
      "3\n",
      "4\n"
     ]
    }
   ],
   "source": [
    "# Operations on list\n",
    "l1 = [1,2,3,4]\n",
    "l2 = [5,6,7,8]\n",
    "# concatenation\n",
    "print(l1+l2)\n",
    "# multiplication\n",
    "print(l1*3)\n",
    "\n",
    "# membership \n",
    "print(4 in l1)\n",
    "\n",
    "# loop in list\n",
    "for i in l1:\n",
    "    print(i)"
   ]
  },
  {
   "cell_type": "code",
   "execution_count": 38,
   "id": "a0a889fc",
   "metadata": {},
   "outputs": [
    {
     "data": {
      "text/plain": [
       "'new world'"
      ]
     },
     "execution_count": 38,
     "metadata": {},
     "output_type": "execute_result"
    }
   ],
   "source": [
    "x = 'new'\n",
    "y = ' world'\n",
    "x+y"
   ]
  },
  {
   "cell_type": "code",
   "execution_count": 42,
   "id": "f9d7defc",
   "metadata": {},
   "outputs": [
    {
     "name": "stdout",
     "output_type": "stream",
     "text": [
      "4\n",
      "4\n",
      "1\n",
      "[4, 3, 2, 1]\n",
      "[1, 2, 3, 4]\n",
      "[1, 2, 3, 4]\n"
     ]
    }
   ],
   "source": [
    "# Functions with list\n",
    "print(len(l1))\n",
    "print(max(l1))\n",
    "print(min(l1))\n",
    "print(sorted(l1,reverse = True))\n",
    "print(l1)\n",
    "# permanent sorting\n",
    "l1.sort()\n",
    "print(l1)"
   ]
  },
  {
   "cell_type": "code",
   "execution_count": 43,
   "id": "fe3c48fd",
   "metadata": {},
   "outputs": [
    {
     "data": {
      "text/plain": [
       "'Hello How Are You?'"
      ]
     },
     "execution_count": 43,
     "metadata": {},
     "output_type": "execute_result"
    }
   ],
   "source": [
    "sample = 'Hello how are you?'\n",
    "lst = sample.split()\n",
    "new_lst = []\n",
    "for i in lst:\n",
    "    new_lst.append(i.capitalize())\n",
    "' '.join(new_lst)"
   ]
  },
  {
   "cell_type": "code",
   "execution_count": 44,
   "id": "42732212",
   "metadata": {},
   "outputs": [
    {
     "name": "stdout",
     "output_type": "stream",
     "text": [
      "abc\n"
     ]
    }
   ],
   "source": [
    "sample = 'abc@gmail.com'\n",
    "print(sample[:sample.find('@')])"
   ]
  },
  {
   "cell_type": "code",
   "execution_count": 47,
   "id": "d61286bd",
   "metadata": {},
   "outputs": [
    {
     "name": "stdout",
     "output_type": "stream",
     "text": [
      "[1, 2, 3, 4, 5, 6, 7, 8, 9]\n"
     ]
    }
   ],
   "source": [
    "l1 = [1,1,2,2,3,3,3,4,4,4,4,4,5,6,7,7,7,8,8,8,8,9]\n",
    "l2 = [1,2,3,1]\n",
    "l = []\n",
    "for i in l1:\n",
    "    if i not in l:\n",
    "        l.append(i)\n",
    "print(l)"
   ]
  },
  {
   "cell_type": "code",
   "execution_count": null,
   "id": "d91d8cc2",
   "metadata": {},
   "outputs": [],
   "source": []
  }
 ],
 "metadata": {
  "kernelspec": {
   "display_name": "Python 3 (ipykernel)",
   "language": "python",
   "name": "python3"
  },
  "language_info": {
   "codemirror_mode": {
    "name": "ipython",
    "version": 3
   },
   "file_extension": ".py",
   "mimetype": "text/x-python",
   "name": "python",
   "nbconvert_exporter": "python",
   "pygments_lexer": "ipython3",
   "version": "3.11.3"
  }
 },
 "nbformat": 4,
 "nbformat_minor": 5
}
