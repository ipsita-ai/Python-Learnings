{
 "cells": [
  {
   "cell_type": "code",
   "execution_count": 2,
   "id": "6b51d79e",
   "metadata": {},
   "outputs": [
    {
     "data": {
      "text/plain": [
       "{'Name': 'Ipsita Panda', 'Age': 32, 'Gender': 'Female'}"
      ]
     },
     "execution_count": 2,
     "metadata": {},
     "output_type": "execute_result"
    }
   ],
   "source": [
    "# Dictionaries contain key value pair\n",
    "{'Name':'Ipsita Panda','Age':32,'Gender':'Female'}"
   ]
  },
  {
   "cell_type": "code",
   "execution_count": 3,
   "id": "a9960971",
   "metadata": {},
   "outputs": [],
   "source": [
    "# Rules :\n",
    "# R1 : Dictionary has no indexing\n",
    "# R2 : Dictionary is a mutable type\n",
    "# R3: Keys are immutable , values are mutable/immutable\n",
    "# R4 : Keys should be unique\n",
    "\n",
    "# Mutable --> Lists/Sets/Dictionaries\n",
    "# Immutable --> String,int,float,boolean,complex,tuple"
   ]
  },
  {
   "cell_type": "code",
   "execution_count": 4,
   "id": "3c0e92b0",
   "metadata": {},
   "outputs": [],
   "source": [
    "# Creation of Dictionary\n",
    "# Empty Dictionary\n",
    "d1 = dict()\n",
    "d2 = {}"
   ]
  },
  {
   "cell_type": "code",
   "execution_count": 5,
   "id": "a3eaaf8e",
   "metadata": {},
   "outputs": [
    {
     "ename": "TypeError",
     "evalue": "unhashable type: 'list'",
     "output_type": "error",
     "traceback": [
      "\u001b[1;31m---------------------------------------------------------------------------\u001b[0m",
      "\u001b[1;31mTypeError\u001b[0m                                 Traceback (most recent call last)",
      "Cell \u001b[1;32mIn[5], line 2\u001b[0m\n\u001b[0;32m      1\u001b[0m \u001b[38;5;66;03m# Keys should be immutable\u001b[39;00m\n\u001b[1;32m----> 2\u001b[0m d \u001b[38;5;241m=\u001b[39m {[\u001b[38;5;241m1\u001b[39m,\u001b[38;5;241m2\u001b[39m,\u001b[38;5;241m3\u001b[39m]:\u001b[38;5;241m1\u001b[39m,[\u001b[38;5;241m4\u001b[39m,\u001b[38;5;241m5\u001b[39m,\u001b[38;5;241m6\u001b[39m]:\u001b[38;5;241m2\u001b[39m}\n",
      "\u001b[1;31mTypeError\u001b[0m: unhashable type: 'list'"
     ]
    }
   ],
   "source": [
    "# Keys should be immutable\n",
    "d = {[1,2,3]:1,[4,5,6]:2}"
   ]
  },
  {
   "cell_type": "code",
   "execution_count": 6,
   "id": "5467b099",
   "metadata": {},
   "outputs": [],
   "source": [
    "# Keys should be immutable\n",
    "d = {(1,2,3):1,(4,5,6):2}"
   ]
  },
  {
   "cell_type": "code",
   "execution_count": 7,
   "id": "69165e5e",
   "metadata": {},
   "outputs": [
    {
     "data": {
      "text/plain": [
       "{(1, 2, 3): 1, (4, 5, 6): 2}"
      ]
     },
     "execution_count": 7,
     "metadata": {},
     "output_type": "execute_result"
    }
   ],
   "source": [
    "d"
   ]
  },
  {
   "cell_type": "code",
   "execution_count": 8,
   "id": "cb0c9b47",
   "metadata": {},
   "outputs": [],
   "source": [
    "# Keys should be unique\n",
    "d = {'Name': 'Ipsita','Name':'Abhinav'}"
   ]
  },
  {
   "cell_type": "code",
   "execution_count": 10,
   "id": "bfa05737",
   "metadata": {},
   "outputs": [
    {
     "data": {
      "text/plain": [
       "{'Name': 'Abhinav'}"
      ]
     },
     "execution_count": 10,
     "metadata": {},
     "output_type": "execute_result"
    }
   ],
   "source": [
    "d # keeps the most recent value of the key if keys are duplicated --> Keys should be unique"
   ]
  },
  {
   "cell_type": "code",
   "execution_count": 11,
   "id": "b497c6d0",
   "metadata": {},
   "outputs": [],
   "source": [
    "# 2 - D dictionary\n",
    "x = {'Name': 'Ipsita','Age':32,'Marks':{'Maths':89,'English':90,'Science':95}}"
   ]
  },
  {
   "cell_type": "code",
   "execution_count": 12,
   "id": "78141c63",
   "metadata": {},
   "outputs": [
    {
     "data": {
      "text/plain": [
       "{'Name': 'Ipsita',\n",
       " 'Age': 32,\n",
       " 'Marks': {'Maths': 89, 'English': 90, 'Science': 95}}"
      ]
     },
     "execution_count": 12,
     "metadata": {},
     "output_type": "execute_result"
    }
   ],
   "source": [
    "x"
   ]
  },
  {
   "cell_type": "code",
   "execution_count": 17,
   "id": "cf562cdd",
   "metadata": {},
   "outputs": [
    {
     "name": "stdout",
     "output_type": "stream",
     "text": [
      "Ipsita Panda\n",
      "90\n",
      "Ipsita Panda\n"
     ]
    }
   ],
   "source": [
    "# Access Items from a dict\n",
    "# Values in dictionaries can be fetched only by corresponding keys \n",
    "print(x['Name'])\n",
    "print(x['Marks']['English'])\n",
    "print(x.get('Name'))"
   ]
  },
  {
   "cell_type": "code",
   "execution_count": 16,
   "id": "86ade81b",
   "metadata": {},
   "outputs": [
    {
     "data": {
      "text/plain": [
       "{'Name': 'Ipsita Panda',\n",
       " 'Age': 32,\n",
       " 'Marks': {'Maths': 89, 'English': 90, 'Science': 95}}"
      ]
     },
     "execution_count": 16,
     "metadata": {},
     "output_type": "execute_result"
    }
   ],
   "source": [
    "# Edit a dictionary\n",
    "x['Name'] = 'Ipsita Panda'\n",
    "x"
   ]
  },
  {
   "cell_type": "code",
   "execution_count": 19,
   "id": "0707b7c1",
   "metadata": {},
   "outputs": [
    {
     "name": "stdout",
     "output_type": "stream",
     "text": [
      "{'Name': 'Ipsita Panda', 'Age': 32, 'Marks': {'Maths': 89, 'English': 90, 'Science': 95}, 'Gender': 'Female'}\n",
      "{'Name': 'Ipsita Panda', 'Age': 32, 'Marks': {'Maths': 89, 'English': 90, 'Science': 95, 'Social Studies': 91}, 'Gender': 'Female'}\n"
     ]
    }
   ],
   "source": [
    "# Add new key value pair\n",
    "x['Gender'] = 'Female'\n",
    "print(x)\n",
    "x['Marks']['Social Studies'] = 91\n",
    "print(x)"
   ]
  },
  {
   "cell_type": "code",
   "execution_count": 21,
   "id": "57ba8405",
   "metadata": {},
   "outputs": [
    {
     "name": "stdout",
     "output_type": "stream",
     "text": [
      "{'Name': 'Ipsita Panda', 'Age': 32, 'Marks': {'Maths': 89, 'English': 90, 'Science': 95, 'Social Studies': 91}}\n"
     ]
    }
   ],
   "source": [
    "# Deleting dictionary\n",
    "d = {}\n",
    "del d\n",
    "#print(d)\n",
    "del x['Gender']\n",
    "print(x)"
   ]
  },
  {
   "cell_type": "code",
   "execution_count": 22,
   "id": "d02a5335",
   "metadata": {},
   "outputs": [
    {
     "name": "stdout",
     "output_type": "stream",
     "text": [
      "{}\n"
     ]
    }
   ],
   "source": [
    "d = {'1':1,'2':2,'3':3,'4':4}\n",
    "d.clear()\n",
    "print(d)"
   ]
  },
  {
   "cell_type": "code",
   "execution_count": 23,
   "id": "c336db76",
   "metadata": {},
   "outputs": [
    {
     "name": "stdout",
     "output_type": "stream",
     "text": [
      "Name\n",
      "Age\n",
      "Marks\n"
     ]
    }
   ],
   "source": [
    "# Looping with dictionaries\n",
    "for i in x:\n",
    "    print(i)"
   ]
  },
  {
   "cell_type": "code",
   "execution_count": 24,
   "id": "4bcde028",
   "metadata": {},
   "outputs": [
    {
     "name": "stdout",
     "output_type": "stream",
     "text": [
      "Name Ipsita Panda\n",
      "Age 32\n",
      "Marks {'Maths': 89, 'English': 90, 'Science': 95, 'Social Studies': 91}\n"
     ]
    }
   ],
   "source": [
    "for i in x:\n",
    "    print(i , x[i])"
   ]
  },
  {
   "cell_type": "code",
   "execution_count": 25,
   "id": "fd99ee8b",
   "metadata": {},
   "outputs": [
    {
     "data": {
      "text/plain": [
       "True"
      ]
     },
     "execution_count": 25,
     "metadata": {},
     "output_type": "execute_result"
    }
   ],
   "source": [
    "'Name' in x"
   ]
  },
  {
   "cell_type": "code",
   "execution_count": 26,
   "id": "cc3b9dde",
   "metadata": {},
   "outputs": [
    {
     "name": "stdout",
     "output_type": "stream",
     "text": [
      "('Name', 'Ipsita Panda')\n",
      "('Age', 32)\n",
      "('Marks', {'Maths': 89, 'English': 90, 'Science': 95, 'Social Studies': 91})\n"
     ]
    }
   ],
   "source": [
    "for i in x.items():\n",
    "    print(i)"
   ]
  },
  {
   "cell_type": "code",
   "execution_count": 27,
   "id": "5aab1878",
   "metadata": {},
   "outputs": [
    {
     "name": "stdout",
     "output_type": "stream",
     "text": [
      "3\n",
      "['Age', 'Marks', 'Name']\n",
      "Age\n",
      "Name\n"
     ]
    }
   ],
   "source": [
    "# Functions on dict\n",
    "print(len(x))\n",
    "print(sorted(x))\n",
    "print(min(x))\n",
    "print(max(x))"
   ]
  },
  {
   "cell_type": "code",
   "execution_count": 36,
   "id": "cd0c9391",
   "metadata": {},
   "outputs": [
    {
     "name": "stdout",
     "output_type": "stream",
     "text": [
      "dict_values(['Ipsita Panda', 32, {'Maths': 89, 'English': 90, 'Science': 95, 'Social Studies': 91, 'Informarion System': 97}])\n",
      "dict_keys(['Name', 'Age', 'Marks'])\n",
      "dict_items([('Name', 'Ipsita Panda'), ('Age', 32), ('Marks', {'Maths': 89, 'English': 90, 'Science': 95, 'Social Studies': 91, 'Informarion System': 97})])\n",
      "{'Name': 'Ipsita Panda', 'Age': 32, 'Marks': {'Maths': 89, 'English': 90, 'Science': 95, 'Social Studies': 91, 'Informarion System': 97}, 'Gender': 'Female'}\n",
      "{'Name': 'Ipsita Panda', 'Age': 32, 'Marks': {'Maths': 89, 'English': 90, 'Science': 95, 'Social Studies': 91, 'Informarion System': 97}}\n",
      "{'Name': 'Ipsita Panda', 'Age': 32, 'Marks': {'Maths': 89, 'English': 90, 'Science': 95, 'Social Studies': 91, 'Informarion System': 97}}\n",
      "True\n"
     ]
    }
   ],
   "source": [
    "# functions specific to dict\n",
    "\n",
    "print(x.values())\n",
    "print(x.keys())\n",
    "print(x.items())\n",
    "x['Gender'] = 'Female'\n",
    "print(x)\n",
    "x.pop('Gender')\n",
    "print(x)\n",
    "\n",
    "# Shallow Copy\n",
    "y = x.copy()\n",
    "print(y)\n",
    "y['Marks']['Informarion System'] = 97\n",
    "print(y == x)\n"
   ]
  },
  {
   "cell_type": "code",
   "execution_count": null,
   "id": "8904e4b3",
   "metadata": {},
   "outputs": [],
   "source": []
  }
 ],
 "metadata": {
  "kernelspec": {
   "display_name": "Python 3 (ipykernel)",
   "language": "python",
   "name": "python3"
  },
  "language_info": {
   "codemirror_mode": {
    "name": "ipython",
    "version": 3
   },
   "file_extension": ".py",
   "mimetype": "text/x-python",
   "name": "python",
   "nbconvert_exporter": "python",
   "pygments_lexer": "ipython3",
   "version": "3.11.3"
  }
 },
 "nbformat": 4,
 "nbformat_minor": 5
}
