{
 "cells": [
  {
   "cell_type": "code",
   "execution_count": 10,
   "id": "808c9173",
   "metadata": {},
   "outputs": [
    {
     "name": "stdout",
     "output_type": "stream",
     "text": [
      "() <class 'tuple'>\n",
      "() <class 'tuple'>\n",
      "a (1, 2, 3, 4) <class 'tuple'>\n",
      "b (1, 2, True, 'String') <class 'tuple'>\n",
      "z ((1, 2), (3, 4)) <class 'tuple'>\n",
      "f (1,) <class 'tuple'>\n",
      "g 1 <class 'int'>\n"
     ]
    }
   ],
   "source": [
    "# Tuples \n",
    "# Creation of tuples\n",
    "\n",
    "# Empty Tuple\n",
    "x = tuple()\n",
    "y = ()\n",
    "print(x,type(x))\n",
    "print(y,type(y))\n",
    "\n",
    "# Homogeneous Tuple\n",
    "a = (1,2,3,4)\n",
    "print('a',a,type(a))\n",
    "\n",
    "# Heterogeneous Tuple\n",
    "b = (1,2,True,'String')\n",
    "print('b',b,type(b))\n",
    "\n",
    "# 2D Tuples\n",
    "z = ((1,2),(3,4))\n",
    "print('z',z,type(z))\n",
    "\n",
    "# Single Item Tuple\n",
    "f = (1,)\n",
    "g = (1)\n",
    "print('f',f,type(f))\n",
    "print('g',g,type(g))"
   ]
  },
  {
   "cell_type": "code",
   "execution_count": 12,
   "id": "e3a7324f",
   "metadata": {},
   "outputs": [
    {
     "name": "stdout",
     "output_type": "stream",
     "text": [
      "1\n",
      "5\n",
      "2\n"
     ]
    }
   ],
   "source": [
    "# Indexing and slicing\n",
    "T = (1,2,3,4,5)\n",
    "print(T[0])\n",
    "print(T[-1])\n",
    "L = ((1,2),(3,4))\n",
    "print(L[0][1])"
   ]
  },
  {
   "cell_type": "code",
   "execution_count": 14,
   "id": "a32d6927",
   "metadata": {},
   "outputs": [
    {
     "ename": "TypeError",
     "evalue": "'tuple' object does not support item assignment",
     "output_type": "error",
     "traceback": [
      "\u001b[1;31m---------------------------------------------------------------------------\u001b[0m",
      "\u001b[1;31mTypeError\u001b[0m                                 Traceback (most recent call last)",
      "Cell \u001b[1;32mIn[14], line 4\u001b[0m\n\u001b[0;32m      1\u001b[0m \u001b[38;5;66;03m# Tuples are immutable where as List are mutable\u001b[39;00m\n\u001b[0;32m      2\u001b[0m \u001b[38;5;66;03m# Cannot Edit or Add elements to tuple\u001b[39;00m\n\u001b[0;32m      3\u001b[0m t \u001b[38;5;241m=\u001b[39m (\u001b[38;5;241m1\u001b[39m,\u001b[38;5;241m2\u001b[39m,\u001b[38;5;241m3\u001b[39m,\u001b[38;5;241m4\u001b[39m)\n\u001b[1;32m----> 4\u001b[0m t[\u001b[38;5;241m0\u001b[39m] \u001b[38;5;241m=\u001b[39m \u001b[38;5;241m1\u001b[39m\n",
      "\u001b[1;31mTypeError\u001b[0m: 'tuple' object does not support item assignment"
     ]
    }
   ],
   "source": [
    "# Tuples are immutable where as List are mutable\n",
    "# Cannot Edit or Add elements to tuple\n",
    "t = (1,2,3,4)\n",
    "t[0] = 1"
   ]
  },
  {
   "cell_type": "code",
   "execution_count": 16,
   "id": "0aae6fea",
   "metadata": {},
   "outputs": [
    {
     "name": "stdout",
     "output_type": "stream",
     "text": [
      "()\n"
     ]
    },
    {
     "ename": "NameError",
     "evalue": "name 'x' is not defined",
     "output_type": "error",
     "traceback": [
      "\u001b[1;31m---------------------------------------------------------------------------\u001b[0m",
      "\u001b[1;31mNameError\u001b[0m                                 Traceback (most recent call last)",
      "Cell \u001b[1;32mIn[16], line 4\u001b[0m\n\u001b[0;32m      2\u001b[0m \u001b[38;5;28mprint\u001b[39m(x)\n\u001b[0;32m      3\u001b[0m \u001b[38;5;28;01mdel\u001b[39;00m x\n\u001b[1;32m----> 4\u001b[0m \u001b[38;5;28mprint\u001b[39m(x)\n",
      "\u001b[1;31mNameError\u001b[0m: name 'x' is not defined"
     ]
    }
   ],
   "source": [
    "# Deleting tuple\n",
    "print(x)\n",
    "del x\n",
    "print(x)"
   ]
  },
  {
   "cell_type": "code",
   "execution_count": 17,
   "id": "6086eab6",
   "metadata": {},
   "outputs": [
    {
     "ename": "TypeError",
     "evalue": "'tuple' object doesn't support item deletion",
     "output_type": "error",
     "traceback": [
      "\u001b[1;31m---------------------------------------------------------------------------\u001b[0m",
      "\u001b[1;31mTypeError\u001b[0m                                 Traceback (most recent call last)",
      "Cell \u001b[1;32mIn[17], line 3\u001b[0m\n\u001b[0;32m      1\u001b[0m \u001b[38;5;66;03m# Cannot delete part of tuple\u001b[39;00m\n\u001b[0;32m      2\u001b[0m x \u001b[38;5;241m=\u001b[39m (\u001b[38;5;241m1\u001b[39m,\u001b[38;5;241m2\u001b[39m,\u001b[38;5;241m3\u001b[39m,\u001b[38;5;241m4\u001b[39m)\n\u001b[1;32m----> 3\u001b[0m \u001b[38;5;28;01mdel\u001b[39;00m x[\u001b[38;5;241m0\u001b[39m]\n",
      "\u001b[1;31mTypeError\u001b[0m: 'tuple' object doesn't support item deletion"
     ]
    }
   ],
   "source": [
    "# Cannot delete part of tuple\n",
    "x = (1,2,3,4)\n",
    "del x[0]"
   ]
  },
  {
   "cell_type": "code",
   "execution_count": 22,
   "id": "4c70493b",
   "metadata": {},
   "outputs": [
    {
     "data": {
      "text/plain": [
       "(1, 2, 3, 4, 1, 2, True, 'String')"
      ]
     },
     "execution_count": 22,
     "metadata": {},
     "output_type": "execute_result"
    }
   ],
   "source": [
    "# Operations with tuple\n",
    "# Arithmatic Operation With tuple\n",
    "a+b"
   ]
  },
  {
   "cell_type": "code",
   "execution_count": 23,
   "id": "4f5db78b",
   "metadata": {},
   "outputs": [
    {
     "data": {
      "text/plain": [
       "(1, 2, 3, 4, 1, 2, 3, 4, 1, 2, 3, 4)"
      ]
     },
     "execution_count": 23,
     "metadata": {},
     "output_type": "execute_result"
    }
   ],
   "source": [
    "a*3"
   ]
  },
  {
   "cell_type": "code",
   "execution_count": 24,
   "id": "f69e656f",
   "metadata": {},
   "outputs": [
    {
     "name": "stdout",
     "output_type": "stream",
     "text": [
      "1\n",
      "2\n",
      "3\n",
      "4\n"
     ]
    }
   ],
   "source": [
    "# Loops with tuple\n",
    "for i in a :\n",
    "    print(i)"
   ]
  },
  {
   "cell_type": "code",
   "execution_count": 25,
   "id": "95502ef6",
   "metadata": {},
   "outputs": [
    {
     "data": {
      "text/plain": [
       "True"
      ]
     },
     "execution_count": 25,
     "metadata": {},
     "output_type": "execute_result"
    }
   ],
   "source": [
    "# Membership with tuple\n",
    "1 in a"
   ]
  },
  {
   "cell_type": "code",
   "execution_count": 26,
   "id": "39f5fb07",
   "metadata": {},
   "outputs": [
    {
     "name": "stdout",
     "output_type": "stream",
     "text": [
      "4\n",
      "4\n",
      "1\n",
      "[4, 3, 2, 1]\n"
     ]
    }
   ],
   "source": [
    "# Functions\n",
    "print(len(a))\n",
    "print(max(a))\n",
    "print(min(a))\n",
    "print(sorted(a,reverse = True))"
   ]
  },
  {
   "cell_type": "code",
   "execution_count": 29,
   "id": "93297299",
   "metadata": {},
   "outputs": [
    {
     "name": "stdout",
     "output_type": "stream",
     "text": [
      "8\n",
      "0\n"
     ]
    }
   ],
   "source": [
    "# Functions specific to tuple\n",
    "# only read only functionality is available --> this is important where data intigrity is important\n",
    "a = [1,1,2,3,1,2,3,4,5,1,2,1,2,3,4,6,7,1,8,1,9,10,1]\n",
    "print(a.count(1))\n",
    "print(a.index(1))"
   ]
  },
  {
   "cell_type": "code",
   "execution_count": null,
   "id": "546f4de4",
   "metadata": {},
   "outputs": [],
   "source": []
  }
 ],
 "metadata": {
  "kernelspec": {
   "display_name": "Python 3 (ipykernel)",
   "language": "python",
   "name": "python3"
  },
  "language_info": {
   "codemirror_mode": {
    "name": "ipython",
    "version": 3
   },
   "file_extension": ".py",
   "mimetype": "text/x-python",
   "name": "python",
   "nbconvert_exporter": "python",
   "pygments_lexer": "ipython3",
   "version": "3.11.3"
  }
 },
 "nbformat": 4,
 "nbformat_minor": 5
}
