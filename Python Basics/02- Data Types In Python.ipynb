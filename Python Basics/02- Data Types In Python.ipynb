{
 "cells": [
  {
   "cell_type": "code",
   "execution_count": 32,
   "id": "9bac46c5",
   "metadata": {},
   "outputs": [],
   "source": [
    "# To write comments you just use hash\n",
    "# Comment is something that an interpreter or compiler does not proccess"
   ]
  },
  {
   "cell_type": "code",
   "execution_count": 33,
   "id": "8563dd67",
   "metadata": {},
   "outputs": [],
   "source": [
    "# Python supports 3 types of data types\n",
    "## Basic Data Types- Integer float complex boolean string\n",
    "## Container Data Types - List Tuple sets and dictionary\n",
    "# User Defined Types - class"
   ]
  },
  {
   "cell_type": "code",
   "execution_count": 34,
   "id": "bc79da29",
   "metadata": {},
   "outputs": [
    {
     "name": "stdout",
     "output_type": "stream",
     "text": [
      "4\n",
      "5000000000000000000000000000000000000000000000000000000000000000000000\n"
     ]
    }
   ],
   "source": [
    "# integer\n",
    "print(4)\n",
    "print(5000000000000000000000000000000000000000000000000000000000000000000000)"
   ]
  },
  {
   "cell_type": "code",
   "execution_count": 35,
   "id": "92aa4216",
   "metadata": {},
   "outputs": [
    {
     "name": "stdout",
     "output_type": "stream",
     "text": [
      "1e+308\n"
     ]
    }
   ],
   "source": [
    "# Integer range\n",
    "print(1e308)"
   ]
  },
  {
   "cell_type": "code",
   "execution_count": 36,
   "id": "ca8763b9",
   "metadata": {},
   "outputs": [
    {
     "name": "stdout",
     "output_type": "stream",
     "text": [
      "inf\n"
     ]
    }
   ],
   "source": [
    "print(1e309)"
   ]
  },
  {
   "cell_type": "code",
   "execution_count": 37,
   "id": "b6b4bfb7",
   "metadata": {},
   "outputs": [
    {
     "name": "stdout",
     "output_type": "stream",
     "text": [
      "True\n",
      "False\n"
     ]
    }
   ],
   "source": [
    "# Boolean \n",
    "print(True)\n",
    "print(False)"
   ]
  },
  {
   "cell_type": "code",
   "execution_count": 38,
   "id": "70dde119",
   "metadata": {},
   "outputs": [
    {
     "name": "stdout",
     "output_type": "stream",
     "text": [
      "(4+5j)\n"
     ]
    }
   ],
   "source": [
    "# complex\n",
    "print(4+5j)"
   ]
  },
  {
   "cell_type": "code",
   "execution_count": 13,
   "id": "c075af62",
   "metadata": {},
   "outputs": [
    {
     "name": "stdout",
     "output_type": "stream",
     "text": [
      "5.5\n"
     ]
    }
   ],
   "source": [
    "# Float\n",
    "print(5.5)"
   ]
  },
  {
   "cell_type": "code",
   "execution_count": 14,
   "id": "662d1be9",
   "metadata": {},
   "outputs": [
    {
     "name": "stdout",
     "output_type": "stream",
     "text": [
      "Hello world\n",
      "Hello World\n",
      "Hello World\n"
     ]
    }
   ],
   "source": [
    "#string\n",
    "print('Hello world')\n",
    "print(\"Hello World\")\n",
    "print('''Hello World''')"
   ]
  },
  {
   "cell_type": "code",
   "execution_count": 15,
   "id": "333da318",
   "metadata": {},
   "outputs": [
    {
     "data": {
      "text/plain": [
       "'Hello World'"
      ]
     },
     "execution_count": 15,
     "metadata": {},
     "output_type": "execute_result"
    }
   ],
   "source": [
    "'Hello World'"
   ]
  },
  {
   "cell_type": "code",
   "execution_count": 16,
   "id": "12f74fe4",
   "metadata": {},
   "outputs": [
    {
     "data": {
      "text/plain": [
       "'Hello World'"
      ]
     },
     "execution_count": 16,
     "metadata": {},
     "output_type": "execute_result"
    }
   ],
   "source": [
    "\"Hello World\""
   ]
  },
  {
   "cell_type": "code",
   "execution_count": 17,
   "id": "87a099bf",
   "metadata": {},
   "outputs": [
    {
     "data": {
      "text/plain": [
       "'Hello World'"
      ]
     },
     "execution_count": 17,
     "metadata": {},
     "output_type": "execute_result"
    }
   ],
   "source": [
    "\"\"\"Hello World\"\"\""
   ]
  },
  {
   "cell_type": "code",
   "execution_count": 18,
   "id": "0073916d",
   "metadata": {},
   "outputs": [],
   "source": [
    "# Container data types"
   ]
  },
  {
   "cell_type": "code",
   "execution_count": 19,
   "id": "a60c7299",
   "metadata": {},
   "outputs": [],
   "source": [
    "# List"
   ]
  },
  {
   "cell_type": "code",
   "execution_count": 20,
   "id": "6410d2b7",
   "metadata": {},
   "outputs": [],
   "source": [
    "a = [1,2,3,4]"
   ]
  },
  {
   "cell_type": "code",
   "execution_count": 21,
   "id": "4ee7c64b",
   "metadata": {},
   "outputs": [
    {
     "data": {
      "text/plain": [
       "list"
      ]
     },
     "execution_count": 21,
     "metadata": {},
     "output_type": "execute_result"
    }
   ],
   "source": [
    "type(a)"
   ]
  },
  {
   "cell_type": "code",
   "execution_count": 22,
   "id": "66b79e1d",
   "metadata": {},
   "outputs": [],
   "source": [
    "# Tuple"
   ]
  },
  {
   "cell_type": "code",
   "execution_count": 23,
   "id": "91d709a9",
   "metadata": {},
   "outputs": [],
   "source": [
    "a = (1,2,3,4)"
   ]
  },
  {
   "cell_type": "code",
   "execution_count": 24,
   "id": "bc3f421c",
   "metadata": {},
   "outputs": [
    {
     "data": {
      "text/plain": [
       "tuple"
      ]
     },
     "execution_count": 24,
     "metadata": {},
     "output_type": "execute_result"
    }
   ],
   "source": [
    "type(a)"
   ]
  },
  {
   "cell_type": "code",
   "execution_count": 25,
   "id": "76f1a087",
   "metadata": {},
   "outputs": [
    {
     "data": {
      "text/plain": [
       "set"
      ]
     },
     "execution_count": 25,
     "metadata": {},
     "output_type": "execute_result"
    }
   ],
   "source": [
    "# Sets\n",
    "a = {1,2,3,4}\n",
    "type(a)"
   ]
  },
  {
   "cell_type": "code",
   "execution_count": 29,
   "id": "23d3d76b",
   "metadata": {},
   "outputs": [],
   "source": [
    "# Dictionary \n",
    "a = {'x':1,'y':2,'z':3}"
   ]
  },
  {
   "cell_type": "code",
   "execution_count": 30,
   "id": "76b74d2e",
   "metadata": {},
   "outputs": [
    {
     "data": {
      "text/plain": [
       "{'x': 1, 'y': 2, 'z': 3}"
      ]
     },
     "execution_count": 30,
     "metadata": {},
     "output_type": "execute_result"
    }
   ],
   "source": [
    "a"
   ]
  },
  {
   "cell_type": "code",
   "execution_count": 31,
   "id": "6d62829b",
   "metadata": {},
   "outputs": [
    {
     "data": {
      "text/plain": [
       "dict"
      ]
     },
     "execution_count": 31,
     "metadata": {},
     "output_type": "execute_result"
    }
   ],
   "source": [
    "type(a)"
   ]
  },
  {
   "cell_type": "code",
   "execution_count": null,
   "id": "51bfca18",
   "metadata": {},
   "outputs": [],
   "source": []
  }
 ],
 "metadata": {
  "kernelspec": {
   "display_name": "Python 3 (ipykernel)",
   "language": "python",
   "name": "python3"
  },
  "language_info": {
   "codemirror_mode": {
    "name": "ipython",
    "version": 3
   },
   "file_extension": ".py",
   "mimetype": "text/x-python",
   "name": "python",
   "nbconvert_exporter": "python",
   "pygments_lexer": "ipython3",
   "version": "3.11.3"
  }
 },
 "nbformat": 4,
 "nbformat_minor": 5
}
