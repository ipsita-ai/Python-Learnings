{
 "cells": [
  {
   "cell_type": "code",
   "execution_count": 2,
   "id": "7cd09a65",
   "metadata": {},
   "outputs": [
    {
     "name": "stdout",
     "output_type": "stream",
     "text": [
      "Enter your email :ipsita.panda@edhec.com\n",
      "Enter your password : 3456\n",
      "Incorrect credentials\n"
     ]
    }
   ],
   "source": [
    "# Correct email : ipsita.panda@edhec.com\n",
    "# Correct Password : '1234'\n",
    "email = input('Enter your email :')\n",
    "password = input('Enter your password : ')\n",
    "if email == 'ipsita.panda@edhec.com' and password == '1234':\n",
    "    print('Welcome to the website')\n",
    "else:\n",
    "    print('Incorrect credentials')"
   ]
  },
  {
   "cell_type": "code",
   "execution_count": 12,
   "id": "43302fd5",
   "metadata": {},
   "outputs": [
    {
     "name": "stdout",
     "output_type": "stream",
     "text": [
      "Enter your email :ipsita.pandaedhec.com\n",
      "Enter your password : 1234\n",
      "Incorrect email\n"
     ]
    }
   ],
   "source": [
    "email = input('Enter your email :')\n",
    "password = input('Enter your password : ')\n",
    "if '@' in email:\n",
    "    if email == 'ipsita.panda@edhec.com' and password == '1234':\n",
    "            print('Welcome to the website')\n",
    "    elif email == 'ipsita.panda@edhec.com' and password != '1234':\n",
    "        print('Incorrect Password')\n",
    "        password = input('Enter your password again : ')\n",
    "        if password == '1234':\n",
    "            print('Welcome to website')\n",
    "        else:\n",
    "            print('Incorrect Password')\n",
    "    else:\n",
    "        print('Incorrect credentials')\n",
    "else:\n",
    "    print('Incorrect email')"
   ]
  },
  {
   "cell_type": "code",
   "execution_count": 13,
   "id": "a194f414",
   "metadata": {},
   "outputs": [],
   "source": [
    "# Indentation \n",
    "# Python does not have ; or {} to indicate start of a block of code and end of the block"
   ]
  },
  {
   "cell_type": "code",
   "execution_count": null,
   "id": "e848e998",
   "metadata": {},
   "outputs": [],
   "source": []
  }
 ],
 "metadata": {
  "kernelspec": {
   "display_name": "Python 3 (ipykernel)",
   "language": "python",
   "name": "python3"
  },
  "language_info": {
   "codemirror_mode": {
    "name": "ipython",
    "version": 3
   },
   "file_extension": ".py",
   "mimetype": "text/x-python",
   "name": "python",
   "nbconvert_exporter": "python",
   "pygments_lexer": "ipython3",
   "version": "3.11.3"
  }
 },
 "nbformat": 4,
 "nbformat_minor": 5
}
