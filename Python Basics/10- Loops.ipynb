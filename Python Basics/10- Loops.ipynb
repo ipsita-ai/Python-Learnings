{
 "cells": [
  {
   "cell_type": "code",
   "execution_count": 2,
   "id": "bf39ceb7",
   "metadata": {},
   "outputs": [
    {
     "name": "stdout",
     "output_type": "stream",
     "text": [
      "5\n",
      "4\n",
      "3\n",
      "2\n",
      "1\n"
     ]
    }
   ],
   "source": [
    "# While loop\n",
    "count = 5\n",
    "while count > 0:\n",
    "    print(count)\n",
    "    count -= 1"
   ]
  },
  {
   "cell_type": "code",
   "execution_count": 3,
   "id": "7a769933",
   "metadata": {},
   "outputs": [
    {
     "name": "stdout",
     "output_type": "stream",
     "text": [
      "Enter the number for which you want to print the table : 67\n",
      "67 * 1 = 67\n",
      "67 * 2 = 134\n",
      "67 * 3 = 201\n",
      "67 * 4 = 268\n",
      "67 * 5 = 335\n",
      "67 * 6 = 402\n",
      "67 * 7 = 469\n",
      "67 * 8 = 536\n",
      "67 * 9 = 603\n",
      "67 * 10 = 670\n"
     ]
    }
   ],
   "source": [
    "user_input = int(input('Enter the number for which you want to print the table : '))\n",
    "i = 1\n",
    "while i <= 10:\n",
    "    table_value = user_input*i\n",
    "    print('{} * {} = {}'.format(user_input,i,table_value))\n",
    "    i += 1"
   ]
  },
  {
   "cell_type": "code",
   "execution_count": 9,
   "id": "774f8055",
   "metadata": {},
   "outputs": [
    {
     "name": "stdout",
     "output_type": "stream",
     "text": [
      "Enter your guess between 1 and 100 : 45\n",
      "Guess Higher\n",
      "Enter your guess between 1 and 10067\n",
      "Guess Lower\n",
      "Enter your guess between 1 and 10050\n",
      "Guess Higher\n",
      "Enter your guess between 1 and 10056\n",
      "Guess Higher\n",
      "Enter your guess between 1 and 10058\n",
      "Guess Higher\n",
      "Enter your guess between 1 and 10059\n",
      "Guess Higher\n",
      "Enter your guess between 1 and 10060\n",
      "Guess Higher\n",
      "Enter your guess between 1 and 10063\n",
      "Guess Higher\n",
      "Enter your guess between 1 and 10065\n",
      "Guess Higher\n",
      "Enter your guess between 1 and 10066\n",
      "You guessed it right.You guessed it in 10 attempts\n"
     ]
    }
   ],
   "source": [
    "# Guessing Game\n",
    "import random\n",
    "user_guess = int(input('Enter your guess between 1 and 100 : '))\n",
    "guess = random.randint(1,100)\n",
    "count = 0\n",
    "while guess != user_guess:\n",
    "    if guess > user_guess:\n",
    "        print('Guess Higher')\n",
    "    else:\n",
    "        print('Guess Lower')\n",
    "    count += 1\n",
    "    user_guess = int(input('Enter your guess between 1 and 100'))\n",
    "else:\n",
    "    count += 1\n",
    "    print('You guessed it right.You guessed it in {} attempts'.format(count))"
   ]
  },
  {
   "cell_type": "code",
   "execution_count": 10,
   "id": "26144f37",
   "metadata": {},
   "outputs": [
    {
     "name": "stdout",
     "output_type": "stream",
     "text": [
      "0\n",
      "1\n",
      "2\n",
      "3\n",
      "4\n",
      "5\n",
      "6\n",
      "7\n",
      "8\n",
      "9\n"
     ]
    }
   ],
   "source": [
    "for i in range(0,10):\n",
    "    print(i)"
   ]
  },
  {
   "cell_type": "code",
   "execution_count": 11,
   "id": "2562ae15",
   "metadata": {},
   "outputs": [
    {
     "name": "stdout",
     "output_type": "stream",
     "text": [
      "0\n",
      "2\n",
      "4\n",
      "6\n",
      "8\n"
     ]
    }
   ],
   "source": [
    "for i in range(0,10,2):\n",
    "    print(i)"
   ]
  },
  {
   "cell_type": "code",
   "execution_count": 12,
   "id": "697a3273",
   "metadata": {},
   "outputs": [
    {
     "name": "stdout",
     "output_type": "stream",
     "text": [
      "1\n",
      "2\n",
      "3\n",
      "4\n",
      "5\n"
     ]
    }
   ],
   "source": [
    "for i in [1,2,3,4,5]:\n",
    "    print(i)"
   ]
  },
  {
   "cell_type": "code",
   "execution_count": 15,
   "id": "517b3ef7",
   "metadata": {},
   "outputs": [
    {
     "name": "stdout",
     "output_type": "stream",
     "text": [
      "I\n",
      "s\n",
      "t\n",
      "P\n",
      "n\n",
      "a\n"
     ]
    }
   ],
   "source": [
    "x = 'IpsitaPanda'\n",
    "for i in x[::2]:\n",
    "    print(i)"
   ]
  },
  {
   "cell_type": "code",
   "execution_count": 16,
   "id": "b780e768",
   "metadata": {},
   "outputs": [],
   "source": [
    "# Nested loop"
   ]
  },
  {
   "cell_type": "markdown",
   "id": "e9f98e73",
   "metadata": {},
   "source": [
    "!*\n",
    "!**\n",
    "!***\n",
    "!****\n",
    "!*****"
   ]
  },
  {
   "cell_type": "code",
   "execution_count": 22,
   "id": "d03f12cb",
   "metadata": {},
   "outputs": [
    {
     "name": "stdout",
     "output_type": "stream",
     "text": [
      "Enter the number of rows5\n",
      "*\n",
      "**\n",
      "***\n",
      "****\n",
      "*****\n"
     ]
    }
   ],
   "source": [
    "n = int(input('Enter the number of rows'))\n",
    "for i in range(1,n+1):\n",
    "    for j in range(1,i+1):\n",
    "        print('*',end = '')\n",
    "    print()"
   ]
  },
  {
   "cell_type": "code",
   "execution_count": 23,
   "id": "b42deb15",
   "metadata": {},
   "outputs": [],
   "source": [
    "# Break Continue and Pass Statements"
   ]
  },
  {
   "cell_type": "code",
   "execution_count": 25,
   "id": "14737975",
   "metadata": {},
   "outputs": [
    {
     "name": "stdout",
     "output_type": "stream",
     "text": [
      "1\n",
      "2\n",
      "3\n",
      "4\n"
     ]
    }
   ],
   "source": [
    "# Break --> Break can be useful in linear searching \n",
    "for i in range(1,11):\n",
    "    if i == 5:\n",
    "        break\n",
    "    else:\n",
    "        print(i)"
   ]
  },
  {
   "cell_type": "code",
   "execution_count": 27,
   "id": "8331b89b",
   "metadata": {},
   "outputs": [
    {
     "name": "stdout",
     "output_type": "stream",
     "text": [
      "1\n",
      "Hello\n",
      "2\n",
      "Hello\n",
      "3\n",
      "Hello\n",
      "4\n",
      "Hello\n",
      "6\n",
      "Hello\n",
      "7\n",
      "Hello\n",
      "8\n",
      "Hello\n",
      "9\n",
      "Hello\n",
      "10\n",
      "Hello\n"
     ]
    }
   ],
   "source": [
    "# Continue --> Out of stock inventory to be skipped\n",
    "for i in range(1,11):\n",
    "    if i == 5:\n",
    "        continue\n",
    "    print(i)\n",
    "    print('Hello')"
   ]
  },
  {
   "cell_type": "code",
   "execution_count": 29,
   "id": "a787a316",
   "metadata": {},
   "outputs": [],
   "source": [
    "# Pass Statement --> It is kind of filler\n",
    "for i in range(1,11):\n",
    "    pass"
   ]
  },
  {
   "cell_type": "code",
   "execution_count": null,
   "id": "b1219dbc",
   "metadata": {},
   "outputs": [],
   "source": []
  }
 ],
 "metadata": {
  "kernelspec": {
   "display_name": "Python 3 (ipykernel)",
   "language": "python",
   "name": "python3"
  },
  "language_info": {
   "codemirror_mode": {
    "name": "ipython",
    "version": 3
   },
   "file_extension": ".py",
   "mimetype": "text/x-python",
   "name": "python",
   "nbconvert_exporter": "python",
   "pygments_lexer": "ipython3",
   "version": "3.11.3"
  }
 },
 "nbformat": 4,
 "nbformat_minor": 5
}
