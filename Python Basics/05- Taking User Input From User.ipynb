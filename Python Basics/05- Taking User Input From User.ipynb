{
 "cells": [
  {
   "cell_type": "code",
   "execution_count": 1,
   "id": "631d3580",
   "metadata": {},
   "outputs": [
    {
     "name": "stdout",
     "output_type": "stream",
     "text": [
      "Ipsita Panda\n"
     ]
    },
    {
     "data": {
      "text/plain": [
       "'Ipsita Panda'"
      ]
     },
     "execution_count": 1,
     "metadata": {},
     "output_type": "execute_result"
    }
   ],
   "source": [
    "input()"
   ]
  },
  {
   "cell_type": "code",
   "execution_count": 3,
   "id": "584b6e52",
   "metadata": {},
   "outputs": [
    {
     "name": "stdout",
     "output_type": "stream",
     "text": [
      "Please enter a number : 45\n"
     ]
    },
    {
     "data": {
      "text/plain": [
       "'45'"
      ]
     },
     "execution_count": 3,
     "metadata": {},
     "output_type": "execute_result"
    }
   ],
   "source": [
    "# Returns a string type\n",
    "input('Please enter a number : ')"
   ]
  },
  {
   "cell_type": "code",
   "execution_count": 7,
   "id": "f92f3a53",
   "metadata": {},
   "outputs": [
    {
     "name": "stdout",
     "output_type": "stream",
     "text": [
      "Please enter a number : 45\n",
      "45\n",
      "<class 'int'>\n"
     ]
    }
   ],
   "source": [
    "# Convert string to int\n",
    "x = int(input('Please enter a number : '))\n",
    "print(x)\n",
    "print(type(x))"
   ]
  },
  {
   "cell_type": "code",
   "execution_count": 10,
   "id": "974b64e9",
   "metadata": {},
   "outputs": [
    {
     "name": "stdout",
     "output_type": "stream",
     "text": [
      "Enter the first number : 67\n",
      "Enter the second number : 89\n",
      "The sum of num1 and num2 is 156\n"
     ]
    }
   ],
   "source": [
    "# Adding to numbers\n",
    "num1 = int(input('Enter the first number : '))\n",
    "num2 = int(input('Enter the second number : '))\n",
    "summation = num1 + num2\n",
    "print('The sum of num1 and num2 is',summation)"
   ]
  },
  {
   "cell_type": "code",
   "execution_count": null,
   "id": "cc1600b6",
   "metadata": {},
   "outputs": [],
   "source": []
  }
 ],
 "metadata": {
  "kernelspec": {
   "display_name": "Python 3 (ipykernel)",
   "language": "python",
   "name": "python3"
  },
  "language_info": {
   "codemirror_mode": {
    "name": "ipython",
    "version": 3
   },
   "file_extension": ".py",
   "mimetype": "text/x-python",
   "name": "python",
   "nbconvert_exporter": "python",
   "pygments_lexer": "ipython3",
   "version": "3.11.3"
  }
 },
 "nbformat": 4,
 "nbformat_minor": 5
}
