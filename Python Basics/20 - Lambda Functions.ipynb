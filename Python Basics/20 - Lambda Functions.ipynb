{
 "cells": [
  {
   "cell_type": "code",
   "execution_count": 1,
   "id": "6e59b48c",
   "metadata": {},
   "outputs": [],
   "source": [
    "# Lambda Functions are anonymous functions\n",
    "# They are written in single line"
   ]
  },
  {
   "cell_type": "code",
   "execution_count": 2,
   "id": "aa61f441",
   "metadata": {},
   "outputs": [
    {
     "data": {
      "text/plain": [
       "9"
      ]
     },
     "execution_count": 2,
     "metadata": {},
     "output_type": "execute_result"
    }
   ],
   "source": [
    "# lambda input: expression\n",
    "y = lambda x : x**2\n",
    "y(3)"
   ]
  },
  {
   "cell_type": "code",
   "execution_count": 3,
   "id": "1f21fb4f",
   "metadata": {},
   "outputs": [
    {
     "data": {
      "text/plain": [
       "13"
      ]
     },
     "execution_count": 3,
     "metadata": {},
     "output_type": "execute_result"
    }
   ],
   "source": [
    "result = lambda a,b : a + b\n",
    "result(6,7)"
   ]
  },
  {
   "cell_type": "code",
   "execution_count": 4,
   "id": "46c26c81",
   "metadata": {},
   "outputs": [],
   "source": [
    "# Differences \n",
    "# 1- Lambda has no return value\n",
    "# 2- Lambda returns an entire function\n",
    "# 3- Lambda function is written in one line\n",
    "# 4- Lambda function is not used for code reusability\n",
    "# 5- Lambda function has no name "
   ]
  },
  {
   "cell_type": "code",
   "execution_count": 5,
   "id": "4381f1ef",
   "metadata": {},
   "outputs": [],
   "source": [
    "# Why use lambda function \n",
    "# Use along with HOF (Higher Order Functions : Functions that require another function as input to do its job or HOF can return another function)"
   ]
  },
  {
   "cell_type": "code",
   "execution_count": 6,
   "id": "9d1a10c4",
   "metadata": {},
   "outputs": [
    {
     "data": {
      "text/plain": [
       "True"
      ]
     },
     "execution_count": 6,
     "metadata": {},
     "output_type": "execute_result"
    }
   ],
   "source": [
    "check_string = lambda x : x[0] == 'a'\n",
    "check_string('apple')"
   ]
  },
  {
   "cell_type": "code",
   "execution_count": 8,
   "id": "d2bfd0c3",
   "metadata": {},
   "outputs": [
    {
     "data": {
      "text/plain": [
       "'even'"
      ]
     },
     "execution_count": 8,
     "metadata": {},
     "output_type": "execute_result"
    }
   ],
   "source": [
    "check_even = lambda x : 'even' if x%2 == 0 else 'odd'\n",
    "check_even(4)"
   ]
  },
  {
   "cell_type": "code",
   "execution_count": 10,
   "id": "b52b3319",
   "metadata": {},
   "outputs": [],
   "source": [
    "# HOF \n",
    "L = [11,14,21,23,56,78,45,29,28]\n",
    "def return_sum(l):\n",
    "    even_sum = 0\n",
    "    odd_sum = 0\n",
    "    div3_sum = 0\n",
    "    for i in L:\n",
    "        if i%2 == 0:\n",
    "            even_sum = even_sum + i\n",
    "        if i%2 != 0:\n",
    "            odd_sum = odd_sum + 1\n",
    "    return(even_sum,odd)\n",
    "\n"
   ]
  },
  {
   "cell_type": "code",
   "execution_count": 11,
   "id": "288a85be",
   "metadata": {},
   "outputs": [
    {
     "name": "stdout",
     "output_type": "stream",
     "text": [
      "176\n",
      "129\n",
      "144\n"
     ]
    }
   ],
   "source": [
    "# HOF\n",
    "x = lambda x:x%2 == 0\n",
    "y = lambda x:x%2 != 0\n",
    "z = lambda x:x%3 == 0\n",
    "\n",
    "def return_sum(func,L):\n",
    "    result = 0\n",
    "    for i in L:\n",
    "        if func(i):\n",
    "            result = result + i\n",
    "            \n",
    "    return result\n",
    "\n",
    "print(return_sum(x,L))\n",
    "print(return_sum(y,L))\n",
    "print(return_sum(z,L))"
   ]
  },
  {
   "cell_type": "code",
   "execution_count": 16,
   "id": "56e07b5f",
   "metadata": {},
   "outputs": [
    {
     "name": "stdout",
     "output_type": "stream",
     "text": [
      "<map object at 0x000002DB4CEF0400>\n",
      "[2, 4, 6, 8]\n"
     ]
    }
   ],
   "source": [
    "# map HOF --> With Lambda function operated in each item of an iterable\n",
    "l = [1,2,3,4]\n",
    "x = map(lambda x:x*2,l)\n",
    "print(x)\n",
    "print(list(x))"
   ]
  },
  {
   "cell_type": "code",
   "execution_count": 17,
   "id": "3868b142",
   "metadata": {},
   "outputs": [
    {
     "data": {
      "text/plain": [
       "[False, True, False, False, True, False, True, False, True]"
      ]
     },
     "execution_count": 17,
     "metadata": {},
     "output_type": "execute_result"
    }
   ],
   "source": [
    "list(map(lambda a:a%2 == 0 ,[1,10,11,13,14,17,28,39,40]))"
   ]
  },
  {
   "cell_type": "code",
   "execution_count": 29,
   "id": "da243b3e",
   "metadata": {},
   "outputs": [
    {
     "data": {
      "text/plain": [
       "['Ipsita Panda', 'Abhinav Verma', 'Abhijit Panda']"
      ]
     },
     "execution_count": 29,
     "metadata": {},
     "output_type": "execute_result"
    }
   ],
   "source": [
    "students = [\n",
    "     {\n",
    "    'name':'Ipsita Panda',\n",
    "    \"Father's name\": 'Chittaranjan Panda',\n",
    "    'Address' : 'France'\n",
    "    },\n",
    "    {\n",
    "    'name':'Abhinav Verma',\n",
    "    \"Father's name\": 'KL Verma',\n",
    "    'Address' : 'France'\n",
    "    },\n",
    "    {\n",
    "    'name':'Abhijit Panda',\n",
    "    \"Father's name\": 'Chittaranjan Panda',\n",
    "    'Address' : 'India' \n",
    "    }\n",
    "]\n",
    "\n",
    "list(map(lambda student:student['name'],students))"
   ]
  },
  {
   "cell_type": "code",
   "execution_count": 30,
   "id": "1f715400",
   "metadata": {},
   "outputs": [
    {
     "data": {
      "text/plain": [
       "[1, 2, 3, 4]"
      ]
     },
     "execution_count": 30,
     "metadata": {},
     "output_type": "execute_result"
    }
   ],
   "source": [
    "# Filter \n",
    "l"
   ]
  },
  {
   "cell_type": "code",
   "execution_count": 31,
   "id": "4788fc44",
   "metadata": {},
   "outputs": [
    {
     "data": {
      "text/plain": [
       "[1, 2, 3]"
      ]
     },
     "execution_count": 31,
     "metadata": {},
     "output_type": "execute_result"
    }
   ],
   "source": [
    "list(filter(lambda x: x<4,l))"
   ]
  },
  {
   "cell_type": "code",
   "execution_count": 35,
   "id": "ef9a5b13",
   "metadata": {},
   "outputs": [
    {
     "data": {
      "text/plain": [
       "['guava']"
      ]
     },
     "execution_count": 35,
     "metadata": {},
     "output_type": "execute_result"
    }
   ],
   "source": [
    "fruits = ['apple','orange','mango','guava']\n",
    "list(filter(lambda x:'u' in x,fruits))"
   ]
  },
  {
   "cell_type": "code",
   "execution_count": 36,
   "id": "e37af887",
   "metadata": {},
   "outputs": [
    {
     "data": {
      "text/plain": [
       "9"
      ]
     },
     "execution_count": 36,
     "metadata": {},
     "output_type": "execute_result"
    }
   ],
   "source": [
    "z = lambda x : x**2\n",
    "z(3)"
   ]
  },
  {
   "cell_type": "code",
   "execution_count": 38,
   "id": "f1110a95",
   "metadata": {},
   "outputs": [
    {
     "data": {
      "text/plain": [
       "True"
      ]
     },
     "execution_count": 38,
     "metadata": {},
     "output_type": "execute_result"
    }
   ],
   "source": [
    "f = lambda x : 'y' in x\n",
    "f('yes sir')"
   ]
  },
  {
   "cell_type": "code",
   "execution_count": 40,
   "id": "368fe71c",
   "metadata": {},
   "outputs": [
    {
     "data": {
      "text/plain": [
       "10"
      ]
     },
     "execution_count": 40,
     "metadata": {},
     "output_type": "execute_result"
    }
   ],
   "source": [
    "# reduce\n",
    "import functools\n",
    "functools.reduce(lambda x,y:x+y ,l)"
   ]
  },
  {
   "attachments": {
    "image.png": {
     "image/png": "[encoded data removed]"
    }
   },
   "cell_type": "markdown",
   "id": "4611c32e",
   "metadata": {},
   "source": [
    "![image.png](attachment:image.png)"
   ]
  },
  {
   "cell_type": "code",
   "execution_count": 41,
   "id": "f3730bdb",
   "metadata": {},
   "outputs": [
    {
     "data": {
      "text/plain": [
       "4"
      ]
     },
     "execution_count": 41,
     "metadata": {},
     "output_type": "execute_result"
    }
   ],
   "source": [
    "functools.reduce(lambda x,y:x if x>y else y ,l)"
   ]
  },
  {
   "cell_type": "code",
   "execution_count": 42,
   "id": "79c0697d",
   "metadata": {},
   "outputs": [
    {
     "data": {
      "text/plain": [
       "1"
      ]
     },
     "execution_count": 42,
     "metadata": {},
     "output_type": "execute_result"
    }
   ],
   "source": [
    "functools.reduce(lambda x,y:x if x<y else y ,l)"
   ]
  },
  {
   "cell_type": "code",
   "execution_count": 52,
   "id": "e492bc19",
   "metadata": {},
   "outputs": [
    {
     "name": "stdout",
     "output_type": "stream",
     "text": [
      "[2, 4, 6, 8, 10, 12, 14]\n",
      "[0, 1, 4, 9, 16, 25, 36, 49, 64, 81, 100]\n",
      "[0, 4, 16, 36, 64, 100]\n",
      "['orange']\n",
      "{'name': 'Ipsita', 'gender': 'Female'}\n",
      "{2: 4, 4: 16, 6: 36}\n"
     ]
    }
   ],
   "source": [
    "# List Comprehension\n",
    "# create a list from another list\n",
    "l = [1,2,3,4,5,6,7]\n",
    "l1 = [item*2 for item in l]\n",
    "print(l1)\n",
    "l2 = [i**2 for i in range(11)]\n",
    "print(l2)\n",
    "l3 = [i**2 for i in range(11) if i % 2 == 0]\n",
    "print(l3)\n",
    "l4 = [fruit for fruit in fruits if fruit[0] == 'o']\n",
    "print(l4)\n",
    "# Dictionary Comprehension\n",
    "\n",
    "d = {'name': 'Ipsita','gender':'Female','age':34}\n",
    "d1 = {key:value for key,value in d.items() if len(key) > 3}\n",
    "print(d1)\n",
    "\n",
    "d2 = {i:i**2 for i in l if i %2 == 0 }\n",
    "print(d2)"
   ]
  },
  {
   "cell_type": "code",
   "execution_count": null,
   "id": "884faa10",
   "metadata": {},
   "outputs": [],
   "source": []
  }
 ],
 "metadata": {
  "kernelspec": {
   "display_name": "Python 3 (ipykernel)",
   "language": "python",
   "name": "python3"
  },
  "language_info": {
   "codemirror_mode": {
    "name": "ipython",
    "version": 3
   },
   "file_extension": ".py",
   "mimetype": "text/x-python",
   "name": "python",
   "nbconvert_exporter": "python",
   "pygments_lexer": "ipython3",
   "version": "3.11.3"
  }
 },
 "nbformat": 4,
 "nbformat_minor": 5
}
