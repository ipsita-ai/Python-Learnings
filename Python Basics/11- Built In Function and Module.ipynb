{
 "cells": [
  {
   "cell_type": "code",
   "execution_count": 1,
   "id": "1cc75e68",
   "metadata": {},
   "outputs": [],
   "source": [
    "# Functions are block codes that have specific functions , with given input they give specific output"
   ]
  },
  {
   "cell_type": "code",
   "execution_count": 2,
   "id": "1341129b",
   "metadata": {},
   "outputs": [
    {
     "name": "stdout",
     "output_type": "stream",
     "text": [
      "Hello World\n"
     ]
    }
   ],
   "source": [
    "# Print\n",
    "print('Hello World')"
   ]
  },
  {
   "cell_type": "code",
   "execution_count": 4,
   "id": "c4662983",
   "metadata": {},
   "outputs": [
    {
     "name": "stdout",
     "output_type": "stream",
     "text": [
      "Enter your name :Ipsita Panda\n"
     ]
    },
    {
     "data": {
      "text/plain": [
       "'Ipsita Panda'"
      ]
     },
     "execution_count": 4,
     "metadata": {},
     "output_type": "execute_result"
    }
   ],
   "source": [
    "# Input --> Output is always in string format\n",
    "input('Enter your name :')"
   ]
  },
  {
   "cell_type": "code",
   "execution_count": 5,
   "id": "f5c91829",
   "metadata": {},
   "outputs": [
    {
     "data": {
      "text/plain": [
       "list"
      ]
     },
     "execution_count": 5,
     "metadata": {},
     "output_type": "execute_result"
    }
   ],
   "source": [
    "# Type \n",
    "a = [1,2,3]\n",
    "type(a)"
   ]
  },
  {
   "cell_type": "code",
   "execution_count": 6,
   "id": "e37b07aa",
   "metadata": {},
   "outputs": [
    {
     "name": "stdout",
     "output_type": "stream",
     "text": [
      "5\n",
      "1.0\n",
      "1.1\n"
     ]
    }
   ],
   "source": [
    "# Type conversion function\n",
    "# Int\n",
    "print(int(5.5))\n",
    "# float\n",
    "print(float(1))\n",
    "# string\n",
    "print(str(1.1))"
   ]
  },
  {
   "cell_type": "code",
   "execution_count": 7,
   "id": "47bc92c4",
   "metadata": {},
   "outputs": [
    {
     "data": {
      "text/plain": [
       "4"
      ]
     },
     "execution_count": 7,
     "metadata": {},
     "output_type": "execute_result"
    }
   ],
   "source": [
    "# ABS --> Modulus function\n",
    "abs(-4)"
   ]
  },
  {
   "cell_type": "code",
   "execution_count": 8,
   "id": "3154bf31",
   "metadata": {},
   "outputs": [
    {
     "data": {
      "text/plain": [
       "8"
      ]
     },
     "execution_count": 8,
     "metadata": {},
     "output_type": "execute_result"
    }
   ],
   "source": [
    "# Pow\n",
    "pow(2,3)"
   ]
  },
  {
   "cell_type": "code",
   "execution_count": 9,
   "id": "f0ee8059",
   "metadata": {},
   "outputs": [
    {
     "name": "stdout",
     "output_type": "stream",
     "text": [
      "1\n",
      "4\n"
     ]
    }
   ],
   "source": [
    "# min/max\n",
    "print(min([1,2,3,4]))\n",
    "print(max([1,2,3,4]))"
   ]
  },
  {
   "cell_type": "code",
   "execution_count": 11,
   "id": "4743a555",
   "metadata": {},
   "outputs": [
    {
     "name": "stdout",
     "output_type": "stream",
     "text": [
      "3.14\n"
     ]
    }
   ],
   "source": [
    "# round\n",
    "c = 22/7\n",
    "print(round(c,2))"
   ]
  },
  {
   "cell_type": "code",
   "execution_count": 13,
   "id": "94ade249",
   "metadata": {},
   "outputs": [
    {
     "data": {
      "text/plain": [
       "(2, 1)"
      ]
     },
     "execution_count": 13,
     "metadata": {},
     "output_type": "execute_result"
    }
   ],
   "source": [
    "# Divmod\n",
    "#divmod(x,y)--> x//y,x%y\n",
    "divmod(5,2)"
   ]
  },
  {
   "cell_type": "code",
   "execution_count": 17,
   "id": "d25c5c7e",
   "metadata": {},
   "outputs": [
    {
     "name": "stdout",
     "output_type": "stream",
     "text": [
      "0b1010\n",
      "0o12\n",
      "0xa\n"
     ]
    }
   ],
   "source": [
    "# BIN/OCT/HEX\n",
    "print(bin(10))\n",
    "print(oct(10))\n",
    "print(hex(10))"
   ]
  },
  {
   "cell_type": "code",
   "execution_count": 18,
   "id": "db6bc3d3",
   "metadata": {},
   "outputs": [
    {
     "data": {
      "text/plain": [
       "140719419921256"
      ]
     },
     "execution_count": 18,
     "metadata": {},
     "output_type": "execute_result"
    }
   ],
   "source": [
    "# id\n",
    "a = 3\n",
    "id(a)"
   ]
  },
  {
   "cell_type": "code",
   "execution_count": 20,
   "id": "81baa485",
   "metadata": {},
   "outputs": [
    {
     "name": "stdout",
     "output_type": "stream",
     "text": [
      "120\n",
      "88\n"
     ]
    }
   ],
   "source": [
    "# ORD\n",
    "# To get the ascii code of a charecter\n",
    "print(ord('x'))\n",
    "print(ord('X'))"
   ]
  },
  {
   "cell_type": "code",
   "execution_count": 21,
   "id": "cc85a85c",
   "metadata": {},
   "outputs": [
    {
     "data": {
      "text/plain": [
       "6"
      ]
     },
     "execution_count": 21,
     "metadata": {},
     "output_type": "execute_result"
    }
   ],
   "source": [
    "# LEN --> length of iterable\n",
    "len([1,2,3,4,5,6])"
   ]
  },
  {
   "cell_type": "code",
   "execution_count": 22,
   "id": "0baa7f81",
   "metadata": {},
   "outputs": [
    {
     "data": {
      "text/plain": [
       "10"
      ]
     },
     "execution_count": 22,
     "metadata": {},
     "output_type": "execute_result"
    }
   ],
   "source": [
    "# SUM\n",
    "sum([1,2,3,4])"
   ]
  },
  {
   "cell_type": "code",
   "execution_count": 23,
   "id": "19aa7329",
   "metadata": {},
   "outputs": [
    {
     "name": "stdout",
     "output_type": "stream",
     "text": [
      "Help on built-in function print in module builtins:\n",
      "\n",
      "print(*args, sep=' ', end='\\n', file=None, flush=False)\n",
      "    Prints the values to a stream, or to sys.stdout by default.\n",
      "    \n",
      "    sep\n",
      "      string inserted between values, default a space.\n",
      "    end\n",
      "      string appended after the last value, default a newline.\n",
      "    file\n",
      "      a file-like object (stream); defaults to the current sys.stdout.\n",
      "    flush\n",
      "      whether to forcibly flush the stream.\n",
      "\n"
     ]
    }
   ],
   "source": [
    "#help\n",
    "help('print')"
   ]
  },
  {
   "cell_type": "code",
   "execution_count": 24,
   "id": "9de8482c",
   "metadata": {},
   "outputs": [
    {
     "name": "stdout",
     "output_type": "stream",
     "text": [
      "\n",
      "Please wait a moment while I gather a list of all available modules...\n",
      "\n"
     ]
    },
    {
     "name": "stderr",
     "output_type": "stream",
     "text": [
      "WARNING: AstropyDeprecationWarning: The private astropy._erfa module has been made into its own package, pyerfa, which is a dependency of astropy and can be imported directly using \"import erfa\" [astropy._erfa]\n",
      "C:\\Users\\ipsit\\anaconda3\\Lib\\site-packages\\paramiko\\transport.py:219: CryptographyDeprecationWarning: Blowfish has been deprecated\n",
      "  \"class\": algorithms.Blowfish,\n",
      "C:\\Users\\ipsit\\anaconda3\\Lib\\site-packages\\nltk\\twitter\\__init__.py:20: UserWarning: The twython library has not been installed. Some functionality from the twitter package will not be available.\n",
      "  warnings.warn(\n",
      "C:\\Users\\ipsit\\anaconda3\\Lib\\pkgutil.py:92: NumbaPendingDeprecationWarning: \u001b[1mThe 'pycc' module is pending deprecation. Replacement technology is being developed.\n",
      "\n",
      "Pending Deprecation in Numba 0.57.0. For more information please see: https://numba.readthedocs.io/en/stable/reference/deprecation.html#deprecation-of-the-numba-pycc-module\u001b[0m\n",
      "  __import__(info.name)\n",
      "C:\\Users\\ipsit\\anaconda3\\Lib\\pkgutil.py:92: UserWarning: The numpy.array_api submodule is still experimental. See NEP 47.\n",
      "  __import__(info.name)\n",
      "C:\\Users\\ipsit\\anaconda3\\Lib\\site-packages\\_distutils_hack\\__init__.py:33: UserWarning: Setuptools is replacing distutils.\n",
      "  warnings.warn(\"Setuptools is replacing distutils.\")\n",
      "No QCoreApplication instance found. Application patches not applied. You have to call load_stylesheet function after instantiation of QApplication to take effect. \n",
      "Neither PyTorch nor TensorFlow >= 2.0 have been found.Models won't be available and only tokenizers, configurationand file/data utilities can be used.\n"
     ]
    },
    {
     "name": "stdout",
     "output_type": "stream",
     "text": [
      "IPython             concurrent          mdurl               smtpd\n",
      "OpenSSL             conda               menuinst            smtplib\n",
      "PIL                 conda_build         mimetypes           snappy\n",
      "PyQt5               conda_content_trust mistune             sndhdr\n",
      "TBB                 conda_env           mkl                 sniffio\n",
      "__future__          conda_index         mkl_fft             snowballstemmer\n",
      "__hello__           conda_libmamba_solver mkl_random          socket\n",
      "__phello__          conda_pack          mmap                socketserver\n",
      "_abc                conda_package_handling mmapfile            socks\n",
      "_aix_support        conda_package_streaming mmsystem            sockshandler\n",
      "_argon2_cffi_bindings conda_token         modulefinder        sortedcontainers\n",
      "_ast                conda_verify        more_itertools      soupsieve\n",
      "_asyncio            configparser        mpmath              sphinx\n",
      "_bisect             constantly          msgpack             spyder\n",
      "_black_version      contextlib          msilib              spyder_kernels\n",
      "_blake2             contextvars         msvcrt              sqlalchemy\n",
      "_bootsubprocess     contourpy           multidict           sqlite3\n",
      "_bz2                cookiecutter        multipledispatch    sre_compile\n",
      "_cffi_backend       copy                multiprocessing     sre_constants\n",
      "_codecs             copyreg             munkres             sre_parse\n",
      "_codecs_cn          cpuinfo             mypy_extensions     ssl\n",
      "_codecs_hk          crypt               nacl                sspi\n",
      "_codecs_iso2022     cryptography        navigator_updater   sspicon\n",
      "_codecs_jp          cssselect           nbclassic           stack_data\n",
      "_codecs_kr          csv                 nbclient            stat\n",
      "_codecs_tw          ctypes              nbconvert           statistics\n",
      "_collections        curl                nbformat            statsmodels\n",
      "_collections_abc    curses              nest_asyncio        string\n",
      "_compat_pickle      cv2                 netbios             stringprep\n",
      "_compression        cwp                 netrc               struct\n",
      "_contextvars        cycler              networkx            subprocess\n",
      "_csv                cytoolz             nltk                sunau\n",
      "_ctypes             daal4py             nntplib             sympy\n",
      "_ctypes_test        dask                notebook            symtable\n",
      "_datetime           dataclasses         notebook_shim       sys\n",
      "_decimal            datashader          nt                  sysconfig\n",
      "_distutils_hack     datashape           ntpath              tables\n",
      "_elementtree        datetime            ntsecuritycon       tabnanny\n",
      "_functools          dateutil            nturl2path          tabulate\n",
      "_hashlib            dbi                 numba               tarfile\n",
      "_heapq              dbm                 numbergen           tbb\n",
      "_imp                dde                 numbers             tblib\n",
      "_io                 debugpy             numexpr             telnetlib\n",
      "_json               decimal             numpy               tempfile\n",
      "_locale             decorator           numpydoc            tenacity\n",
      "_lsprof             defusedxml          odbc                terminado\n",
      "_lzma               diff_match_patch    onedal              test\n",
      "_markupbase         difflib             opcode              test_pycosat\n",
      "_md5                dill                openpyxl            text_unidecode\n",
      "_msi                dis                 operator            textdistance\n",
      "_multibytecodec     distributed         optparse            textwrap\n",
      "_multiprocessing    distutils           os                  this\n",
      "_nsis               docstring_to_markdown packaging           threading\n",
      "_opcode             doctest             pandas              threadpoolctl\n",
      "_operator           docutils            pandocfilters       three_merge\n",
      "_osx_support        email               panel               tifffile\n",
      "_overlapped         encodings           param               time\n",
      "_pickle             ensurepip           paramiko            timeit\n",
      "_plotly_future_     entrypoints         parsel              timer\n",
      "_plotly_utils       enum                parso               tinycss2\n",
      "_py_abc             erfa                partd               tkinter\n",
      "_pydecimal          errno               past                tldextract\n",
      "_pyio               et_xmlfile          pathlib             tlz\n",
      "_pyrsistent_version executing           pathspec            token\n",
      "_pytest             fastjsonschema      patsy               tokenize\n",
      "_queue              faulthandler        pdb                 toml\n",
      "_random             filecmp             pep8                tomli\n",
      "_sha1               fileinput           perfmon             tomlkit\n",
      "_sha256             filelock            pexpect             tomllib\n",
      "_sha3               flake8              pickle              toolz\n",
      "_sha512             flask               pickleshare         tornado\n",
      "_signal             fnmatch             pickletools         tqdm\n",
      "_sitebuiltins       fontTools           pip                 trace\n",
      "_socket             fractions           pipes               traceback\n",
      "_sqlite3            frozenlist          pkg_resources       tracemalloc\n",
      "_sre                fsspec              pkginfo             traitlets\n",
      "_ssl                ftplib              pkgutil             transformers\n",
      "_stat               functools           platform            tty\n",
      "_statistics         future              platformdirs        turtle\n",
      "_string             gc                  plistlib            turtledemo\n",
      "_strptime           genericpath         plotly              twisted\n",
      "_struct             gensim              pluggy              types\n",
      "_symtable           getopt              ply                 typing\n",
      "_system_path        getpass             pooch               typing_extensions\n",
      "_testbuffer         gettext             poplib              uc_micro\n",
      "_testcapi           glob                posixpath           ujson\n",
      "_testconsole        glob2               poyo                unicodedata\n",
      "_testimportmultiple graphlib            pprint              unidecode\n",
      "_testinternalcapi   greenlet            profile             unittest\n",
      "_testmultiphase     gzip                prometheus_client   urllib\n",
      "_thread             h5py                prompt_toolkit      urllib3\n",
      "_threading_local    hashlib             protego             uu\n",
      "_tkinter            heapdict            pstats              uuid\n",
      "_tokenize           heapq               psutil              venv\n",
      "_tracemalloc        hmac                pty                 w3lib\n",
      "_typing             holoviews           ptyprocess          warnings\n",
      "_uuid               html                pure_eval           watchdog\n",
      "_warnings           http                pvectorc            wave\n",
      "_weakref            hvplot              py                  wcwidth\n",
      "_weakrefset         hyperlink           py_compile          weakref\n",
      "_win32sysloader     idlelib             pyarrow             webbrowser\n",
      "_winapi             idna                pyasn1              webencodings\n",
      "_winxptheme         imagecodecs         pyasn1_modules      websocket\n",
      "_xxsubinterpreters  imageio             pyclbr              werkzeug\n",
      "_yaml               imagesize           pycodestyle         whatthepatch\n",
      "_zoneinfo           imaplib             pycosat             wheel\n",
      "abc                 imblearn            pycparser           widgetsnbextension\n",
      "adodbapi            imghdr              pyct                win2kras\n",
      "afxres              imp                 pycurl              win32api\n",
      "aifc                importlib           pydispatch          win32clipboard\n",
      "aiobotocore         importlib_metadata  pydoc               win32com\n",
      "aiofiles            incremental         pydoc_data          win32con\n",
      "aiohttp             inflection          pydocstyle          win32console\n",
      "aioitertools        iniconfig           pyexpat             win32cred\n",
      "aiosignal           inspect             pyflakes            win32crypt\n",
      "aiosqlite           intake              pygments            win32cryptcon\n",
      "alabaster           intervaltree        pylab               win32ctypes\n",
      "anaconda_catalogs   io                  pylint              win32event\n",
      "anaconda_navigator  ipaddress           pylint_venv         win32evtlog\n",
      "anaconda_project    ipykernel           pyls_spyder         win32evtlogutil\n",
      "antigravity         ipykernel_launcher  pylsp               win32file\n",
      "anyio               ipython_genutils    pylsp_black         win32gui\n",
      "appdirs             ipywidgets          pylsp_jsonrpc       win32gui_struct\n",
      "argon2              isapi               pyodbc              win32help\n",
      "argparse            isort               pyparsing           win32inet\n",
      "array               isympy              pyrsistent          win32inetcon\n",
      "arrow               itemadapter         pytest              win32job\n",
      "ast                 itemloaders         pythoncom           win32lz\n",
      "astroid             itertools           pythonjsonlogger    win32net\n",
      "astropy             itsdangerous        pytoolconfig        win32netcon\n",
      "asttokens           jedi                pytz                win32pdh\n",
      "async_timeout       jellyfish           pyviz_comms         win32pdhquery\n",
      "asynchat            jinja2              pywin               win32pdhutil\n",
      "asyncio             jinja2_time         pywin32_bootstrap   win32pipe\n",
      "asyncore            jmespath            pywin32_testutil    win32print\n",
      "atexit              joblib              pywintypes          win32process\n",
      "atomicwrites        json                pywt                win32profile\n",
      "attr                json5               qdarkstyle          win32ras\n",
      "attrs               jsonpatch           qstylizer           win32rcparser\n",
      "audioop             jsonpointer         qtawesome           win32security\n",
      "automat             jsonschema          qtconsole           win32service\n",
      "autopep8            jupyter             qtpy                win32serviceutil\n",
      "babel               jupyter_client      queue               win32timezone\n",
      "backcall            jupyter_console     queuelib            win32trace\n",
      "backports           jupyter_core        quopri              win32traceutil\n",
      "base64              jupyter_events      random              win32transaction\n",
      "bcrypt              jupyter_server      rasutil             win32ts\n",
      "bdb                 jupyter_server_fileid re                  win32ui\n",
      "binaryornot         jupyter_server_terminals regcheck            win32uiole\n",
      "binascii            jupyter_server_ydoc regex               win32verstamp\n",
      "binstar_client      jupyter_ydoc        regutil             win32wnet\n",
      "bisect              jupyterlab          repo_cli            win_inet_pton\n",
      "black               jupyterlab_plotly   reprlib             winerror\n",
      "blackd              jupyterlab_pygments requests            winioctlcon\n",
      "bleach              jupyterlab_server   requests_file       winnt\n",
      "blib2to3            jupyterlab_widgets  requests_toolbelt   winperf\n",
      "bokeh               jwt                 rfc3339_validator   winpty\n",
      "boltons             keyring             rfc3986_validator   winreg\n",
      "boto3               keyword             rlcompleter         winsound\n",
      "botocore            kiwisolver          rope                winxpgui\n",
      "bottleneck          lazy_loader         rtree               winxptheme\n",
      "brotli              lazy_object_proxy   ruamel_yaml         wrapt\n",
      "bs4                 lib2to3             runpy               wsgiref\n",
      "builtins            libarchive          s3fs                xarray\n",
      "bz2                 libfuturize         s3transfer          xdrlib\n",
      "cProfile            libmambapy          sacremoses          xlwings\n",
      "calendar            libpasteurize       sched               xml\n",
      "certifi             lief                scipy               xmlrpc\n",
      "cffi                linecache           scrapy              xxlimited\n",
      "cgi                 linkify_it          seaborn             xxlimited_35\n",
      "cgitb               llvmlite            secrets             xxsubtype\n",
      "chardet             lmdb                select              xyzservices\n",
      "charset_normalizer  locale              selectors           y_py\n",
      "chunk               locket              send2trash          yaml\n",
      "click               logging             service_identity    yapf\n",
      "cloudpickle         lxml                servicemanager      yapftests\n",
      "clyent              lz4                 setuptools          yarl\n",
      "cmath               lzma                shelve              ypy_websocket\n",
      "cmd                 mailbox             shlex               zict\n",
      "code                mailcap             shutil              zipapp\n",
      "codecs              markdown            signal              zipfile\n",
      "codeop              markdown_it         sipbuild            zipimport\n",
      "collections         markupsafe          site                zipp\n",
      "colorama            marshal             six                 zlib\n",
      "colorcet            math                skimage             zmq\n",
      "colorsys            matplotlib          sklearn             zoneinfo\n",
      "comm                matplotlib_inline   sklearnex           zope\n",
      "commctrl            mccabe              slugify             zstandard\n",
      "compileall          mdit_py_plugins     smart_open          \n",
      "\n",
      "Enter any module name to get more help.  Or, type \"modules spam\" to search\n",
      "for modules whose name or summary contain the string \"spam\".\n",
      "\n"
     ]
    }
   ],
   "source": [
    "# To get built in module\n",
    "help('modules')"
   ]
  },
  {
   "cell_type": "code",
   "execution_count": 32,
   "id": "da0aadca",
   "metadata": {},
   "outputs": [
    {
     "name": "stdout",
     "output_type": "stream",
     "text": [
      "2.0\n",
      "3.141592653589793\n",
      "2.718281828459045\n",
      "120\n",
      "7\n",
      "6\n",
      "10.0\n",
      "-0.5440211108893698\n"
     ]
    }
   ],
   "source": [
    "import math as m\n",
    "print(m.log10(100))\n",
    "print(m.pi)\n",
    "print(m.e)\n",
    "print(m.factorial(5))\n",
    "print(m.ceil(6.7))\n",
    "print(m.floor(6.7))\n",
    "print(m.sqrt(100))\n",
    "print(m.sin(10))"
   ]
  },
  {
   "cell_type": "code",
   "execution_count": 37,
   "id": "aa7518e3",
   "metadata": {},
   "outputs": [
    {
     "name": "stdout",
     "output_type": "stream",
     "text": [
      "84\n",
      "[2, 7, 3, 6, 4, 5, 1]\n"
     ]
    }
   ],
   "source": [
    "import random\n",
    "print(random.randint(1,100))\n",
    "x = [1,2,3,4,5,6,7]\n",
    "random.shuffle(x)\n",
    "print(x)"
   ]
  },
  {
   "cell_type": "code",
   "execution_count": 39,
   "id": "fb43948a",
   "metadata": {},
   "outputs": [
    {
     "data": {
      "text/plain": [
       "1690706280.3529449"
      ]
     },
     "execution_count": 39,
     "metadata": {},
     "output_type": "execute_result"
    }
   ],
   "source": [
    "import time\n",
    "time.time()"
   ]
  },
  {
   "cell_type": "code",
   "execution_count": 40,
   "id": "9397298e",
   "metadata": {},
   "outputs": [
    {
     "data": {
      "text/plain": [
       "'Sun Jul 30 10:38:12 2023'"
      ]
     },
     "execution_count": 40,
     "metadata": {},
     "output_type": "execute_result"
    }
   ],
   "source": [
    "time.ctime()"
   ]
  },
  {
   "cell_type": "code",
   "execution_count": 41,
   "id": "b7a61661",
   "metadata": {},
   "outputs": [
    {
     "name": "stdout",
     "output_type": "stream",
     "text": [
      "hello\n",
      "World\n"
     ]
    }
   ],
   "source": [
    "print('hello')\n",
    "time.sleep(5)\n",
    "print('World')"
   ]
  },
  {
   "cell_type": "code",
   "execution_count": 42,
   "id": "eaaa5bae",
   "metadata": {},
   "outputs": [],
   "source": [
    "import os"
   ]
  },
  {
   "cell_type": "code",
   "execution_count": 43,
   "id": "4377f8f6",
   "metadata": {},
   "outputs": [
    {
     "data": {
      "text/plain": [
       "'C:\\\\Users\\\\ipsit\\\\OneDrive - EDHEC\\\\Desktop\\\\Study Material\\\\Machine Learning\\\\Python\\\\Python Basics'"
      ]
     },
     "execution_count": 43,
     "metadata": {},
     "output_type": "execute_result"
    }
   ],
   "source": [
    "os.getcwd()"
   ]
  },
  {
   "cell_type": "code",
   "execution_count": 44,
   "id": "41034874",
   "metadata": {},
   "outputs": [
    {
     "data": {
      "text/plain": [
       "['.ipynb_checkpoints',\n",
       " 'apple-touch-icon.png',\n",
       " 'apple1.jpeg',\n",
       " 'Built In Function and Module.ipynb',\n",
       " 'Data Types In Python.ipynb',\n",
       " 'Decision Control - If Else Statements.ipynb',\n",
       " 'Dictionaries in Python.ipynb',\n",
       " 'favicon.ico',\n",
       " 'favicon_io (2)',\n",
       " 'Images',\n",
       " 'Keywords.ipynb',\n",
       " 'Literals In Python.ipynb',\n",
       " 'Loops.ipynb',\n",
       " 'Object Oriented Programming.ipynb',\n",
       " 'Operators in Python.ipynb',\n",
       " 'Python Basics - Print Statement.ipynb',\n",
       " 'Python Tkinter.ipynb',\n",
       " 'Sets In Python.ipynb',\n",
       " 'Taking User Input From User.ipynb',\n",
       " 'TKINTER',\n",
       " 'Type Conversion In Python.ipynb',\n",
       " 'Variable and Memory References.ipynb',\n",
       " 'Variable In Python.ipynb']"
      ]
     },
     "execution_count": 44,
     "metadata": {},
     "output_type": "execute_result"
    }
   ],
   "source": [
    "os.listdir()"
   ]
  },
  {
   "cell_type": "code",
   "execution_count": 45,
   "id": "3fd11657",
   "metadata": {},
   "outputs": [],
   "source": [
    "# + os.getcwd()                                         => get current working directory\n",
    "# + os.chdir(<path>)                                    => change directory \n",
    "# + os.listdir()\t                                            => list directory\n",
    "# + os.mkdir(<dirname>)                           => create a directory\n",
    "# + os.makedirs(<dirname>)                    => make directories recursively\n",
    "# + os.rmdir(<dirname>)\t                   => remove directory\n",
    "# + os.removedirs(<dirname>)                => remove directory recursively\n",
    "# + os.rename(<from>, <to>)                   => rename file\n",
    "# + os.stat(<filename>)                            => print all info of a file\n",
    "# + os.walk(<path>)\t                          => traverse directory recursively\n",
    "# + os.environ\t\t                                 => get environment variables\n",
    "# + os.path.join(<path>, <file>)              => join path without worrying about /\n",
    "# + os.path.basename(<filename>)     => get basename\n",
    "# + os.path.dirname(<filename>)         => get dirname\n",
    "# + os.path.exists(<path-to-file>)         => check if the path exists or not\n",
    "# + os.path.splitext(<path-to-file>)      => split path and file extension\n",
    "# + dir(os)\t\t\t                               => check what methods exists\n",
    "\n"
   ]
  },
  {
   "cell_type": "code",
   "execution_count": null,
   "id": "45c12157",
   "metadata": {},
   "outputs": [],
   "source": []
  }
 ],
 "metadata": {
  "kernelspec": {
   "display_name": "Python 3 (ipykernel)",
   "language": "python",
   "name": "python3"
  },
  "language_info": {
   "codemirror_mode": {
    "name": "ipython",
    "version": 3
   },
   "file_extension": ".py",
   "mimetype": "text/x-python",
   "name": "python",
   "nbconvert_exporter": "python",
   "pygments_lexer": "ipython3",
   "version": "3.11.3"
  }
 },
 "nbformat": 4,
 "nbformat_minor": 5
}
