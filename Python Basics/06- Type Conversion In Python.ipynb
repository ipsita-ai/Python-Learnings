{
 "cells": [
  {
   "cell_type": "code",
   "execution_count": 1,
   "id": "692a6e7e",
   "metadata": {},
   "outputs": [],
   "source": [
    "# Types of type conversion\n",
    "# Implicit Type Conversion\n",
    "# Explicit Type Conversion"
   ]
  },
  {
   "cell_type": "code",
   "execution_count": 3,
   "id": "c029c9ed",
   "metadata": {},
   "outputs": [
    {
     "data": {
      "text/plain": [
       "9.5"
      ]
     },
     "execution_count": 3,
     "metadata": {},
     "output_type": "execute_result"
    }
   ],
   "source": [
    "# Implicitly converted integer 4 to float and then added 5.5 to 4.0\n",
    "4 + 5.5"
   ]
  },
  {
   "cell_type": "code",
   "execution_count": 4,
   "id": "00758727",
   "metadata": {},
   "outputs": [
    {
     "data": {
      "text/plain": [
       "(11+7j)"
      ]
     },
     "execution_count": 4,
     "metadata": {},
     "output_type": "execute_result"
    }
   ],
   "source": [
    "5 + 6 +7j"
   ]
  },
  {
   "cell_type": "code",
   "execution_count": 5,
   "id": "4b84f70e",
   "metadata": {},
   "outputs": [
    {
     "data": {
      "text/plain": [
       "(9.5+5j)"
      ]
     },
     "execution_count": 5,
     "metadata": {},
     "output_type": "execute_result"
    }
   ],
   "source": [
    "4.5 + 5 + 5j"
   ]
  },
  {
   "cell_type": "code",
   "execution_count": 6,
   "id": "881c127c",
   "metadata": {},
   "outputs": [
    {
     "data": {
      "text/plain": [
       "'4'"
      ]
     },
     "execution_count": 6,
     "metadata": {},
     "output_type": "execute_result"
    }
   ],
   "source": [
    "str(4)"
   ]
  },
  {
   "cell_type": "code",
   "execution_count": 7,
   "id": "5bfac071",
   "metadata": {},
   "outputs": [
    {
     "data": {
      "text/plain": [
       "25"
      ]
     },
     "execution_count": 7,
     "metadata": {},
     "output_type": "execute_result"
    }
   ],
   "source": [
    "int('25')"
   ]
  },
  {
   "cell_type": "code",
   "execution_count": 8,
   "id": "a70fcdb3",
   "metadata": {},
   "outputs": [
    {
     "data": {
      "text/plain": [
       "4"
      ]
     },
     "execution_count": 8,
     "metadata": {},
     "output_type": "execute_result"
    }
   ],
   "source": [
    "int(4.5)"
   ]
  },
  {
   "cell_type": "code",
   "execution_count": 10,
   "id": "d51209f7",
   "metadata": {},
   "outputs": [
    {
     "data": {
      "text/plain": [
       "(4+0j)"
      ]
     },
     "execution_count": 10,
     "metadata": {},
     "output_type": "execute_result"
    }
   ],
   "source": [
    "complex(4)"
   ]
  },
  {
   "cell_type": "code",
   "execution_count": 11,
   "id": "758d56d6",
   "metadata": {},
   "outputs": [
    {
     "data": {
      "text/plain": [
       "['H', 'e', 'l', 'l', 'o']"
      ]
     },
     "execution_count": 11,
     "metadata": {},
     "output_type": "execute_result"
    }
   ],
   "source": [
    "list('Hello')"
   ]
  },
  {
   "cell_type": "code",
   "execution_count": 12,
   "id": "901711d9",
   "metadata": {},
   "outputs": [
    {
     "data": {
      "text/plain": [
       "{'e', 'h', 'l', 'o'}"
      ]
     },
     "execution_count": 12,
     "metadata": {},
     "output_type": "execute_result"
    }
   ],
   "source": [
    "set('hello')"
   ]
  },
  {
   "cell_type": "code",
   "execution_count": 19,
   "id": "d173f5d5",
   "metadata": {},
   "outputs": [
    {
     "ename": "ValueError",
     "evalue": "invalid literal for int() with base 10: 'ipsita'",
     "output_type": "error",
     "traceback": [
      "\u001b[1;31m---------------------------------------------------------------------------\u001b[0m",
      "\u001b[1;31mValueError\u001b[0m                                Traceback (most recent call last)",
      "Cell \u001b[1;32mIn[19], line 1\u001b[0m\n\u001b[1;32m----> 1\u001b[0m \u001b[38;5;28mint\u001b[39m(\u001b[38;5;124m'\u001b[39m\u001b[38;5;124mipsita\u001b[39m\u001b[38;5;124m'\u001b[39m)\n",
      "\u001b[1;31mValueError\u001b[0m: invalid literal for int() with base 10: 'ipsita'"
     ]
    }
   ],
   "source": [
    "int('ipsita')"
   ]
  },
  {
   "cell_type": "code",
   "execution_count": null,
   "id": "2668ad09",
   "metadata": {},
   "outputs": [],
   "source": []
  }
 ],
 "metadata": {
  "kernelspec": {
   "display_name": "Python 3 (ipykernel)",
   "language": "python",
   "name": "python3"
  },
  "language_info": {
   "codemirror_mode": {
    "name": "ipython",
    "version": 3
   },
   "file_extension": ".py",
   "mimetype": "text/x-python",
   "name": "python",
   "nbconvert_exporter": "python",
   "pygments_lexer": "ipython3",
   "version": "3.11.3"
  }
 },
 "nbformat": 4,
 "nbformat_minor": 5
}
