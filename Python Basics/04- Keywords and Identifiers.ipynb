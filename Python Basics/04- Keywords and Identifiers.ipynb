{
 "cells": [
  {
   "cell_type": "code",
   "execution_count": 1,
   "id": "f3960ac3",
   "metadata": {},
   "outputs": [],
   "source": [
    "# Python is a case sensitive programming language"
   ]
  },
  {
   "cell_type": "markdown",
   "id": "e595aa74",
   "metadata": {},
   "source": [
    "###### A keyword is a word that is reserved by a program because the word has a special meaning . Keywords can be commands or parameters .Every programming language has a set of keywords that cannot be used as variable names.\n"
   ]
  },
  {
   "cell_type": "code",
   "execution_count": 2,
   "id": "a4651db9",
   "metadata": {},
   "outputs": [
    {
     "name": "stdout",
     "output_type": "stream",
     "text": [
      "['False', 'None', 'True', 'and', 'as', 'assert', 'async', 'await', 'break', 'class', 'continue', 'def', 'del', 'elif', 'else', 'except', 'finally', 'for', 'from', 'global', 'if', 'import', 'in', 'is', 'lambda', 'nonlocal', 'not', 'or', 'pass', 'raise', 'return', 'try', 'while', 'with', 'yield']\n"
     ]
    }
   ],
   "source": [
    "import keyword\n",
    "print(keyword.kwlist)"
   ]
  },
  {
   "cell_type": "code",
   "execution_count": 6,
   "id": "abc81dda",
   "metadata": {},
   "outputs": [],
   "source": [
    "x = keyword.kwlist"
   ]
  },
  {
   "cell_type": "code",
   "execution_count": 9,
   "id": "7196917d",
   "metadata": {},
   "outputs": [
    {
     "name": "stdout",
     "output_type": "stream",
     "text": [
      "35\n"
     ]
    }
   ],
   "source": [
    "count = 0\n",
    "for i in x:\n",
    "    count += 1\n",
    "print(count)"
   ]
  },
  {
   "cell_type": "markdown",
   "id": "263c4a48",
   "metadata": {},
   "source": [
    "#### Identifiers \n",
    "- A python identifier is a name used to identify a variable ,function,class,module or object.\n",
    "<ol>1-  can only start with an alphabet or _</ol>\n",
    "<ol>2- Followed by 0 or more letter ,_ and digits</ol>\n",
    "<ol>3- Keywords cannot be used as identifier</ol>\n"
   ]
  },
  {
   "cell_type": "code",
   "execution_count": null,
   "id": "f593e412",
   "metadata": {},
   "outputs": [],
   "source": []
  }
 ],
 "metadata": {
  "kernelspec": {
   "display_name": "Python 3 (ipykernel)",
   "language": "python",
   "name": "python3"
  },
  "language_info": {
   "codemirror_mode": {
    "name": "ipython",
    "version": 3
   },
   "file_extension": ".py",
   "mimetype": "text/x-python",
   "name": "python",
   "nbconvert_exporter": "python",
   "pygments_lexer": "ipython3",
   "version": "3.11.3"
  }
 },
 "nbformat": 4,
 "nbformat_minor": 5
}
