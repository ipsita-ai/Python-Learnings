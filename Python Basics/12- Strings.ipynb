{
 "cells": [
  {
   "cell_type": "code",
   "execution_count": 1,
   "id": "8490cd49",
   "metadata": {},
   "outputs": [],
   "source": [
    "# Strings are sequesnce of charecters \n",
    "# In python specifically , strings are sequence of unicode charecters\n"
   ]
  },
  {
   "cell_type": "markdown",
   "id": "feddce8f",
   "metadata": {},
   "source": [
    "Tasks for string\n",
    "- Creating String\n",
    "- Accessing String\n",
    "- Adding Chars To Strings\n",
    "- Editing Strings\n",
    "- Deleting Strings\n",
    "- Operations on Strings\n",
    "- String Functions"
   ]
  },
  {
   "cell_type": "code",
   "execution_count": 2,
   "id": "7d4749c2",
   "metadata": {},
   "outputs": [],
   "source": [
    "# Creating strings\n",
    "# Empty string\n",
    "x = ''\n",
    "y = str()\n",
    "z = \" \""
   ]
  },
  {
   "cell_type": "code",
   "execution_count": 4,
   "id": "66f41646",
   "metadata": {},
   "outputs": [
    {
     "name": "stdout",
     "output_type": "stream",
     "text": [
      "Hello how are you? It's raining outside\n"
     ]
    }
   ],
   "source": [
    "# Normal string\n",
    "x = 'Hello how are you?'\n",
    "y = \"It's raining outside\"\n",
    "print(x,y)"
   ]
  },
  {
   "cell_type": "code",
   "execution_count": 5,
   "id": "650821c8",
   "metadata": {},
   "outputs": [
    {
     "data": {
      "text/plain": [
       "'Hello I am doing great ! Hope you are fine '"
      ]
     },
     "execution_count": 5,
     "metadata": {},
     "output_type": "execute_result"
    }
   ],
   "source": [
    "# Multiline string\n",
    "'''Hello I am doing great ! Hope you are fine '''"
   ]
  },
  {
   "cell_type": "code",
   "execution_count": 7,
   "id": "b4719b9e",
   "metadata": {},
   "outputs": [
    {
     "name": "stdout",
     "output_type": "stream",
     "text": [
      "4\n"
     ]
    }
   ],
   "source": [
    "# Creating using type conversion\n",
    "x = str(4)\n",
    "print(x)"
   ]
  },
  {
   "cell_type": "code",
   "execution_count": 18,
   "id": "6dac7c7a",
   "metadata": {},
   "outputs": [
    {
     "name": "stdout",
     "output_type": "stream",
     "text": [
      "H\n"
     ]
    }
   ],
   "source": [
    "# Accessing Substrings from a string\n",
    "c = 'Hello World'\n",
    "print(c[0])"
   ]
  },
  {
   "cell_type": "code",
   "execution_count": 19,
   "id": "362a6da7",
   "metadata": {},
   "outputs": [
    {
     "data": {
      "text/plain": [
       "True"
      ]
     },
     "execution_count": 19,
     "metadata": {},
     "output_type": "execute_result"
    }
   ],
   "source": [
    "id('H') == id(c[0])"
   ]
  },
  {
   "cell_type": "code",
   "execution_count": 20,
   "id": "864f72bb",
   "metadata": {},
   "outputs": [
    {
     "data": {
      "text/plain": [
       "'d'"
      ]
     },
     "execution_count": 20,
     "metadata": {},
     "output_type": "execute_result"
    }
   ],
   "source": [
    "# Negative Indexing\n",
    "c[-1]"
   ]
  },
  {
   "cell_type": "code",
   "execution_count": 25,
   "id": "292ba7a9",
   "metadata": {},
   "outputs": [
    {
     "name": "stdout",
     "output_type": "stream",
     "text": [
      "Hello World\n",
      "ello World\n",
      "HloWrd\n",
      "Hello Worl\n",
      "dlroW olleH\n",
      "dlroW olleH\n",
      "Wr\n"
     ]
    }
   ],
   "source": [
    "# Slicing \n",
    "print(c[:])\n",
    "print(c[1:])\n",
    "print(c[::2])\n",
    "print(c[:-1])\n",
    "print(c[-1:-(len(c)+1):-1])\n",
    "print(c[::-1])\n",
    "print(c[-5:-1:2])"
   ]
  },
  {
   "cell_type": "code",
   "execution_count": 26,
   "id": "d3a1e3b2",
   "metadata": {},
   "outputs": [
    {
     "ename": "TypeError",
     "evalue": "'str' object does not support item assignment",
     "output_type": "error",
     "traceback": [
      "\u001b[1;31m---------------------------------------------------------------------------\u001b[0m",
      "\u001b[1;31mTypeError\u001b[0m                                 Traceback (most recent call last)",
      "Cell \u001b[1;32mIn[26], line 3\u001b[0m\n\u001b[0;32m      1\u001b[0m \u001b[38;5;66;03m# strings are immutable data type\u001b[39;00m\n\u001b[0;32m      2\u001b[0m c \u001b[38;5;241m=\u001b[39m \u001b[38;5;124m'\u001b[39m\u001b[38;5;124mworld\u001b[39m\u001b[38;5;124m'\u001b[39m\n\u001b[1;32m----> 3\u001b[0m c[\u001b[38;5;241m0\u001b[39m] \u001b[38;5;241m=\u001b[39m \u001b[38;5;124m'\u001b[39m\u001b[38;5;124mx\u001b[39m\u001b[38;5;124m'\u001b[39m\n",
      "\u001b[1;31mTypeError\u001b[0m: 'str' object does not support item assignment"
     ]
    }
   ],
   "source": [
    "# strings are immutable data type\n",
    "c = 'world'\n",
    "c[0] = 'x'"
   ]
  },
  {
   "cell_type": "code",
   "execution_count": 27,
   "id": "08297683",
   "metadata": {},
   "outputs": [
    {
     "ename": "TypeError",
     "evalue": "'str' object doesn't support item deletion",
     "output_type": "error",
     "traceback": [
      "\u001b[1;31m---------------------------------------------------------------------------\u001b[0m",
      "\u001b[1;31mTypeError\u001b[0m                                 Traceback (most recent call last)",
      "Cell \u001b[1;32mIn[27], line 1\u001b[0m\n\u001b[1;32m----> 1\u001b[0m \u001b[38;5;28;01mdel\u001b[39;00m(c[\u001b[38;5;241m0\u001b[39m])\n",
      "\u001b[1;31mTypeError\u001b[0m: 'str' object doesn't support item deletion"
     ]
    }
   ],
   "source": [
    "del(c[0])"
   ]
  },
  {
   "cell_type": "code",
   "execution_count": 28,
   "id": "ef129385",
   "metadata": {},
   "outputs": [],
   "source": [
    "del(c)"
   ]
  },
  {
   "cell_type": "code",
   "execution_count": 29,
   "id": "36b0d3ef",
   "metadata": {},
   "outputs": [
    {
     "ename": "NameError",
     "evalue": "name 'c' is not defined",
     "output_type": "error",
     "traceback": [
      "\u001b[1;31m---------------------------------------------------------------------------\u001b[0m",
      "\u001b[1;31mNameError\u001b[0m                                 Traceback (most recent call last)",
      "Cell \u001b[1;32mIn[29], line 1\u001b[0m\n\u001b[1;32m----> 1\u001b[0m c\n",
      "\u001b[1;31mNameError\u001b[0m: name 'c' is not defined"
     ]
    }
   ],
   "source": [
    "c"
   ]
  },
  {
   "cell_type": "code",
   "execution_count": 30,
   "id": "e06a0fb7",
   "metadata": {},
   "outputs": [],
   "source": [
    "# String Functions\n",
    "# Common Functions\n",
    "## Len\n",
    "## Max/Min\n",
    "## sorted"
   ]
  },
  {
   "cell_type": "code",
   "execution_count": 31,
   "id": "1338d9e3",
   "metadata": {},
   "outputs": [
    {
     "data": {
      "text/plain": [
       "12"
      ]
     },
     "execution_count": 31,
     "metadata": {},
     "output_type": "execute_result"
    }
   ],
   "source": [
    "len('Ipsita Panda')"
   ]
  },
  {
   "cell_type": "code",
   "execution_count": 33,
   "id": "bf81c8c0",
   "metadata": {},
   "outputs": [
    {
     "name": "stdout",
     "output_type": "stream",
     "text": [
      "I\n",
      "t\n"
     ]
    }
   ],
   "source": [
    "print(min('IpsitaPanda'))\n",
    "print(max('IpsitaPanda'))"
   ]
  },
  {
   "cell_type": "code",
   "execution_count": 36,
   "id": "fc4d75b6",
   "metadata": {},
   "outputs": [
    {
     "name": "stdout",
     "output_type": "stream",
     "text": [
      "I 73\n",
      "p 112\n",
      "s 115\n",
      "i 105\n",
      "t 116\n",
      "a 97\n",
      "P 80\n",
      "a 97\n",
      "n 110\n",
      "d 100\n",
      "a 97\n"
     ]
    }
   ],
   "source": [
    "for i in 'IpsitaPanda':\n",
    "    print(i,ord(i))"
   ]
  },
  {
   "cell_type": "code",
   "execution_count": 37,
   "id": "98456b5d",
   "metadata": {},
   "outputs": [
    {
     "data": {
      "text/plain": [
       "[' ', 'I', 'P', 'a', 'a', 'a', 'd', 'i', 'n', 'p', 's', 't']"
      ]
     },
     "execution_count": 37,
     "metadata": {},
     "output_type": "execute_result"
    }
   ],
   "source": [
    "sorted('Ipsita Panda')"
   ]
  },
  {
   "cell_type": "code",
   "execution_count": 42,
   "id": "7f3e9a3d",
   "metadata": {},
   "outputs": [
    {
     "name": "stdout",
     "output_type": "stream",
     "text": [
      "Ipsita panda\n",
      "Ipsita Panda\n",
      "IPSITA PANDA\n",
      "ipsita panda\n",
      "Ipsita Panda\n"
     ]
    }
   ],
   "source": [
    "# String Specific Function\n",
    "# 1- Changing cases:  Capitalize/Title/Lower/Upper/Swapcase\n",
    "print('ipsita panda'.capitalize())\n",
    "print('ipsita panda'.title())\n",
    "print('ipsita panda'.upper())\n",
    "print('Ipsita Panda'.lower())\n",
    "print('iPSITA pANDA'.swapcase())"
   ]
  },
  {
   "cell_type": "code",
   "execution_count": 45,
   "id": "883cfc9e",
   "metadata": {},
   "outputs": [
    {
     "name": "stdout",
     "output_type": "stream",
     "text": [
      "4\n",
      "1\n"
     ]
    }
   ],
   "source": [
    "# 2- Count\n",
    "print('ipsita Panda is a good girl'.count('i'))\n",
    "print('ipsita Panda is a good girl'.count('is'))"
   ]
  },
  {
   "cell_type": "code",
   "execution_count": 48,
   "id": "7260a928",
   "metadata": {},
   "outputs": [
    {
     "name": "stdout",
     "output_type": "stream",
     "text": [
      "1\n",
      "-1\n",
      "1\n"
     ]
    }
   ],
   "source": [
    "# 3- Find and Index\n",
    "print('it is raining today'.find('t'))\n",
    "print('it is raining today'.find('x'))\n",
    "print('it is raining today'.index('t'))\n",
    "# next statement will throw error\n",
    "#print('it is raining today'.index('x'))"
   ]
  },
  {
   "cell_type": "code",
   "execution_count": 49,
   "id": "0cc08ec1",
   "metadata": {},
   "outputs": [
    {
     "name": "stdout",
     "output_type": "stream",
     "text": [
      "True\n",
      "True\n"
     ]
    }
   ],
   "source": [
    "# 4- Endswith/startswith\n",
    "\n",
    "print('Ipsita panda is a good girl'.endswith('rl'))\n",
    "print('Ipsita Panda is a good girl'.startswith('I'))"
   ]
  },
  {
   "cell_type": "code",
   "execution_count": 53,
   "id": "63ebb4d5",
   "metadata": {},
   "outputs": [
    {
     "name": "stdout",
     "output_type": "stream",
     "text": [
      "Hi my name is Ipsita Panda and I belong to India\n",
      "Hi my name is India and I belong to Ipsita Panda\n",
      "Hi my name is Ipsita Panda and I belong to India\n"
     ]
    }
   ],
   "source": [
    "# 5- fORMAT\n",
    "print('Hi my name is {} and I belong to {}'.format('Ipsita Panda','India'))\n",
    "print('Hi my name is {1} and I belong to {0}'.format('Ipsita Panda','India'))\n",
    "print('Hi my name is {name} and I belong to {country}'.format(name = 'Ipsita Panda',country = 'India'))"
   ]
  },
  {
   "cell_type": "code",
   "execution_count": 61,
   "id": "90ef0d8b",
   "metadata": {},
   "outputs": [
    {
     "name": "stdout",
     "output_type": "stream",
     "text": [
      "True\n",
      "False\n",
      "True\n",
      "False\n",
      "True\n",
      "False\n",
      "True\n"
     ]
    }
   ],
   "source": [
    "# 6 isalnum/isalpha/isdecimal/isdigit/isidentifier\n",
    "print('Flat20'.isalnum())\n",
    "print('Flat20!'.isalnum())\n",
    "print('Flat'.isalpha())\n",
    "print('2.36'.isdecimal())\n",
    "print('2'.isdigit())\n",
    "print('Hello World'.isidentifier())\n",
    "print('Hello_World'.isidentifier())"
   ]
  },
  {
   "cell_type": "code",
   "execution_count": 63,
   "id": "2a1e817a",
   "metadata": {},
   "outputs": [
    {
     "name": "stdout",
     "output_type": "stream",
     "text": [
      "['who', 'is', 'the', 'prime', 'minister', 'of', 'india']\n",
      "['who ', 's the pr', 'me m', 'n', 'ster of ', 'nd', 'a']\n"
     ]
    }
   ],
   "source": [
    "# 7 Split\n",
    "print('who is the prime minister of india'.split())\n",
    "print('who is the prime minister of india'.split('i'))"
   ]
  },
  {
   "cell_type": "code",
   "execution_count": 67,
   "id": "9679d37b",
   "metadata": {},
   "outputs": [
    {
     "data": {
      "text/plain": [
       "'who is the prime minister of india'"
      ]
     },
     "execution_count": 67,
     "metadata": {},
     "output_type": "execute_result"
    }
   ],
   "source": [
    "#8 Join\n",
    "' '.join(['who', 'is', 'the', 'prime', 'minister', 'of', 'india'])"
   ]
  },
  {
   "cell_type": "code",
   "execution_count": 66,
   "id": "cb61256a",
   "metadata": {},
   "outputs": [
    {
     "data": {
      "text/plain": [
       "'who-is-the-prime-minister-of-india'"
      ]
     },
     "execution_count": 66,
     "metadata": {},
     "output_type": "execute_result"
    }
   ],
   "source": [
    "'-'.join(['who', 'is', 'the', 'prime', 'minister', 'of', 'india'])"
   ]
  },
  {
   "cell_type": "code",
   "execution_count": 68,
   "id": "3420631a",
   "metadata": {},
   "outputs": [
    {
     "data": {
      "text/plain": [
       "'Hi my name is Ipsita Panda'"
      ]
     },
     "execution_count": 68,
     "metadata": {},
     "output_type": "execute_result"
    }
   ],
   "source": [
    "# 9 - Replace\n",
    "'Hi my name is Ipsita'.replace('Ipsita','Ipsita Panda')"
   ]
  },
  {
   "cell_type": "code",
   "execution_count": 69,
   "id": "86ba80c2",
   "metadata": {},
   "outputs": [
    {
     "name": "stdout",
     "output_type": "stream",
     "text": [
      "Ipsita Panda\n",
      "Ipsita Panda        \n",
      "             Ipsita Panda\n"
     ]
    }
   ],
   "source": [
    "# 10 Strip\n",
    "print('             Ipsita Panda        '.strip())\n",
    "print('             Ipsita Panda        '.lstrip())\n",
    "print('             Ipsita Panda        '.rstrip())"
   ]
  },
  {
   "cell_type": "code",
   "execution_count": 1,
   "id": "bda196e4",
   "metadata": {},
   "outputs": [],
   "source": [
    "# Strings Operations"
   ]
  },
  {
   "cell_type": "code",
   "execution_count": 2,
   "id": "f0901b4f",
   "metadata": {},
   "outputs": [
    {
     "data": {
      "text/plain": [
       "'Hello World'"
      ]
     },
     "execution_count": 2,
     "metadata": {},
     "output_type": "execute_result"
    }
   ],
   "source": [
    "# Arithmatic Operators\n",
    "'Hello' + ' ' + 'World'"
   ]
  },
  {
   "cell_type": "code",
   "execution_count": 4,
   "id": "a105a139",
   "metadata": {},
   "outputs": [
    {
     "data": {
      "text/plain": [
       "'Hello Hello Hello '"
      ]
     },
     "execution_count": 4,
     "metadata": {},
     "output_type": "execute_result"
    }
   ],
   "source": [
    "'Hello '*3"
   ]
  },
  {
   "cell_type": "code",
   "execution_count": 8,
   "id": "9c60f666",
   "metadata": {},
   "outputs": [
    {
     "data": {
      "text/plain": [
       "'*****************************************************************************************************************************'"
      ]
     },
     "execution_count": 8,
     "metadata": {},
     "output_type": "execute_result"
    }
   ],
   "source": [
    "'*'*125"
   ]
  },
  {
   "cell_type": "code",
   "execution_count": 9,
   "id": "61a70b18",
   "metadata": {},
   "outputs": [
    {
     "data": {
      "text/plain": [
       "False"
      ]
     },
     "execution_count": 9,
     "metadata": {},
     "output_type": "execute_result"
    }
   ],
   "source": [
    "# Relational Operator\n",
    "'Hello' == 'World'"
   ]
  },
  {
   "cell_type": "code",
   "execution_count": 10,
   "id": "9cb33c82",
   "metadata": {},
   "outputs": [
    {
     "data": {
      "text/plain": [
       "True"
      ]
     },
     "execution_count": 10,
     "metadata": {},
     "output_type": "execute_result"
    }
   ],
   "source": [
    "'Hello' != 'World'"
   ]
  },
  {
   "cell_type": "code",
   "execution_count": 11,
   "id": "d765b959",
   "metadata": {},
   "outputs": [
    {
     "data": {
      "text/plain": [
       "True"
      ]
     },
     "execution_count": 11,
     "metadata": {},
     "output_type": "execute_result"
    }
   ],
   "source": [
    "'pune' > 'Pune'"
   ]
  },
  {
   "cell_type": "code",
   "execution_count": 13,
   "id": "fd0f788a",
   "metadata": {},
   "outputs": [
    {
     "data": {
      "text/plain": [
       "True"
      ]
     },
     "execution_count": 13,
     "metadata": {},
     "output_type": "execute_result"
    }
   ],
   "source": [
    "'mumbai' < 'pune'"
   ]
  },
  {
   "cell_type": "code",
   "execution_count": 14,
   "id": "21834cf2",
   "metadata": {},
   "outputs": [
    {
     "data": {
      "text/plain": [
       "'World'"
      ]
     },
     "execution_count": 14,
     "metadata": {},
     "output_type": "execute_result"
    }
   ],
   "source": [
    "# Logical Operations\n",
    "'Hello' and 'World'"
   ]
  },
  {
   "cell_type": "code",
   "execution_count": 15,
   "id": "30b40d5c",
   "metadata": {},
   "outputs": [
    {
     "data": {
      "text/plain": [
       "'Hello'"
      ]
     },
     "execution_count": 15,
     "metadata": {},
     "output_type": "execute_result"
    }
   ],
   "source": [
    "'Hello' or 'World'"
   ]
  },
  {
   "cell_type": "code",
   "execution_count": 16,
   "id": "192f413e",
   "metadata": {},
   "outputs": [
    {
     "data": {
      "text/plain": [
       "''"
      ]
     },
     "execution_count": 16,
     "metadata": {},
     "output_type": "execute_result"
    }
   ],
   "source": [
    "'' and 'world'"
   ]
  },
  {
   "cell_type": "code",
   "execution_count": 17,
   "id": "15c80c0d",
   "metadata": {},
   "outputs": [
    {
     "data": {
      "text/plain": [
       "'world'"
      ]
     },
     "execution_count": 17,
     "metadata": {},
     "output_type": "execute_result"
    }
   ],
   "source": [
    "'' or 'world'"
   ]
  },
  {
   "cell_type": "code",
   "execution_count": 18,
   "id": "cecb6c8a",
   "metadata": {},
   "outputs": [
    {
     "name": "stdout",
     "output_type": "stream",
     "text": [
      "h\n",
      "e\n",
      "l\n",
      "l\n",
      "o\n",
      " \n",
      "w\n",
      "o\n",
      "r\n",
      "l\n",
      "d\n"
     ]
    }
   ],
   "source": [
    "# loops \n",
    "c = 'hello world'\n",
    "for i in c:\n",
    "    print(i)"
   ]
  },
  {
   "cell_type": "code",
   "execution_count": 19,
   "id": "33ef2216",
   "metadata": {},
   "outputs": [
    {
     "data": {
      "text/plain": [
       "True"
      ]
     },
     "execution_count": 19,
     "metadata": {},
     "output_type": "execute_result"
    }
   ],
   "source": [
    "'x' in 'x-men'"
   ]
  },
  {
   "cell_type": "code",
   "execution_count": null,
   "id": "939debbf",
   "metadata": {},
   "outputs": [],
   "source": []
  }
 ],
 "metadata": {
  "kernelspec": {
   "display_name": "Python 3 (ipykernel)",
   "language": "python",
   "name": "python3"
  },
  "language_info": {
   "codemirror_mode": {
    "name": "ipython",
    "version": 3
   },
   "file_extension": ".py",
   "mimetype": "text/x-python",
   "name": "python",
   "nbconvert_exporter": "python",
   "pygments_lexer": "ipython3",
   "version": "3.11.3"
  }
 },
 "nbformat": 4,
 "nbformat_minor": 5
}
