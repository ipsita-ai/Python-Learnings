{
 "cells": [
  {
   "cell_type": "code",
   "execution_count": 1,
   "id": "d87f691d",
   "metadata": {},
   "outputs": [],
   "source": [
    "X = 25"
   ]
  },
  {
   "cell_type": "code",
   "execution_count": 2,
   "id": "95f71622",
   "metadata": {},
   "outputs": [],
   "source": [
    "_x = 25"
   ]
  },
  {
   "cell_type": "code",
   "execution_count": 3,
   "id": "336cb6a9",
   "metadata": {},
   "outputs": [],
   "source": [
    "# &x = 25 not possible as variable name cannot start with special charecter except _"
   ]
  },
  {
   "cell_type": "code",
   "execution_count": 5,
   "id": "181eab53",
   "metadata": {},
   "outputs": [],
   "source": [
    "# We dont need to declare the data type of the variable before initialising\n",
    "# Like in c , int a = 5"
   ]
  },
  {
   "cell_type": "code",
   "execution_count": 6,
   "id": "bdbdeb34",
   "metadata": {},
   "outputs": [],
   "source": [
    "name = 'Ipsita Panda'"
   ]
  },
  {
   "cell_type": "code",
   "execution_count": 8,
   "id": "ff4b727e",
   "metadata": {},
   "outputs": [],
   "source": [
    "# No Variable declaration needed in python"
   ]
  },
  {
   "cell_type": "code",
   "execution_count": 9,
   "id": "886458ba",
   "metadata": {},
   "outputs": [],
   "source": [
    "# Dynamic Typing is the concept where we dont need to specifically declare data type of the variable\n",
    "# Static Typing"
   ]
  },
  {
   "cell_type": "code",
   "execution_count": 15,
   "id": "3b8f8d04",
   "metadata": {},
   "outputs": [
    {
     "data": {
      "text/plain": [
       "True"
      ]
     },
     "execution_count": 15,
     "metadata": {},
     "output_type": "execute_result"
    }
   ],
   "source": [
    "# Dynamic Binding --> same variable can have different data type in different moments within a program\n",
    "# static binding--> one variable can have only one data type\n",
    "name"
   ]
  },
  {
   "cell_type": "code",
   "execution_count": 13,
   "id": "4c69a55d",
   "metadata": {},
   "outputs": [],
   "source": [
    "name = 4"
   ]
  },
  {
   "cell_type": "code",
   "execution_count": 14,
   "id": "5da79ef2",
   "metadata": {},
   "outputs": [],
   "source": [
    "name = True"
   ]
  },
  {
   "cell_type": "code",
   "execution_count": 16,
   "id": "934988c9",
   "metadata": {},
   "outputs": [
    {
     "name": "stdout",
     "output_type": "stream",
     "text": [
      "5\n",
      "6\n",
      "7\n"
     ]
    }
   ],
   "source": [
    "# special syntax\n",
    "a = 5;b = 6;c = 7\n",
    "print(a)\n",
    "print(b)\n",
    "print(c)"
   ]
  },
  {
   "cell_type": "code",
   "execution_count": 17,
   "id": "bcf820a8",
   "metadata": {},
   "outputs": [
    {
     "name": "stdout",
     "output_type": "stream",
     "text": [
      "4\n",
      "5\n",
      "6\n"
     ]
    }
   ],
   "source": [
    "a,b,c = 4,5,6\n",
    "print(a)\n",
    "print(b)\n",
    "print(c)"
   ]
  },
  {
   "cell_type": "code",
   "execution_count": 18,
   "id": "42903eab",
   "metadata": {},
   "outputs": [
    {
     "name": "stdout",
     "output_type": "stream",
     "text": [
      "6\n",
      "6\n",
      "6\n"
     ]
    }
   ],
   "source": [
    "a=b=c=6\n",
    "print(a)\n",
    "print(b)\n",
    "print(c)"
   ]
  },
  {
   "cell_type": "code",
   "execution_count": null,
   "id": "2cd8ca07",
   "metadata": {},
   "outputs": [],
   "source": []
  }
 ],
 "metadata": {
  "kernelspec": {
   "display_name": "Python 3 (ipykernel)",
   "language": "python",
   "name": "python3"
  },
  "language_info": {
   "codemirror_mode": {
    "name": "ipython",
    "version": 3
   },
   "file_extension": ".py",
   "mimetype": "text/x-python",
   "name": "python",
   "nbconvert_exporter": "python",
   "pygments_lexer": "ipython3",
   "version": "3.11.3"
  }
 },
 "nbformat": 4,
 "nbformat_minor": 5
}
