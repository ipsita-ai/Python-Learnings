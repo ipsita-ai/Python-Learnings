{
 "cells": [
  {
   "cell_type": "code",
   "execution_count": 1,
   "id": "5ea908bc",
   "metadata": {},
   "outputs": [],
   "source": [
    "## Operators are used to perform operation on variables and values"
   ]
  },
  {
   "cell_type": "code",
   "execution_count": 2,
   "id": "73a8ef1f",
   "metadata": {},
   "outputs": [],
   "source": [
    "# Arithmetic Operator\n",
    "# Comparision Operator\n",
    "# Logical Operator\n",
    "# Bitwise Operator\n",
    "# Assignment Operator\n",
    "# Identity Operator\n",
    "# Membership Operator"
   ]
  },
  {
   "cell_type": "code",
   "execution_count": 7,
   "id": "4f3c4e51",
   "metadata": {},
   "outputs": [
    {
     "name": "stdout",
     "output_type": "stream",
     "text": [
      "Addition 6\n",
      "Subtraction -2\n",
      "Modulus 0\n",
      "Modulus 2\n",
      "True Division 2\n",
      "True Division/floor 0\n",
      "Mult 8\n",
      "Division 0.5\n",
      "Power of 16\n"
     ]
    }
   ],
   "source": [
    "# Arithmetic Operator\n",
    "x = 2\n",
    "y = 4\n",
    "print('Addition',x+y)\n",
    "print('Subtraction',x-y)\n",
    "print('Modulus',y%x)\n",
    "print('Modulus',x%y)\n",
    "print('True Division',y//x)\n",
    "print('True Division/floor',x//y)\n",
    "print('Mult',x*y)\n",
    "print('Division',x/y)\n",
    "print('Power of',x**y)"
   ]
  },
  {
   "cell_type": "code",
   "execution_count": 8,
   "id": "babce800",
   "metadata": {},
   "outputs": [
    {
     "name": "stdout",
     "output_type": "stream",
     "text": [
      "False\n",
      "True\n",
      "False\n",
      "True\n",
      "False\n",
      "True\n"
     ]
    }
   ],
   "source": [
    "# Comparision/Relational Operator\n",
    "print(x>y)\n",
    "print(x<y)\n",
    "print(x==y)\n",
    "print(x!=y)\n",
    "print(x>= y)\n",
    "print(x<=y)"
   ]
  },
  {
   "cell_type": "code",
   "execution_count": 9,
   "id": "ea9954d8",
   "metadata": {},
   "outputs": [
    {
     "name": "stdout",
     "output_type": "stream",
     "text": [
      "True\n",
      "False\n",
      "False\n"
     ]
    }
   ],
   "source": [
    "# Logical Operator\n",
    "x = True\n",
    "y = False\n",
    "print(x or y)\n",
    "print(x and y)\n",
    "print(not x)"
   ]
  },
  {
   "cell_type": "code",
   "execution_count": 18,
   "id": "7c51c078",
   "metadata": {},
   "outputs": [
    {
     "name": "stdout",
     "output_type": "stream",
     "text": [
      "0\n",
      "10\n",
      "-3\n",
      "8\n",
      "2\n"
     ]
    }
   ],
   "source": [
    "# Bitwise Operators (Used in Image Processing)\n",
    "x = 2 # 0010\n",
    "y = 8 # 0011\n",
    "print(x & y)\n",
    "print(x|y)\n",
    "print(~x)\n",
    "print(x << 2)\n",
    "print(y >> 2)"
   ]
  },
  {
   "cell_type": "code",
   "execution_count": 20,
   "id": "2add0cd6",
   "metadata": {},
   "outputs": [
    {
     "name": "stdout",
     "output_type": "stream",
     "text": [
      "2\n",
      "5\n",
      "10\n",
      "5\n"
     ]
    }
   ],
   "source": [
    "# Assignment Operator\n",
    "x = 2\n",
    "print(x)\n",
    "\n",
    "x += 3\n",
    "print(x)\n",
    "\n",
    "x *= 2\n",
    "print(x)\n",
    "\n",
    "x //= 2\n",
    "print(x)"
   ]
  },
  {
   "cell_type": "code",
   "execution_count": 28,
   "id": "a82f8c45",
   "metadata": {},
   "outputs": [
    {
     "name": "stdout",
     "output_type": "stream",
     "text": [
      "Comparing a and b True\n",
      "Comparing x and y False\n",
      "comparing m and n False\n",
      "comparing z and l True\n"
     ]
    }
   ],
   "source": [
    "# Identity Operator --> a and b are pointing to same memory location\n",
    "a = 3\n",
    "b = 3\n",
    "print('Comparing a and b',a is b)\n",
    "\n",
    "x = 290\n",
    "y = 290\n",
    "print('Comparing x and y',x is y)\n",
    "\n",
    "m = 'Hello-world'\n",
    "n = 'Hello-world'\n",
    "print('comparing m and n', m is n)\n",
    "\n",
    "z = [1,2,3,4]\n",
    "l = [1,2,3,4]\n",
    "print('comparing z and l', z is not l)"
   ]
  },
  {
   "cell_type": "code",
   "execution_count": 29,
   "id": "a9cbf1b3",
   "metadata": {},
   "outputs": [
    {
     "name": "stdout",
     "output_type": "stream",
     "text": [
      "True\n",
      "True\n",
      "True\n"
     ]
    }
   ],
   "source": [
    "# Membership Operator\n",
    "x = 'Delhi'\n",
    "print('D' in x)\n",
    "\n",
    "y = [1,2,3,4,5]\n",
    "print(5 in y)\n",
    "\n",
    "z = {1,2,3,4}\n",
    "print(5 not in z)"
   ]
  },
  {
   "cell_type": "code",
   "execution_count": null,
   "id": "257c5003",
   "metadata": {},
   "outputs": [],
   "source": []
  },
  {
   "cell_type": "code",
   "execution_count": null,
   "id": "55107622",
   "metadata": {},
   "outputs": [],
   "source": []
  }
 ],
 "metadata": {
  "kernelspec": {
   "display_name": "Python 3 (ipykernel)",
   "language": "python",
   "name": "python3"
  },
  "language_info": {
   "codemirror_mode": {
    "name": "ipython",
    "version": 3
   },
   "file_extension": ".py",
   "mimetype": "text/x-python",
   "name": "python",
   "nbconvert_exporter": "python",
   "pygments_lexer": "ipython3",
   "version": "3.11.3"
  }
 },
 "nbformat": 4,
 "nbformat_minor": 5
}
