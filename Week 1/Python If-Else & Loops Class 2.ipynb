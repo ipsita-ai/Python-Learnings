{
 "cells": [
  {
   "cell_type": "markdown",
   "id": "0539721c",
   "metadata": {},
   "source": [
    "### Operators in Python\n",
    "- Arithmetic Operators\n",
    "- Relational Operators\n",
    "- Logical Operators\n",
    "- Bitwise Operators\n",
    "- Assignment Operators\n",
    "- Membership Operators"
   ]
  },
  {
   "cell_type": "code",
   "execution_count": null,
   "id": "04918667",
   "metadata": {},
   "outputs": [],
   "source": [
    "#Arithmetic Operators\n",
    "# Addition\n",
    "print(5+6)\n",
    "# Subtraction\n",
    "print(6-5)\n",
    "# Multiplication\n",
    "print(6*5)\n",
    "# Division\n",
    "print(5/6)\n",
    "# Integer Division\n",
    "print(5//2) \n",
    "# Modulus Operator(Gives Remainder)\n",
    "print(5%2)\n",
    "# Power Operator\n",
    "print(5**2)"
   ]
  },
  {
   "cell_type": "code",
   "execution_count": null,
   "id": "6aa3f2a0",
   "metadata": {},
   "outputs": [],
   "source": [
    "# Relational Operators\n",
    "print(4>5)\n",
    "print(4<5)\n",
    "print(4>=5)\n",
    "print(4<=5)\n",
    "print(4==5)\n",
    "print(4!=5)"
   ]
  },
  {
   "cell_type": "code",
   "execution_count": null,
   "id": "d6a74399",
   "metadata": {},
   "outputs": [],
   "source": [
    "# Logical Operators\n",
    "# And Operator\n",
    "print(1 and 0)\n",
    "# Or Operator\n",
    "print(1 or 0)\n",
    "# Not Operator\n",
    "print(not 1)"
   ]
  },
  {
   "cell_type": "code",
   "execution_count": null,
   "id": "e2c23a3f",
   "metadata": {},
   "outputs": [],
   "source": [
    "# Bitwise Operators\n",
    "# Bitwise And &\n",
    "print(2&3)\n",
    "# Bitwise or |\n",
    "print(2|3)\n",
    "# Bitwise XOR ^\n",
    "print(2^3)\n",
    "# Bitwise Not\n",
    "print(~3)\n",
    "# Bitwise Right Shift\n",
    "print(4>>2)\n",
    "# Bitwise Left Shift\n",
    "print(4<<2)"
   ]
  },
  {
   "cell_type": "code",
   "execution_count": null,
   "id": "3ba10ca7",
   "metadata": {},
   "outputs": [],
   "source": [
    "# Assignment Operator\n",
    "\n",
    "a = 2\n",
    "a += 2\n",
    "print(a)\n",
    "a *= 2\n",
    "print(a)\n",
    "a -= 2\n",
    "print(a)\n",
    "a /= 2\n",
    "print(a)\n",
    "a //= 3\n",
    "print(a)\n",
    "\n",
    "b = 'Ipsita'\n",
    "b += ' Panda'\n",
    "print(b)"
   ]
  },
  {
   "cell_type": "code",
   "execution_count": null,
   "id": "0aad95f3",
   "metadata": {},
   "outputs": [],
   "source": [
    "# Membership Operator\n",
    "# in / Not in\n",
    "print('d' in 'delhi')\n",
    "print('a' not in 'delhi')\n",
    "print(1 in [1,2,3,4,5])"
   ]
  },
  {
   "cell_type": "code",
   "execution_count": null,
   "id": "923e2e73",
   "metadata": {},
   "outputs": [],
   "source": [
    "# Program - Find the sum of a 3 digit number entered by the user\n",
    "num = int(input('Enter the three digit number : '))\n",
    "num3 = num//100\n",
    "num %= 100\n",
    "num2 = num//10\n",
    "num1 = num%10\n",
    "result = num1 + num2 + num3\n",
    "print(result)"
   ]
  },
  {
   "cell_type": "markdown",
   "id": "cc696aee",
   "metadata": {},
   "source": [
    "#### If-Else In Python"
   ]
  },
  {
   "cell_type": "code",
   "execution_count": null,
   "id": "d154d3e5",
   "metadata": {},
   "outputs": [],
   "source": [
    "# If - Else is needed for branching\n",
    "# Login Program and Indentation\n",
    "# Assuming email : ipsitabitece@gmail.com\n",
    "# Assuming Password : 1234\n",
    "\n",
    "email = input('Enter Email : ')\n",
    "pswd = input('Enter Password')\n",
    "\n",
    "if(email == 'ipsitabitece@gmail.com' and pswd == '1234'):\n",
    "    print('Welcome to our website')\n",
    "elif(email == 'ipsitabitece@gmail.com' and pswd != '1234'):\n",
    "    print('Incorrect Password')\n",
    "    pswd = input('Enter password again : ')\n",
    "    # nested if\n",
    "    if (pswd == '1234'):\n",
    "        print('Welcome to our website')\n",
    "    else:\n",
    "        print('Try to reset your password')\n",
    "        \n",
    "else:\n",
    "    print('Enter right email and password')\n",
    "    "
   ]
  },
  {
   "cell_type": "code",
   "execution_count": null,
   "id": "08cab60a",
   "metadata": {},
   "outputs": [],
   "source": [
    "# min of three numbers\n",
    "a = int(input('First number : '))\n",
    "b = int(input('Second number : '))\n",
    "c = int(input('Third number : '))\n",
    "\n",
    "if (a<b and a<c):\n",
    "    print('The smallest number is',a)\n",
    "elif (b<a and b <c):\n",
    "    print('The smallest number is',b)\n",
    "else:\n",
    "    print('The smallest number is',c)"
   ]
  },
  {
   "cell_type": "code",
   "execution_count": null,
   "id": "88d25ada",
   "metadata": {},
   "outputs": [],
   "source": [
    "# Menu Driven Program\n",
    "# Calculator\n",
    "fnum = int(input('Enter the first number : '))\n",
    "snum = int(input('Enter the second number : '))\n",
    "\n",
    "op = input('Enter the operation')\n",
    "\n",
    "if (op == '+'):\n",
    "    print(fnum + snum)\n",
    "elif (op == '-'):\n",
    "    print(fnum - snum)\n",
    "elif (op == '*'):\n",
    "    print(fnum * snum)\n",
    "elif (op == '/'):\n",
    "    print(fnum/snum)\n",
    "else:\n",
    "    print('Operator not identifiable')"
   ]
  },
  {
   "cell_type": "code",
   "execution_count": null,
   "id": "d78c310b",
   "metadata": {},
   "outputs": [],
   "source": [
    "menu = input('''Hi! how can I help you.\n",
    "1. Enter 1 for pin change\n",
    "2. Enter 2 for balance check\n",
    "3. Enter 3 for withdrawal\n",
    "4. Enrer 4 for exit \n",
    "''')\n",
    "\n",
    "if menu == '1':\n",
    "    print('Pin Change')\n",
    "elif menu == '2':\n",
    "    print('Balance Check')\n",
    "elif menu == '3':\n",
    "    print('Withdrawal')\n",
    "else:\n",
    "    print('Exit')"
   ]
  },
  {
   "cell_type": "markdown",
   "id": "bb656f51",
   "metadata": {},
   "source": [
    "#### Modules in Python\n",
    "##### Functions written in python file which can be imported and used in the file.\n",
    "- Math\n",
    "- Keywords\n",
    "- Random\n",
    "- Datetime"
   ]
  },
  {
   "cell_type": "code",
   "execution_count": null,
   "id": "ada61a3d",
   "metadata": {},
   "outputs": [],
   "source": [
    "# math\n",
    "import math as m\n",
    "print(m.log10(1000))\n",
    "print(m.factorial(5))\n",
    "print(m.floor(6.8))\n",
    "print(m.sqrt(9))"
   ]
  },
  {
   "cell_type": "code",
   "execution_count": null,
   "id": "d50b7a16",
   "metadata": {},
   "outputs": [],
   "source": [
    "# Keyword\n",
    "import keyword as kw\n",
    "len(kw.kwlist)"
   ]
  },
  {
   "cell_type": "code",
   "execution_count": null,
   "id": "90bef532",
   "metadata": {},
   "outputs": [],
   "source": [
    "# Random module is used to generate random numbers\n",
    "import random as rn\n",
    "rn.randint(1,200)"
   ]
  },
  {
   "cell_type": "code",
   "execution_count": null,
   "id": "fcecda93",
   "metadata": {},
   "outputs": [],
   "source": [
    "# Datetime\n",
    "import datetime as dt\n",
    "a = dt.datetime.now()\n",
    "a.date()"
   ]
  },
  {
   "cell_type": "code",
   "execution_count": null,
   "id": "0ad254fb",
   "metadata": {},
   "outputs": [],
   "source": [
    "help('modules')"
   ]
  },
  {
   "cell_type": "markdown",
   "id": "d5e0c2e7",
   "metadata": {},
   "source": [
    "#### Loops in Python\n",
    "- Need for loops : Bringing different information repeatedly in the database to show case data in a container for example in product catalog.\n",
    "- While loop\n",
    "- For Loop\n"
   ]
  },
  {
   "cell_type": "code",
   "execution_count": null,
   "id": "51c7ec64",
   "metadata": {},
   "outputs": [],
   "source": [
    " # While loop example --> Program to print the table\n",
    "number = int(input('Enter the number'))\n",
    "i = 1\n",
    "while i<11:\n",
    "    print(number,'*',i,'=',number*i)\n",
    "    i += 1"
   ]
  },
  {
   "cell_type": "code",
   "execution_count": null,
   "id": "ebb2c90e",
   "metadata": {},
   "outputs": [],
   "source": [
    "# https://pythontutor.com/"
   ]
  },
  {
   "cell_type": "code",
   "execution_count": null,
   "id": "57effca7",
   "metadata": {},
   "outputs": [],
   "source": [
    "# while loop with else\n",
    "x = 1\n",
    "while x <= 3:\n",
    "    print(x)\n",
    "    x += 1\n",
    "else:\n",
    "    print('Limit Crossed')"
   ]
  },
  {
   "cell_type": "code",
   "execution_count": 4,
   "id": "14adf1a6",
   "metadata": {},
   "outputs": [
    {
     "name": "stdout",
     "output_type": "stream",
     "text": [
      "Start Guessing30\n",
      "Guess Lower\n",
      "Start Guessing20\n",
      "Guess Higher\n",
      "Start Guessing25\n",
      "Guess Higher\n",
      "Start Guessing27\n",
      "Guess Lower\n",
      "Start Guessing26\n",
      "Horrah ! You guessed it right in 5 attempts\n"
     ]
    }
   ],
   "source": [
    "# Guessing Game\n",
    "\n",
    "# Generate a random integer between a given range : 1 to 100\n",
    "import random\n",
    "jackpot = random.randint(1,100)\n",
    "guess = int(input('Start Guessing'))\n",
    "i = 0\n",
    "while jackpot != guess:\n",
    "    i += 1\n",
    "    if guess > jackpot:\n",
    "        print('Guess Lower')\n",
    "    else:\n",
    "        print('Guess Higher')\n",
    "    guess = int(input('Start Guessing'))   \n",
    "else:\n",
    "    i += 1\n",
    "    print('Horrah ! You guessed it right in {} attempts'.format(i))"
   ]
  },
  {
   "cell_type": "code",
   "execution_count": 11,
   "id": "99927411",
   "metadata": {},
   "outputs": [
    {
     "name": "stdout",
     "output_type": "stream",
     "text": [
      "10\n",
      "8\n",
      "6\n",
      "4\n",
      "2\n"
     ]
    }
   ],
   "source": [
    "# For loop\n",
    "for i in range(10,0,-2):\n",
    "    print(i)"
   ]
  },
  {
   "cell_type": "code",
   "execution_count": 12,
   "id": "023f02e7",
   "metadata": {},
   "outputs": [
    {
     "name": "stdout",
     "output_type": "stream",
     "text": [
      "1\n",
      "3\n",
      "5\n",
      "7\n",
      "9\n"
     ]
    }
   ],
   "source": [
    "# For loop\n",
    "for i in range(1,11,2):\n",
    "    print(i)"
   ]
  },
  {
   "cell_type": "code",
   "execution_count": 13,
   "id": "24bb9990",
   "metadata": {},
   "outputs": [
    {
     "name": "stdout",
     "output_type": "stream",
     "text": [
      "D\n",
      "e\n",
      "l\n",
      "h\n",
      "i\n"
     ]
    }
   ],
   "source": [
    "# for with string\n",
    "for i in 'Delhi':\n",
    "    print(i)"
   ]
  },
  {
   "cell_type": "code",
   "execution_count": 14,
   "id": "5158cbba",
   "metadata": {},
   "outputs": [
    {
     "name": "stdout",
     "output_type": "stream",
     "text": [
      "1\n",
      "2\n",
      "3\n",
      "4\n",
      "5\n"
     ]
    }
   ],
   "source": [
    "# for with list\n",
    "for i in [1,2,3,4,5]:\n",
    "    print(i)"
   ]
  },
  {
   "cell_type": "code",
   "execution_count": 15,
   "id": "06620173",
   "metadata": {},
   "outputs": [
    {
     "name": "stdout",
     "output_type": "stream",
     "text": [
      "1\n",
      "2\n",
      "3\n",
      "4\n",
      "5\n"
     ]
    }
   ],
   "source": [
    "# for with tuple\n",
    "for i in (1,2,3,4,5):\n",
    "    print(i)"
   ]
  },
  {
   "cell_type": "code",
   "execution_count": 17,
   "id": "2e9e12e3",
   "metadata": {},
   "outputs": [
    {
     "name": "stdout",
     "output_type": "stream",
     "text": [
      "10 10000\n",
      "9 9090.90909090909\n",
      "8 8264.462809917353\n",
      "7 7513.148009015775\n",
      "6 6830.134553650703\n",
      "5 6209.213230591548\n",
      "4 5644.739300537771\n",
      "3 5131.5811823070635\n",
      "2 4665.07380209733\n",
      "1 4240.976183724845\n"
     ]
    }
   ],
   "source": [
    "# Growth of population in last 10 years (current population 10000 and rate 10%)\n",
    "current_pop = 10000\n",
    "for i in range(10,0,-1):\n",
    "    print(i,current_pop)\n",
    "    current_pop = current_pop/1.1"
   ]
  },
  {
   "cell_type": "code",
   "execution_count": null,
   "id": "2c00da2e",
   "metadata": {},
   "outputs": [],
   "source": []
  }
 ],
 "metadata": {
  "kernelspec": {
   "display_name": "Python 3 (ipykernel)",
   "language": "python",
   "name": "python3"
  },
  "language_info": {
   "codemirror_mode": {
    "name": "ipython",
    "version": 3
   },
   "file_extension": ".py",
   "mimetype": "text/x-python",
   "name": "python",
   "nbconvert_exporter": "python",
   "pygments_lexer": "ipython3",
   "version": "3.9.13"
  }
 },
 "nbformat": 4,
 "nbformat_minor": 5
}
