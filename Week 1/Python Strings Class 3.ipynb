{
 "cells": [
  {
   "cell_type": "code",
   "execution_count": 3,
   "id": "62f0f526",
   "metadata": {},
   "outputs": [
    {
     "name": "stdout",
     "output_type": "stream",
     "text": [
      "Enter the value of n5\n",
      "2.708333333333333\n"
     ]
    }
   ],
   "source": [
    "# Sequence Sum\n",
    "# 1/1! + 2/2! + 3/3! + .......\n",
    "result = 0\n",
    "fact = 1\n",
    "n = int(input('Enter the value of n'))\n",
    "for i in range(1,n+1):\n",
    "    fact *= i\n",
    "    result += i/fact\n",
    "print(result)"
   ]
  },
  {
   "cell_type": "code",
   "execution_count": 4,
   "id": "f15dad04",
   "metadata": {},
   "outputs": [
    {
     "name": "stdout",
     "output_type": "stream",
     "text": [
      "1 1\n",
      "1 2\n",
      "1 3\n",
      "1 4\n",
      "2 1\n",
      "2 2\n",
      "2 3\n",
      "2 4\n",
      "3 1\n",
      "3 2\n",
      "3 3\n",
      "3 4\n",
      "4 1\n",
      "4 2\n",
      "4 3\n",
      "4 4\n"
     ]
    }
   ],
   "source": [
    "#Nested loop\n",
    "# Example\n",
    "for i in range(1,5):\n",
    "    for j in range(1,5):\n",
    "        print(i,j)"
   ]
  },
  {
   "cell_type": "code",
   "execution_count": 3,
   "id": "f7ccac04",
   "metadata": {},
   "outputs": [
    {
     "name": "stdout",
     "output_type": "stream",
     "text": [
      "Enter the number of rows : 5\n",
      "* \n",
      "* * \n",
      "* * * \n",
      "* * * * \n",
      "* * * * * \n"
     ]
    }
   ],
   "source": [
    "#\n",
    "##\n",
    "###\n",
    "####\n",
    "#####\n",
    "\n",
    "# to print above pattern\n",
    "n = int(input('Enter the number of rows : '))\n",
    "for i in range(1,n+1):\n",
    "    for j in range(1,i+1):\n",
    "        print('*',end = ' ')\n",
    "    print()\n",
    "    \n"
   ]
  },
  {
   "cell_type": "code",
   "execution_count": 11,
   "id": "887b8140",
   "metadata": {},
   "outputs": [
    {
     "name": "stdout",
     "output_type": "stream",
     "text": [
      "Enter the number of rows : 5\n",
      "* * * * * \n",
      "* * * * \n",
      "* * * \n",
      "* * \n",
      "* \n"
     ]
    }
   ],
   "source": [
    "n = int(input('Enter the number of rows : '))\n",
    "for i in range(n,0,-1):\n",
    "    for j in range(i,0,-1):\n",
    "        print('*',end = ' ')\n",
    "    print()"
   ]
  },
  {
   "cell_type": "code",
   "execution_count": 14,
   "id": "f94731f1",
   "metadata": {},
   "outputs": [
    {
     "data": {
      "text/plain": [
       "'\\n1\\n121\\n12321\\n1234321\\n'"
      ]
     },
     "execution_count": 14,
     "metadata": {},
     "output_type": "execute_result"
    }
   ],
   "source": [
    "'''\n",
    "1\n",
    "121\n",
    "12321\n",
    "1234321\n",
    "'''"
   ]
  },
  {
   "cell_type": "code",
   "execution_count": 6,
   "id": "63fe7fa7",
   "metadata": {},
   "outputs": [
    {
     "name": "stdout",
     "output_type": "stream",
     "text": [
      "Enter the number of rows : 7\n",
      "1 \n",
      "1 2 1 \n",
      "1 2 3 2 1 \n",
      "1 2 3 4 3 2 1 \n",
      "1 2 3 4 5 4 3 2 1 \n",
      "1 2 3 4 5 6 5 4 3 2 1 \n",
      "1 2 3 4 5 6 7 6 5 4 3 2 1 \n"
     ]
    }
   ],
   "source": [
    "n = int(input('Enter the number of rows : '))\n",
    "for i in range(1,n+1):\n",
    "    for j in range(1,i+1):\n",
    "        print(j,end=' ')\n",
    "    for k in range(i-1,0,-1):\n",
    "        print(k,end = ' ')\n",
    "    print()"
   ]
  },
  {
   "cell_type": "code",
   "execution_count": 17,
   "id": "c9646e61",
   "metadata": {},
   "outputs": [
    {
     "data": {
      "text/plain": [
       "'\\n      1\\n    1 2 1\\n  1 2 3 2 1\\n1 2 3 4 3 2 1\\n\\n'"
      ]
     },
     "execution_count": 17,
     "metadata": {},
     "output_type": "execute_result"
    }
   ],
   "source": [
    "'''\n",
    "      1\n",
    "    1 2 1\n",
    "  1 2 3 2 1\n",
    "1 2 3 4 3 2 1\n",
    "\n",
    "'''\n",
    "'''\n",
    "      1\n",
    "    1 2 \n",
    "  1 2 3 \n",
    "1 2 3 4 \n",
    "'''\n",
    "\n",
    "'''\n",
    "   *\n",
    "  ** \n",
    " ***\n",
    "****\n",
    "\n",
    "'''"
   ]
  },
  {
   "cell_type": "code",
   "execution_count": 23,
   "id": "a81fbe81",
   "metadata": {},
   "outputs": [
    {
     "name": "stdout",
     "output_type": "stream",
     "text": [
      "Enter the number of rows : 5\n",
      "    *\n",
      "   **\n",
      "  ***\n",
      " ****\n",
      "*****\n"
     ]
    }
   ],
   "source": [
    "n = int(input('Enter the number of rows : '))\n",
    "for i in range(1,n+1):\n",
    "    for j in range(i,n):\n",
    "        print(' ',end='')\n",
    "    for k in range(0,i):\n",
    "        print('*',end = '')\n",
    "    print()"
   ]
  },
  {
   "cell_type": "code",
   "execution_count": 7,
   "id": "4e11ffe3",
   "metadata": {},
   "outputs": [
    {
     "name": "stdout",
     "output_type": "stream",
     "text": [
      "Enter the number of rows : 4\n",
      "      1 \n",
      "    1 2 1 \n",
      "  1 2 3 2 1 \n",
      "1 2 3 4 3 2 1 \n"
     ]
    }
   ],
   "source": [
    "n = int(input('Enter the number of rows : '))\n",
    "for i in range(1,n+1):\n",
    "    for j in range(i,n):\n",
    "        print(' ',end=' ')\n",
    "    for k in range(1,i+1):\n",
    "        print(k,end = ' ')\n",
    "    for l in range(i-1,0,-1):\n",
    "        print(l,end = ' ')\n",
    "    print()"
   ]
  },
  {
   "cell_type": "code",
   "execution_count": 32,
   "id": "4218f413",
   "metadata": {},
   "outputs": [
    {
     "name": "stdout",
     "output_type": "stream",
     "text": [
      "Enter the number of rows : 5\n",
      "    * \n",
      "   * * \n",
      "  * * * \n",
      " * * * * \n",
      "* * * * * \n"
     ]
    }
   ],
   "source": [
    "n = int(input('Enter the number of rows : '))\n",
    "for i in range(1,n+1):\n",
    "    for j in range(i,n):\n",
    "        print(' ',end='')\n",
    "    for k in range(0,i):\n",
    "        print('*',end = ' ')\n",
    "    print()"
   ]
  },
  {
   "cell_type": "code",
   "execution_count": 33,
   "id": "a188e29d",
   "metadata": {},
   "outputs": [
    {
     "name": "stdout",
     "output_type": "stream",
     "text": [
      "1\n",
      "2\n",
      "3\n",
      "4\n"
     ]
    }
   ],
   "source": [
    "# Loop Control Statement\n",
    "# Break : breaks the loop and does not execute\n",
    "# searching in database may need break condition\n",
    "for i in range(1,10):\n",
    "    if i == 5:\n",
    "        break\n",
    "    print(i)"
   ]
  },
  {
   "cell_type": "code",
   "execution_count": 3,
   "id": "5f6816eb",
   "metadata": {},
   "outputs": [
    {
     "name": "stdout",
     "output_type": "stream",
     "text": [
      "Enter the lower range10\n",
      "Enter the upper range20\n",
      "11\n",
      "13\n",
      "17\n",
      "19\n"
     ]
    }
   ],
   "source": [
    "# find the prime numbers in the range\n",
    "\n",
    "lower = int(input('Enter the lower range'))\n",
    "upper = int(input('Enter the upper range'))\n",
    "for i in range(lower,upper + 1):\n",
    "    for j in range(2,i):\n",
    "        if i%j == 0:\n",
    "            break\n",
    "    else:\n",
    "        print(i)"
   ]
  },
  {
   "cell_type": "code",
   "execution_count": 2,
   "id": "677f98f7",
   "metadata": {},
   "outputs": [
    {
     "name": "stdout",
     "output_type": "stream",
     "text": [
      "a\n"
     ]
    }
   ],
   "source": [
    "#Test\n",
    "\n",
    "for i in range(1,1):\n",
    "    print(i)\n",
    "else:\n",
    "    print('a')"
   ]
  },
  {
   "cell_type": "code",
   "execution_count": 4,
   "id": "7aa00f86",
   "metadata": {},
   "outputs": [
    {
     "name": "stdout",
     "output_type": "stream",
     "text": [
      "1\n",
      "2\n",
      "3\n",
      "4\n",
      "6\n",
      "7\n",
      "8\n",
      "9\n"
     ]
    }
   ],
   "source": [
    "# Continue : Goes to next iteration in the loop\n",
    "for i in range(1,10):\n",
    "    if i == 5:\n",
    "        continue\n",
    "    print(i)"
   ]
  },
  {
   "cell_type": "code",
   "execution_count": 6,
   "id": "bf45a1e7",
   "metadata": {},
   "outputs": [],
   "source": [
    "# The pass statement is used as a placeholder for future code. \n",
    "for i in range(1,10):\n",
    "    pass"
   ]
  },
  {
   "cell_type": "markdown",
   "id": "c5364271",
   "metadata": {},
   "source": [
    "##### Strings are sequence of charecters \n",
    "###### In python specifically , strings are a sequence of Unicode charecters\n",
    "- Creating Strings\n",
    "- Accessing Strings\n",
    "- Adding Chars to Strings\n",
    "- Editing Strings\n",
    "- Deleting Strings\n",
    "- Operations on Strings\n",
    "- String Functions\n"
   ]
  },
  {
   "cell_type": "code",
   "execution_count": 11,
   "id": "a80c84c0",
   "metadata": {},
   "outputs": [
    {
     "name": "stdout",
     "output_type": "stream",
     "text": [
      "Hello\n",
      "Hello\n",
      "Hello\n",
      "<class 'str'>\n"
     ]
    }
   ],
   "source": [
    "# Creating Strings\n",
    "s1 = 'Hello'\n",
    "print(s1)\n",
    "s2 = \"Hello\"\n",
    "print(s2)\n",
    "# For multiline string\n",
    "s3 = '''Hello'''\n",
    "print(s3)\n",
    "s4 = str(4)\n",
    "print(type(s4))"
   ]
  },
  {
   "cell_type": "code",
   "execution_count": 9,
   "id": "7232f321",
   "metadata": {},
   "outputs": [
    {
     "data": {
      "text/plain": [
       "\"It's raining outside\""
      ]
     },
     "execution_count": 9,
     "metadata": {},
     "output_type": "execute_result"
    }
   ],
   "source": [
    "# Using double and single quote together \n",
    "\"It's raining outside\""
   ]
  },
  {
   "cell_type": "code",
   "execution_count": 15,
   "id": "779623df",
   "metadata": {},
   "outputs": [
    {
     "name": "stdout",
     "output_type": "stream",
     "text": [
      "H\n",
      "Hello \n"
     ]
    }
   ],
   "source": [
    "# Accessing Substring from string\n",
    "# Positive Indexing\n",
    "s = 'Hello World'\n",
    "print(s[0])\n",
    "print(s[0],s[1],s[2],s[3],s[4],s[5],sep = '')\n"
   ]
  },
  {
   "cell_type": "code",
   "execution_count": 9,
   "id": "c27922e2",
   "metadata": {},
   "outputs": [
    {
     "name": "stdout",
     "output_type": "stream",
     "text": [
      "d\n",
      "dlrow olleh\n"
     ]
    }
   ],
   "source": [
    "# Negative Indexing\n",
    "s = 'hello world'\n",
    "print(s[-1])\n",
    "print(s[-1::-1])"
   ]
  },
  {
   "cell_type": "code",
   "execution_count": 11,
   "id": "51385ad4",
   "metadata": {},
   "outputs": [
    {
     "name": "stdout",
     "output_type": "stream",
     "text": [
      "Hello\n",
      "HloWrd\n",
      "HlWl\n"
     ]
    }
   ],
   "source": [
    "# Slicing\n",
    "s = 'Hello World'\n",
    "print(s[0:5])\n",
    "# With step size\n",
    "print(s[0::2])\n",
    "print(s[::3])"
   ]
  },
  {
   "cell_type": "code",
   "execution_count": 13,
   "id": "b4ada94f",
   "metadata": {},
   "outputs": [
    {
     "name": "stdout",
     "output_type": "stream",
     "text": [
      "dlroW olleH\n",
      "dlroW olleH\n",
      "dlroW\n"
     ]
    }
   ],
   "source": [
    "s = 'Hello World'\n",
    "print(s[len(s)::-1])\n",
    "print(s[::-1])\n",
    "print(s[-1:-6:-1])"
   ]
  },
  {
   "cell_type": "code",
   "execution_count": 16,
   "id": "673b6f8d",
   "metadata": {},
   "outputs": [],
   "source": [
    "#Adding Chars to Strings\n",
    "#Editing and deleting in Strings\n",
    "s = 'hello world'\n",
    "#s[0] = 'H'\n",
    "s = 'Hello world'\n",
    "# Strings are immutable(str object does not support item assignment)\n",
    "# but string variable assigned to a new string"
   ]
  },
  {
   "cell_type": "code",
   "execution_count": 19,
   "id": "296bda83",
   "metadata": {},
   "outputs": [],
   "source": [
    "s = 'hello world'\n",
    "# del s[-1:-5:-2]\n",
    "# Cannot delete a portion of string as python strings are immutable\n",
    "del s\n",
    "# print(s)\n",
    "# NameError: name 's' is not defined (s has been deleted)\n"
   ]
  },
  {
   "cell_type": "code",
   "execution_count": null,
   "id": "8e8ad0dc",
   "metadata": {},
   "outputs": [],
   "source": [
    "# Operations on Strings\n",
    "## Arithmatic Operations\n",
    "## Relational Operations\n",
    "## Logical Operations\n",
    "## Loops on Strings\n",
    "## Membership Operations"
   ]
  },
  {
   "cell_type": "code",
   "execution_count": 25,
   "id": "de4cf23a",
   "metadata": {},
   "outputs": [
    {
     "name": "stdout",
     "output_type": "stream",
     "text": [
      "Hello World\n",
      "Hello ! Hello ! Hello !  World\n"
     ]
    }
   ],
   "source": [
    "## Arithmatic Operations\n",
    "print('Hello'+' '+'World')\n",
    "print('Hello ! '*3 + ' ' + 'World')"
   ]
  },
  {
   "cell_type": "code",
   "execution_count": 28,
   "id": "6b4ea17a",
   "metadata": {},
   "outputs": [
    {
     "name": "stdout",
     "output_type": "stream",
     "text": [
      "False\n",
      "True\n",
      "False\n",
      "True\n"
     ]
    }
   ],
   "source": [
    "## Relational Operations\n",
    "print('Delhi' == 'Mumbai')\n",
    "print('Delhi' != 'Mumbai')\n",
    "print('Mumbai' > 'Pune') # Compared lexiographically (based on ascii value)\n",
    "print('mumbai' > 'Mumbai') # small letters have higher ascii value than capital letters"
   ]
  },
  {
   "cell_type": "code",
   "execution_count": 32,
   "id": "9137239b",
   "metadata": {},
   "outputs": [
    {
     "name": "stdout",
     "output_type": "stream",
     "text": [
      "World\n",
      "Hello\n",
      "\n",
      "World\n"
     ]
    }
   ],
   "source": [
    "## Logical Operators\n",
    "# Empty string is false and non empty string is True\n",
    "print('Hello' and 'World') # evaluates complete expression\n",
    "print('Hello' or 'World') # evaluates first value in expression\n",
    "print('' and 'World')\n",
    "print('' or 'World')\n"
   ]
  },
  {
   "cell_type": "code",
   "execution_count": 33,
   "id": "33e0ed9d",
   "metadata": {},
   "outputs": [
    {
     "name": "stdout",
     "output_type": "stream",
     "text": [
      "H\n",
      "e\n",
      "l\n",
      "l\n",
      "o\n",
      "W\n",
      "o\n",
      "r\n",
      "l\n",
      "d\n"
     ]
    }
   ],
   "source": [
    "# Loops on String\n",
    "# String is iterable\n",
    "for i in 'HelloWorld':\n",
    "    print(i)"
   ]
  },
  {
   "cell_type": "code",
   "execution_count": 34,
   "id": "48c71759",
   "metadata": {},
   "outputs": [
    {
     "name": "stdout",
     "output_type": "stream",
     "text": [
      "pune\n",
      "pune\n",
      "pune\n",
      "pune\n",
      "pune\n"
     ]
    }
   ],
   "source": [
    "for i in 'delhi':\n",
    "    print('pune')"
   ]
  },
  {
   "cell_type": "code",
   "execution_count": 35,
   "id": "f5b076e8",
   "metadata": {},
   "outputs": [
    {
     "name": "stdout",
     "output_type": "stream",
     "text": [
      "True\n",
      "True\n"
     ]
    }
   ],
   "source": [
    "# membership operators\n",
    "print('d' in 'delhi')\n",
    "print('D' not in 'delhi')"
   ]
  },
  {
   "cell_type": "code",
   "execution_count": 36,
   "id": "ae568dc7",
   "metadata": {},
   "outputs": [],
   "source": [
    "# Common Functions works on all data types\n",
    "## Len\n",
    "## Max\n",
    "## Min\n",
    "## Sorted"
   ]
  },
  {
   "cell_type": "code",
   "execution_count": 37,
   "id": "34185e99",
   "metadata": {},
   "outputs": [
    {
     "data": {
      "text/plain": [
       "11"
      ]
     },
     "execution_count": 37,
     "metadata": {},
     "output_type": "execute_result"
    }
   ],
   "source": [
    "len('hello world')"
   ]
  },
  {
   "cell_type": "code",
   "execution_count": 38,
   "id": "a25acbe9",
   "metadata": {},
   "outputs": [
    {
     "data": {
      "text/plain": [
       "'w'"
      ]
     },
     "execution_count": 38,
     "metadata": {},
     "output_type": "execute_result"
    }
   ],
   "source": [
    "max('hello world')"
   ]
  },
  {
   "cell_type": "code",
   "execution_count": 39,
   "id": "c9d6e57c",
   "metadata": {},
   "outputs": [
    {
     "data": {
      "text/plain": [
       "' '"
      ]
     },
     "execution_count": 39,
     "metadata": {},
     "output_type": "execute_result"
    }
   ],
   "source": [
    "min('hello world')"
   ]
  },
  {
   "cell_type": "code",
   "execution_count": 40,
   "id": "6b2fefed",
   "metadata": {},
   "outputs": [
    {
     "data": {
      "text/plain": [
       "[' ', 'd', 'e', 'h', 'l', 'l', 'l', 'o', 'o', 'r', 'w']"
      ]
     },
     "execution_count": 40,
     "metadata": {},
     "output_type": "execute_result"
    }
   ],
   "source": [
    "sorted('hello world')"
   ]
  },
  {
   "cell_type": "code",
   "execution_count": 41,
   "id": "4b9ca6ac",
   "metadata": {},
   "outputs": [
    {
     "data": {
      "text/plain": [
       "['w', 'r', 'o', 'o', 'l', 'l', 'l', 'h', 'e', 'd', ' ']"
      ]
     },
     "execution_count": 41,
     "metadata": {},
     "output_type": "execute_result"
    }
   ],
   "source": [
    "sorted('hello world',reverse = True)"
   ]
  },
  {
   "cell_type": "code",
   "execution_count": 46,
   "id": "e4c71857",
   "metadata": {},
   "outputs": [
    {
     "name": "stdout",
     "output_type": "stream",
     "text": [
      "Capitalize\n",
      "Hello world\n",
      "hello world\n",
      "\n",
      "Title\n",
      "Hello World\n",
      "hello world\n",
      "\n",
      "Upper\n",
      "HELLO WORLD\n",
      "hello world\n",
      "\n",
      "Lower\n",
      "hello world\n",
      "hello world\n",
      "\n",
      "Swapcase\n",
      "HELLO WORLD\n",
      "hello world\n",
      "\n"
     ]
    }
   ],
   "source": [
    "# String Functions\n",
    "\n",
    "# Capitalize\n",
    "s = 'hello world'\n",
    "print('Capitalize')\n",
    "print(s.capitalize())\n",
    "print(s) # function does not change original string\n",
    "print()\n",
    "# Title\n",
    "print('Title')\n",
    "print(s.title())\n",
    "print(s)\n",
    "print()\n",
    "# Upper\n",
    "print('Upper')\n",
    "print(s.upper())\n",
    "print(s)\n",
    "print()\n",
    "#Lower\n",
    "print('Lower')\n",
    "print(s.lower())\n",
    "print(s)\n",
    "print()\n",
    "#Swapcase\n",
    "print('Swapcase')\n",
    "print(s.swapcase())\n",
    "print(s)\n",
    "print()"
   ]
  },
  {
   "cell_type": "code",
   "execution_count": 47,
   "id": "d0f8848e",
   "metadata": {},
   "outputs": [
    {
     "data": {
      "text/plain": [
       "3"
      ]
     },
     "execution_count": 47,
     "metadata": {},
     "output_type": "execute_result"
    }
   ],
   "source": [
    "# Count : Frequency of occurance of a charecter or sub string\n",
    "'My name is ipsita panda'.count('i')"
   ]
  },
  {
   "cell_type": "code",
   "execution_count": 49,
   "id": "6fba34a4",
   "metadata": {},
   "outputs": [
    {
     "name": "stdout",
     "output_type": "stream",
     "text": [
      "8\n",
      "-1\n"
     ]
    }
   ],
   "source": [
    "# Find : Index position of the sub string\n",
    "print('My name is ipsita panda'.find('is'))\n",
    "print('My name is ipsita panda'.find('x'))"
   ]
  },
  {
   "cell_type": "code",
   "execution_count": 51,
   "id": "1e801aca",
   "metadata": {},
   "outputs": [
    {
     "name": "stdout",
     "output_type": "stream",
     "text": [
      "8\n"
     ]
    }
   ],
   "source": [
    "# Index : Index position of the sub string\n",
    "print('My name is ipsita panda'.index('is'))\n",
    "# print('My name is ipsita panda'.index('x'))\n",
    "# Throws error if cannot find the substring in the string"
   ]
  },
  {
   "cell_type": "code",
   "execution_count": 52,
   "id": "5486a008",
   "metadata": {},
   "outputs": [
    {
     "name": "stdout",
     "output_type": "stream",
     "text": [
      "True\n",
      "False\n"
     ]
    }
   ],
   "source": [
    "# Endswith/Startswith\n",
    "print('My name is ipsita panda'.endswith('panda'))\n",
    "print('My name is ipsita panda'.startswith('my'))"
   ]
  },
  {
   "cell_type": "code",
   "execution_count": 56,
   "id": "5500c74f",
   "metadata": {},
   "outputs": [
    {
     "name": "stdout",
     "output_type": "stream",
     "text": [
      "Hi my name is Ipsita and I am a female\n",
      "Hi my name is Ipsita and I am a female\n"
     ]
    }
   ],
   "source": [
    "# format\n",
    "name = 'Ipsita'\n",
    "gender = 'female'\n",
    "print('Hi my name is {} and I am a {}'.format(name,gender))\n",
    "print('Hi my name is {1} and I am a {0}'.format(gender,name))"
   ]
  },
  {
   "cell_type": "code",
   "execution_count": 57,
   "id": "9fddac2a",
   "metadata": {},
   "outputs": [],
   "source": [
    "# isalnum/isapha/isdigit/isidentifier"
   ]
  },
  {
   "cell_type": "code",
   "execution_count": 58,
   "id": "ded0a04a",
   "metadata": {},
   "outputs": [
    {
     "data": {
      "text/plain": [
       "True"
      ]
     },
     "execution_count": 58,
     "metadata": {},
     "output_type": "execute_result"
    }
   ],
   "source": [
    "'ipsita1234'.isalnum()"
   ]
  },
  {
   "cell_type": "code",
   "execution_count": 59,
   "id": "8cd247f6",
   "metadata": {},
   "outputs": [
    {
     "data": {
      "text/plain": [
       "False"
      ]
     },
     "execution_count": 59,
     "metadata": {},
     "output_type": "execute_result"
    }
   ],
   "source": [
    "'ipsita1234%'.isalnum()"
   ]
  },
  {
   "cell_type": "code",
   "execution_count": 60,
   "id": "1cf3929b",
   "metadata": {},
   "outputs": [
    {
     "data": {
      "text/plain": [
       "True"
      ]
     },
     "execution_count": 60,
     "metadata": {},
     "output_type": "execute_result"
    }
   ],
   "source": [
    "'ipsita'.isalpha()"
   ]
  },
  {
   "cell_type": "code",
   "execution_count": 61,
   "id": "4154a734",
   "metadata": {},
   "outputs": [
    {
     "data": {
      "text/plain": [
       "False"
      ]
     },
     "execution_count": 61,
     "metadata": {},
     "output_type": "execute_result"
    }
   ],
   "source": [
    "'ipsita1234'.isalpha()"
   ]
  },
  {
   "cell_type": "code",
   "execution_count": 62,
   "id": "70bc423e",
   "metadata": {},
   "outputs": [
    {
     "data": {
      "text/plain": [
       "True"
      ]
     },
     "execution_count": 62,
     "metadata": {},
     "output_type": "execute_result"
    }
   ],
   "source": [
    "'1234'.isdigit()"
   ]
  },
  {
   "cell_type": "code",
   "execution_count": 64,
   "id": "4281d88d",
   "metadata": {},
   "outputs": [
    {
     "name": "stdout",
     "output_type": "stream",
     "text": [
      "True\n",
      "False\n"
     ]
    }
   ],
   "source": [
    "print('first_name'.isidentifier())\n",
    "print('first-name'.isidentifier())"
   ]
  },
  {
   "cell_type": "code",
   "execution_count": 65,
   "id": "32c74741",
   "metadata": {},
   "outputs": [
    {
     "data": {
      "text/plain": [
       "['Hi', 'my', 'name', 'is', 'Ipsita', 'Panda']"
      ]
     },
     "execution_count": 65,
     "metadata": {},
     "output_type": "execute_result"
    }
   ],
   "source": [
    "# Splits string to list\n",
    "'Hi my name is Ipsita Panda'.split()"
   ]
  },
  {
   "cell_type": "code",
   "execution_count": 66,
   "id": "b4acccc1",
   "metadata": {},
   "outputs": [
    {
     "data": {
      "text/plain": [
       "['H', ' my name ', 's Ips', 'ta Panda']"
      ]
     },
     "execution_count": 66,
     "metadata": {},
     "output_type": "execute_result"
    }
   ],
   "source": [
    "'Hi my name is Ipsita Panda'.split('i')"
   ]
  },
  {
   "cell_type": "code",
   "execution_count": 68,
   "id": "dfcee578",
   "metadata": {},
   "outputs": [
    {
     "data": {
      "text/plain": [
       "'Hi my name is Ipsita Panda'"
      ]
     },
     "execution_count": 68,
     "metadata": {},
     "output_type": "execute_result"
    }
   ],
   "source": [
    "#Joins list to form a string\n",
    "' '.join(['Hi','my','name','is','Ipsita','Panda'])"
   ]
  },
  {
   "cell_type": "code",
   "execution_count": 70,
   "id": "b1125e8a",
   "metadata": {},
   "outputs": [
    {
     "name": "stdout",
     "output_type": "stream",
     "text": [
      "Hi my name is Ipsita Panda\n",
      "Hi my name is Ipsita\n",
      "Hi my name is Ipsita\n"
     ]
    }
   ],
   "source": [
    "# Replace : Original string is not changed\n",
    "s = 'Hi my name is Ipsita'\n",
    "print(s.replace('Ipsita','Ipsita Panda'))\n",
    "print(s)\n",
    "print(s.replace('ipsita','ipsita panda')) # if sub string not present original string is printed"
   ]
  },
  {
   "cell_type": "code",
   "execution_count": 74,
   "id": "71756e71",
   "metadata": {},
   "outputs": [
    {
     "name": "stdout",
     "output_type": "stream",
     "text": [
      "Enter a string and we will tell you its length : Ipsita Panda \n",
      "The length of your string is  11\n"
     ]
    }
   ],
   "source": [
    "# Find the length of a given string without using the len function\n",
    "# Excluding space\n",
    "s = input('Enter a string and we will tell you its length : ')\n",
    "count = 0\n",
    "for i in s:\n",
    "    if i == ' ':\n",
    "        continue\n",
    "    count += 1\n",
    "print('The length of your string is ',count)"
   ]
  },
  {
   "cell_type": "code",
   "execution_count": 78,
   "id": "13ffa033",
   "metadata": {},
   "outputs": [
    {
     "name": "stdout",
     "output_type": "stream",
     "text": [
      "12\n",
      "Enter a string and we will tell you its length : Ipsita Panda\n",
      "The length of your string is  12\n"
     ]
    }
   ],
   "source": [
    "# Including Space\n",
    "print(len('Ipsita Panda'))\n",
    "s = input('Enter a string and we will tell you its length : ')\n",
    "count = 0\n",
    "for i in s:\n",
    "    count += 1\n",
    "print('The length of your string is ',count)"
   ]
  },
  {
   "cell_type": "code",
   "execution_count": 79,
   "id": "557a4b7f",
   "metadata": {},
   "outputs": [
    {
     "name": "stdout",
     "output_type": "stream",
     "text": [
      "Enter your email idipsitabitece@gmail.com\n",
      "The user name is  ipsitabitece\n"
     ]
    }
   ],
   "source": [
    "# Extract user name from a given email.\n",
    "# Eg if the email is ipsitabitece@gmail.com\n",
    "# user name is ipsitabitece\n",
    "\n",
    "s = input('Enter your email id')\n",
    "\n",
    "lst = s.split('@')\n",
    "print('The user name is ',lst[0])"
   ]
  },
  {
   "cell_type": "code",
   "execution_count": 80,
   "id": "c1cf92dd",
   "metadata": {},
   "outputs": [
    {
     "name": "stdout",
     "output_type": "stream",
     "text": [
      "Enter your email idipsitabitece@gmail.com\n",
      "ipsitabitece\n"
     ]
    }
   ],
   "source": [
    "# Extract user name from a given email.\n",
    "# Eg if the email is ipsitabitece@gmail.com\n",
    "# user name is ipsitabitece\n",
    "\n",
    "\n",
    "s = input('Enter your email id')\n",
    "pos = s.index('@')\n",
    "print(s[:pos])"
   ]
  },
  {
   "cell_type": "code",
   "execution_count": 81,
   "id": "2e3745ef",
   "metadata": {},
   "outputs": [
    {
     "name": "stdout",
     "output_type": "stream",
     "text": [
      "Enter the stringHow are you?\n",
      "What would you like to searcho\n",
      "frequency is  2\n"
     ]
    }
   ],
   "source": [
    "# Count the frequency of a particular charecter in a provided string\n",
    "# Eg 'Hello how are you' is the string , the frequency of h in this string is 2\n",
    "\n",
    "s = input('Enter the string')\n",
    "term = input('What would you like to search')\n",
    "count = 0\n",
    "for i in s:\n",
    "    if i == term:\n",
    "        count += 1\n",
    "print('frequency is ',count)"
   ]
  },
  {
   "cell_type": "code",
   "execution_count": 83,
   "id": "211ecb62",
   "metadata": {},
   "outputs": [
    {
     "name": "stdout",
     "output_type": "stream",
     "text": [
      "Enter the stringHow are you?\n",
      "What would you like to searcho\n",
      "frequency 2\n"
     ]
    }
   ],
   "source": [
    "# Count the frequency of a particular charecter in a provided string\n",
    "# Eg 'Hello how are you' is the string , the frequency of h in this string is 2\n",
    "s = input('Enter the string')\n",
    "term = input('What would you like to search')\n",
    "\n",
    "print('frequency',s.count(term))"
   ]
  },
  {
   "cell_type": "code",
   "execution_count": 84,
   "id": "8fdd3426",
   "metadata": {},
   "outputs": [
    {
     "name": "stdout",
     "output_type": "stream",
     "text": [
      "Enter the stringHi I am Ipsita Panda,how are you doing ?\n",
      "Enter the charecter you want to removeo\n",
      "Hi I am Ipsita Panda,h w are y u d ing ?\n"
     ]
    }
   ],
   "source": [
    "# Write a program which can remove a particular charecter from string\n",
    "\n",
    "s = input('Enter the string')\n",
    "term = input('Enter the charecter you want to remove')\n",
    "list_no_term = s.split(term)\n",
    "print(' '.join(list_no_term))"
   ]
  },
  {
   "cell_type": "code",
   "execution_count": 88,
   "id": "c1d92f9d",
   "metadata": {},
   "outputs": [
    {
     "name": "stdout",
     "output_type": "stream",
     "text": [
      "Enter the stringipsita panda\n",
      "Enter the charecter you want to removei\n",
      " psta panda\n"
     ]
    }
   ],
   "source": [
    "s = input('Enter the string')\n",
    "term = input('Enter the charecter you want to remove')\n",
    "result = ' '\n",
    "for i in s:\n",
    "    if i != term:\n",
    "        result = result + i\n",
    "print(result)"
   ]
  },
  {
   "cell_type": "code",
   "execution_count": 90,
   "id": "a22d272a",
   "metadata": {},
   "outputs": [
    {
     "name": "stdout",
     "output_type": "stream",
     "text": [
      "Enter ther stringracecar\n",
      "Palindrome\n"
     ]
    }
   ],
   "source": [
    "# Write a program that can check whether a given string is palindrome or not\n",
    "# abba\n",
    "# malayalam\n",
    "\n",
    "s = input('Enter ther string')\n",
    "flag = True\n",
    "for i in range(0,len(s)//2):\n",
    "    if s[i] != s[len(s)-i-1]:\n",
    "        flag = False\n",
    "        print('Not a palindrome')\n",
    "        break\n",
    "if flag:\n",
    "    print('Palindrome')"
   ]
  },
  {
   "cell_type": "code",
   "execution_count": 95,
   "id": "d9f23898",
   "metadata": {},
   "outputs": [
    {
     "name": "stdout",
     "output_type": "stream",
     "text": [
      "Enter the stringnewen\n",
      "Palindrome\n"
     ]
    }
   ],
   "source": [
    "s = input('Enter the string')\n",
    "for i in range(0,len(s)//2):\n",
    "    if s[i] != s[len(s)-i-1]:\n",
    "        print('Not a palindrome')\n",
    "        break\n",
    "else:\n",
    "    print('Palindrome')\n",
    "        "
   ]
  },
  {
   "cell_type": "code",
   "execution_count": 6,
   "id": "c21f9109",
   "metadata": {},
   "outputs": [
    {
     "name": "stdout",
     "output_type": "stream",
     "text": [
      "Enter the stringipsita panda\n",
      "['ipsita', 'panda']\n"
     ]
    }
   ],
   "source": [
    "# Write a program to count the number of words in a string without split()\n",
    "count = 0\n",
    "lst = []\n",
    "word = ''\n",
    "s = input('Enter the string')\n",
    "for i in s:\n",
    "    if i != ' ':\n",
    "        word += i\n",
    "    else:\n",
    "        lst.append(word)\n",
    "        word = ''\n",
    "lst.append(word)\n",
    "print(lst)"
   ]
  },
  {
   "cell_type": "code",
   "execution_count": 9,
   "id": "fa350574",
   "metadata": {},
   "outputs": [
    {
     "name": "stdout",
     "output_type": "stream",
     "text": [
      "enter the stringhow are you ipsita\n",
      "How Are You Ipsita\n"
     ]
    }
   ],
   "source": [
    "# Write a python program to convert a string to title case without using the title()\n",
    "\n",
    "s = input('enter the string')\n",
    "l = []\n",
    "for i in s.split():\n",
    "    l.append(i[0].upper() + i[1:].lower())\n",
    "print(' '.join(l))"
   ]
  },
  {
   "cell_type": "code",
   "execution_count": 13,
   "id": "32bb1ec8",
   "metadata": {},
   "outputs": [
    {
     "name": "stdout",
     "output_type": "stream",
     "text": [
      "Enter the number567\n",
      "567\n"
     ]
    }
   ],
   "source": [
    "# Write a program that can convert an integer to string\n",
    "# str(489)\n",
    "\n",
    "num = int(input('Enter the number'))\n",
    "\n",
    "digits = '0123456789'\n",
    "result = ''\n",
    "while num != 0:\n",
    "    result = digits[num%10] + result\n",
    "    num = num//10\n",
    "    \n",
    "print(result)"
   ]
  },
  {
   "cell_type": "code",
   "execution_count": null,
   "id": "04e09cc7",
   "metadata": {},
   "outputs": [],
   "source": []
  }
 ],
 "metadata": {
  "kernelspec": {
   "display_name": "Python 3 (ipykernel)",
   "language": "python",
   "name": "python3"
  },
  "language_info": {
   "codemirror_mode": {
    "name": "ipython",
    "version": 3
   },
   "file_extension": ".py",
   "mimetype": "text/x-python",
   "name": "python",
   "nbconvert_exporter": "python",
   "pygments_lexer": "ipython3",
   "version": "3.9.13"
  }
 },
 "nbformat": 4,
 "nbformat_minor": 5
}
