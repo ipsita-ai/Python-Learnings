{
 "cells": [
  {
   "cell_type": "markdown",
   "id": "6cf88e89",
   "metadata": {},
   "source": [
    "# Why Python ?\n",
    "- Design Philosophy : Easiest language to learn , Code is always well indented , hence easily readable.\n",
    "\n",
    "- Batteries Included : Additional functionalities given to programmer , for example : Built in data types, built in functions.\n",
    "\n",
    "- General Purpose Programming : Supports a lot of programming paradigms and python can be used to multiple things : web programming,desktop application,data science\n",
    "\n",
    "- Libraries/Community : Very strong library available which enables programmer to not write code from scratch.\n",
    "#### Why Python is famous for data science ? \n",
    "- Easy to learn\n",
    "- Proximity with Maths\n",
    "- Community"
   ]
  },
  {
   "cell_type": "code",
   "execution_count": 10,
   "id": "e853727e",
   "metadata": {},
   "outputs": [
    {
     "name": "stdout",
     "output_type": "stream",
     "text": [
      "Hello World\n",
      "Amitabh Bachan\n",
      "'Hello World'\n",
      "\"Hello World\"\n",
      "7\n",
      "1.5\n",
      "True\n",
      "Hello \n",
      "World\n"
     ]
    }
   ],
   "source": [
    "# Python Output : Python is a case sensitive language\n",
    "print('Hello World')\n",
    "print(\"Amitabh Bachan\")\n",
    "print(\"'Hello World'\")\n",
    "print('\"Hello World\"')\n",
    "# Printing Non-string data types\n",
    "print(7)\n",
    "print(1.5)\n",
    "print(True)\n",
    "# Multi-Line\n",
    "print(\"\"\"Hello \n",
    "World\"\"\")"
   ]
  },
  {
   "cell_type": "code",
   "execution_count": 11,
   "id": "e4a3cc26",
   "metadata": {},
   "outputs": [
    {
     "name": "stdout",
     "output_type": "stream",
     "text": [
      "Hello 1 4.5 True\n"
     ]
    }
   ],
   "source": [
    "# Printing multiple things where sep = ' '\n",
    "print('Hello',1,4.5,True)"
   ]
  },
  {
   "cell_type": "code",
   "execution_count": 13,
   "id": "2274b008",
   "metadata": {},
   "outputs": [
    {
     "name": "stdout",
     "output_type": "stream",
     "text": [
      "Hello/1/4.5/True\n"
     ]
    }
   ],
   "source": [
    "# Printing multiple things where sep = '/'\n",
    "print('Hello',1,4.5,True,sep = '/')"
   ]
  },
  {
   "cell_type": "code",
   "execution_count": 14,
   "id": "615819fe",
   "metadata": {},
   "outputs": [
    {
     "name": "stdout",
     "output_type": "stream",
     "text": [
      "Hello\n",
      "World\n"
     ]
    }
   ],
   "source": [
    "# Printing multiple things where end = '\\n'\n",
    "print('Hello')\n",
    "print('World')"
   ]
  },
  {
   "cell_type": "code",
   "execution_count": 18,
   "id": "d7e60cba",
   "metadata": {},
   "outputs": [
    {
     "name": "stdout",
     "output_type": "stream",
     "text": [
      "Hello World "
     ]
    }
   ],
   "source": [
    "# Printing multiple things where end = ' '\n",
    "print('Hello',end = ' ')\n",
    "print('World',end = ' ')"
   ]
  },
  {
   "cell_type": "code",
   "execution_count": 21,
   "id": "b4c36f96",
   "metadata": {},
   "outputs": [],
   "source": [
    "# Data Types "
   ]
  },
  {
   "cell_type": "code",
   "execution_count": 25,
   "id": "c1eeab06",
   "metadata": {},
   "outputs": [
    {
     "name": "stdout",
     "output_type": "stream",
     "text": [
      "8\n",
      "1e+308\n"
     ]
    }
   ],
   "source": [
    "# Integer\n",
    "print(8)\n",
    "# Python can handle very large integer upto : 1*10^308\n",
    "print(1e308) "
   ]
  },
  {
   "cell_type": "code",
   "execution_count": 27,
   "id": "7d2a079d",
   "metadata": {},
   "outputs": [
    {
     "name": "stdout",
     "output_type": "stream",
     "text": [
      "8.55\n",
      "1.7e+308\n"
     ]
    }
   ],
   "source": [
    "# Float\n",
    "print(8.55)\n",
    "# Python can handle very large decimal upto : 1.7*10^308\n",
    "print(1.7e308)"
   ]
  },
  {
   "cell_type": "code",
   "execution_count": 28,
   "id": "b4fc30dc",
   "metadata": {},
   "outputs": [
    {
     "name": "stdout",
     "output_type": "stream",
     "text": [
      "True\n",
      "False\n"
     ]
    }
   ],
   "source": [
    "# Boolean\n",
    "print(True)\n",
    "print(False)"
   ]
  },
  {
   "cell_type": "code",
   "execution_count": 33,
   "id": "8244c4b8",
   "metadata": {},
   "outputs": [
    {
     "name": "stdout",
     "output_type": "stream",
     "text": [
      "Hello World\n",
      "I am new to python\n"
     ]
    }
   ],
   "source": [
    "# Strings\n",
    "print('Hello World\\nI am new to python')"
   ]
  },
  {
   "cell_type": "code",
   "execution_count": 34,
   "id": "d0a19cc6",
   "metadata": {},
   "outputs": [
    {
     "name": "stdout",
     "output_type": "stream",
     "text": [
      "(5+6j)\n"
     ]
    }
   ],
   "source": [
    "#Complex\n",
    "print(5+6j)"
   ]
  },
  {
   "cell_type": "code",
   "execution_count": 35,
   "id": "831de33f",
   "metadata": {},
   "outputs": [
    {
     "name": "stdout",
     "output_type": "stream",
     "text": [
      "[1, 2, 3, 4, 5, 6]\n"
     ]
    }
   ],
   "source": [
    "#List -> C -> Array\n",
    "print([1,2,3,4,5,6])"
   ]
  },
  {
   "cell_type": "code",
   "execution_count": 36,
   "id": "a6994984",
   "metadata": {},
   "outputs": [
    {
     "name": "stdout",
     "output_type": "stream",
     "text": [
      "(1, 2, 3, 4, 5)\n"
     ]
    }
   ],
   "source": [
    "# Tuple\n",
    "print((1,2,3,4,5))"
   ]
  },
  {
   "cell_type": "code",
   "execution_count": 37,
   "id": "4218bfe6",
   "metadata": {},
   "outputs": [
    {
     "name": "stdout",
     "output_type": "stream",
     "text": [
      "{1, 2, 3, 4, 5}\n"
     ]
    }
   ],
   "source": [
    "# Sets\n",
    "print({1,2,3,4,5})"
   ]
  },
  {
   "cell_type": "code",
   "execution_count": 39,
   "id": "18bf49ca",
   "metadata": {},
   "outputs": [
    {
     "name": "stdout",
     "output_type": "stream",
     "text": [
      "{'name': 'Ipsita', 'gender': 'Female', 'age': 33, 'weight': 69}\n"
     ]
    }
   ],
   "source": [
    "#Dictionaries\n",
    "print({'name':'Ipsita','gender':'Female','age':33,'weight':69})"
   ]
  },
  {
   "cell_type": "code",
   "execution_count": 3,
   "id": "664be803",
   "metadata": {},
   "outputs": [
    {
     "name": "stdout",
     "output_type": "stream",
     "text": [
      "<class 'int'>\n",
      "<class 'float'>\n",
      "<class 'str'>\n",
      "<class 'complex'>\n",
      "<class 'bool'>\n",
      "<class 'list'>\n",
      "<class 'tuple'>\n",
      "<class 'set'>\n",
      "<class 'dict'>\n"
     ]
    }
   ],
   "source": [
    "# type\n",
    "\n",
    "print(type(3))\n",
    "print(type(3.5))\n",
    "print(type('hello'))\n",
    "print(type(5+5j))\n",
    "print(type(True))\n",
    "print(type([1,2,3,4]))\n",
    "print((type((1,2,3,4))))\n",
    "print(type({1,2,3,4}))\n",
    "print(type({'Name':'Ipsita','Age':33}))"
   ]
  },
  {
   "cell_type": "code",
   "execution_count": 41,
   "id": "7cdef94b",
   "metadata": {},
   "outputs": [],
   "source": [
    "# Variables : Variables are created to store already known or unknown values\n",
    "# Variables are containers for future use."
   ]
  },
  {
   "cell_type": "code",
   "execution_count": 42,
   "id": "4f2f651e",
   "metadata": {},
   "outputs": [
    {
     "name": "stdout",
     "output_type": "stream",
     "text": [
      "Ipsita\n"
     ]
    }
   ],
   "source": [
    "# Creation of variable in python\n",
    "# In c/c++\n",
    "# str name = 'Ipsita'\n",
    "\n",
    "# In python , you donot need explicit declaration of data type of variable\n",
    "name = 'Ipsita'\n",
    "print(name)"
   ]
  },
  {
   "cell_type": "code",
   "execution_count": 43,
   "id": "c219ad09",
   "metadata": {},
   "outputs": [
    {
     "name": "stdout",
     "output_type": "stream",
     "text": [
      "11\n"
     ]
    }
   ],
   "source": [
    "# Variable example\n",
    "a = 5\n",
    "b = 6\n",
    "print(a + b)"
   ]
  },
  {
   "cell_type": "code",
   "execution_count": 46,
   "id": "8af37519",
   "metadata": {},
   "outputs": [],
   "source": [
    "# Dynamic vs Static Typing\n",
    "\n",
    "# In c/c++\n",
    "# int a = 5;\n",
    "\n",
    "# In python\n",
    "a = 5\n",
    "\n",
    "# When you donot explicitly tell interpreter data type of variable , interpreter understand the data type of variable from the value assigned to variable."
   ]
  },
  {
   "cell_type": "code",
   "execution_count": 48,
   "id": "44340a37",
   "metadata": {},
   "outputs": [
    {
     "name": "stdout",
     "output_type": "stream",
     "text": [
      "5\n",
      "Ipsita\n"
     ]
    }
   ],
   "source": [
    "# Dynamic vs Static Binding\n",
    "# In python , we donot bind the variable to one data type and through out the program the data type of variable can be changed.\n",
    "# In c/c++/jave , we bind the variable to one data type and data type of the variable cannot be changed through out the program\n",
    "a = 5\n",
    "print(a)\n",
    "a = 'Ipsita'\n",
    "print(a)"
   ]
  },
  {
   "cell_type": "code",
   "execution_count": 49,
   "id": "98fa3ffe",
   "metadata": {},
   "outputs": [],
   "source": [
    "# Simultaneous creation and assignment of variable"
   ]
  },
  {
   "cell_type": "code",
   "execution_count": 50,
   "id": "15cdb4c4",
   "metadata": {},
   "outputs": [
    {
     "name": "stdout",
     "output_type": "stream",
     "text": [
      "1 2 3\n"
     ]
    }
   ],
   "source": [
    "a = 1\n",
    "b = 2\n",
    "c = 3\n",
    "print(a,b,c)"
   ]
  },
  {
   "cell_type": "code",
   "execution_count": 51,
   "id": "ae4da83c",
   "metadata": {},
   "outputs": [
    {
     "name": "stdout",
     "output_type": "stream",
     "text": [
      "1 2 3\n"
     ]
    }
   ],
   "source": [
    "a,b,c = 1,2,3\n",
    "print(a,b,c)"
   ]
  },
  {
   "cell_type": "code",
   "execution_count": 52,
   "id": "7ab84d72",
   "metadata": {},
   "outputs": [
    {
     "data": {
      "text/plain": [
       "True"
      ]
     },
     "execution_count": 52,
     "metadata": {},
     "output_type": "execute_result"
    }
   ],
   "source": [
    "# Assigning one value to multiple variable\n",
    "a = b = c = 5\n",
    "id(a) == id(b) == id(c)"
   ]
  },
  {
   "cell_type": "code",
   "execution_count": 53,
   "id": "7e29d122",
   "metadata": {},
   "outputs": [],
   "source": [
    "# Keywords and Identifiers\n",
    "\n",
    "# Keywords : Compilation is the process in which the code is converted in machine language or binary.\n",
    "# Compiler or interpreter does the process of compilation - Interpreter converts line by line and compiler converts the whole program to binary at once and then execution begins\n",
    "# There are certain words in python and they have special meaning for interpreter,so these words should not be used as variable name."
   ]
  },
  {
   "cell_type": "code",
   "execution_count": 55,
   "id": "733bd7c2",
   "metadata": {},
   "outputs": [
    {
     "data": {
      "text/plain": [
       "36"
      ]
     },
     "execution_count": 55,
     "metadata": {},
     "output_type": "execute_result"
    }
   ],
   "source": [
    "import keyword as kw\n",
    "len(kw.kwlist)"
   ]
  },
  {
   "cell_type": "code",
   "execution_count": 58,
   "id": "f692c3f4",
   "metadata": {},
   "outputs": [
    {
     "name": "stdout",
     "output_type": "stream",
     "text": [
      "Ipsita\n",
      "Panda\n"
     ]
    }
   ],
   "source": [
    "# Identifiers \n",
    "# Name given to either variable , class or function is known as Identifier\n",
    "\n",
    "# Identifier cannot start with a digit\n",
    "# 1name = 'Ipsita'\n",
    "name1 = 'Ipsita'\n",
    "print(name1)\n",
    "# Indentifier can only use _ as special charecter\n",
    "# first-name = 'Ipsita'\n",
    "first_name = 'Ipsita'\n",
    "_ = 'Panda'\n",
    "print(_)\n",
    "# Identifiers cannot be a keyword\n",
    "# True = 'Ipsita'"
   ]
  },
  {
   "cell_type": "code",
   "execution_count": 60,
   "id": "e564e063",
   "metadata": {},
   "outputs": [
    {
     "name": "stdout",
     "output_type": "stream",
     "text": [
      "Ipsita\n"
     ]
    },
    {
     "data": {
      "text/plain": [
       "'Ipsita'"
      ]
     },
     "execution_count": 60,
     "metadata": {},
     "output_type": "execute_result"
    }
   ],
   "source": [
    "# User Input\n",
    "# Calling input function\n",
    "input()"
   ]
  },
  {
   "cell_type": "code",
   "execution_count": 62,
   "id": "745f87de",
   "metadata": {},
   "outputs": [
    {
     "name": "stdout",
     "output_type": "stream",
     "text": [
      "Please enter your name : Ipsita Panda\n"
     ]
    },
    {
     "data": {
      "text/plain": [
       "'Ipsita Panda'"
      ]
     },
     "execution_count": 62,
     "metadata": {},
     "output_type": "execute_result"
    }
   ],
   "source": [
    "input('Please enter your name : ')"
   ]
  },
  {
   "cell_type": "code",
   "execution_count": 66,
   "id": "f1cbaf12",
   "metadata": {},
   "outputs": [
    {
     "name": "stdout",
     "output_type": "stream",
     "text": [
      "Enter first number : 56\n",
      "Enter second number : 67\n",
      "<class 'int'> <class 'int'>\n",
      "123\n"
     ]
    }
   ],
   "source": [
    "# Take input from users and store then in variables\n",
    "fnum = int(input('Enter first number : '))\n",
    "snum = int(input('Enter second number : '))\n",
    "\n",
    "print(type(fnum),type(snum)) \n",
    "# add two variables\n",
    "result = fnum + snum\n",
    "# print the result\n",
    "print(result)"
   ]
  },
  {
   "cell_type": "code",
   "execution_count": 70,
   "id": "ebf1bcd7",
   "metadata": {},
   "outputs": [
    {
     "name": "stdout",
     "output_type": "stream",
     "text": [
      "45\n"
     ]
    },
    {
     "ename": "ValueError",
     "evalue": "invalid literal for int() with base 10: 'Hello world'",
     "output_type": "error",
     "traceback": [
      "\u001b[1;31m---------------------------------------------------------------------------\u001b[0m",
      "\u001b[1;31mValueError\u001b[0m                                Traceback (most recent call last)",
      "\u001b[1;32m~\\AppData\\Local\\Temp\\ipykernel_28384\\444307559.py\u001b[0m in \u001b[0;36m<module>\u001b[1;34m\u001b[0m\n\u001b[0;32m      2\u001b[0m \u001b[1;31m# string is an universal data format , integer/float/Boolean/complex can be stored in string format but reverse is not true.\u001b[0m\u001b[1;33m\u001b[0m\u001b[1;33m\u001b[0m\u001b[0m\n\u001b[0;32m      3\u001b[0m \u001b[0mprint\u001b[0m\u001b[1;33m(\u001b[0m\u001b[0mint\u001b[0m\u001b[1;33m(\u001b[0m\u001b[1;34m'45'\u001b[0m\u001b[1;33m)\u001b[0m\u001b[1;33m)\u001b[0m\u001b[1;33m\u001b[0m\u001b[1;33m\u001b[0m\u001b[0m\n\u001b[1;32m----> 4\u001b[1;33m \u001b[0mint\u001b[0m\u001b[1;33m(\u001b[0m\u001b[1;34m'Hello world'\u001b[0m\u001b[1;33m)\u001b[0m\u001b[1;33m\u001b[0m\u001b[1;33m\u001b[0m\u001b[0m\n\u001b[0m",
      "\u001b[1;31mValueError\u001b[0m: invalid literal for int() with base 10: 'Hello world'"
     ]
    }
   ],
   "source": [
    "# Type Conversion\n",
    "# string is an universal data format , integer/float/Boolean/complex can be stored in string format but reverse is not true.\n",
    "print(int('45'))\n",
    "int('Hello world')"
   ]
  },
  {
   "cell_type": "code",
   "execution_count": 71,
   "id": "4727a28b",
   "metadata": {},
   "outputs": [
    {
     "name": "stdout",
     "output_type": "stream",
     "text": [
      "10.6\n",
      "<class 'int'> <class 'float'>\n"
     ]
    }
   ],
   "source": [
    "# Implicit and Explicit Type Conversion \n",
    "print( 5 + 5.6)\n",
    "print(type(5),type(5.6))"
   ]
  },
  {
   "cell_type": "code",
   "execution_count": 73,
   "id": "7170560b",
   "metadata": {},
   "outputs": [
    {
     "name": "stdout",
     "output_type": "stream",
     "text": [
      "8\n"
     ]
    }
   ],
   "source": [
    "# Explicit type conversion\n",
    "print(4 + int('4'))"
   ]
  },
  {
   "cell_type": "code",
   "execution_count": 74,
   "id": "8760e842",
   "metadata": {},
   "outputs": [
    {
     "data": {
      "text/plain": [
       "56"
      ]
     },
     "execution_count": 74,
     "metadata": {},
     "output_type": "execute_result"
    }
   ],
   "source": [
    "#str --> int\n",
    "int('56')"
   ]
  },
  {
   "cell_type": "code",
   "execution_count": 75,
   "id": "14d07089",
   "metadata": {},
   "outputs": [
    {
     "data": {
      "text/plain": [
       "'56'"
      ]
     },
     "execution_count": 75,
     "metadata": {},
     "output_type": "execute_result"
    }
   ],
   "source": [
    "# int --> str\n",
    "str(56)"
   ]
  },
  {
   "cell_type": "code",
   "execution_count": 76,
   "id": "ffc20d69",
   "metadata": {},
   "outputs": [
    {
     "data": {
      "text/plain": [
       "56.7"
      ]
     },
     "execution_count": 76,
     "metadata": {},
     "output_type": "execute_result"
    }
   ],
   "source": [
    "# str --> float\n",
    "float('56.7')"
   ]
  },
  {
   "cell_type": "code",
   "execution_count": 77,
   "id": "3b451827",
   "metadata": {},
   "outputs": [
    {
     "data": {
      "text/plain": [
       "True"
      ]
     },
     "execution_count": 77,
     "metadata": {},
     "output_type": "execute_result"
    }
   ],
   "source": [
    "# str --> boolean\n",
    "bool('True')"
   ]
  },
  {
   "cell_type": "code",
   "execution_count": 78,
   "id": "81df1869",
   "metadata": {},
   "outputs": [
    {
     "data": {
      "text/plain": [
       "[1, 2, 3]"
      ]
     },
     "execution_count": 78,
     "metadata": {},
     "output_type": "execute_result"
    }
   ],
   "source": [
    "# tuple to list\n",
    "list((1,2,3))"
   ]
  },
  {
   "cell_type": "code",
   "execution_count": 79,
   "id": "f2e280bf",
   "metadata": {},
   "outputs": [
    {
     "data": {
      "text/plain": [
       "(1, 2, 3)"
      ]
     },
     "execution_count": 79,
     "metadata": {},
     "output_type": "execute_result"
    }
   ],
   "source": [
    "# list to tuple\n",
    "tuple([1,2,3])"
   ]
  },
  {
   "cell_type": "code",
   "execution_count": 84,
   "id": "82e2e5b1",
   "metadata": {},
   "outputs": [
    {
     "name": "stdout",
     "output_type": "stream",
     "text": [
      "4.0 3.5\n"
     ]
    }
   ],
   "source": [
    "# Literals (raw values stored in variable)\n",
    "# Integer Literal\n",
    "a = 0b1010 #Binary literals\n",
    "b = 100 #Decimal Literals\n",
    "c = 0o310 # Octal Literals\n",
    "d = 0x12c #Hexadecimal Literals\n",
    "\n",
    "# float literal\n",
    "float_1 = 10.5\n",
    "float_2 = 1.5e2 # (1.5*10^2)\n",
    "float_3 = 1.5e-3 # (1.5*10^-3)\n",
    "\n",
    "# Complex Literal\n",
    "x = 4 + 3.5j\n",
    "print(x.real,x.imag)"
   ]
  },
  {
   "cell_type": "code",
   "execution_count": 81,
   "id": "b187f65e",
   "metadata": {},
   "outputs": [
    {
     "name": "stdout",
     "output_type": "stream",
     "text": [
      "10\n",
      "100\n",
      "200\n",
      "300\n"
     ]
    }
   ],
   "source": [
    "print(a)\n",
    "print(b)\n",
    "print(c)\n",
    "print(d)"
   ]
  },
  {
   "cell_type": "code",
   "execution_count": 85,
   "id": "6dbcee3b",
   "metadata": {},
   "outputs": [
    {
     "name": "stdout",
     "output_type": "stream",
     "text": [
      "This is Python\n",
      "This is Python\n",
      "C\n",
      "This is a multiline string with more than one line of code\n",
      "😀😆🤣\n",
      "raw \\n string\n"
     ]
    }
   ],
   "source": [
    "# String Literal\n",
    "str1 = 'This is Python'\n",
    "str2 = \"This is Python\"\n",
    "char = \"C\"\n",
    "multiline_str = \"\"\"This is a multiline string with more than one line of code\"\"\"\n",
    "unicode = u\"\\U0001f600\\U0001F606\\U0001F923\"\n",
    "raw_str = r\"raw \\n string\"\n",
    "\n",
    "print(str1)\n",
    "print(str2)\n",
    "print(char)\n",
    "print(multiline_str)\n",
    "print(unicode)\n",
    "print(raw_str)"
   ]
  },
  {
   "cell_type": "code",
   "execution_count": 88,
   "id": "fcfa30c5",
   "metadata": {},
   "outputs": [
    {
     "name": "stdout",
     "output_type": "stream",
     "text": [
      "a : 5\n",
      "b : 10\n"
     ]
    }
   ],
   "source": [
    "# Boolean Literals\n",
    "a = True + 4\n",
    "b = False + 10\n",
    "print(\"a :\",a)\n",
    "print(\"b :\",b)"
   ]
  },
  {
   "cell_type": "code",
   "execution_count": 89,
   "id": "ed3cea4d",
   "metadata": {},
   "outputs": [
    {
     "name": "stdout",
     "output_type": "stream",
     "text": [
      "None\n"
     ]
    }
   ],
   "source": [
    "# None Literal : when you donot know value for a variable and you just want to declare.\n",
    "a = None\n",
    "print(a)"
   ]
  },
  {
   "cell_type": "code",
   "execution_count": null,
   "id": "00911749",
   "metadata": {},
   "outputs": [],
   "source": []
  }
 ],
 "metadata": {
  "kernelspec": {
   "display_name": "Python 3 (ipykernel)",
   "language": "python",
   "name": "python3"
  },
  "language_info": {
   "codemirror_mode": {
    "name": "ipython",
    "version": 3
   },
   "file_extension": ".py",
   "mimetype": "text/x-python",
   "name": "python",
   "nbconvert_exporter": "python",
   "pygments_lexer": "ipython3",
   "version": "3.9.13"
  }
 },
 "nbformat": 4,
 "nbformat_minor": 5
}
