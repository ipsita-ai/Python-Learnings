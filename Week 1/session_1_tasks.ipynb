{
 "cells": [
  {
   "cell_type": "markdown",
   "metadata": {
    "id": "A05OG15VqOPF"
   },
   "source": [
    "# Task : Session 1\n",
    "Solve these questions own your own and try to test yourself what you have learned in the session.\n",
    "\n",
    "Happy Learning!"
   ]
  },
  {
   "cell_type": "markdown",
   "metadata": {
    "id": "2doIXf8bqe9_"
   },
   "source": [
    "### Q1 :- Print the given strings as per stated format.\n",
    "\n",
    "**Given strings**: \n",
    "```\n",
    "\"Data\" \"Science\" \"Mentorship\" \"Program\" \n",
    "\"By\" \"CampusX\"\n",
    "```\n",
    "**Output**: \n",
    "``` \n",
    "Data-Science-Mentorship-Program-started-By-CampusX\n",
    "```\n",
    "\n",
    "Concept- [Seperator and End]"
   ]
  },
  {
   "cell_type": "code",
   "execution_count": 1,
   "metadata": {
    "id": "-em6d3KErDtp"
   },
   "outputs": [
    {
     "name": "stdout",
     "output_type": "stream",
     "text": [
      "Data-Science-Mentorship-Program-By-CampusX\n"
     ]
    }
   ],
   "source": [
    "# Write your code here\n",
    "print(\"Data\",\"Science\",\"Mentorship\",\"Program\",\"By\",\"CampusX\",sep = '-')"
   ]
  },
  {
   "cell_type": "markdown",
   "metadata": {
    "id": "1KUpN7ZTrC3_"
   },
   "source": [
    "### Q2:- Write a program that will convert celsius value to fahrenheit."
   ]
  },
  {
   "cell_type": "code",
   "execution_count": 4,
   "metadata": {
    "id": "yxKYhYQiqWfj"
   },
   "outputs": [
    {
     "name": "stdout",
     "output_type": "stream",
     "text": [
      "Enter the degree in celsius for conversion to Fahrenheit5\n",
      "The converted value is 41.0 degree fahrenheit\n"
     ]
    }
   ],
   "source": [
    "# Write your code here\n",
    "cel = int(input('Enter the degree in celsius for conversion to Fahrenheit'))\n",
    "far = (cel*(9/5)) + (32)\n",
    "print('The converted value is {} degree fahrenheit'.format(far))"
   ]
  },
  {
   "cell_type": "markdown",
   "metadata": {
    "id": "RLrOBBJurLB2"
   },
   "source": [
    "### Q3:- Take 2 numbers as input from the user.Write a program to swap the numbers without using any special python syntax."
   ]
  },
  {
   "cell_type": "code",
   "execution_count": 7,
   "metadata": {
    "id": "yPn7if0TrJ4F"
   },
   "outputs": [
    {
     "name": "stdout",
     "output_type": "stream",
     "text": [
      "Enter your first number2\n",
      "Enter your second number3\n",
      "The numbers have been swapped.\n",
      "The first number is 3 and second number is 2\n"
     ]
    }
   ],
   "source": [
    "# Write your code here\n",
    "num1 = int(input('Enter your first number'))\n",
    "num2 = int(input('Enter your second number'))\n",
    "num3 = num2\n",
    "num2 = num1\n",
    "num1 = num3\n",
    "print('The numbers have been swapped.')\n",
    "print('The first number is {} and second number is {}'.format(num1,num2))"
   ]
  },
  {
   "cell_type": "markdown",
   "metadata": {
    "id": "waLCP1bjr7ML"
   },
   "source": [
    "### Q4:- Write a program to find the euclidean distance between two coordinates.Take both the coordinates from the user as input."
   ]
  },
  {
   "cell_type": "code",
   "execution_count": 11,
   "metadata": {
    "id": "Pl1Sv-xnrxnH"
   },
   "outputs": [
    {
     "name": "stdout",
     "output_type": "stream",
     "text": [
      "Enter x for first coordinate : 4\n",
      "Enter y for first coordinate : 5\n",
      "Enter x for second coordinate : 1\n",
      "Enter y for second coordinate : 1\n",
      "The distance between two points is  5.0\n"
     ]
    }
   ],
   "source": [
    "# Write your code here\n",
    "import math as m\n",
    "x1 = int(input('Enter x for first coordinate : '))\n",
    "y1 = int(input('Enter y for first coordinate : '))\n",
    "x2 = int(input('Enter x for second coordinate : '))\n",
    "y2 = int(input('Enter y for second coordinate : '))\n",
    "\n",
    "dist = m.sqrt(((x1-x2)**2 + (y1-y2)**2))\n",
    "print('The distance between two points is ',dist)"
   ]
  },
  {
   "cell_type": "markdown",
   "metadata": {
    "id": "VLrhg-FRsHjR"
   },
   "source": [
    "### Q5:- Write a program to find the simple interest when the value of principle,rate of interest and time period is provided by the user.\n"
   ]
  },
  {
   "cell_type": "code",
   "execution_count": 14,
   "metadata": {
    "id": "s40DlReZsTmY"
   },
   "outputs": [
    {
     "name": "stdout",
     "output_type": "stream",
     "text": [
      "Enter principle : 1000\n",
      "Enter rate of interest : 25\n",
      "Enter time period in years : 3\n",
      "The simple interest is 750.0\n"
     ]
    }
   ],
   "source": [
    "# Write your code here\n",
    "principle = int(input('Enter principle : '))\n",
    "ROI = int(input('Enter rate of interest : '))\n",
    "time = int(input('Enter time period in years : '))\n",
    "\n",
    "smple_intrst = principle*ROI*time/100\n",
    "\n",
    "print('The simple interest is',smple_intrst)"
   ]
  },
  {
   "cell_type": "markdown",
   "metadata": {
    "id": "LMy0BTUktYKa"
   },
   "source": [
    "### Q6:- Write a program that will tell the number of dogs and chicken are there when the user will provide the value of total heads and legs.\n",
    "\n",
    "For example:\n",
    "Input:\n",
    "heads -> 4\n",
    "legs -> 12\n",
    "<br>\n",
    "Output:\n",
    "dogs -> 2\n",
    "chicken -> 2\n",
    "\n",
    "\n",
    "\n"
   ]
  },
  {
   "cell_type": "code",
   "execution_count": 4,
   "metadata": {
    "id": "XSBvJoA4tXaG"
   },
   "outputs": [
    {
     "name": "stdout",
     "output_type": "stream",
     "text": [
      "Enter the number of heads1\n",
      "Enter the number of legs2\n",
      "Dogs = 0 and Chickens = 1\n"
     ]
    }
   ],
   "source": [
    "# Write your code here\n",
    "\n",
    "heads = int(input('Enter the number of heads'))\n",
    "legs = int(input('Enter the number of legs'))\n",
    "\n",
    "if legs < heads :\n",
    "    print('Legs cannot be less than Heads.Reenter correct number of legs')\n",
    "    print('The value you entered for heads is {} and the value for legs is {}'.format(heads,legs))\n",
    "    legs = int(input('Enter the number of legs'))\n",
    "\n",
    "# dogs + chickens = heads\n",
    "# 4*dogs + 2*chickens = legs\n",
    "x = (legs - 2*heads)//2\n",
    "y = (4*heads - legs)//2\n",
    "\n",
    "if x < 0:\n",
    "    dogs = 0\n",
    "    chickens = heads\n",
    "elif y < 0:\n",
    "    chicken = 0\n",
    "    dogs = heads\n",
    "else:\n",
    "    dogs = x\n",
    "    chickens = y\n",
    "print('Dogs = {} and Chickens = {}'.format(dogs,chickens))\n",
    "\n"
   ]
  },
  {
   "cell_type": "markdown",
   "metadata": {
    "id": "gJ7C5kZYt4BP"
   },
   "source": [
    "#### Q7:- Write a program to find the sum of squares of first n natural numbers where n will be provided by the user."
   ]
  },
  {
   "cell_type": "code",
   "execution_count": 5,
   "metadata": {
    "id": "_tHsmEHzt2nX"
   },
   "outputs": [
    {
     "name": "stdout",
     "output_type": "stream",
     "text": [
      "Enter the nth value to calculate sum of squares5\n",
      "The sum of square until 5 is 55\n"
     ]
    }
   ],
   "source": [
    "# Write your code here\n",
    "n = int(input('Enter the nth value to calculate sum of squares'))\n",
    "sum = 0\n",
    "# 1+4+9+16+25 = 55\n",
    "for i in range(1,n+1):\n",
    "    sum = sum + i**2\n",
    "print('The sum of square until {} is {}'.format(n,sum))"
   ]
  },
  {
   "cell_type": "markdown",
   "metadata": {
    "id": "FHrMM7g-yG1h"
   },
   "source": [
    "### Q8:- Given the first 2 terms of an Arithmetic Series.Find the Nth term of the series. Assume all inputs are provided by the user."
   ]
  },
  {
   "cell_type": "code",
   "execution_count": 11,
   "metadata": {
    "id": "go4_kmZmyVSx"
   },
   "outputs": [
    {
     "name": "stdout",
     "output_type": "stream",
     "text": [
      "Enter first term of the arithmatic series3\n",
      "Enter second term of the arithmatic series6\n",
      "Enter the value of n to fetch nth term in arithmatic series5\n",
      "The 5th term of the series is 15\n"
     ]
    }
   ],
   "source": [
    "# Write your code here\n",
    "fnum = int(input('Enter first term of the arithmatic series'))\n",
    "snum = int(input('Enter second term of the arithmatic series'))\n",
    "\n",
    "n = int(input('Enter the value of n to fetch nth term in arithmatic series'))\n",
    "\n",
    "a = fnum\n",
    "d = snum-fnum\n",
    "\n",
    "nth = a + (n-1)*d\n",
    "\n",
    "print('The {}th term of the series is {}'.format(n,nth))"
   ]
  },
  {
   "cell_type": "markdown",
   "metadata": {
    "id": "QgyRX_es1oum"
   },
   "source": [
    "### Q9:- Given 2 fractions, find the sum of those 2 fractions.Take the numerator and denominator values of the fractions from the user."
   ]
  },
  {
   "cell_type": "code",
   "execution_count": 4,
   "metadata": {
    "id": "X05xqFS1yW16"
   },
   "outputs": [
    {
     "name": "stdout",
     "output_type": "stream",
     "text": [
      "Enter the value of numerator in first fraction3\n",
      "Enter the value of denomenator in first fraction4\n",
      "The first fraction is 3/4\n",
      "Enter the value of numerator in second fraction5\n",
      "Enter the value of denomenator in second fraction6\n",
      "The second fraction is 5/6\n",
      "The sum of above fractions is 38/24\n"
     ]
    }
   ],
   "source": [
    "# Write your code here\n",
    "num1 = int(input('Enter the value of numerator in first fraction'))\n",
    "den1 = int(input('Enter the value of denomenator in first fraction'))\n",
    "print('The first fraction is {}/{}'.format(num1,den1))\n",
    "num2 = int(input('Enter the value of numerator in second fraction'))\n",
    "den2 = int(input('Enter the value of denomenator in second fraction'))\n",
    "print('The second fraction is {}/{}'.format(num2,den2))\n",
    "\n",
    "final_num = num1*den2 + num2*den1\n",
    "final_den = den1*den2\n",
    "print('The sum of above fractions is {}/{}'.format(final_num,final_den))\n",
    "\n"
   ]
  },
  {
   "cell_type": "markdown",
   "metadata": {
    "id": "eaql38ln13u7"
   },
   "source": [
    "### Q10:- Given the height, width and breadth of a milk tank, you have to find out how many glasses of milk can be obtained? Assume all the inputs are provided by the user.\n",
    "\n",
    "\n",
    "\n",
    "Input:<br>\n",
    "Dimensions of the milk tank<br>\n",
    "H = 20cm, L = 20cm, B = 20cm\n",
    "<br><br>\n",
    "Dimensions of the glass<br>\n",
    "h = 3cm, r = 1cm"
   ]
  },
  {
   "cell_type": "code",
   "execution_count": 6,
   "metadata": {
    "id": "FePZqno74eWv"
   },
   "outputs": [
    {
     "name": "stdout",
     "output_type": "stream",
     "text": [
      "Enter height of milk tank20\n",
      "Enter length of milk tank20\n",
      "Enter breadth of milk tank20\n",
      "Enter height of milk glass3\n",
      "Enter radius of milk glass1\n",
      "848.0 glasses of milk can be obtained from milk tank of above dimension\n"
     ]
    }
   ],
   "source": [
    "# Write your code here\n",
    "# Volume of milk tank = H*L*B\n",
    "# Volume of glass = 22/7*(r**2)*h\n",
    "import math as m\n",
    "H = int(input('Enter height of milk tank'))\n",
    "L = int(input('Enter length of milk tank'))\n",
    "B = int(input('Enter breadth of milk tank'))\n",
    "h = int(input('Enter height of milk glass'))\n",
    "r = int(input('Enter radius of milk glass'))\n",
    "\n",
    " \n",
    "vol_tank = H*L*B\n",
    "vol_glass = (m.pi)*h*(r**2)\n",
    "n = vol_tank//vol_glass\n",
    "print('{} glasses of milk can be obtained from milk tank of above dimension'.format(n))"
   ]
  },
  {
   "cell_type": "code",
   "execution_count": null,
   "metadata": {},
   "outputs": [],
   "source": [
    "\n"
   ]
  },
  {
   "cell_type": "code",
   "execution_count": null,
   "metadata": {},
   "outputs": [],
   "source": []
  }
 ],
 "metadata": {
  "colab": {
   "provenance": []
  },
  "kernelspec": {
   "display_name": "Python 3 (ipykernel)",
   "language": "python",
   "name": "python3"
  },
  "language_info": {
   "codemirror_mode": {
    "name": "ipython",
    "version": 3
   },
   "file_extension": ".py",
   "mimetype": "text/x-python",
   "name": "python",
   "nbconvert_exporter": "python",
   "pygments_lexer": "ipython3",
   "version": "3.9.13"
  }
 },
 "nbformat": 4,
 "nbformat_minor": 1
}
