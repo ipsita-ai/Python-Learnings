{
 "cells": [
  {
   "cell_type": "markdown",
   "id": "c8f64b89",
   "metadata": {},
   "source": [
    "\n",
    "#### np.sort\n",
    "Return a sorted copy of an array.\n",
    "\n",
    "https://numpy.org/doc/stable/reference/generated/numpy.sort.html"
   ]
  },
  {
   "cell_type": "code",
   "execution_count": 1,
   "id": "4e93232c",
   "metadata": {},
   "outputs": [],
   "source": [
    "import numpy as np"
   ]
  },
  {
   "cell_type": "code",
   "execution_count": 4,
   "id": "c927936f",
   "metadata": {},
   "outputs": [],
   "source": [
    "a = np.random.randint(0,100,15)"
   ]
  },
  {
   "cell_type": "code",
   "execution_count": 5,
   "id": "070cab99",
   "metadata": {},
   "outputs": [
    {
     "data": {
      "text/plain": [
       "array([79, 92, 48, 13, 24, 43, 95,  2, 10, 33, 56,  9, 15, 87, 88])"
      ]
     },
     "execution_count": 5,
     "metadata": {},
     "output_type": "execute_result"
    }
   ],
   "source": [
    "a"
   ]
  },
  {
   "cell_type": "code",
   "execution_count": 8,
   "id": "ef8a55bc",
   "metadata": {},
   "outputs": [],
   "source": [
    "b = np.random.randint(0,100,24).reshape(4,6)"
   ]
  },
  {
   "cell_type": "code",
   "execution_count": 9,
   "id": "25745beb",
   "metadata": {},
   "outputs": [
    {
     "data": {
      "text/plain": [
       "array([[77, 37, 63, 34, 19, 68],\n",
       "       [18,  4, 59, 46, 91, 62],\n",
       "       [60, 54, 11, 79, 12, 81],\n",
       "       [12, 96, 31, 76, 72, 72]])"
      ]
     },
     "execution_count": 9,
     "metadata": {},
     "output_type": "execute_result"
    }
   ],
   "source": [
    "b"
   ]
  },
  {
   "cell_type": "code",
   "execution_count": 10,
   "id": "784327c2",
   "metadata": {},
   "outputs": [
    {
     "data": {
      "text/plain": [
       "array([ 2,  9, 10, 13, 15, 24, 33, 43, 48, 56, 79, 87, 88, 92, 95])"
      ]
     },
     "execution_count": 10,
     "metadata": {},
     "output_type": "execute_result"
    }
   ],
   "source": [
    "np.sort(a)"
   ]
  },
  {
   "cell_type": "code",
   "execution_count": 11,
   "id": "8c2364be",
   "metadata": {},
   "outputs": [
    {
     "data": {
      "text/plain": [
       "array([95, 92, 88, 87, 79, 56, 48, 43, 33, 24, 15, 13, 10,  9,  2])"
      ]
     },
     "execution_count": 11,
     "metadata": {},
     "output_type": "execute_result"
    }
   ],
   "source": [
    "np.sort(a)[::-1]"
   ]
  },
  {
   "cell_type": "code",
   "execution_count": 13,
   "id": "ac2bcd30",
   "metadata": {},
   "outputs": [
    {
     "data": {
      "text/plain": [
       "array([[12,  4, 11, 34, 12, 62],\n",
       "       [18, 37, 31, 46, 19, 68],\n",
       "       [60, 54, 59, 76, 72, 72],\n",
       "       [77, 96, 63, 79, 91, 81]])"
      ]
     },
     "execution_count": 13,
     "metadata": {},
     "output_type": "execute_result"
    }
   ],
   "source": [
    "np.sort(b,axis = 0)"
   ]
  },
  {
   "cell_type": "code",
   "execution_count": 14,
   "id": "17ab70e3",
   "metadata": {},
   "outputs": [
    {
     "data": {
      "text/plain": [
       "array([[19, 34, 37, 63, 68, 77],\n",
       "       [ 4, 18, 46, 59, 62, 91],\n",
       "       [11, 12, 54, 60, 79, 81],\n",
       "       [12, 31, 72, 72, 76, 96]])"
      ]
     },
     "execution_count": 14,
     "metadata": {},
     "output_type": "execute_result"
    }
   ],
   "source": [
    "np.sort(b,axis = 1)"
   ]
  },
  {
   "cell_type": "markdown",
   "id": "7d8c63d9",
   "metadata": {},
   "source": [
    "#### np.append\n",
    "The numpy.append() appends values along the mentioned axis at the end of the array\n",
    "\n",
    "https://numpy.org/doc/stable/reference/generated/numpy.append.html"
   ]
  },
  {
   "cell_type": "code",
   "execution_count": 15,
   "id": "6e7b04c9",
   "metadata": {},
   "outputs": [
    {
     "data": {
      "text/plain": [
       "array([79, 92, 48, 13, 24, 43, 95,  2, 10, 33, 56,  9, 15, 87, 88,  1,  2,\n",
       "        3])"
      ]
     },
     "execution_count": 15,
     "metadata": {},
     "output_type": "execute_result"
    }
   ],
   "source": [
    "np.append(a,[1,2,3])"
   ]
  },
  {
   "cell_type": "code",
   "execution_count": 16,
   "id": "bb0e9b3b",
   "metadata": {},
   "outputs": [
    {
     "data": {
      "text/plain": [
       "array([ 79,  92,  48,  13,  24,  43,  95,   2,  10,  33,  56,   9,  15,\n",
       "        87,  88, 200])"
      ]
     },
     "execution_count": 16,
     "metadata": {},
     "output_type": "execute_result"
    }
   ],
   "source": [
    "np.append(a,200)"
   ]
  },
  {
   "cell_type": "code",
   "execution_count": 26,
   "id": "1c2be7f3",
   "metadata": {},
   "outputs": [
    {
     "data": {
      "text/plain": [
       "array([[77., 37., 63., 34., 19., 68.,  1.],\n",
       "       [18.,  4., 59., 46., 91., 62.,  1.],\n",
       "       [60., 54., 11., 79., 12., 81.,  1.],\n",
       "       [12., 96., 31., 76., 72., 72.,  1.]])"
      ]
     },
     "execution_count": 26,
     "metadata": {},
     "output_type": "execute_result"
    }
   ],
   "source": [
    "np.append(b,np.ones((b.shape[0],1)),axis = 1)"
   ]
  },
  {
   "cell_type": "markdown",
   "id": "e5a66191",
   "metadata": {},
   "source": [
    "#### np.concatenate\n",
    "numpy.concatenate() function concatenate a sequence of arrays along an existing axis.\n",
    "\n",
    "https://numpy.org/doc/stable/reference/generated/numpy.concatenate.html"
   ]
  },
  {
   "cell_type": "code",
   "execution_count": 30,
   "id": "e2a3c0d0",
   "metadata": {},
   "outputs": [],
   "source": [
    "a = np.random.random(12).reshape(3,4)\n",
    "b = np.random.random(12).reshape(3,4)"
   ]
  },
  {
   "cell_type": "code",
   "execution_count": 31,
   "id": "ddbb8fdb",
   "metadata": {},
   "outputs": [
    {
     "data": {
      "text/plain": [
       "array([[0.81195187, 0.47364814, 0.46423469, 0.47335273],\n",
       "       [0.90826893, 0.80995467, 0.94618917, 0.90613734],\n",
       "       [0.25056178, 0.48926709, 0.49363865, 0.93596392]])"
      ]
     },
     "execution_count": 31,
     "metadata": {},
     "output_type": "execute_result"
    }
   ],
   "source": [
    "a"
   ]
  },
  {
   "cell_type": "code",
   "execution_count": 32,
   "id": "889ee278",
   "metadata": {},
   "outputs": [
    {
     "data": {
      "text/plain": [
       "array([[0.87796658, 0.30517297, 0.32633987, 0.0714547 ],\n",
       "       [0.6482254 , 0.12486163, 0.30973062, 0.7165809 ],\n",
       "       [0.17797812, 0.98852977, 0.95872006, 0.87328215]])"
      ]
     },
     "execution_count": 32,
     "metadata": {},
     "output_type": "execute_result"
    }
   ],
   "source": [
    "b"
   ]
  },
  {
   "cell_type": "code",
   "execution_count": 36,
   "id": "e7671fb3",
   "metadata": {},
   "outputs": [
    {
     "data": {
      "text/plain": [
       "array([[0.81195187, 0.47364814, 0.46423469, 0.47335273, 0.87796658,\n",
       "        0.30517297, 0.32633987, 0.0714547 ],\n",
       "       [0.90826893, 0.80995467, 0.94618917, 0.90613734, 0.6482254 ,\n",
       "        0.12486163, 0.30973062, 0.7165809 ],\n",
       "       [0.25056178, 0.48926709, 0.49363865, 0.93596392, 0.17797812,\n",
       "        0.98852977, 0.95872006, 0.87328215]])"
      ]
     },
     "execution_count": 36,
     "metadata": {},
     "output_type": "execute_result"
    }
   ],
   "source": [
    "np.concatenate((a,b),axis = 1)"
   ]
  },
  {
   "cell_type": "code",
   "execution_count": 37,
   "id": "7c2e752f",
   "metadata": {},
   "outputs": [
    {
     "data": {
      "text/plain": [
       "array([[0.81195187, 0.47364814, 0.46423469, 0.47335273],\n",
       "       [0.90826893, 0.80995467, 0.94618917, 0.90613734],\n",
       "       [0.25056178, 0.48926709, 0.49363865, 0.93596392],\n",
       "       [0.87796658, 0.30517297, 0.32633987, 0.0714547 ],\n",
       "       [0.6482254 , 0.12486163, 0.30973062, 0.7165809 ],\n",
       "       [0.17797812, 0.98852977, 0.95872006, 0.87328215]])"
      ]
     },
     "execution_count": 37,
     "metadata": {},
     "output_type": "execute_result"
    }
   ],
   "source": [
    "np.concatenate((a,b),axis = 0)"
   ]
  },
  {
   "cell_type": "markdown",
   "id": "507f8dec",
   "metadata": {},
   "source": [
    "#### np.unique\n",
    "With the help of np.unique() method, we can get the unique values from an array given as parameter in np.unique() method.\n",
    "\n",
    "https://numpy.org/doc/stable/reference/generated/numpy.unique.html/"
   ]
  },
  {
   "cell_type": "code",
   "execution_count": 38,
   "id": "b197c3c8",
   "metadata": {},
   "outputs": [],
   "source": [
    "a = np.array([1,1,1,1,2,2,2,3,3,3,4,4,4,5,5,6,7,8,8,8,8,9,9,9,9])"
   ]
  },
  {
   "cell_type": "code",
   "execution_count": 39,
   "id": "2e99905e",
   "metadata": {},
   "outputs": [
    {
     "data": {
      "text/plain": [
       "array([1, 2, 3, 4, 5, 6, 7, 8, 9])"
      ]
     },
     "execution_count": 39,
     "metadata": {},
     "output_type": "execute_result"
    }
   ],
   "source": [
    "np.unique(a)"
   ]
  },
  {
   "cell_type": "markdown",
   "id": "2376bede",
   "metadata": {},
   "source": [
    "#### np.expand_dims\n",
    "With the help of Numpy.expand_dims() method, we can get the expanded dimensions of an array\n",
    "\n",
    "https://numpy.org/doc/stable/reference/generated/numpy.expand_dims.html"
   ]
  },
  {
   "cell_type": "code",
   "execution_count": 40,
   "id": "d1f4ace3",
   "metadata": {},
   "outputs": [],
   "source": [
    "a = np.arange(1,30,2)"
   ]
  },
  {
   "cell_type": "code",
   "execution_count": 41,
   "id": "4bcbbd9a",
   "metadata": {},
   "outputs": [
    {
     "data": {
      "text/plain": [
       "array([ 1,  3,  5,  7,  9, 11, 13, 15, 17, 19, 21, 23, 25, 27, 29])"
      ]
     },
     "execution_count": 41,
     "metadata": {},
     "output_type": "execute_result"
    }
   ],
   "source": [
    "a"
   ]
  },
  {
   "cell_type": "code",
   "execution_count": 43,
   "id": "a75e0c07",
   "metadata": {},
   "outputs": [
    {
     "data": {
      "text/plain": [
       "(15, 1)"
      ]
     },
     "execution_count": 43,
     "metadata": {},
     "output_type": "execute_result"
    }
   ],
   "source": [
    "np.shape(np.expand_dims(a,axis = 1))"
   ]
  },
  {
   "cell_type": "markdown",
   "id": "a643bb69",
   "metadata": {},
   "source": [
    "#### np.where\n",
    "The numpy.where() function returns the indices of elements in an input array where the given condition is satisfied.\n",
    "\n",
    "https://numpy.org/doc/stable/reference/generated/numpy.where.html"
   ]
  },
  {
   "cell_type": "code",
   "execution_count": 44,
   "id": "1404ca04",
   "metadata": {},
   "outputs": [],
   "source": [
    "a = np.array([11, 53, 28, 50, 38, 37, 94, 92,  5, 30, 68,  9, 78,  2, 21])"
   ]
  },
  {
   "cell_type": "code",
   "execution_count": 46,
   "id": "202ac4e7",
   "metadata": {},
   "outputs": [
    {
     "data": {
      "text/plain": [
       "array([11,  1, 28, 50, 38, 37,  1,  1,  5, 30,  1,  9,  1,  2, 21])"
      ]
     },
     "execution_count": 46,
     "metadata": {},
     "output_type": "execute_result"
    }
   ],
   "source": [
    "np.where(a > 50,1,a)"
   ]
  },
  {
   "cell_type": "markdown",
   "id": "26900944",
   "metadata": {},
   "source": [
    "\n",
    "#### np.argmax\n",
    "The numpy.argmax() function returns indices of the max element of the array in a particular axis.\n",
    "\n",
    "https://numpy.org/doc/stable/reference/generated/numpy.argmax.html"
   ]
  },
  {
   "cell_type": "code",
   "execution_count": 47,
   "id": "6c85ae49",
   "metadata": {},
   "outputs": [
    {
     "data": {
      "text/plain": [
       "6"
      ]
     },
     "execution_count": 47,
     "metadata": {},
     "output_type": "execute_result"
    }
   ],
   "source": [
    "np.argmax(a)"
   ]
  },
  {
   "cell_type": "code",
   "execution_count": 48,
   "id": "22a5ebbe",
   "metadata": {},
   "outputs": [
    {
     "data": {
      "text/plain": [
       "13"
      ]
     },
     "execution_count": 48,
     "metadata": {},
     "output_type": "execute_result"
    }
   ],
   "source": [
    "np.argmin(a)"
   ]
  },
  {
   "cell_type": "code",
   "execution_count": 49,
   "id": "45d2d9c4",
   "metadata": {},
   "outputs": [
    {
     "data": {
      "text/plain": [
       "array([[0.87796658, 0.30517297, 0.32633987, 0.0714547 ],\n",
       "       [0.6482254 , 0.12486163, 0.30973062, 0.7165809 ],\n",
       "       [0.17797812, 0.98852977, 0.95872006, 0.87328215]])"
      ]
     },
     "execution_count": 49,
     "metadata": {},
     "output_type": "execute_result"
    }
   ],
   "source": [
    "b"
   ]
  },
  {
   "cell_type": "code",
   "execution_count": 52,
   "id": "a88fa1c5",
   "metadata": {},
   "outputs": [
    {
     "data": {
      "text/plain": [
       "array([0, 3, 1], dtype=int64)"
      ]
     },
     "execution_count": 52,
     "metadata": {},
     "output_type": "execute_result"
    }
   ],
   "source": [
    "np.argmax(b,axis = 1)"
   ]
  },
  {
   "cell_type": "code",
   "execution_count": 53,
   "id": "fd05db8f",
   "metadata": {},
   "outputs": [
    {
     "data": {
      "text/plain": [
       "array([0, 2, 2, 2], dtype=int64)"
      ]
     },
     "execution_count": 53,
     "metadata": {},
     "output_type": "execute_result"
    }
   ],
   "source": [
    "np.argmax(b,axis = 0)"
   ]
  },
  {
   "cell_type": "markdown",
   "id": "33119c92",
   "metadata": {},
   "source": [
    "#### np.cumsum\n",
    "numpy.cumsum() function is used when we want to compute the cumulative sum of array elements over a given axis.\n",
    "\n",
    "https://numpy.org/doc/stable/reference/generated/numpy.cumsum.html"
   ]
  },
  {
   "cell_type": "code",
   "execution_count": 54,
   "id": "a2e61da1",
   "metadata": {},
   "outputs": [
    {
     "data": {
      "text/plain": [
       "array([ 11,  64,  92, 142, 180, 217, 311, 403, 408, 438, 506, 515, 593,\n",
       "       595, 616], dtype=int32)"
      ]
     },
     "execution_count": 54,
     "metadata": {},
     "output_type": "execute_result"
    }
   ],
   "source": [
    "np.cumsum(a)"
   ]
  },
  {
   "cell_type": "code",
   "execution_count": 55,
   "id": "0c8753ee",
   "metadata": {},
   "outputs": [
    {
     "data": {
      "text/plain": [
       "array([[0.87796658, 1.18313955, 1.50947942, 1.58093412],\n",
       "       [0.6482254 , 0.77308703, 1.08281764, 1.79939854],\n",
       "       [0.17797812, 1.16650789, 2.12522794, 2.9985101 ]])"
      ]
     },
     "execution_count": 55,
     "metadata": {},
     "output_type": "execute_result"
    }
   ],
   "source": [
    "np.cumsum(b,axis = 1)"
   ]
  },
  {
   "cell_type": "code",
   "execution_count": 56,
   "id": "f4c3b251",
   "metadata": {},
   "outputs": [
    {
     "data": {
      "text/plain": [
       "array([         11,         583,       16324,      816200,    31015600,\n",
       "        1147577200,   498074400, -1421795456,  1480957312,  1479046400,\n",
       "        1790907392, -1061702656, -1208428544,  1878110208,   785608704],\n",
       "      dtype=int32)"
      ]
     },
     "execution_count": 56,
     "metadata": {},
     "output_type": "execute_result"
    }
   ],
   "source": [
    "np.cumprod(a)"
   ]
  },
  {
   "cell_type": "code",
   "execution_count": 57,
   "id": "025693d4",
   "metadata": {},
   "outputs": [
    {
     "data": {
      "text/plain": [
       "array([[0.87796658, 0.30517297, 0.32633987, 0.0714547 ],\n",
       "       [0.56912023, 0.03810439, 0.10107745, 0.05120308],\n",
       "       [0.10129095, 0.03766733, 0.09690498, 0.04471473]])"
      ]
     },
     "execution_count": 57,
     "metadata": {},
     "output_type": "execute_result"
    }
   ],
   "source": [
    "np.cumprod(b,axis = 0)"
   ]
  },
  {
   "cell_type": "markdown",
   "id": "95b7aea7",
   "metadata": {},
   "source": [
    "#### np.percentile\n",
    "numpy.percentile()function used to compute the nth percentile of the given data (array elements) along the specified axis.\n",
    "\n",
    "https://numpy.org/doc/stable/reference/generated/numpy.percentile.html"
   ]
  },
  {
   "cell_type": "code",
   "execution_count": 58,
   "id": "03d0644a",
   "metadata": {},
   "outputs": [
    {
     "data": {
      "text/plain": [
       "array([11, 53, 28, 50, 38, 37, 94, 92,  5, 30, 68,  9, 78,  2, 21])"
      ]
     },
     "execution_count": 58,
     "metadata": {},
     "output_type": "execute_result"
    }
   ],
   "source": [
    "a"
   ]
  },
  {
   "cell_type": "code",
   "execution_count": 60,
   "id": "76054881",
   "metadata": {},
   "outputs": [
    {
     "data": {
      "text/plain": [
       "16.0"
      ]
     },
     "execution_count": 60,
     "metadata": {},
     "output_type": "execute_result"
    }
   ],
   "source": [
    "np.percentile(a,25)"
   ]
  },
  {
   "cell_type": "code",
   "execution_count": 61,
   "id": "5898fac2",
   "metadata": {},
   "outputs": [
    {
     "data": {
      "text/plain": [
       "array([ 2,  5,  9, 11, 21, 28, 30, 37, 38, 50, 53, 68, 78, 92, 94])"
      ]
     },
     "execution_count": 61,
     "metadata": {},
     "output_type": "execute_result"
    }
   ],
   "source": [
    "np.sort(a)"
   ]
  },
  {
   "cell_type": "code",
   "execution_count": 62,
   "id": "f38d8ee0",
   "metadata": {},
   "outputs": [
    {
     "data": {
      "text/plain": [
       "37.0"
      ]
     },
     "execution_count": 62,
     "metadata": {},
     "output_type": "execute_result"
    }
   ],
   "source": [
    "np.percentile(a,50)"
   ]
  },
  {
   "cell_type": "code",
   "execution_count": 63,
   "id": "2c4d60a5",
   "metadata": {},
   "outputs": [
    {
     "data": {
      "text/plain": [
       "94.0"
      ]
     },
     "execution_count": 63,
     "metadata": {},
     "output_type": "execute_result"
    }
   ],
   "source": [
    "np.percentile(a,100)"
   ]
  },
  {
   "cell_type": "markdown",
   "id": "08f4fc27",
   "metadata": {},
   "source": [
    "##### np.histogram\n",
    "Numpy has a built-in numpy.histogram() function which represents the frequency of data distribution in the graphical form.\n",
    "\n",
    "https://numpy.org/doc/stable/reference/generated/numpy.histogram.html"
   ]
  },
  {
   "cell_type": "code",
   "execution_count": 64,
   "id": "80a59b49",
   "metadata": {},
   "outputs": [
    {
     "data": {
      "text/plain": [
       "array([11, 53, 28, 50, 38, 37, 94, 92,  5, 30, 68,  9, 78,  2, 21])"
      ]
     },
     "execution_count": 64,
     "metadata": {},
     "output_type": "execute_result"
    }
   ],
   "source": [
    "a"
   ]
  },
  {
   "cell_type": "code",
   "execution_count": 65,
   "id": "556fe3d0",
   "metadata": {},
   "outputs": [
    {
     "data": {
      "text/plain": [
       "(array([5, 4, 3, 3], dtype=int64), array([  0,  25,  50,  75, 100]))"
      ]
     },
     "execution_count": 65,
     "metadata": {},
     "output_type": "execute_result"
    }
   ],
   "source": [
    "np.histogram(a,[0,25,50,75,100])"
   ]
  },
  {
   "cell_type": "markdown",
   "id": "017e9b82",
   "metadata": {},
   "source": [
    "#### np.corrcoef\n",
    "Return Pearson product-moment correlation coefficients.\n",
    "\n",
    "https://numpy.org/doc/stable/reference/generated/numpy.corrcoef.html"
   ]
  },
  {
   "cell_type": "code",
   "execution_count": 66,
   "id": "f7f99504",
   "metadata": {},
   "outputs": [],
   "source": [
    "salary = np.array([20000,40000,25000,35000,60000])\n",
    "experience = np.array([1,3,2,4,2])"
   ]
  },
  {
   "cell_type": "code",
   "execution_count": 67,
   "id": "376d0ca9",
   "metadata": {},
   "outputs": [
    {
     "data": {
      "text/plain": [
       "array([[1.        , 0.25344572],\n",
       "       [0.25344572, 1.        ]])"
      ]
     },
     "execution_count": 67,
     "metadata": {},
     "output_type": "execute_result"
    }
   ],
   "source": [
    "np.corrcoef(salary,experience)"
   ]
  },
  {
   "cell_type": "markdown",
   "id": "c00a3cd3",
   "metadata": {},
   "source": [
    "#### np.isin\n",
    "With the help of numpy.isin() method, we can see that one array having values are checked in a different numpy array having different elements with different sizes.\n",
    "\n",
    "https://numpy.org/doc/stable/reference/generated/numpy.isin.html"
   ]
  },
  {
   "cell_type": "code",
   "execution_count": 68,
   "id": "c0cd1ccd",
   "metadata": {},
   "outputs": [
    {
     "data": {
      "text/plain": [
       "array([11, 53, 28, 50, 38, 37, 94, 92,  5, 30, 68,  9, 78,  2, 21])"
      ]
     },
     "execution_count": 68,
     "metadata": {},
     "output_type": "execute_result"
    }
   ],
   "source": [
    "a"
   ]
  },
  {
   "cell_type": "code",
   "execution_count": 71,
   "id": "28a69f32",
   "metadata": {},
   "outputs": [],
   "source": [
    "x = np.isin(a,[0,10,20,30,40,50,60,70,80,100])"
   ]
  },
  {
   "cell_type": "code",
   "execution_count": 73,
   "id": "40cbe894",
   "metadata": {},
   "outputs": [
    {
     "data": {
      "text/plain": [
       "array([50, 30])"
      ]
     },
     "execution_count": 73,
     "metadata": {},
     "output_type": "execute_result"
    }
   ],
   "source": [
    "a[x]"
   ]
  },
  {
   "cell_type": "markdown",
   "id": "a97df2ce",
   "metadata": {},
   "source": [
    "###### np.flip\n",
    "The numpy.flip() function reverses the order of array elements along the specified axis, preserving the shape of the array.\n",
    "\n",
    "https://numpy.org/doc/stable/reference/generated/numpy.flip.html"
   ]
  },
  {
   "cell_type": "code",
   "execution_count": 74,
   "id": "e6cc4ff7",
   "metadata": {},
   "outputs": [
    {
     "data": {
      "text/plain": [
       "array([11, 53, 28, 50, 38, 37, 94, 92,  5, 30, 68,  9, 78,  2, 21])"
      ]
     },
     "execution_count": 74,
     "metadata": {},
     "output_type": "execute_result"
    }
   ],
   "source": [
    "a "
   ]
  },
  {
   "cell_type": "code",
   "execution_count": 75,
   "id": "d1c4ca78",
   "metadata": {},
   "outputs": [
    {
     "data": {
      "text/plain": [
       "array([21,  2, 78,  9, 68, 30,  5, 92, 94, 37, 38, 50, 28, 53, 11])"
      ]
     },
     "execution_count": 75,
     "metadata": {},
     "output_type": "execute_result"
    }
   ],
   "source": [
    "np.flip(a)"
   ]
  },
  {
   "cell_type": "code",
   "execution_count": 76,
   "id": "a8a51192",
   "metadata": {},
   "outputs": [
    {
     "data": {
      "text/plain": [
       "array([[0.87796658, 0.30517297, 0.32633987, 0.0714547 ],\n",
       "       [0.6482254 , 0.12486163, 0.30973062, 0.7165809 ],\n",
       "       [0.17797812, 0.98852977, 0.95872006, 0.87328215]])"
      ]
     },
     "execution_count": 76,
     "metadata": {},
     "output_type": "execute_result"
    }
   ],
   "source": [
    "b"
   ]
  },
  {
   "cell_type": "code",
   "execution_count": 77,
   "id": "c41e839b",
   "metadata": {},
   "outputs": [
    {
     "data": {
      "text/plain": [
       "array([[0.87328215, 0.95872006, 0.98852977, 0.17797812],\n",
       "       [0.7165809 , 0.30973062, 0.12486163, 0.6482254 ],\n",
       "       [0.0714547 , 0.32633987, 0.30517297, 0.87796658]])"
      ]
     },
     "execution_count": 77,
     "metadata": {},
     "output_type": "execute_result"
    }
   ],
   "source": [
    "np.flip(b)"
   ]
  },
  {
   "cell_type": "code",
   "execution_count": 78,
   "id": "96b53993",
   "metadata": {},
   "outputs": [
    {
     "data": {
      "text/plain": [
       "array([[0.0714547 , 0.32633987, 0.30517297, 0.87796658],\n",
       "       [0.7165809 , 0.30973062, 0.12486163, 0.6482254 ],\n",
       "       [0.87328215, 0.95872006, 0.98852977, 0.17797812]])"
      ]
     },
     "execution_count": 78,
     "metadata": {},
     "output_type": "execute_result"
    }
   ],
   "source": [
    "np.flip(b,axis = 1)"
   ]
  },
  {
   "cell_type": "markdown",
   "id": "bac3ec0a",
   "metadata": {},
   "source": [
    "#### np.put\n",
    "The numpy.put() function replaces specific elements of an array with given values of p_array. Array indexed works on flattened array.\n",
    "\n",
    "https://numpy.org/doc/stable/reference/generated/numpy.put.html"
   ]
  },
  {
   "cell_type": "code",
   "execution_count": 79,
   "id": "8097a7bb",
   "metadata": {},
   "outputs": [
    {
     "data": {
      "text/plain": [
       "array([11, 53, 28, 50, 38, 37, 94, 92,  5, 30, 68,  9, 78,  2, 21])"
      ]
     },
     "execution_count": 79,
     "metadata": {},
     "output_type": "execute_result"
    }
   ],
   "source": [
    "a "
   ]
  },
  {
   "cell_type": "code",
   "execution_count": 80,
   "id": "8c65f012",
   "metadata": {},
   "outputs": [],
   "source": [
    "np.put(a,[0,1],[19,99])"
   ]
  },
  {
   "cell_type": "code",
   "execution_count": 81,
   "id": "32df4a27",
   "metadata": {},
   "outputs": [
    {
     "data": {
      "text/plain": [
       "array([19, 99, 28, 50, 38, 37, 94, 92,  5, 30, 68,  9, 78,  2, 21])"
      ]
     },
     "execution_count": 81,
     "metadata": {},
     "output_type": "execute_result"
    }
   ],
   "source": [
    "a"
   ]
  },
  {
   "cell_type": "markdown",
   "id": "4da81ec3",
   "metadata": {},
   "source": [
    "#### np.delete\n",
    "The numpy.delete() function returns a new array with the deletion of sub-arrays along with the mentioned axis.\n",
    "\n",
    "https://numpy.org/doc/stable/reference/generated/numpy.delete.html"
   ]
  },
  {
   "cell_type": "code",
   "execution_count": 82,
   "id": "22ff4317",
   "metadata": {},
   "outputs": [
    {
     "data": {
      "text/plain": [
       "array([19, 99, 28, 50, 38, 37, 94, 92,  5, 30, 68,  9, 78,  2, 21])"
      ]
     },
     "execution_count": 82,
     "metadata": {},
     "output_type": "execute_result"
    }
   ],
   "source": [
    "a"
   ]
  },
  {
   "cell_type": "code",
   "execution_count": 83,
   "id": "8db6ecd3",
   "metadata": {},
   "outputs": [
    {
     "data": {
      "text/plain": [
       "array([19, 99, 28, 50, 38, 37, 94, 92,  5, 30, 68,  9, 78])"
      ]
     },
     "execution_count": 83,
     "metadata": {},
     "output_type": "execute_result"
    }
   ],
   "source": [
    "np.delete(a,[-1,-2])"
   ]
  },
  {
   "cell_type": "markdown",
   "id": "6ccafdf6",
   "metadata": {},
   "source": [
    "#### Set functions\n",
    "- np.union1d\n",
    "- np.intersect1d\n",
    "- np.setdiff1d\n",
    "- np.setxor1d\n",
    "- np.in1d"
   ]
  },
  {
   "cell_type": "code",
   "execution_count": 84,
   "id": "690f9133",
   "metadata": {},
   "outputs": [
    {
     "data": {
      "text/plain": [
       "array([1, 2, 3, 4, 5, 6, 7])"
      ]
     },
     "execution_count": 84,
     "metadata": {},
     "output_type": "execute_result"
    }
   ],
   "source": [
    "m = np.array([1,2,3,4,5])\n",
    "n = np.array([3,4,5,6,7])\n",
    "\n",
    "np.union1d(m,n)"
   ]
  },
  {
   "cell_type": "code",
   "execution_count": 85,
   "id": "ff55d60e",
   "metadata": {},
   "outputs": [
    {
     "data": {
      "text/plain": [
       "array([3, 4, 5])"
      ]
     },
     "execution_count": 85,
     "metadata": {},
     "output_type": "execute_result"
    }
   ],
   "source": [
    "np.intersect1d(m,n)"
   ]
  },
  {
   "cell_type": "code",
   "execution_count": 86,
   "id": "41b3ed68",
   "metadata": {},
   "outputs": [
    {
     "data": {
      "text/plain": [
       "array([1, 2])"
      ]
     },
     "execution_count": 86,
     "metadata": {},
     "output_type": "execute_result"
    }
   ],
   "source": [
    "np.setdiff1d(m,n)"
   ]
  },
  {
   "cell_type": "code",
   "execution_count": 87,
   "id": "d2e0b881",
   "metadata": {},
   "outputs": [
    {
     "data": {
      "text/plain": [
       "array([1, 2, 6, 7])"
      ]
     },
     "execution_count": 87,
     "metadata": {},
     "output_type": "execute_result"
    }
   ],
   "source": [
    "np.setxor1d(m,n)"
   ]
  },
  {
   "cell_type": "code",
   "execution_count": 88,
   "id": "d8385984",
   "metadata": {},
   "outputs": [
    {
     "data": {
      "text/plain": [
       "array([False, False,  True,  True,  True])"
      ]
     },
     "execution_count": 88,
     "metadata": {},
     "output_type": "execute_result"
    }
   ],
   "source": [
    "np.in1d(m,n)"
   ]
  },
  {
   "cell_type": "markdown",
   "id": "372b5ca5",
   "metadata": {},
   "source": [
    "###### np.clip\n",
    "numpy.clip() function is used to Clip (limit) the values in an array.\n",
    "\n",
    "https://numpy.org/doc/stable/reference/generated/numpy.clip.html"
   ]
  },
  {
   "cell_type": "code",
   "execution_count": 92,
   "id": "4bf1c1da",
   "metadata": {},
   "outputs": [
    {
     "data": {
      "text/plain": [
       "array([19, 99, 28, 50, 38, 37, 94, 92,  5, 30, 68,  9, 78,  2, 21])"
      ]
     },
     "execution_count": 92,
     "metadata": {},
     "output_type": "execute_result"
    }
   ],
   "source": [
    "a"
   ]
  },
  {
   "cell_type": "code",
   "execution_count": 90,
   "id": "01781c63",
   "metadata": {},
   "outputs": [],
   "source": [
    "x = np.array([2,23,45,54,65,22,34,78,98,50,40,85,92,32])"
   ]
  },
  {
   "cell_type": "code",
   "execution_count": 91,
   "id": "7f5275aa",
   "metadata": {},
   "outputs": [
    {
     "data": {
      "text/plain": [
       "array([25, 25, 45, 54, 65, 25, 34, 75, 75, 50, 40, 75, 75, 32])"
      ]
     },
     "execution_count": 91,
     "metadata": {},
     "output_type": "execute_result"
    }
   ],
   "source": [
    "np.clip(x,a_min = 25,a_max= 75)"
   ]
  },
  {
   "cell_type": "code",
   "execution_count": null,
   "id": "0ed5e261",
   "metadata": {},
   "outputs": [],
   "source": []
  }
 ],
 "metadata": {
  "kernelspec": {
   "display_name": "Python 3 (ipykernel)",
   "language": "python",
   "name": "python3"
  },
  "language_info": {
   "codemirror_mode": {
    "name": "ipython",
    "version": 3
   },
   "file_extension": ".py",
   "mimetype": "text/x-python",
   "name": "python",
   "nbconvert_exporter": "python",
   "pygments_lexer": "ipython3",
   "version": "3.9.13"
  }
 },
 "nbformat": 4,
 "nbformat_minor": 5
}
