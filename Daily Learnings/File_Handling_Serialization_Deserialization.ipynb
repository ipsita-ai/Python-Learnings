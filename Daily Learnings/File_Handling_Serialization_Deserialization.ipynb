{
 "cells": [
  {
   "cell_type": "markdown",
   "id": "5505b9f5",
   "metadata": {},
   "source": [
    "##### Some Theory\n",
    "###### Types of data used for I/O:\n",
    "- Text - '12345' as a sequence of unicode chars\n",
    "- Binary - 12345 as a sequence of bytes of its binary equivalent\n",
    "###### Hence there are 2 file types to deal with\n",
    "- Text files - All program files are text files\n",
    "- Binary Files - Images,music,video,exe files"
   ]
  },
  {
   "cell_type": "markdown",
   "id": "ffad3a05",
   "metadata": {},
   "source": [
    "##### How File I/O is done in most programming languages\n",
    "- Open a file\n",
    "- Read/Write data\n",
    "- Close the file"
   ]
  },
  {
   "cell_type": "code",
   "execution_count": 1,
   "id": "f07ce4a7",
   "metadata": {},
   "outputs": [],
   "source": [
    "## Writing to a file "
   ]
  },
  {
   "cell_type": "code",
   "execution_count": 2,
   "id": "454d4d3a",
   "metadata": {},
   "outputs": [],
   "source": [
    "# Case 1 : if the file is not present"
   ]
  },
  {
   "cell_type": "code",
   "execution_count": 7,
   "id": "a6c52a70",
   "metadata": {},
   "outputs": [],
   "source": [
    "# Creation of file handler object\n",
    "f = open('sample.txt','w')\n",
    "f.write('Hi Happy to see you')\n",
    "f.close()\n",
    "# since file is closed, the write operation on file would not work\n",
    "# f.write('hello')"
   ]
  },
  {
   "cell_type": "code",
   "execution_count": 9,
   "id": "d4751747",
   "metadata": {},
   "outputs": [],
   "source": [
    "# write multiple line strings\n",
    "f = open('sample1.txt','w')\n",
    "f.write('Hello world')\n",
    "f.write('\\nHow are you ?')\n",
    "f.close()"
   ]
  },
  {
   "cell_type": "code",
   "execution_count": 11,
   "id": "01f10e94",
   "metadata": {},
   "outputs": [],
   "source": [
    "# case 2 - if the file is already present\n",
    "f = open('sample.txt','w')\n",
    "f.write('Bill Gates')\n",
    "f.close()"
   ]
  },
  {
   "cell_type": "code",
   "execution_count": 12,
   "id": "0eada476",
   "metadata": {},
   "outputs": [],
   "source": [
    "# How exactly open works?\n",
    "# file is loaded in RAM within buffer memory from hard drive /rom\n",
    "# Operations happen in ram within buffer memory"
   ]
  },
  {
   "cell_type": "code",
   "execution_count": 13,
   "id": "c3a2416d",
   "metadata": {},
   "outputs": [],
   "source": [
    "# Problem with w mode (replaces old value)\n",
    "# introducing append mode\n",
    "f = open('sample.txt','a')\n",
    "f.write('\\n I am fine Mr. Bill Gates')\n",
    "f.close()"
   ]
  },
  {
   "cell_type": "code",
   "execution_count": 18,
   "id": "990f2dae",
   "metadata": {},
   "outputs": [],
   "source": [
    "# Write lines\n",
    "L = ['hello\\n','hi\\n','how are u\\n','I am fine\\n']\n",
    "f = open('sample.txt','w')\n",
    "f.writelines(L)\n",
    "# it is a good idea to close because you will remove this file from memory(RAM)\n",
    "# Memory efficient\n",
    "# Safety\n",
    "f.close()"
   ]
  },
  {
   "cell_type": "code",
   "execution_count": 19,
   "id": "f4b283d3",
   "metadata": {},
   "outputs": [
    {
     "name": "stdout",
     "output_type": "stream",
     "text": [
      "hello\n",
      "hi\n",
      "how are u\n",
      "I am fine\n",
      "\n"
     ]
    }
   ],
   "source": [
    "# reading from files \n",
    "# --> using read()\n",
    "f = open('sample.txt','r')\n",
    "print(f.read())\n",
    "f.close()"
   ]
  },
  {
   "cell_type": "code",
   "execution_count": 23,
   "id": "a55d0601",
   "metadata": {},
   "outputs": [
    {
     "name": "stdout",
     "output_type": "stream",
     "text": [
      "hello\n",
      "hi\n"
     ]
    }
   ],
   "source": [
    "# reading upto 8 charecters only\n",
    "\n",
    "f = open('sample.txt','r')\n",
    "print(f.read(8))\n",
    "f.close()"
   ]
  },
  {
   "cell_type": "code",
   "execution_count": 27,
   "id": "1b1806dd",
   "metadata": {},
   "outputs": [
    {
     "name": "stdout",
     "output_type": "stream",
     "text": [
      "hello\n",
      "hi\n"
     ]
    }
   ],
   "source": [
    "# To read line by line\n",
    "# When you have very big file , using readline is useful because then less data is loaded in memory\n",
    "f = open('sample.txt','r')\n",
    "print(f.readline(),end = '')\n",
    "print(f.readline(),end= '')\n",
    "f.close()"
   ]
  },
  {
   "cell_type": "code",
   "execution_count": 3,
   "id": "f51f5b7e",
   "metadata": {},
   "outputs": [
    {
     "name": "stdout",
     "output_type": "stream",
     "text": [
      "hello\n",
      "hi\n",
      "how are u\n",
      "I am fine\n"
     ]
    }
   ],
   "source": [
    "# reading entire using readline\n",
    "f = open('sample.txt','r')\n",
    "while True:\n",
    "    data = f.readline()\n",
    "    if data == '':\n",
    "        break\n",
    "    else:\n",
    "        print(data,end = '')\n",
    "f.close()"
   ]
  },
  {
   "cell_type": "markdown",
   "id": "e9c79ec4",
   "metadata": {},
   "source": [
    "##### Using Context Manager (With)\n",
    "- It's a good idea to close a file after usage as it will free up the resources\n",
    "- If we dont close it, garbage collector would close it\n",
    "- with keyword closes the file as soon as the usage is over"
   ]
  },
  {
   "cell_type": "code",
   "execution_count": 9,
   "id": "7363d3a9",
   "metadata": {},
   "outputs": [],
   "source": [
    "with open('sample.txt','a') as f:\n",
    "    f.write('This is a new line')"
   ]
  },
  {
   "cell_type": "code",
   "execution_count": 10,
   "id": "d30201c5",
   "metadata": {},
   "outputs": [
    {
     "name": "stdout",
     "output_type": "stream",
     "text": [
      "hello\n",
      "hi\n",
      "how are u\n",
      "I am fine\n",
      "This is a new line"
     ]
    }
   ],
   "source": [
    "with open('sample.txt','r') as f:\n",
    "    print(f.read(),end='')"
   ]
  },
  {
   "cell_type": "code",
   "execution_count": 11,
   "id": "1ba43ecb",
   "metadata": {},
   "outputs": [
    {
     "name": "stdout",
     "output_type": "stream",
     "text": [
      "hello\n",
      "hi\n",
      "how are u\n",
      "I"
     ]
    }
   ],
   "source": [
    "# moving within a file --> read 10 char then 10 char\n",
    "with open('sample.txt','r') as f:\n",
    "    print(f.read(10),end='')\n",
    "    print(f.read(10),end='')"
   ]
  },
  {
   "cell_type": "code",
   "execution_count": 12,
   "id": "a6ca42fe",
   "metadata": {},
   "outputs": [],
   "source": [
    "big_l = ['Hello world' for i in range(1000)]\n",
    "with open('big.txt','w') as f:\n",
    "    f.writelines(big_l)"
   ]
  },
  {
   "cell_type": "code",
   "execution_count": 18,
   "id": "6e91a3d1",
   "metadata": {},
   "outputs": [
    {
     "name": "stdout",
     "output_type": "stream",
     "text": [
      "dHello wororldHello o worldHelello worldldHello woworldHellolo worldHeHello worlrldHello w worldHellllo worldHdHello wororldHello o worldHelello worldldHello woworldHellolo worldHeHello worlrldHello w worldHellllo worldHdHello wororldHello o worldHelello worldldHello woworldHellolo worldHeHello worlrldHello w worldHellllo worldHdHello wororldHello o worldHelello worldldHello woworldHellolo worldHeHello worlrldHello w worldHellllo worldHdHello wororldHello o worldHelello worldldHello woworldHellolo worldHeHello worlrldHello w worldHellllo worldHdHello wororldHello o worldHelello worldldHello woworldHellolo worldHeHello worlrldHello w worldHellllo worldHdHello wororldHello o worldHelello worldldHello woworldHellolo worldHeHello worlrldHello w worldHellllo worldHdHello wororldHello o worldHelello worldldHello woworldHellolo worldHeHello worlrldHello w worldHellllo worldHdHello wororldHello o worldHelello worldldHello woworldHellolo worldHeHello worlrldHello w worldHellllo worldHdHello wororldHello o worldHelello worldldHello woworldHellolo worldHeHello worlrldHello w worldHellllo worldHdHello wororldHello o worldHelello worldldHello woworldHellolo worldHeHello worlrldHello w worldHellllo worldHdHello wororldHello o worldHelello worldldHello woworldHellolo worldHeHello worlrldHello w worldHellllo worldHdHello wororldHello o worldHelello worldldHello woworldHellolo worldHeHello worlrldHello w worldHellllo worldHdHello wororldHello o worldHelello worldldHello woworldHellolo worldHeHello worlrldHello w worldHellllo worldHdHello wororldHello o worldHelello worldldHello woworldHellolo worldHeHello worlrldHello w worldHellllo worldHdHello wororldHello o worldHelello worldldHello woworldHellolo worldHeHello worlrldHello w worldHellllo worldHdHello wororldHello o worldHelello worldldHello woworldHellolo worldHeHello worlrldHello w worldHellllo worldHdHello wororldHello o worldHelello worldldHello woworldHellolo worldHeHello worlrldHello w worldHellllo worldHdHello wororldHello o worldHelello worldldHello woworldHellolo worldHeHello worlrldHello w worldHellllo worldHdHello wororldHello o worldHelello worldldHello woworldHellolo worldHeHello worlrldHello w worldHellllo worldHdHello wororldHello o worldHelello worldldHello woworldHellolo worldHeHello worlrldHello w worldHellllo worldHdHello wororldHello o worldHelello worldldHello woworldHellolo worldHeHello worlrldHello w worldHellllo worldHdHello wororldHello o worldHelello worldldHello woworldHellolo worldHeHello worlrldHello w worldHellllo worldHdHello wororldHello o worldHelello worldldHello woworldHellolo worldHeHello worlrldHello w worldHellllo worldHdHello wororldHello o worldHelello worldldHello woworldHellolo worldHeHello worlrldHello w worldHellllo worldHdHello wororldHello o worldHelello worldldHello woworldHellolo worldHeHello worlrldHello w worldHellllo worldHdHello wororldHello o worldHelello worldldHello woworldHellolo worldHeHello worlrldHello w worldHellllo worldHdHello wororldHello o worldHelello worldldHello woworldHellolo worldHeHello worlrldHello w worldHellllo worldHdHello wororldHello o worldHelello worldldHello woworldHellolo worldHeHello worlrldHello w worldHellllo worldHdHello wororldHello o worldHelello worldldHello woworldHellolo worldHeHello worlrldHello w worldHellllo worldHdHello wororldHello o worldHelello worldldHello woworldHellolo worldHeHello worlrldHello w worldHellllo worldHdHello wororldHello o worldHelello worldldHello woworldHellolo worldHeHello worlrldHello w worldHellllo worldHdHello wororldHello o worldHelello worldldHello woworldHellolo worldHeHello worlrldHello w worldHellllo worldHdHello wororldHello o worldHelello world"
     ]
    }
   ],
   "source": [
    "with open('big.txt','r') as f:\n",
    "    chunk_size = 10\n",
    "    while len(f.read(chunk_size)) > 0:\n",
    "        print(f.read(chunk_size),end = '')\n",
    "        f.read(chunk_size)"
   ]
  },
  {
   "cell_type": "code",
   "execution_count": 19,
   "id": "c5178341",
   "metadata": {},
   "outputs": [
    {
     "name": "stdout",
     "output_type": "stream",
     "text": [
      "\n",
      "hi\n",
      "how ar\n",
      "15\n"
     ]
    }
   ],
   "source": [
    "with open('sample.txt','r') as f:\n",
    "    f.seek(5)\n",
    "    print(f.read(10))\n",
    "    print(f.tell())"
   ]
  },
  {
   "cell_type": "code",
   "execution_count": 24,
   "id": "0f0461c7",
   "metadata": {},
   "outputs": [
    {
     "name": "stdout",
     "output_type": "stream",
     "text": [
      "47\n"
     ]
    }
   ],
   "source": [
    "# reaching to the end of a file\n",
    "with open('sample.txt','r') as f:\n",
    "    while f.read() != '':\n",
    "        continue\n",
    "    else:\n",
    "        print(f.tell())"
   ]
  },
  {
   "cell_type": "code",
   "execution_count": 25,
   "id": "b8f2942c",
   "metadata": {},
   "outputs": [
    {
     "name": "stdout",
     "output_type": "stream",
     "text": [
      "ew line\n",
      "47\n"
     ]
    }
   ],
   "source": [
    "with open('sample.txt','r') as f:\n",
    "    f.seek(40)\n",
    "    print(f.read(10))\n",
    "    print(f.tell())"
   ]
  },
  {
   "cell_type": "code",
   "execution_count": 27,
   "id": "37e8b9f0",
   "metadata": {},
   "outputs": [],
   "source": [
    "with open('sample.txt','w') as f:\n",
    "    f.write('Hello')\n",
    "    f.seek(0)\n",
    "    f.write('Xa')"
   ]
  },
  {
   "cell_type": "markdown",
   "id": "694aa074",
   "metadata": {},
   "source": [
    "##### Problems with working in text mode\n",
    "- can't work with binary files like images\n",
    "- not good for other data types like int/float/list/tuples"
   ]
  },
  {
   "cell_type": "code",
   "execution_count": 29,
   "id": "96eaf920",
   "metadata": {},
   "outputs": [],
   "source": [
    "# Working with binary file\n",
    "with open('living.jpg','rb') as f:\n",
    "    with open('screenshot.jpg','wb') as s:\n",
    "        s.write(f.read())"
   ]
  },
  {
   "cell_type": "code",
   "execution_count": 31,
   "id": "aebe490d",
   "metadata": {},
   "outputs": [],
   "source": [
    "# working with other data type\n",
    "with open('sample.txt','w') as f:\n",
    "    # f.write(5) int will not work\n",
    "    f.write('5')"
   ]
  },
  {
   "cell_type": "code",
   "execution_count": 34,
   "id": "868ccbbc",
   "metadata": {},
   "outputs": [],
   "source": [
    "with open('sample.txt','r') as f:\n",
    "    # f.write(5) int will not work\n",
    "    # f.read() + 5\n",
    "    f.read() + '5'"
   ]
  },
  {
   "cell_type": "code",
   "execution_count": 36,
   "id": "bd3fa7fc",
   "metadata": {},
   "outputs": [],
   "source": [
    "# More complex data type\n",
    "d = {'name' : 'ipsita','age':33,'gender':'female'}\n",
    "with open('sample.txt','w') as f:\n",
    "    # f.write(d) cannot write dictionary\n",
    "    f.write(str(d))"
   ]
  },
  {
   "cell_type": "code",
   "execution_count": 38,
   "id": "ddd8720e",
   "metadata": {},
   "outputs": [
    {
     "name": "stdout",
     "output_type": "stream",
     "text": [
      "{'name': 'ipsita', 'age': 33, 'gender': 'female'}\n"
     ]
    }
   ],
   "source": [
    "with open('sample.txt','r') as f:\n",
    "    # print(dict(f.read())) cannot convert text to dictionary\n",
    "    print(f.read())"
   ]
  },
  {
   "cell_type": "code",
   "execution_count": 39,
   "id": "050c3a49",
   "metadata": {},
   "outputs": [],
   "source": [
    "# Serialization and Deserialization"
   ]
  },
  {
   "cell_type": "code",
   "execution_count": 40,
   "id": "d5b9ce01",
   "metadata": {},
   "outputs": [],
   "source": [
    "# Serialization : Process of converting python data type to JSON\n",
    "# Deserialization : Process of converting JSON to python object\n",
    "# JSON : Javascript object notation"
   ]
  },
  {
   "attachments": {
    "image.png": {
     "image/png": "[encoded data removed]"
    }
   },
   "cell_type": "markdown",
   "id": "8554a896",
   "metadata": {},
   "source": [
    "![image.png](attachment:image.png)"
   ]
  },
  {
   "cell_type": "code",
   "execution_count": 41,
   "id": "84d34301",
   "metadata": {},
   "outputs": [],
   "source": [
    "# serialization using json module\n",
    "import json\n",
    "l = [1,2,3,4]\n",
    "with open('data.json','w') as f:\n",
    "    json.dump(l,f)"
   ]
  },
  {
   "cell_type": "code",
   "execution_count": 42,
   "id": "056694e9",
   "metadata": {},
   "outputs": [
    {
     "name": "stdout",
     "output_type": "stream",
     "text": [
      "[1, 2, 3, 4]\n"
     ]
    }
   ],
   "source": [
    "with open('data.json','r') as f:\n",
    "    print(json.load(f))"
   ]
  },
  {
   "cell_type": "code",
   "execution_count": 43,
   "id": "1e85f4e5",
   "metadata": {},
   "outputs": [],
   "source": [
    "# Dictionary \n",
    "d = {'name' : 'ipsita','age':33,'gender':'female'}\n",
    "with open('data.json','w') as f:\n",
    "    json.dump(d,f,indent = 4)"
   ]
  },
  {
   "cell_type": "code",
   "execution_count": 48,
   "id": "fadace17",
   "metadata": {},
   "outputs": [
    {
     "name": "stdout",
     "output_type": "stream",
     "text": [
      "{'name': 'ipsita', 'age': 33, 'gender': 'female'}\n",
      "<class 'dict'>\n"
     ]
    }
   ],
   "source": [
    "with open('data.json','r') as f:\n",
    "    a = json.load(f)\n",
    "    print(a)\n",
    "    print(type(a))"
   ]
  },
  {
   "cell_type": "code",
   "execution_count": 50,
   "id": "86269d19",
   "metadata": {},
   "outputs": [
    {
     "name": "stdout",
     "output_type": "stream",
     "text": [
      "[1, 2, 3, 4]\n"
     ]
    }
   ],
   "source": [
    "# serialize and deserialize tuple\n",
    "x = (1,2,3,4)\n",
    "with open('data.json','w') as f:\n",
    "    json.dump(x,f)\n",
    "with open('data.json','r') as f:\n",
    "    a = json.load(f)    \n",
    "    print(a)"
   ]
  },
  {
   "cell_type": "code",
   "execution_count": 56,
   "id": "b7c23856",
   "metadata": {},
   "outputs": [
    {
     "name": "stdout",
     "output_type": "stream",
     "text": [
      "{'name': 'Ipsita Panda', 'marks': [89, 90, 78, 99, 88, 95]} <class 'dict'>\n"
     ]
    }
   ],
   "source": [
    "d = {\n",
    "    'name' : 'Ipsita Panda',\n",
    "    'marks' : [89,90,78,99,88,95]\n",
    "}\n",
    "#serialization\n",
    "with open('data.json','w') as f:\n",
    "    json.dump(d,f)\n",
    "# deserialization\n",
    "with open('data.json','r') as f:\n",
    "    a = json.load(f)\n",
    "    print(a,type(a))"
   ]
  },
  {
   "cell_type": "code",
   "execution_count": 57,
   "id": "ec9f338e",
   "metadata": {},
   "outputs": [],
   "source": [
    "# Serializing and Deserializing Custom Objects\n",
    "class Person:\n",
    "    def __init__(self,fname,lname,age,gender):\n",
    "        self.fname = fname\n",
    "        self.lname = lname\n",
    "        self.age = age\n",
    "        self.gender = gender\n"
   ]
  },
  {
   "cell_type": "code",
   "execution_count": 58,
   "id": "04e46bbf",
   "metadata": {},
   "outputs": [],
   "source": [
    "person = Person('Ipsita','Panda',33,'Female')"
   ]
  },
  {
   "cell_type": "code",
   "execution_count": 61,
   "id": "cd8f334a",
   "metadata": {},
   "outputs": [],
   "source": [
    "import json\n",
    "def show_obj(person):\n",
    "    if isinstance(person,Person):\n",
    "        return '{} {} , age --> {},gender --> {}'.format(person.fname,person.lname,person.age,person.gender)\n",
    "with open('data.json','w') as f:\n",
    "    json.dump(person,f,default = show_obj)"
   ]
  },
  {
   "cell_type": "code",
   "execution_count": 62,
   "id": "6bee5411",
   "metadata": {},
   "outputs": [
    {
     "name": "stdout",
     "output_type": "stream",
     "text": [
      "{'name': 'Ipsita Panda', 'age': 33, 'gender': 'Female'}\n"
     ]
    }
   ],
   "source": [
    "# As a dict\n",
    "import json\n",
    "def show_obj(person):\n",
    "    if isinstance(person,Person):\n",
    "        return {'name' : person.fname +' '+person.lname,'age' : person.age,'gender' : person.gender}\n",
    "with open('data.json','w') as f:\n",
    "    json.dump(person,f,default = show_obj)\n",
    "with open('data.json','r') as f:\n",
    "    print(json.load(f))"
   ]
  },
  {
   "cell_type": "markdown",
   "id": "555fde2e",
   "metadata": {},
   "source": [
    "##### Pickling\n",
    "Pickling is the process whereby a Python object hierarchy is converted into a byte stream, and unpickling is the inverse operation, whereby a byte stream (from a binary file or bytes-like object) is converted back into an object hierarchy."
   ]
  },
  {
   "cell_type": "code",
   "execution_count": 63,
   "id": "fe925ac5",
   "metadata": {},
   "outputs": [],
   "source": [
    "class Person:\n",
    "    def __init__(self,name,age):\n",
    "        self.name = name\n",
    "        self.age = age\n",
    "    def display_info(self):\n",
    "        print('Hi ! My name is',self.name,'and my age is ',self.age,' years old')"
   ]
  },
  {
   "cell_type": "code",
   "execution_count": 64,
   "id": "68b6aa80",
   "metadata": {},
   "outputs": [],
   "source": [
    "p = Person('Ipsita',33)"
   ]
  },
  {
   "cell_type": "code",
   "execution_count": 65,
   "id": "8df10c19",
   "metadata": {},
   "outputs": [
    {
     "name": "stdout",
     "output_type": "stream",
     "text": [
      "Hi ! My name is Ipsita and my age is  33  years old\n"
     ]
    }
   ],
   "source": [
    "p.display_info()"
   ]
  },
  {
   "cell_type": "code",
   "execution_count": 68,
   "id": "85479b69",
   "metadata": {},
   "outputs": [],
   "source": [
    "import pickle\n",
    "with open('person.pkl','wb') as f:\n",
    "    pickle.dump(p,f)\n",
    "with open('person.pkl','rb') as f:\n",
    "    a = pickle.load(f)"
   ]
  },
  {
   "cell_type": "code",
   "execution_count": 69,
   "id": "135c3b13",
   "metadata": {},
   "outputs": [
    {
     "name": "stdout",
     "output_type": "stream",
     "text": [
      "Hi ! My name is Ipsita and my age is  33  years old\n"
     ]
    }
   ],
   "source": [
    "a.display_info()"
   ]
  },
  {
   "cell_type": "code",
   "execution_count": null,
   "id": "e52b33f6",
   "metadata": {},
   "outputs": [],
   "source": [
    " "
   ]
  }
 ],
 "metadata": {
  "kernelspec": {
   "display_name": "Python 3 (ipykernel)",
   "language": "python",
   "name": "python3"
  },
  "language_info": {
   "codemirror_mode": {
    "name": "ipython",
    "version": 3
   },
   "file_extension": ".py",
   "mimetype": "text/x-python",
   "name": "python",
   "nbconvert_exporter": "python",
   "pygments_lexer": "ipython3",
   "version": "3.9.13"
  }
 },
 "nbformat": 4,
 "nbformat_minor": 5
}
