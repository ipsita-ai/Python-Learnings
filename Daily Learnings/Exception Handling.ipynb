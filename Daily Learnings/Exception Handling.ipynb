{
 "cells": [
  {
   "cell_type": "markdown",
   "id": "1b2b6788",
   "metadata": {},
   "source": [
    "##### There are 2 stages where error may happen in a program\n",
    "\n",
    "- During compilation -> Syntax Error\n",
    "- During execution -> Exceptions"
   ]
  },
  {
   "cell_type": "markdown",
   "id": "8e32cdfd",
   "metadata": {},
   "source": [
    "##### Syntax Error\n",
    "- Something in the program is not written according to the program grammar.\n",
    "- Error is raised by the interpreter/compiler\n",
    "- You can solve it by rectifying the program"
   ]
  },
  {
   "cell_type": "code",
   "execution_count": 2,
   "id": "cae84748",
   "metadata": {},
   "outputs": [
    {
     "ename": "SyntaxError",
     "evalue": "Missing parentheses in call to 'print'. Did you mean print('Hello world')? (4230287635.py, line 2)",
     "output_type": "error",
     "traceback": [
      "\u001b[1;36m  File \u001b[1;32m\"C:\\Users\\ipsit\\AppData\\Local\\Temp\\ipykernel_5180\\4230287635.py\"\u001b[1;36m, line \u001b[1;32m2\u001b[0m\n\u001b[1;33m    print 'Hello world'\u001b[0m\n\u001b[1;37m          ^\u001b[0m\n\u001b[1;31mSyntaxError\u001b[0m\u001b[1;31m:\u001b[0m Missing parentheses in call to 'print'. Did you mean print('Hello world')?\n"
     ]
    }
   ],
   "source": [
    "# Example of syntax error\n",
    "print 'Hello world'"
   ]
  },
  {
   "cell_type": "markdown",
   "id": "9c229fa7",
   "metadata": {},
   "source": [
    "##### Other examples of syntax error\n",
    "- Leaving symbols like colon,brackets\n",
    "- Misspelling a keyword\n",
    "- Incorrect indentation\n",
    "- empty if/else/loops/class/functions"
   ]
  },
  {
   "cell_type": "code",
   "execution_count": 3,
   "id": "07e31881",
   "metadata": {},
   "outputs": [
    {
     "ename": "SyntaxError",
     "evalue": "invalid syntax (3315782095.py, line 2)",
     "output_type": "error",
     "traceback": [
      "\u001b[1;36m  File \u001b[1;32m\"C:\\Users\\ipsit\\AppData\\Local\\Temp\\ipykernel_5180\\3315782095.py\"\u001b[1;36m, line \u001b[1;32m2\u001b[0m\n\u001b[1;33m    if a==3\u001b[0m\n\u001b[1;37m           ^\u001b[0m\n\u001b[1;31mSyntaxError\u001b[0m\u001b[1;31m:\u001b[0m invalid syntax\n"
     ]
    }
   ],
   "source": [
    "a = 5\n",
    "if a==3\n",
    "  print('hello')"
   ]
  },
  {
   "cell_type": "code",
   "execution_count": 4,
   "id": "4fab4f40",
   "metadata": {},
   "outputs": [
    {
     "ename": "SyntaxError",
     "evalue": "invalid syntax (521424995.py, line 2)",
     "output_type": "error",
     "traceback": [
      "\u001b[1;36m  File \u001b[1;32m\"C:\\Users\\ipsit\\AppData\\Local\\Temp\\ipykernel_5180\\521424995.py\"\u001b[1;36m, line \u001b[1;32m2\u001b[0m\n\u001b[1;33m    iff a==3:\u001b[0m\n\u001b[1;37m        ^\u001b[0m\n\u001b[1;31mSyntaxError\u001b[0m\u001b[1;31m:\u001b[0m invalid syntax\n"
     ]
    }
   ],
   "source": [
    "a = 5\n",
    "iff a==3:\n",
    "  print('hello')"
   ]
  },
  {
   "cell_type": "code",
   "execution_count": 5,
   "id": "ba81c99c",
   "metadata": {},
   "outputs": [
    {
     "ename": "IndentationError",
     "evalue": "expected an indented block (3610895221.py, line 3)",
     "output_type": "error",
     "traceback": [
      "\u001b[1;36m  File \u001b[1;32m\"C:\\Users\\ipsit\\AppData\\Local\\Temp\\ipykernel_5180\\3610895221.py\"\u001b[1;36m, line \u001b[1;32m3\u001b[0m\n\u001b[1;33m    print('hello')\u001b[0m\n\u001b[1;37m    ^\u001b[0m\n\u001b[1;31mIndentationError\u001b[0m\u001b[1;31m:\u001b[0m expected an indented block\n"
     ]
    }
   ],
   "source": [
    "a = 5\n",
    "if a==3:\n",
    "print('hello')"
   ]
  },
  {
   "cell_type": "code",
   "execution_count": 6,
   "id": "89becab6",
   "metadata": {},
   "outputs": [
    {
     "ename": "IndexError",
     "evalue": "list index out of range",
     "output_type": "error",
     "traceback": [
      "\u001b[1;31m---------------------------------------------------------------------------\u001b[0m",
      "\u001b[1;31mIndexError\u001b[0m                                Traceback (most recent call last)",
      "\u001b[1;32m~\\AppData\\Local\\Temp\\ipykernel_5180\\1870811288.py\u001b[0m in \u001b[0;36m<module>\u001b[1;34m\u001b[0m\n\u001b[0;32m      2\u001b[0m \u001b[1;31m# The IndexError is thrown when trying to access an item at an invalid index.\u001b[0m\u001b[1;33m\u001b[0m\u001b[1;33m\u001b[0m\u001b[0m\n\u001b[0;32m      3\u001b[0m \u001b[0ma\u001b[0m \u001b[1;33m=\u001b[0m \u001b[1;33m[\u001b[0m\u001b[1;36m1\u001b[0m\u001b[1;33m,\u001b[0m\u001b[1;36m2\u001b[0m\u001b[1;33m,\u001b[0m\u001b[1;36m3\u001b[0m\u001b[1;33m]\u001b[0m\u001b[1;33m\u001b[0m\u001b[1;33m\u001b[0m\u001b[0m\n\u001b[1;32m----> 4\u001b[1;33m \u001b[0ma\u001b[0m\u001b[1;33m[\u001b[0m\u001b[1;36m10\u001b[0m\u001b[1;33m]\u001b[0m\u001b[1;33m\u001b[0m\u001b[1;33m\u001b[0m\u001b[0m\n\u001b[0m",
      "\u001b[1;31mIndexError\u001b[0m: list index out of range"
     ]
    }
   ],
   "source": [
    "# IndexError\n",
    "# The IndexError is thrown when trying to access an item at an invalid index.\n",
    "a = [1,2,3]\n",
    "a[10]"
   ]
  },
  {
   "cell_type": "code",
   "execution_count": 8,
   "id": "c2d9a35c",
   "metadata": {},
   "outputs": [
    {
     "ename": "ModuleNotFoundError",
     "evalue": "No module named 'matha'",
     "output_type": "error",
     "traceback": [
      "\u001b[1;31m---------------------------------------------------------------------------\u001b[0m",
      "\u001b[1;31mModuleNotFoundError\u001b[0m                       Traceback (most recent call last)",
      "\u001b[1;32m~\\AppData\\Local\\Temp\\ipykernel_5180\\2782088652.py\u001b[0m in \u001b[0;36m<module>\u001b[1;34m\u001b[0m\n\u001b[0;32m      1\u001b[0m \u001b[1;31m# ModuleNotFoundError\u001b[0m\u001b[1;33m\u001b[0m\u001b[1;33m\u001b[0m\u001b[0m\n\u001b[0;32m      2\u001b[0m \u001b[1;31m# The ModuleNotFoundError is thrown when a module could not be found.\u001b[0m\u001b[1;33m\u001b[0m\u001b[1;33m\u001b[0m\u001b[0m\n\u001b[1;32m----> 3\u001b[1;33m \u001b[1;32mimport\u001b[0m \u001b[0mmatha\u001b[0m\u001b[1;33m\u001b[0m\u001b[1;33m\u001b[0m\u001b[0m\n\u001b[0m\u001b[0;32m      4\u001b[0m \u001b[0mmath\u001b[0m\u001b[1;33m.\u001b[0m\u001b[0mfloor\u001b[0m\u001b[1;33m(\u001b[0m\u001b[1;36m5.6\u001b[0m\u001b[1;33m)\u001b[0m\u001b[1;33m\u001b[0m\u001b[1;33m\u001b[0m\u001b[0m\n",
      "\u001b[1;31mModuleNotFoundError\u001b[0m: No module named 'matha'"
     ]
    }
   ],
   "source": [
    "# ModuleNotFoundError\n",
    "# The ModuleNotFoundError is thrown when a module could not be found.\n",
    "import matha\n",
    "math.floor(5.6)"
   ]
  },
  {
   "cell_type": "code",
   "execution_count": 10,
   "id": "9bb3bd6b",
   "metadata": {},
   "outputs": [
    {
     "ename": "KeyError",
     "evalue": "'age'",
     "output_type": "error",
     "traceback": [
      "\u001b[1;31m---------------------------------------------------------------------------\u001b[0m",
      "\u001b[1;31mKeyError\u001b[0m                                  Traceback (most recent call last)",
      "\u001b[1;32m~\\AppData\\Local\\Temp\\ipykernel_5180\\3320212145.py\u001b[0m in \u001b[0;36m<module>\u001b[1;34m\u001b[0m\n\u001b[0;32m      3\u001b[0m \u001b[1;33m\u001b[0m\u001b[0m\n\u001b[0;32m      4\u001b[0m \u001b[0md\u001b[0m \u001b[1;33m=\u001b[0m \u001b[1;33m{\u001b[0m\u001b[1;34m'name'\u001b[0m\u001b[1;33m:\u001b[0m\u001b[1;34m'Ipsita'\u001b[0m\u001b[1;33m}\u001b[0m\u001b[1;33m\u001b[0m\u001b[1;33m\u001b[0m\u001b[0m\n\u001b[1;32m----> 5\u001b[1;33m \u001b[0md\u001b[0m\u001b[1;33m[\u001b[0m\u001b[1;34m'age'\u001b[0m\u001b[1;33m]\u001b[0m\u001b[1;33m\u001b[0m\u001b[1;33m\u001b[0m\u001b[0m\n\u001b[0m",
      "\u001b[1;31mKeyError\u001b[0m: 'age'"
     ]
    }
   ],
   "source": [
    "# KeyError\n",
    "# The KeyError is thrown when a key is not found()\n",
    "\n",
    "d = {'name':'Ipsita'}\n",
    "d['age']\n"
   ]
  },
  {
   "cell_type": "code",
   "execution_count": 11,
   "id": "c97fe310",
   "metadata": {},
   "outputs": [
    {
     "ename": "TypeError",
     "evalue": "unsupported operand type(s) for +: 'int' and 'str'",
     "output_type": "error",
     "traceback": [
      "\u001b[1;31m---------------------------------------------------------------------------\u001b[0m",
      "\u001b[1;31mTypeError\u001b[0m                                 Traceback (most recent call last)",
      "\u001b[1;32m~\\AppData\\Local\\Temp\\ipykernel_5180\\3512945353.py\u001b[0m in \u001b[0;36m<module>\u001b[1;34m\u001b[0m\n\u001b[0;32m      1\u001b[0m \u001b[1;31m# TypeError\u001b[0m\u001b[1;33m\u001b[0m\u001b[1;33m\u001b[0m\u001b[0m\n\u001b[0;32m      2\u001b[0m \u001b[1;31m# The TypeError is thrown when an operation or function is applied to an object of an inappropriate type.\u001b[0m\u001b[1;33m\u001b[0m\u001b[1;33m\u001b[0m\u001b[0m\n\u001b[1;32m----> 3\u001b[1;33m \u001b[1;36m1\u001b[0m \u001b[1;33m+\u001b[0m \u001b[1;34m'a'\u001b[0m\u001b[1;33m\u001b[0m\u001b[1;33m\u001b[0m\u001b[0m\n\u001b[0m",
      "\u001b[1;31mTypeError\u001b[0m: unsupported operand type(s) for +: 'int' and 'str'"
     ]
    }
   ],
   "source": [
    "# TypeError\n",
    "# The TypeError is thrown when an operation or function is applied to an object of an inappropriate type.\n",
    "1 + 'a'"
   ]
  },
  {
   "cell_type": "code",
   "execution_count": 15,
   "id": "b408ec24",
   "metadata": {},
   "outputs": [
    {
     "ename": "TypeError",
     "evalue": "sum() can't sum strings [use ''.join(seq) instead]",
     "output_type": "error",
     "traceback": [
      "\u001b[1;31m---------------------------------------------------------------------------\u001b[0m",
      "\u001b[1;31mTypeError\u001b[0m                                 Traceback (most recent call last)",
      "\u001b[1;32m~\\AppData\\Local\\Temp\\ipykernel_5180\\1403110494.py\u001b[0m in \u001b[0;36m<module>\u001b[1;34m\u001b[0m\n\u001b[1;32m----> 1\u001b[1;33m \u001b[0msum\u001b[0m\u001b[1;33m(\u001b[0m\u001b[1;34m'a'\u001b[0m\u001b[1;33m,\u001b[0m\u001b[1;34m'b'\u001b[0m\u001b[1;33m)\u001b[0m\u001b[1;33m\u001b[0m\u001b[1;33m\u001b[0m\u001b[0m\n\u001b[0m",
      "\u001b[1;31mTypeError\u001b[0m: sum() can't sum strings [use ''.join(seq) instead]"
     ]
    }
   ],
   "source": [
    "sum('a','b')"
   ]
  },
  {
   "cell_type": "code",
   "execution_count": 12,
   "id": "cefeee9c",
   "metadata": {},
   "outputs": [
    {
     "ename": "ValueError",
     "evalue": "invalid literal for int() with base 10: 'a'",
     "output_type": "error",
     "traceback": [
      "\u001b[1;31m---------------------------------------------------------------------------\u001b[0m",
      "\u001b[1;31mValueError\u001b[0m                                Traceback (most recent call last)",
      "\u001b[1;32m~\\AppData\\Local\\Temp\\ipykernel_5180\\1016288878.py\u001b[0m in \u001b[0;36m<module>\u001b[1;34m\u001b[0m\n\u001b[0;32m      1\u001b[0m \u001b[1;31m# ValueError\u001b[0m\u001b[1;33m\u001b[0m\u001b[1;33m\u001b[0m\u001b[0m\n\u001b[0;32m      2\u001b[0m \u001b[1;31m# The ValueError is thrown when a function's argument is of an inappropriate type.\u001b[0m\u001b[1;33m\u001b[0m\u001b[1;33m\u001b[0m\u001b[0m\n\u001b[1;32m----> 3\u001b[1;33m \u001b[0mint\u001b[0m\u001b[1;33m(\u001b[0m\u001b[1;34m'a'\u001b[0m\u001b[1;33m)\u001b[0m\u001b[1;33m\u001b[0m\u001b[1;33m\u001b[0m\u001b[0m\n\u001b[0m",
      "\u001b[1;31mValueError\u001b[0m: invalid literal for int() with base 10: 'a'"
     ]
    }
   ],
   "source": [
    "# ValueError\n",
    "# The ValueError is thrown when a function's argument is of an inappropriate type.\n",
    "int('a')"
   ]
  },
  {
   "cell_type": "code",
   "execution_count": 16,
   "id": "89ad79e1",
   "metadata": {},
   "outputs": [
    {
     "ename": "NameError",
     "evalue": "name 'k' is not defined",
     "output_type": "error",
     "traceback": [
      "\u001b[1;31m---------------------------------------------------------------------------\u001b[0m",
      "\u001b[1;31mNameError\u001b[0m                                 Traceback (most recent call last)",
      "\u001b[1;32m~\\AppData\\Local\\Temp\\ipykernel_5180\\3129957860.py\u001b[0m in \u001b[0;36m<module>\u001b[1;34m\u001b[0m\n\u001b[0;32m      1\u001b[0m \u001b[1;31m# NameError\u001b[0m\u001b[1;33m\u001b[0m\u001b[1;33m\u001b[0m\u001b[0m\n\u001b[0;32m      2\u001b[0m \u001b[1;31m# The NameError is thrown when an object could not be found.\u001b[0m\u001b[1;33m\u001b[0m\u001b[1;33m\u001b[0m\u001b[0m\n\u001b[1;32m----> 3\u001b[1;33m \u001b[0mprint\u001b[0m\u001b[1;33m(\u001b[0m\u001b[0mk\u001b[0m\u001b[1;33m)\u001b[0m\u001b[1;33m\u001b[0m\u001b[1;33m\u001b[0m\u001b[0m\n\u001b[0m",
      "\u001b[1;31mNameError\u001b[0m: name 'k' is not defined"
     ]
    }
   ],
   "source": [
    "# NameError\n",
    "# The NameError is thrown when an object could not be found.\n",
    "print(k)"
   ]
  },
  {
   "cell_type": "code",
   "execution_count": 17,
   "id": "b25cc4bd",
   "metadata": {},
   "outputs": [
    {
     "ename": "AttributeError",
     "evalue": "'list' object has no attribute 'upper'",
     "output_type": "error",
     "traceback": [
      "\u001b[1;31m---------------------------------------------------------------------------\u001b[0m",
      "\u001b[1;31mAttributeError\u001b[0m                            Traceback (most recent call last)",
      "\u001b[1;32m~\\AppData\\Local\\Temp\\ipykernel_5180\\2484895562.py\u001b[0m in \u001b[0;36m<module>\u001b[1;34m\u001b[0m\n\u001b[0;32m      1\u001b[0m \u001b[1;31m# AttributeError\u001b[0m\u001b[1;33m\u001b[0m\u001b[1;33m\u001b[0m\u001b[0m\n\u001b[0;32m      2\u001b[0m \u001b[0mL\u001b[0m \u001b[1;33m=\u001b[0m \u001b[1;33m[\u001b[0m\u001b[1;36m1\u001b[0m\u001b[1;33m,\u001b[0m\u001b[1;36m2\u001b[0m\u001b[1;33m,\u001b[0m\u001b[1;36m3\u001b[0m\u001b[1;33m]\u001b[0m\u001b[1;33m\u001b[0m\u001b[1;33m\u001b[0m\u001b[0m\n\u001b[1;32m----> 3\u001b[1;33m \u001b[0mL\u001b[0m\u001b[1;33m.\u001b[0m\u001b[0mupper\u001b[0m\u001b[1;33m(\u001b[0m\u001b[1;33m)\u001b[0m\u001b[1;33m\u001b[0m\u001b[1;33m\u001b[0m\u001b[0m\n\u001b[0m",
      "\u001b[1;31mAttributeError\u001b[0m: 'list' object has no attribute 'upper'"
     ]
    }
   ],
   "source": [
    "# AttributeError\n",
    "L = [1,2,3]\n",
    "L.upper()"
   ]
  },
  {
   "cell_type": "markdown",
   "id": "b43c1306",
   "metadata": {},
   "source": [
    "##### Exceptions\n",
    "###### If things go wrong during the execution of the program(runtime). It generally happens when something unforeseen has happened.\n",
    "\n",
    "Exceptions are raised by python runtime\n",
    "You have to takle is on the fly\n",
    "Examples\n",
    "- Memory overflow\n",
    "- Divide by 0 -> logical error\n",
    "- Database error"
   ]
  },
  {
   "cell_type": "code",
   "execution_count": 18,
   "id": "836e797b",
   "metadata": {},
   "outputs": [],
   "source": [
    "# Why is it important to handle exceptions\n",
    "# Makes user execution bad - technical information shown to end users \n",
    "# security - hackers can understand from stack trace what code has been written\n",
    "\n",
    "# how to handle exceptions\n",
    "# -> Try except block"
   ]
  },
  {
   "cell_type": "code",
   "execution_count": 19,
   "id": "7fe07bb5",
   "metadata": {},
   "outputs": [],
   "source": [
    "# error message is known as stack trace"
   ]
  },
  {
   "cell_type": "code",
   "execution_count": 33,
   "id": "a9af293e",
   "metadata": {},
   "outputs": [],
   "source": [
    "# Let's create a file\n",
    "with open('sample_1.txt','w') as f:\n",
    "    f.write('Hello How are you')"
   ]
  },
  {
   "cell_type": "code",
   "execution_count": 34,
   "id": "bc190456",
   "metadata": {},
   "outputs": [
    {
     "name": "stdout",
     "output_type": "stream",
     "text": [
      "Sorry! File not found\n"
     ]
    }
   ],
   "source": [
    "# try catch demo\n",
    "try:\n",
    "    with open('sample_2.txt','r') as f:\n",
    "        print(f.read())\n",
    "except:\n",
    "    print('Sorry! File not found')"
   ]
  },
  {
   "cell_type": "code",
   "execution_count": 41,
   "id": "6cfdb732",
   "metadata": {},
   "outputs": [
    {
     "name": "stdout",
     "output_type": "stream",
     "text": [
      "Hello How are you\n",
      "Some error occured\n"
     ]
    }
   ],
   "source": [
    "try:\n",
    "    f = open('sample_1.txt','r')\n",
    "    print(f.read())\n",
    "    print(m)\n",
    "except:\n",
    "    print('Some error occured')\n"
   ]
  },
  {
   "cell_type": "code",
   "execution_count": 43,
   "id": "158c98b4",
   "metadata": {},
   "outputs": [
    {
     "name": "stdout",
     "output_type": "stream",
     "text": [
      "<built-in method with_traceback of FileNotFoundError object at 0x000002A7B13A38C0>\n"
     ]
    }
   ],
   "source": [
    "try:\n",
    "    f = open('sample_5.txt','r')\n",
    "    print(f.read())\n",
    "    print(m)\n",
    "except Exception as e:\n",
    "    print(e.with_traceback)"
   ]
  },
  {
   "cell_type": "code",
   "execution_count": 50,
   "id": "17beea66",
   "metadata": {},
   "outputs": [
    {
     "name": "stdout",
     "output_type": "stream",
     "text": [
      "Hello How are you\n",
      "2.5\n",
      "<built-in method with_traceback of IndexError object at 0x000002A7B13A7720>\n"
     ]
    }
   ],
   "source": [
    "try:\n",
    "    f = open('sample_1.txt','r')\n",
    "    print(f.read())\n",
    "    #print(m)\n",
    "    print(5/2)\n",
    "    a = [1,2,3,4]\n",
    "    print(a[10])\n",
    "except FileNotFoundError:\n",
    "    print('File not found')\n",
    "except NameError:\n",
    "    print('Object not defined')\n",
    "except ZeroDivisionError:\n",
    "    print('Cannot divide by 0')\n",
    "except Exception as e:\n",
    "    print(e.with_traceback)"
   ]
  },
  {
   "cell_type": "code",
   "execution_count": 55,
   "id": "15b9d18d",
   "metadata": {},
   "outputs": [
    {
     "name": "stdout",
     "output_type": "stream",
     "text": [
      "Hello How are you\n"
     ]
    }
   ],
   "source": [
    "# Try Except with Else\n",
    "try:\n",
    "    f = open('sample_1.txt','r')\n",
    "except FileNotFoundError :\n",
    "    print('File not find')\n",
    "except Exception as e:\n",
    "    print(e.with_traceback)\n",
    "else:\n",
    "    print(f.read())"
   ]
  },
  {
   "cell_type": "code",
   "execution_count": 57,
   "id": "dcc2679b",
   "metadata": {},
   "outputs": [
    {
     "name": "stdout",
     "output_type": "stream",
     "text": [
      "Hello How are you\n",
      "This will always be executed\n"
     ]
    }
   ],
   "source": [
    "# finally --> always gets executed\n",
    "try:\n",
    "    f = open('sample_1.txt','r')\n",
    "except FileNotFoundError :\n",
    "    print('File not find')\n",
    "except Exception as e:\n",
    "    print(e.with_traceback)\n",
    "else:\n",
    "    print(f.read())\n",
    "finally:\n",
    "    print('This will always be executed')"
   ]
  },
  {
   "cell_type": "code",
   "execution_count": 59,
   "id": "d5c06cbd",
   "metadata": {},
   "outputs": [
    {
     "name": "stdout",
     "output_type": "stream",
     "text": [
      "File not find\n",
      "This will always be executed\n"
     ]
    }
   ],
   "source": [
    "try:\n",
    "    f = open('sample_5.txt','r')\n",
    "except FileNotFoundError :\n",
    "    print('File not find')\n",
    "except Exception as e:\n",
    "    print(e.with_traceback)\n",
    "else:\n",
    "    print(f.read())\n",
    "finally:\n",
    "    print('This will always be executed')\n",
    "    f.close()"
   ]
  },
  {
   "cell_type": "code",
   "execution_count": 60,
   "id": "3f89d4b7",
   "metadata": {},
   "outputs": [
    {
     "ename": "NameError",
     "evalue": "Trying to raise error",
     "output_type": "error",
     "traceback": [
      "\u001b[1;31m---------------------------------------------------------------------------\u001b[0m",
      "\u001b[1;31mNameError\u001b[0m                                 Traceback (most recent call last)",
      "\u001b[1;32m~\\AppData\\Local\\Temp\\ipykernel_5180\\1560147193.py\u001b[0m in \u001b[0;36m<module>\u001b[1;34m\u001b[0m\n\u001b[0;32m      1\u001b[0m \u001b[1;31m# Raise Exception\u001b[0m\u001b[1;33m\u001b[0m\u001b[1;33m\u001b[0m\u001b[0m\n\u001b[1;32m----> 2\u001b[1;33m \u001b[1;32mraise\u001b[0m \u001b[0mNameError\u001b[0m\u001b[1;33m(\u001b[0m\u001b[1;34m'Trying to raise error'\u001b[0m\u001b[1;33m)\u001b[0m\u001b[1;33m\u001b[0m\u001b[1;33m\u001b[0m\u001b[0m\n\u001b[0m\u001b[0;32m      3\u001b[0m \u001b[1;32mraise\u001b[0m \u001b[0mModuleNotFoundError\u001b[0m\u001b[1;33m(\u001b[0m\u001b[1;34m'Another error'\u001b[0m\u001b[1;33m)\u001b[0m\u001b[1;33m\u001b[0m\u001b[1;33m\u001b[0m\u001b[0m\n\u001b[0;32m      4\u001b[0m \u001b[1;32mraise\u001b[0m \u001b[0mValueError\u001b[0m\u001b[1;33m(\u001b[0m\u001b[1;34m'Yet another error'\u001b[0m\u001b[1;33m)\u001b[0m\u001b[1;33m\u001b[0m\u001b[1;33m\u001b[0m\u001b[0m\n",
      "\u001b[1;31mNameError\u001b[0m: Trying to raise error"
     ]
    }
   ],
   "source": [
    "# Raise Exception\n",
    "raise NameError('Trying to raise error')\n"
   ]
  },
  {
   "cell_type": "code",
   "execution_count": 61,
   "id": "29762e45",
   "metadata": {},
   "outputs": [
    {
     "ename": "ModuleNotFoundError",
     "evalue": "Another error",
     "output_type": "error",
     "traceback": [
      "\u001b[1;31m---------------------------------------------------------------------------\u001b[0m",
      "\u001b[1;31mModuleNotFoundError\u001b[0m                       Traceback (most recent call last)",
      "\u001b[1;32m~\\AppData\\Local\\Temp\\ipykernel_5180\\3993466673.py\u001b[0m in \u001b[0;36m<module>\u001b[1;34m\u001b[0m\n\u001b[1;32m----> 1\u001b[1;33m \u001b[1;32mraise\u001b[0m \u001b[0mModuleNotFoundError\u001b[0m\u001b[1;33m(\u001b[0m\u001b[1;34m'Another error'\u001b[0m\u001b[1;33m)\u001b[0m\u001b[1;33m\u001b[0m\u001b[1;33m\u001b[0m\u001b[0m\n\u001b[0m",
      "\u001b[1;31mModuleNotFoundError\u001b[0m: Another error"
     ]
    }
   ],
   "source": [
    "raise ModuleNotFoundError('Another error')\n"
   ]
  },
  {
   "cell_type": "code",
   "execution_count": 62,
   "id": "a52a0479",
   "metadata": {},
   "outputs": [
    {
     "ename": "ValueError",
     "evalue": "Yet another error",
     "output_type": "error",
     "traceback": [
      "\u001b[1;31m---------------------------------------------------------------------------\u001b[0m",
      "\u001b[1;31mValueError\u001b[0m                                Traceback (most recent call last)",
      "\u001b[1;32m~\\AppData\\Local\\Temp\\ipykernel_5180\\1067617730.py\u001b[0m in \u001b[0;36m<module>\u001b[1;34m\u001b[0m\n\u001b[1;32m----> 1\u001b[1;33m \u001b[1;32mraise\u001b[0m \u001b[0mValueError\u001b[0m\u001b[1;33m(\u001b[0m\u001b[1;34m'Yet another error'\u001b[0m\u001b[1;33m)\u001b[0m\u001b[1;33m\u001b[0m\u001b[1;33m\u001b[0m\u001b[0m\n\u001b[0m",
      "\u001b[1;31mValueError\u001b[0m: Yet another error"
     ]
    }
   ],
   "source": [
    "raise ValueError('Yet another error')"
   ]
  },
  {
   "cell_type": "code",
   "execution_count": 63,
   "id": "5269cdbe",
   "metadata": {},
   "outputs": [
    {
     "ename": "TypeError",
     "evalue": "Last try to raise an exception",
     "output_type": "error",
     "traceback": [
      "\u001b[1;31m---------------------------------------------------------------------------\u001b[0m",
      "\u001b[1;31mTypeError\u001b[0m                                 Traceback (most recent call last)",
      "\u001b[1;32m~\\AppData\\Local\\Temp\\ipykernel_5180\\1319010517.py\u001b[0m in \u001b[0;36m<module>\u001b[1;34m\u001b[0m\n\u001b[1;32m----> 1\u001b[1;33m \u001b[1;32mraise\u001b[0m \u001b[0mTypeError\u001b[0m\u001b[1;33m(\u001b[0m\u001b[1;34m'Last try to raise an exception'\u001b[0m\u001b[1;33m)\u001b[0m\u001b[1;33m\u001b[0m\u001b[1;33m\u001b[0m\u001b[0m\n\u001b[0m",
      "\u001b[1;31mTypeError\u001b[0m: Last try to raise an exception"
     ]
    }
   ],
   "source": [
    "raise TypeError('Last try to raise an exception')"
   ]
  },
  {
   "cell_type": "code",
   "execution_count": 64,
   "id": "c18011ec",
   "metadata": {},
   "outputs": [],
   "source": [
    "# raise Exception\n",
    "# In Python programming, exceptions are raised when errors occur at runtime. \n",
    "# We can also manually raise exceptions using the raise keyword.\n",
    "\n",
    "# We can optionally pass values to the exception to clarify why that exception was raised"
   ]
  },
  {
   "cell_type": "code",
   "execution_count": 65,
   "id": "5f2b70d9",
   "metadata": {},
   "outputs": [],
   "source": [
    "# Java\n",
    "# try -> try\n",
    "# except -> catch\n",
    "# raise -> throw"
   ]
  },
  {
   "cell_type": "code",
   "execution_count": 69,
   "id": "2409e070",
   "metadata": {},
   "outputs": [
    {
     "name": "stdout",
     "output_type": "stream",
     "text": [
      "Insufficient Balance\n"
     ]
    }
   ],
   "source": [
    "class Bank:\n",
    "    def __init__(self,balance):\n",
    "        self.balance = balance\n",
    "    def withdraw(self,amount):\n",
    "        if amount < 0:\n",
    "            raise Exception('Amount cannot be negative')\n",
    "            # exception is a class and when we raise we are creating an object\n",
    "        if self.balance < amount:\n",
    "            raise Exception('Insufficient Balance')\n",
    "        self.balance = self.balance - amount\n",
    "\n",
    "obj = Bank(10000)\n",
    "try:\n",
    "    obj.withdraw(15000)\n",
    "except Exception as e:\n",
    "        print(e)\n",
    "else:\n",
    "    print(obj.balance)"
   ]
  },
  {
   "cell_type": "code",
   "execution_count": 71,
   "id": "ed529976",
   "metadata": {},
   "outputs": [
    {
     "name": "stdout",
     "output_type": "stream",
     "text": [
      "Amount cannot be negative\n"
     ]
    }
   ],
   "source": [
    "# Creating custom exception\n",
    "class MyException(Exception):\n",
    "    def __init__(self,message):\n",
    "        print(message)\n",
    "class Bank:\n",
    "    def __init__(self,balance):\n",
    "        self.balance = balance\n",
    "    def withdraw(self,amount):\n",
    "        if amount < 0:\n",
    "            raise MyException('Amount cannot be negative')\n",
    "            # exception is a class and when we raise we are creating an object\n",
    "        if self.balance < amount:\n",
    "            raise MyException('Insufficient Balance')\n",
    "        self.balance = self.balance - amount\n",
    "\n",
    "obj = Bank(10000)\n",
    "try:\n",
    "    obj.withdraw(-5000)\n",
    "except MyException as e:\n",
    "        pass\n",
    "else:\n",
    "    print(obj.balance)\n",
    "\n",
    "# exception hierarchy in python"
   ]
  },
  {
   "cell_type": "code",
   "execution_count": 75,
   "id": "68579c19",
   "metadata": {},
   "outputs": [
    {
     "name": "stdout",
     "output_type": "stream",
     "text": [
      "Unauthenticated log in\n",
      "logout\n",
      "Database connection closed\n"
     ]
    }
   ],
   "source": [
    "class SecurityError(Exception):\n",
    "    def __init__(self,message):\n",
    "        print(message)\n",
    "    def logout(self):\n",
    "        print('logout')\n",
    "class Google:\n",
    "    def __init__(self,name,email,password,device):\n",
    "        self.name = name\n",
    "        self.email = email\n",
    "        self.password = password\n",
    "        self.device = device\n",
    "    def login(self,email,password,device):\n",
    "        if device != self.device:\n",
    "            raise SecurityError('Unauthenticated log in')\n",
    "        if email == self.email and password == self.password:\n",
    "            print('Incorrect credentials')\n",
    "obj = Google('Ipsita','ipsita.panda@edhec.com','ipsita','Android')\n",
    "try:\n",
    "    obj.login('ipsita.panda@edhec.com','ipsita','windows')\n",
    "except SecurityError as e:\n",
    "    e.logout()\n",
    "else: \n",
    "    print(obj.name)\n",
    "finally:\n",
    "    print('Database connection closed')"
   ]
  },
  {
   "cell_type": "code",
   "execution_count": null,
   "id": "c5b296dd",
   "metadata": {},
   "outputs": [],
   "source": []
  }
 ],
 "metadata": {
  "kernelspec": {
   "display_name": "Python 3 (ipykernel)",
   "language": "python",
   "name": "python3"
  },
  "language_info": {
   "codemirror_mode": {
    "name": "ipython",
    "version": 3
   },
   "file_extension": ".py",
   "mimetype": "text/x-python",
   "name": "python",
   "nbconvert_exporter": "python",
   "pygments_lexer": "ipython3",
   "version": "3.9.13"
  }
 },
 "nbformat": 4,
 "nbformat_minor": 5
}
