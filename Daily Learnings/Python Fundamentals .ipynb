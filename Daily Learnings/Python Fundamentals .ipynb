{
 "cells": [
  {
   "cell_type": "code",
   "execution_count": 6,
   "id": "6030595b",
   "metadata": {},
   "outputs": [
    {
     "name": "stdout",
     "output_type": "stream",
     "text": [
      "Hello World\n"
     ]
    }
   ],
   "source": [
    "# Your first output in Python\n",
    "# Printing Output - Built-in Function print\n",
    "print(\"Hello World\")"
   ]
  },
  {
   "cell_type": "code",
   "execution_count": 5,
   "id": "dc4250bc",
   "metadata": {},
   "outputs": [
    {
     "name": "stdout",
     "output_type": "stream",
     "text": [
      "1*2*3*4*5*7\n",
      "End\n"
     ]
    }
   ],
   "source": [
    "# separator and end parameters in print\n",
    "print(1,2,3,4,5,7,sep = \"*\",end = '\\n')\n",
    "print(\"End\")"
   ]
  },
  {
   "cell_type": "code",
   "execution_count": 13,
   "id": "3b63e1c0",
   "metadata": {},
   "outputs": [
    {
     "name": "stdout",
     "output_type": "stream",
     "text": [
      "Hello !! I am new to python !! I am going to learn it very easily\n"
     ]
    }
   ],
   "source": [
    "print('Hello','I am new to python' , 'I am going to learn it very easily',sep = \" !! \")"
   ]
  },
  {
   "cell_type": "code",
   "execution_count": 14,
   "id": "bd40ad06",
   "metadata": {},
   "outputs": [
    {
     "name": "stdout",
     "output_type": "stream",
     "text": [
      "7\n"
     ]
    },
    {
     "data": {
      "text/plain": [
       "NoneType"
      ]
     },
     "execution_count": 14,
     "metadata": {},
     "output_type": "execute_result"
    }
   ],
   "source": [
    "# Return Type of Print command\n",
    "type(print(7))"
   ]
  },
  {
   "cell_type": "code",
   "execution_count": 15,
   "id": "ef94dca4",
   "metadata": {},
   "outputs": [
    {
     "name": "stdout",
     "output_type": "stream",
     "text": [
      "True False\n"
     ]
    }
   ],
   "source": [
    "print(True,False)"
   ]
  },
  {
   "cell_type": "code",
   "execution_count": 1,
   "id": "6b4d82e2",
   "metadata": {},
   "outputs": [
    {
     "name": "stdout",
     "output_type": "stream",
     "text": [
      "Welcome\r",
      "Hello New\tWorld\n",
      "Ipsita Here\tNew to python\n",
      "\\ this is a backslash\n"
     ]
    }
   ],
   "source": [
    "# Escape sequences in python\n",
    "print('Welcome',end = '\\r')\n",
    "'''\\r takes the cursor to the beginning of the line.\n",
    "It is the same effect as in a physical typewriter when you move your carriage to the beginning and overwrite whatever is there.'''\n",
    "print('Hello New',end = '\\t')\n",
    "print('World',end = '\\n')\n",
    "print('Ipsita Here', end = '\\t')\n",
    "print('New to python')\n",
    "print('\\\\', 'this is a backslash')"
   ]
  },
  {
   "cell_type": "code",
   "execution_count": 25,
   "id": "83e4bccf",
   "metadata": {},
   "outputs": [
    {
     "data": {
      "text/plain": [
       "int"
      ]
     },
     "execution_count": 25,
     "metadata": {},
     "output_type": "execute_result"
    }
   ],
   "source": [
    "## Data Types\n",
    "# Integer\n",
    "a = 8\n",
    "type(a)"
   ]
  },
  {
   "cell_type": "code",
   "execution_count": 2,
   "id": "b8f21882",
   "metadata": {},
   "outputs": [
    {
     "name": "stdout",
     "output_type": "stream",
     "text": [
      "inf\n",
      "1e+308\n"
     ]
    }
   ],
   "source": [
    "# Largest Integer\n",
    "print(1e309)\n",
    "print(1e308)"
   ]
  },
  {
   "cell_type": "code",
   "execution_count": 30,
   "id": "56e279c8",
   "metadata": {},
   "outputs": [
    {
     "name": "stdout",
     "output_type": "stream",
     "text": [
      "8.5\n",
      "1.7e+308\n",
      "inf\n"
     ]
    }
   ],
   "source": [
    "# Decimal /Float\n",
    "print(8.5)\n",
    "print(1.7e308)\n",
    "print(1.7e309)"
   ]
  },
  {
   "cell_type": "code",
   "execution_count": 31,
   "id": "5ce708ad",
   "metadata": {},
   "outputs": [
    {
     "name": "stdout",
     "output_type": "stream",
     "text": [
      "True\n",
      "False\n"
     ]
    }
   ],
   "source": [
    "# Boolean \n",
    "print(True)\n",
    "print(False)"
   ]
  },
  {
   "cell_type": "code",
   "execution_count": 32,
   "id": "a6aa16cb",
   "metadata": {},
   "outputs": [
    {
     "name": "stdout",
     "output_type": "stream",
     "text": [
      "Hello World\n"
     ]
    }
   ],
   "source": [
    "# Text/String\n",
    "print('Hello World')"
   ]
  },
  {
   "cell_type": "code",
   "execution_count": 33,
   "id": "3779f89d",
   "metadata": {},
   "outputs": [
    {
     "data": {
      "text/plain": [
       "'Hello I am new to python'"
      ]
     },
     "execution_count": 33,
     "metadata": {},
     "output_type": "execute_result"
    }
   ],
   "source": [
    "# Text\n",
    "'Hello I am new to python'"
   ]
  },
  {
   "cell_type": "code",
   "execution_count": 36,
   "id": "1231dfca",
   "metadata": {},
   "outputs": [
    {
     "name": "stdout",
     "output_type": "stream",
     "text": [
      "(5+6j)\n",
      "<class 'complex'>\n"
     ]
    }
   ],
   "source": [
    "# complex \n",
    "print(5+6j)\n",
    "print(type(5+6j))"
   ]
  },
  {
   "cell_type": "code",
   "execution_count": 37,
   "id": "b5fd060e",
   "metadata": {},
   "outputs": [
    {
     "data": {
      "text/plain": [
       "[1, 2, 3, 4, 'Ipsita']"
      ]
     },
     "execution_count": 37,
     "metadata": {},
     "output_type": "execute_result"
    }
   ],
   "source": [
    "# List \n",
    "[1,2,3,4,'Ipsita']"
   ]
  },
  {
   "cell_type": "code",
   "execution_count": 47,
   "id": "bdcc2b12",
   "metadata": {},
   "outputs": [
    {
     "data": {
      "text/plain": [
       "list"
      ]
     },
     "execution_count": 47,
     "metadata": {},
     "output_type": "execute_result"
    }
   ],
   "source": [
    "type([1,2,3,4,5])"
   ]
  },
  {
   "cell_type": "code",
   "execution_count": 40,
   "id": "1e27d6ce",
   "metadata": {},
   "outputs": [
    {
     "name": "stdout",
     "output_type": "stream",
     "text": [
      "<class 'tuple'>\n"
     ]
    }
   ],
   "source": [
    "#Tuple\n",
    "print(type((1,2,3,'Ipsita')))"
   ]
  },
  {
   "cell_type": "code",
   "execution_count": 41,
   "id": "e5fa522e",
   "metadata": {},
   "outputs": [
    {
     "name": "stdout",
     "output_type": "stream",
     "text": [
      "<class 'set'>\n"
     ]
    },
    {
     "data": {
      "text/plain": [
       "{1, 2, 3, 4, 5, 6}"
      ]
     },
     "execution_count": 41,
     "metadata": {},
     "output_type": "execute_result"
    }
   ],
   "source": [
    "#Sets\n",
    "print(type({1,2,3,4,5,6}))\n",
    "{1,2,3,4,5,6}"
   ]
  },
  {
   "cell_type": "code",
   "execution_count": 44,
   "id": "06025445",
   "metadata": {},
   "outputs": [
    {
     "name": "stdout",
     "output_type": "stream",
     "text": [
      "<class 'dict'>\n"
     ]
    },
    {
     "data": {
      "text/plain": [
       "{'Name': 'Ipsita', 'Surname': 'Panda', 'age': 33}"
      ]
     },
     "execution_count": 44,
     "metadata": {},
     "output_type": "execute_result"
    }
   ],
   "source": [
    "# Dictionary\n",
    "print(type({'Name':'Ipsita','Surname':'Panda','age':33}))\n",
    "{'Name':'Ipsita','Surname':'Panda','age':33}"
   ]
  },
  {
   "cell_type": "code",
   "execution_count": 46,
   "id": "7b16633a",
   "metadata": {},
   "outputs": [
    {
     "name": "stdout",
     "output_type": "stream",
     "text": [
      "\"Hello\"\n"
     ]
    }
   ],
   "source": [
    "print('\\\"Hello\\\"') #prefixing a special character with \"\\\" turns it into an ordinary character."
   ]
  },
  {
   "cell_type": "code",
   "execution_count": 48,
   "id": "70d2c272",
   "metadata": {},
   "outputs": [
    {
     "name": "stdout",
     "output_type": "stream",
     "text": [
      "ipsi\n"
     ]
    }
   ],
   "source": [
    " # variables are containers for future use\n",
    "#static vs dynamic typing\n",
    "# c/c++\n",
    "# int name = 'ipsi'\n",
    "# print(name)\n",
    "\n",
    "name = 'ipsi'\n",
    "print(name)"
   ]
  },
  {
   "cell_type": "code",
   "execution_count": 49,
   "id": "e2566789",
   "metadata": {},
   "outputs": [],
   "source": [
    "#dynamic typing \n",
    "# int a = 5 static typing\n",
    "a = 5 # dynamic typing"
   ]
  },
  {
   "cell_type": "code",
   "execution_count": 50,
   "id": "b67f5868",
   "metadata": {},
   "outputs": [
    {
     "name": "stdout",
     "output_type": "stream",
     "text": [
      "5\n",
      "ipsi\n"
     ]
    }
   ],
   "source": [
    "#dynamic binding\n",
    "a = 5\n",
    "print(a)\n",
    "a = 'ipsi'\n",
    "print(a)"
   ]
  },
  {
   "cell_type": "code",
   "execution_count": 51,
   "id": "3b673a31",
   "metadata": {},
   "outputs": [],
   "source": [
    "# static binding\n",
    "#int a = 5\n",
    "#a = 'ipsi' results in error ,can only hold integer"
   ]
  },
  {
   "cell_type": "code",
   "execution_count": 3,
   "id": "75ea5d87",
   "metadata": {},
   "outputs": [],
   "source": [
    "# Special assignments in python\n",
    "a,b,c = 1,2,3"
   ]
  },
  {
   "cell_type": "code",
   "execution_count": 4,
   "id": "bed6a5f7",
   "metadata": {},
   "outputs": [
    {
     "data": {
      "text/plain": [
       "1"
      ]
     },
     "execution_count": 4,
     "metadata": {},
     "output_type": "execute_result"
    }
   ],
   "source": [
    "a"
   ]
  },
  {
   "cell_type": "code",
   "execution_count": 5,
   "id": "3602c384",
   "metadata": {},
   "outputs": [
    {
     "data": {
      "text/plain": [
       "2"
      ]
     },
     "execution_count": 5,
     "metadata": {},
     "output_type": "execute_result"
    }
   ],
   "source": [
    "b"
   ]
  },
  {
   "cell_type": "code",
   "execution_count": 6,
   "id": "ce1a5ef5",
   "metadata": {},
   "outputs": [
    {
     "data": {
      "text/plain": [
       "3"
      ]
     },
     "execution_count": 6,
     "metadata": {},
     "output_type": "execute_result"
    }
   ],
   "source": [
    "c"
   ]
  },
  {
   "cell_type": "code",
   "execution_count": 7,
   "id": "152d57c5",
   "metadata": {},
   "outputs": [
    {
     "name": "stdout",
     "output_type": "stream",
     "text": [
      "10 10 10\n"
     ]
    }
   ],
   "source": [
    "a=b=c= 10\n",
    "print(a,b,c)"
   ]
  },
  {
   "cell_type": "code",
   "execution_count": 8,
   "id": "1d5835aa",
   "metadata": {},
   "outputs": [
    {
     "name": "stdout",
     "output_type": "stream",
     "text": [
      "10\n"
     ]
    }
   ],
   "source": [
    "# this is a comment\n",
    "a = 4\n",
    "b = 6\n",
    "# second comment\n",
    "print(a + b)"
   ]
  },
  {
   "cell_type": "code",
   "execution_count": 73,
   "id": "d149cdf3",
   "metadata": {},
   "outputs": [
    {
     "name": "stdout",
     "output_type": "stream",
     "text": [
      "36\n"
     ]
    }
   ],
   "source": [
    "# Keywords\n",
    "import keyword as kw\n",
    "a = kw.kwlist\n",
    "b = 0\n",
    "for i in a:\n",
    "    b += 1\n",
    "print(b)"
   ]
  },
  {
   "cell_type": "code",
   "execution_count": 74,
   "id": "17f80839",
   "metadata": {},
   "outputs": [
    {
     "name": "stdout",
     "output_type": "stream",
     "text": [
      "Enter first number5\n",
      "Enter second number6\n",
      "The sum of 5 and 6 is 11\n"
     ]
    }
   ],
   "source": [
    "# User Input\n",
    "a = int(input('Enter first number'))\n",
    "b = int(input('Enter second number'))\n",
    "summation = a + b\n",
    "print('The sum of {} and {} is'.format(a,b),summation)"
   ]
  },
  {
   "cell_type": "code",
   "execution_count": 79,
   "id": "04fee887",
   "metadata": {},
   "outputs": [],
   "source": [
    "# Literals\n",
    "# Integer Literal\n",
    "a = 0b1010 #Binary Variable\n",
    "b = 100 #Decimal Literal\n",
    "c = 0o310 #octal literal\n",
    "d = 0x12c #Hexadecimal literal\n",
    "# Float literal\n",
    "float_1 = 10.5\n",
    "float_2 = 10.5e2 # 10.5*10^2\n",
    "float_3 = 10.5e-3 # 10.5*10^-3\n",
    "#complex literal\n",
    "x = 3.14j"
   ]
  },
  {
   "cell_type": "code",
   "execution_count": 75,
   "id": "1640fb88",
   "metadata": {},
   "outputs": [
    {
     "name": "stdout",
     "output_type": "stream",
     "text": [
      "10\n"
     ]
    }
   ],
   "source": [
    "a = 0b1010\n",
    "print(a)"
   ]
  },
  {
   "cell_type": "code",
   "execution_count": 77,
   "id": "3171fb5b",
   "metadata": {},
   "outputs": [
    {
     "name": "stdout",
     "output_type": "stream",
     "text": [
      "10.5 1050.0 0.0105\n"
     ]
    }
   ],
   "source": [
    "print(float_1,float_2,float_3)"
   ]
  },
  {
   "cell_type": "code",
   "execution_count": 80,
   "id": "6ff6c491",
   "metadata": {},
   "outputs": [
    {
     "name": "stdout",
     "output_type": "stream",
     "text": [
      "3.14j\n"
     ]
    }
   ],
   "source": [
    "print(x)"
   ]
  },
  {
   "cell_type": "code",
   "execution_count": 81,
   "id": "1e6f5436",
   "metadata": {},
   "outputs": [
    {
     "data": {
      "text/plain": [
       "0.0"
      ]
     },
     "execution_count": 81,
     "metadata": {},
     "output_type": "execute_result"
    }
   ],
   "source": [
    "x.real"
   ]
  },
  {
   "cell_type": "code",
   "execution_count": 82,
   "id": "4bd83d1a",
   "metadata": {},
   "outputs": [
    {
     "data": {
      "text/plain": [
       "3.14"
      ]
     },
     "execution_count": 82,
     "metadata": {},
     "output_type": "execute_result"
    }
   ],
   "source": [
    "x.imag"
   ]
  },
  {
   "cell_type": "code",
   "execution_count": 86,
   "id": "00063b98",
   "metadata": {},
   "outputs": [
    {
     "name": "stdout",
     "output_type": "stream",
     "text": [
      "This is python\n",
      "This is python\n",
      "😀😀🤣\n",
      "This is a raw \\n string\n"
     ]
    }
   ],
   "source": [
    "string = 'This is python'\n",
    "string_1 = \"This is python\"\n",
    "print(string)\n",
    "print(string_1)\n",
    "multiline_string = '''This is a multiline string'''\n",
    "unicode = u\"\\U0001f600\\U0001f600\\U0001f923\"\n",
    "print(unicode)\n",
    "raw_str = r'This is a raw \\n string' #such strings are called raw strings and treat backslashes as literal characters\n",
    "print(raw_str)"
   ]
  },
  {
   "cell_type": "code",
   "execution_count": 87,
   "id": "6c8b48b6",
   "metadata": {},
   "outputs": [
    {
     "name": "stdout",
     "output_type": "stream",
     "text": [
      "5 10\n"
     ]
    }
   ],
   "source": [
    "a = True + 4\n",
    "b = False + 10\n",
    "print(a,b)"
   ]
  },
  {
   "cell_type": "code",
   "execution_count": 9,
   "id": "1b1b4961",
   "metadata": {},
   "outputs": [
    {
     "name": "stdout",
     "output_type": "stream",
     "text": [
      "None\n"
     ]
    }
   ],
   "source": [
    "# None type is used when you donot want to assign any type to your variable or any value to your variable but just want to create the variable\n",
    "a = None\n",
    "print(a)"
   ]
  },
  {
   "cell_type": "code",
   "execution_count": null,
   "id": "30577969",
   "metadata": {},
   "outputs": [],
   "source": []
  }
 ],
 "metadata": {
  "kernelspec": {
   "display_name": "Python 3 (ipykernel)",
   "language": "python",
   "name": "python3"
  },
  "language_info": {
   "codemirror_mode": {
    "name": "ipython",
    "version": 3
   },
   "file_extension": ".py",
   "mimetype": "text/x-python",
   "name": "python",
   "nbconvert_exporter": "python",
   "pygments_lexer": "ipython3",
   "version": "3.9.13"
  }
 },
 "nbformat": 4,
 "nbformat_minor": 5
}
