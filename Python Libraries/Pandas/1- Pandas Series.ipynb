{
 "cells": [
  {
   "cell_type": "markdown",
   "id": "2d845754",
   "metadata": {},
   "source": [
    "\n",
    "#### What is Pandas\n",
    "#####  Pandas is a fast, powerful, flexible and easy to use open source data analysis and manipulation tool, built on top of the Python programming language.\n",
    "\n",
    "https://pandas.pydata.org/about/index.html"
   ]
  },
  {
   "cell_type": "code",
   "execution_count": 1,
   "id": "36110e3b",
   "metadata": {},
   "outputs": [],
   "source": [
    "#A Pandas Series is like a column in a table. It is a one-dimensional array holding data of any type."
   ]
  },
  {
   "cell_type": "code",
   "execution_count": 2,
   "id": "bd6dfb66",
   "metadata": {},
   "outputs": [],
   "source": [
    "# Importing Pandas"
   ]
  },
  {
   "cell_type": "code",
   "execution_count": 3,
   "id": "0eccb1dd",
   "metadata": {},
   "outputs": [],
   "source": [
    "import pandas as pd\n",
    "import numpy as np"
   ]
  },
  {
   "cell_type": "code",
   "execution_count": 4,
   "id": "c68062ce",
   "metadata": {},
   "outputs": [
    {
     "data": {
      "text/plain": [
       "1    1\n",
       "2    2\n",
       "3    3\n",
       "4    4\n",
       "5    5\n",
       "dtype: int64"
      ]
     },
     "execution_count": 4,
     "metadata": {},
     "output_type": "execute_result"
    }
   ],
   "source": [
    "pd.Series(data = [1,2,3,4,5],index = [1,2,3,4,5])"
   ]
  },
  {
   "cell_type": "code",
   "execution_count": 5,
   "id": "8b24d267",
   "metadata": {},
   "outputs": [],
   "source": [
    "# Dtype ==> String/Object\n",
    "country = ['India','Pakistan','Sri Lanka','Bangladesh','Singapore']\n",
    "# Pandas series object\n",
    "X = pd.Series(country)"
   ]
  },
  {
   "cell_type": "code",
   "execution_count": 6,
   "id": "84dfd44e",
   "metadata": {},
   "outputs": [
    {
     "data": {
      "text/plain": [
       "0         India\n",
       "1      Pakistan\n",
       "2     Sri Lanka\n",
       "3    Bangladesh\n",
       "4     Singapore\n",
       "dtype: object"
      ]
     },
     "execution_count": 6,
     "metadata": {},
     "output_type": "execute_result"
    }
   ],
   "source": [
    "X"
   ]
  },
  {
   "cell_type": "code",
   "execution_count": 7,
   "id": "d23e2060",
   "metadata": {},
   "outputs": [
    {
     "data": {
      "text/plain": [
       "pandas.core.series.Series"
      ]
     },
     "execution_count": 7,
     "metadata": {},
     "output_type": "execute_result"
    }
   ],
   "source": [
    "type(X)"
   ]
  },
  {
   "cell_type": "code",
   "execution_count": 8,
   "id": "0b434f7a",
   "metadata": {},
   "outputs": [
    {
     "name": "stdout",
     "output_type": "stream",
     "text": [
      "0     73\n",
      "1     25\n",
      "2     89\n",
      "3    100\n",
      "dtype: int64\n",
      "<class 'pandas.core.series.Series'>\n"
     ]
    }
   ],
   "source": [
    "# Integer Datatype\n",
    "runs = [73,25,89,100]\n",
    "runs_series = pd.Series(runs)\n",
    "print(runs_series)\n",
    "print(type(runs_series))"
   ]
  },
  {
   "cell_type": "code",
   "execution_count": 9,
   "id": "d892998c",
   "metadata": {},
   "outputs": [
    {
     "name": "stdout",
     "output_type": "stream",
     "text": [
      "maths      65\n",
      "english    79\n",
      "science    89\n",
      "hindi      99\n",
      "dtype: int64\n",
      "<class 'pandas.core.series.Series'>\n"
     ]
    }
   ],
   "source": [
    "# Custom Index\n",
    "marks = [65,79,89,99]\n",
    "subject = ['maths','english','science','hindi']\n",
    "student_1 = pd.Series(data = marks,index = subject)\n",
    "print(student_1)\n",
    "print(type(student_1))"
   ]
  },
  {
   "cell_type": "code",
   "execution_count": 10,
   "id": "faa6503d",
   "metadata": {},
   "outputs": [
    {
     "name": "stdout",
     "output_type": "stream",
     "text": [
      "maths      65\n",
      "english    79\n",
      "science    89\n",
      "hindi      99\n",
      "Name: Ipsita_Marks, dtype: int64\n"
     ]
    }
   ],
   "source": [
    "# setting a name \n",
    "ipsita_marks = pd.Series(marks,index = subject,name = 'Ipsita_Marks')\n",
    "print(ipsita_marks)"
   ]
  },
  {
   "cell_type": "code",
   "execution_count": 11,
   "id": "a6c62e4b",
   "metadata": {},
   "outputs": [
    {
     "name": "stdout",
     "output_type": "stream",
     "text": [
      "maths       89\n",
      "english     87\n",
      "science     99\n",
      "hindi      100\n",
      "Name: Ipsita_mark, dtype: int64\n"
     ]
    }
   ],
   "source": [
    "# series from dict\n",
    "# Dict keys become index and Dict values become value\n",
    "marks = {\n",
    "    'maths':89,\n",
    "    'english':87,\n",
    "    'science': 99,\n",
    "    'hindi':100\n",
    "}\n",
    "\n",
    "marks_series = pd.Series(marks,name = 'Ipsita_mark')\n",
    "print(marks_series)"
   ]
  },
  {
   "cell_type": "code",
   "execution_count": 12,
   "id": "a49106bf",
   "metadata": {},
   "outputs": [
    {
     "name": "stdout",
     "output_type": "stream",
     "text": [
      "4\n",
      "int64\n",
      "Ipsita_mark\n",
      "True\n"
     ]
    }
   ],
   "source": [
    "# Series Attributes\n",
    "# No of items-->size\n",
    "print(marks_series.size)\n",
    "# dtype\n",
    "print(marks_series.dtype)\n",
    "# name\n",
    "print(marks_series.name)\n",
    "# is_unique\n",
    "print(marks_series.is_unique)"
   ]
  },
  {
   "cell_type": "code",
   "execution_count": 13,
   "id": "ebcf7ff7",
   "metadata": {},
   "outputs": [
    {
     "data": {
      "text/plain": [
       "False"
      ]
     },
     "execution_count": 13,
     "metadata": {},
     "output_type": "execute_result"
    }
   ],
   "source": [
    "# is unique\n",
    "pd.Series([1,2,3,4,1,2,4,6,7]).is_unique"
   ]
  },
  {
   "cell_type": "code",
   "execution_count": 14,
   "id": "82e994d5",
   "metadata": {},
   "outputs": [
    {
     "name": "stdout",
     "output_type": "stream",
     "text": [
      "RangeIndex(start=0, stop=4, step=1)\n",
      "<class 'pandas.core.indexes.range.RangeIndex'>\n"
     ]
    }
   ],
   "source": [
    "# Index attribute\n",
    "print(runs_series.index)\n",
    "print(type(runs_series.index))"
   ]
  },
  {
   "cell_type": "code",
   "execution_count": 15,
   "id": "656c32a8",
   "metadata": {},
   "outputs": [
    {
     "name": "stdout",
     "output_type": "stream",
     "text": [
      "[ 89  87  99 100]\n",
      "<class 'numpy.ndarray'>\n"
     ]
    }
   ],
   "source": [
    "# Values attribute\n",
    "print(marks_series.values)\n",
    "print(type(marks_series.values))"
   ]
  },
  {
   "cell_type": "code",
   "execution_count": 16,
   "id": "589bbf9d",
   "metadata": {},
   "outputs": [
    {
     "data": {
      "text/plain": [
       "1    4\n",
       "4    3\n",
       "6    3\n",
       "2    2\n",
       "3    2\n",
       "7    1\n",
       "8    1\n",
       "5    1\n",
       "dtype: int64"
      ]
     },
     "execution_count": 16,
     "metadata": {},
     "output_type": "execute_result"
    }
   ],
   "source": [
    "# Value Counts\n",
    "new_series = pd.Series([1,1,1,2,3,4,6,1,2,4,6,7,8,3,4,6,5])\n",
    "new_series.value_counts()"
   ]
  },
  {
   "cell_type": "code",
   "execution_count": 17,
   "id": "a699b3b4",
   "metadata": {},
   "outputs": [],
   "source": [
    "# Read _ csv\n",
    "bollywood_dataframe = pd.read_csv('C:/Users/ipsit/OneDrive - EDHEC/Desktop/Study Material/Machine Learning/Python/Daily Learning/session-datasets/session-datasets/datasets-session-16/bollywood.csv')"
   ]
  },
  {
   "cell_type": "code",
   "execution_count": 18,
   "id": "d355b2af",
   "metadata": {},
   "outputs": [
    {
     "data": {
      "text/html": [
       "<div>\n",
       "<style scoped>\n",
       "    .dataframe tbody tr th:only-of-type {\n",
       "        vertical-align: middle;\n",
       "    }\n",
       "\n",
       "    .dataframe tbody tr th {\n",
       "        vertical-align: top;\n",
       "    }\n",
       "\n",
       "    .dataframe thead th {\n",
       "        text-align: right;\n",
       "    }\n",
       "</style>\n",
       "<table border=\"1\" class=\"dataframe\">\n",
       "  <thead>\n",
       "    <tr style=\"text-align: right;\">\n",
       "      <th></th>\n",
       "      <th>movie</th>\n",
       "      <th>lead</th>\n",
       "    </tr>\n",
       "  </thead>\n",
       "  <tbody>\n",
       "    <tr>\n",
       "      <th>0</th>\n",
       "      <td>Uri: The Surgical Strike</td>\n",
       "      <td>Vicky Kaushal</td>\n",
       "    </tr>\n",
       "    <tr>\n",
       "      <th>1</th>\n",
       "      <td>Battalion 609</td>\n",
       "      <td>Vicky Ahuja</td>\n",
       "    </tr>\n",
       "    <tr>\n",
       "      <th>2</th>\n",
       "      <td>The Accidental Prime Minister (film)</td>\n",
       "      <td>Anupam Kher</td>\n",
       "    </tr>\n",
       "    <tr>\n",
       "      <th>3</th>\n",
       "      <td>Why Cheat India</td>\n",
       "      <td>Emraan Hashmi</td>\n",
       "    </tr>\n",
       "    <tr>\n",
       "      <th>4</th>\n",
       "      <td>Evening Shadows</td>\n",
       "      <td>Mona Ambegaonkar</td>\n",
       "    </tr>\n",
       "    <tr>\n",
       "      <th>...</th>\n",
       "      <td>...</td>\n",
       "      <td>...</td>\n",
       "    </tr>\n",
       "    <tr>\n",
       "      <th>1495</th>\n",
       "      <td>Hum Tumhare Hain Sanam</td>\n",
       "      <td>Shah Rukh Khan</td>\n",
       "    </tr>\n",
       "    <tr>\n",
       "      <th>1496</th>\n",
       "      <td>Aankhen (2002 film)</td>\n",
       "      <td>Amitabh Bachchan</td>\n",
       "    </tr>\n",
       "    <tr>\n",
       "      <th>1497</th>\n",
       "      <td>Saathiya (film)</td>\n",
       "      <td>Vivek Oberoi</td>\n",
       "    </tr>\n",
       "    <tr>\n",
       "      <th>1498</th>\n",
       "      <td>Company (film)</td>\n",
       "      <td>Ajay Devgn</td>\n",
       "    </tr>\n",
       "    <tr>\n",
       "      <th>1499</th>\n",
       "      <td>Awara Paagal Deewana</td>\n",
       "      <td>Akshay Kumar</td>\n",
       "    </tr>\n",
       "  </tbody>\n",
       "</table>\n",
       "<p>1500 rows × 2 columns</p>\n",
       "</div>"
      ],
      "text/plain": [
       "                                     movie              lead\n",
       "0                 Uri: The Surgical Strike     Vicky Kaushal\n",
       "1                            Battalion 609       Vicky Ahuja\n",
       "2     The Accidental Prime Minister (film)       Anupam Kher\n",
       "3                          Why Cheat India     Emraan Hashmi\n",
       "4                          Evening Shadows  Mona Ambegaonkar\n",
       "...                                    ...               ...\n",
       "1495                Hum Tumhare Hain Sanam    Shah Rukh Khan\n",
       "1496                   Aankhen (2002 film)  Amitabh Bachchan\n",
       "1497                       Saathiya (film)      Vivek Oberoi\n",
       "1498                        Company (film)        Ajay Devgn\n",
       "1499                  Awara Paagal Deewana      Akshay Kumar\n",
       "\n",
       "[1500 rows x 2 columns]"
      ]
     },
     "execution_count": 18,
     "metadata": {},
     "output_type": "execute_result"
    }
   ],
   "source": [
    "bollywood_dataframe"
   ]
  },
  {
   "cell_type": "code",
   "execution_count": 19,
   "id": "f2c92279",
   "metadata": {},
   "outputs": [],
   "source": [
    "sub_dataframe = pd.read_csv('C:/Users/ipsit/OneDrive - EDHEC/Desktop/Study Material/Machine Learning/Python/Daily Learning/session-datasets/session-datasets/datasets-session-16/subs.csv')"
   ]
  },
  {
   "cell_type": "code",
   "execution_count": 20,
   "id": "7328f50c",
   "metadata": {},
   "outputs": [
    {
     "data": {
      "text/html": [
       "<div>\n",
       "<style scoped>\n",
       "    .dataframe tbody tr th:only-of-type {\n",
       "        vertical-align: middle;\n",
       "    }\n",
       "\n",
       "    .dataframe tbody tr th {\n",
       "        vertical-align: top;\n",
       "    }\n",
       "\n",
       "    .dataframe thead th {\n",
       "        text-align: right;\n",
       "    }\n",
       "</style>\n",
       "<table border=\"1\" class=\"dataframe\">\n",
       "  <thead>\n",
       "    <tr style=\"text-align: right;\">\n",
       "      <th></th>\n",
       "      <th>Subscribers gained</th>\n",
       "    </tr>\n",
       "  </thead>\n",
       "  <tbody>\n",
       "    <tr>\n",
       "      <th>0</th>\n",
       "      <td>48</td>\n",
       "    </tr>\n",
       "    <tr>\n",
       "      <th>1</th>\n",
       "      <td>57</td>\n",
       "    </tr>\n",
       "    <tr>\n",
       "      <th>2</th>\n",
       "      <td>40</td>\n",
       "    </tr>\n",
       "    <tr>\n",
       "      <th>3</th>\n",
       "      <td>43</td>\n",
       "    </tr>\n",
       "    <tr>\n",
       "      <th>4</th>\n",
       "      <td>44</td>\n",
       "    </tr>\n",
       "    <tr>\n",
       "      <th>...</th>\n",
       "      <td>...</td>\n",
       "    </tr>\n",
       "    <tr>\n",
       "      <th>360</th>\n",
       "      <td>231</td>\n",
       "    </tr>\n",
       "    <tr>\n",
       "      <th>361</th>\n",
       "      <td>226</td>\n",
       "    </tr>\n",
       "    <tr>\n",
       "      <th>362</th>\n",
       "      <td>155</td>\n",
       "    </tr>\n",
       "    <tr>\n",
       "      <th>363</th>\n",
       "      <td>144</td>\n",
       "    </tr>\n",
       "    <tr>\n",
       "      <th>364</th>\n",
       "      <td>172</td>\n",
       "    </tr>\n",
       "  </tbody>\n",
       "</table>\n",
       "<p>365 rows × 1 columns</p>\n",
       "</div>"
      ],
      "text/plain": [
       "     Subscribers gained\n",
       "0                    48\n",
       "1                    57\n",
       "2                    40\n",
       "3                    43\n",
       "4                    44\n",
       "..                  ...\n",
       "360                 231\n",
       "361                 226\n",
       "362                 155\n",
       "363                 144\n",
       "364                 172\n",
       "\n",
       "[365 rows x 1 columns]"
      ]
     },
     "execution_count": 20,
     "metadata": {},
     "output_type": "execute_result"
    }
   ],
   "source": [
    "sub_dataframe"
   ]
  },
  {
   "cell_type": "code",
   "execution_count": 21,
   "id": "f33e6685",
   "metadata": {},
   "outputs": [
    {
     "name": "stderr",
     "output_type": "stream",
     "text": [
      "C:\\Users\\ipsit\\AppData\\Local\\Temp\\ipykernel_18500\\2189215024.py:2: FutureWarning: The squeeze argument has been deprecated and will be removed in a future version. Append .squeeze(\"columns\") to the call to squeeze.\n",
      "\n",
      "\n",
      "  sub_series = pd.read_csv('C:/Users/ipsit/OneDrive - EDHEC/Desktop/Study Material/Machine Learning/Python/Daily Learning/session-datasets/session-datasets/datasets-session-16/subs.csv',squeeze=True)\n"
     ]
    }
   ],
   "source": [
    "# Squeeze allows to convert data frame from series\n",
    "sub_series = pd.read_csv('C:/Users/ipsit/OneDrive - EDHEC/Desktop/Study Material/Machine Learning/Python/Daily Learning/session-datasets/session-datasets/datasets-session-16/subs.csv',squeeze=True)"
   ]
  },
  {
   "cell_type": "code",
   "execution_count": 22,
   "id": "a75f2898",
   "metadata": {},
   "outputs": [
    {
     "data": {
      "text/plain": [
       "0       48\n",
       "1       57\n",
       "2       40\n",
       "3       43\n",
       "4       44\n",
       "      ... \n",
       "360    231\n",
       "361    226\n",
       "362    155\n",
       "363    144\n",
       "364    172\n",
       "Name: Subscribers gained, Length: 365, dtype: int64"
      ]
     },
     "execution_count": 22,
     "metadata": {},
     "output_type": "execute_result"
    }
   ],
   "source": [
    "sub_series"
   ]
  },
  {
   "cell_type": "code",
   "execution_count": 23,
   "id": "aceff75d",
   "metadata": {},
   "outputs": [
    {
     "name": "stderr",
     "output_type": "stream",
     "text": [
      "C:\\Users\\ipsit\\AppData\\Local\\Temp\\ipykernel_18500\\1685440537.py:1: FutureWarning: The squeeze argument has been deprecated and will be removed in a future version. Append .squeeze(\"columns\") to the call to squeeze.\n",
      "\n",
      "\n",
      "  kohli_runs = pd.read_csv('C:/Users/ipsit/OneDrive - EDHEC/Desktop/Study Material/Machine Learning/Python/Daily Learning/session-datasets/session-datasets/datasets-session-16/kohli_ipl.csv',index_col= 'match_no',squeeze=True)\n"
     ]
    }
   ],
   "source": [
    "kohli_runs = pd.read_csv('C:/Users/ipsit/OneDrive - EDHEC/Desktop/Study Material/Machine Learning/Python/Daily Learning/session-datasets/session-datasets/datasets-session-16/kohli_ipl.csv',index_col= 'match_no',squeeze=True)"
   ]
  },
  {
   "cell_type": "code",
   "execution_count": 24,
   "id": "6cc29314",
   "metadata": {},
   "outputs": [
    {
     "data": {
      "text/plain": [
       "match_no\n",
       "1       1\n",
       "2      23\n",
       "3      13\n",
       "4      12\n",
       "5       1\n",
       "       ..\n",
       "211     0\n",
       "212    20\n",
       "213    73\n",
       "214    25\n",
       "215     7\n",
       "Name: runs, Length: 215, dtype: int64"
      ]
     },
     "execution_count": 24,
     "metadata": {},
     "output_type": "execute_result"
    }
   ],
   "source": [
    "kohli_runs"
   ]
  },
  {
   "cell_type": "code",
   "execution_count": 25,
   "id": "dfac2216",
   "metadata": {},
   "outputs": [
    {
     "name": "stderr",
     "output_type": "stream",
     "text": [
      "C:\\Users\\ipsit\\AppData\\Local\\Temp\\ipykernel_18500\\1239455140.py:1: FutureWarning: The squeeze argument has been deprecated and will be removed in a future version. Append .squeeze(\"columns\") to the call to squeeze.\n",
      "\n",
      "\n",
      "  bollywood_series = pd.read_csv('C:/Users/ipsit/OneDrive - EDHEC/Desktop/Study Material/Machine Learning/Python/Daily Learning/session-datasets/session-datasets/datasets-session-16/bollywood.csv',index_col='movie',squeeze=True)\n"
     ]
    }
   ],
   "source": [
    "bollywood_series = pd.read_csv('C:/Users/ipsit/OneDrive - EDHEC/Desktop/Study Material/Machine Learning/Python/Daily Learning/session-datasets/session-datasets/datasets-session-16/bollywood.csv',index_col='movie',squeeze=True)"
   ]
  },
  {
   "cell_type": "code",
   "execution_count": 26,
   "id": "39908b59",
   "metadata": {},
   "outputs": [
    {
     "name": "stdout",
     "output_type": "stream",
     "text": [
      "movie\n",
      "Uri: The Surgical Strike                   Vicky Kaushal\n",
      "Battalion 609                                Vicky Ahuja\n",
      "The Accidental Prime Minister (film)         Anupam Kher\n",
      "Why Cheat India                            Emraan Hashmi\n",
      "Evening Shadows                         Mona Ambegaonkar\n",
      "Name: lead, dtype: object\n",
      "match_no\n",
      "1     1\n",
      "2    23\n",
      "3    13\n",
      "4    12\n",
      "5     1\n",
      "Name: runs, dtype: int64\n",
      "0    48\n",
      "1    57\n",
      "2    40\n",
      "3    43\n",
      "4    44\n",
      "Name: Subscribers gained, dtype: int64\n"
     ]
    }
   ],
   "source": [
    "# All series - head\n",
    "print(bollywood_series.head(5))\n",
    "print(kohli_runs.head(5))\n",
    "print(sub_series.head(5))"
   ]
  },
  {
   "cell_type": "code",
   "execution_count": 27,
   "id": "c076d886",
   "metadata": {},
   "outputs": [
    {
     "name": "stdout",
     "output_type": "stream",
     "text": [
      "movie\n",
      "Hum Tumhare Hain Sanam      Shah Rukh Khan\n",
      "Aankhen (2002 film)       Amitabh Bachchan\n",
      "Saathiya (film)               Vivek Oberoi\n",
      "Company (film)                  Ajay Devgn\n",
      "Awara Paagal Deewana          Akshay Kumar\n",
      "Name: lead, dtype: object\n",
      "match_no\n",
      "211     0\n",
      "212    20\n",
      "213    73\n",
      "214    25\n",
      "215     7\n",
      "Name: runs, dtype: int64\n",
      "360    231\n",
      "361    226\n",
      "362    155\n",
      "363    144\n",
      "364    172\n",
      "Name: Subscribers gained, dtype: int64\n"
     ]
    }
   ],
   "source": [
    "# All series Tail\n",
    "print(bollywood_series.tail(5))\n",
    "print(kohli_runs.tail(5))\n",
    "print(sub_series.tail(5))"
   ]
  },
  {
   "cell_type": "code",
   "execution_count": 28,
   "id": "07b91f2a",
   "metadata": {},
   "outputs": [
    {
     "name": "stdout",
     "output_type": "stream",
     "text": [
      "movie\n",
      "Joker (2012 film)               Akshay Kumar\n",
      "Ek Chalis Ki Last Local           Abhay Deol\n",
      "Fitoor                     Aditya Roy Kapoor\n",
      "Name: lead, dtype: object\n",
      "match_no\n",
      "171     9\n",
      "89     21\n",
      "108    48\n",
      "Name: runs, dtype: int64\n",
      "317    183\n",
      "323    196\n",
      "230    247\n",
      "Name: Subscribers gained, dtype: int64\n"
     ]
    }
   ],
   "source": [
    "# All series --> Sample\n",
    "print(bollywood_series.sample(3))\n",
    "print(kohli_runs.sample(3))\n",
    "print(sub_series.sample(3))"
   ]
  },
  {
   "cell_type": "code",
   "execution_count": 29,
   "id": "959d765b",
   "metadata": {},
   "outputs": [
    {
     "data": {
      "text/plain": [
       "Akshay Kumar        48\n",
       "Amitabh Bachchan    45\n",
       "Ajay Devgn          38\n",
       "Salman Khan         31\n",
       "Sanjay Dutt         26\n",
       "                    ..\n",
       "Diganth              1\n",
       "Parveen Kaur         1\n",
       "Seema Azmi           1\n",
       "Akanksha Puri        1\n",
       "Edwin Fernandes      1\n",
       "Name: lead, Length: 566, dtype: int64"
      ]
     },
     "execution_count": 29,
     "metadata": {},
     "output_type": "execute_result"
    }
   ],
   "source": [
    "# Value Counts\n",
    "bollywood_series.value_counts()"
   ]
  },
  {
   "cell_type": "code",
   "execution_count": 30,
   "id": "b0e70c00",
   "metadata": {},
   "outputs": [
    {
     "data": {
      "text/plain": [
       "0     9\n",
       "1     8\n",
       "12    8\n",
       "9     7\n",
       "35    6\n",
       "     ..\n",
       "36    1\n",
       "45    1\n",
       "71    1\n",
       "37    1\n",
       "53    1\n",
       "Name: runs, Length: 78, dtype: int64"
      ]
     },
     "execution_count": 30,
     "metadata": {},
     "output_type": "execute_result"
    }
   ],
   "source": [
    "# value counts\n",
    "kohli_runs.value_counts()"
   ]
  },
  {
   "cell_type": "code",
   "execution_count": 31,
   "id": "8cf0d666",
   "metadata": {},
   "outputs": [
    {
     "data": {
      "text/plain": [
       "113"
      ]
     },
     "execution_count": 31,
     "metadata": {},
     "output_type": "execute_result"
    }
   ],
   "source": [
    "# Sort_Values\n",
    "# Method Chaining\n",
    "kohli_runs.sort_values(ascending=False).head(1).values[0]"
   ]
  },
  {
   "cell_type": "code",
   "execution_count": 32,
   "id": "5e98b535",
   "metadata": {},
   "outputs": [
    {
     "data": {
      "text/plain": [
       "330    396\n",
       "Name: Subscribers gained, dtype: int64"
      ]
     },
     "execution_count": 32,
     "metadata": {},
     "output_type": "execute_result"
    }
   ],
   "source": [
    "sub_series.sort_values(ascending=False).head(1)"
   ]
  },
  {
   "cell_type": "code",
   "execution_count": 33,
   "id": "de39bbe0",
   "metadata": {},
   "outputs": [],
   "source": [
    "# Sort Values Inplace\n",
    "kohli_runs.sort_values(ascending=False,inplace=True)"
   ]
  },
  {
   "cell_type": "code",
   "execution_count": 34,
   "id": "837d56b4",
   "metadata": {},
   "outputs": [
    {
     "data": {
      "text/plain": [
       "match_no\n",
       "128    113\n",
       "126    109\n",
       "123    108\n",
       "164    100\n",
       "120    100\n",
       "      ... \n",
       "93       0\n",
       "211      0\n",
       "130      0\n",
       "8        0\n",
       "135      0\n",
       "Name: runs, Length: 215, dtype: int64"
      ]
     },
     "execution_count": 34,
     "metadata": {},
     "output_type": "execute_result"
    }
   ],
   "source": [
    "kohli_runs"
   ]
  },
  {
   "cell_type": "code",
   "execution_count": 35,
   "id": "3aca6ab7",
   "metadata": {},
   "outputs": [
    {
     "data": {
      "text/plain": [
       "match_no\n",
       "128    113\n",
       "126    109\n",
       "123    108\n",
       "164    100\n",
       "120    100\n",
       "      ... \n",
       "93       0\n",
       "211      0\n",
       "130      0\n",
       "8        0\n",
       "135      0\n",
       "Name: runs, Length: 215, dtype: int64"
      ]
     },
     "execution_count": 35,
     "metadata": {},
     "output_type": "execute_result"
    }
   ],
   "source": [
    "kohli_runs"
   ]
  },
  {
   "cell_type": "code",
   "execution_count": 36,
   "id": "58dd4e6d",
   "metadata": {},
   "outputs": [
    {
     "data": {
      "text/plain": [
       "movie\n",
       "Zor Lagaa Ke...Haiya!            Meghan Jadhav\n",
       "Zokkomon                       Darsheel Safary\n",
       "Zindagi Tere Naam           Mithun Chakraborty\n",
       "Zindagi Na Milegi Dobara        Hrithik Roshan\n",
       "Zindagi 50-50                      Veena Malik\n",
       "                                   ...        \n",
       "2 States (2014 film)              Arjun Kapoor\n",
       "1971 (2007 film)                Manoj Bajpayee\n",
       "1920: The Evil Returns             Vicky Ahuja\n",
       "1920: London                     Sharman Joshi\n",
       "1920 (film)                   Rajniesh Duggall\n",
       "Name: lead, Length: 1500, dtype: object"
      ]
     },
     "execution_count": 36,
     "metadata": {},
     "output_type": "execute_result"
    }
   ],
   "source": [
    "bollywood_series.sort_index(ascending=False)"
   ]
  },
  {
   "cell_type": "code",
   "execution_count": 37,
   "id": "2e2a0360",
   "metadata": {},
   "outputs": [],
   "source": [
    "# Series Math Methods"
   ]
  },
  {
   "cell_type": "code",
   "execution_count": 38,
   "id": "9db76bb8",
   "metadata": {},
   "outputs": [
    {
     "data": {
      "text/plain": [
       "1500"
      ]
     },
     "execution_count": 38,
     "metadata": {},
     "output_type": "execute_result"
    }
   ],
   "source": [
    "# Count --> Does not count missing value\n",
    "bollywood_series.count()"
   ]
  },
  {
   "cell_type": "code",
   "execution_count": 39,
   "id": "6b36807f",
   "metadata": {},
   "outputs": [
    {
     "data": {
      "text/plain": [
       "1500"
      ]
     },
     "execution_count": 39,
     "metadata": {},
     "output_type": "execute_result"
    }
   ],
   "source": [
    "#size --> counts missing values too\n",
    "\n",
    "bollywood_series.size"
   ]
  },
  {
   "cell_type": "code",
   "execution_count": 40,
   "id": "70e17761",
   "metadata": {},
   "outputs": [
    {
     "data": {
      "text/plain": [
       "49510"
      ]
     },
     "execution_count": 40,
     "metadata": {},
     "output_type": "execute_result"
    }
   ],
   "source": [
    "# sum --> product\n",
    "sub_series.sum()"
   ]
  },
  {
   "cell_type": "code",
   "execution_count": 41,
   "id": "d34bc19c",
   "metadata": {},
   "outputs": [
    {
     "data": {
      "text/plain": [
       "0"
      ]
     },
     "execution_count": 41,
     "metadata": {},
     "output_type": "execute_result"
    }
   ],
   "source": [
    "sub_series.product()"
   ]
  },
  {
   "cell_type": "code",
   "execution_count": 42,
   "id": "fde1091d",
   "metadata": {},
   "outputs": [
    {
     "data": {
      "text/plain": [
       "match_no\n",
       "128     113\n",
       "126     222\n",
       "123     330\n",
       "164     430\n",
       "120     530\n",
       "       ... \n",
       "93     6634\n",
       "211    6634\n",
       "130    6634\n",
       "8      6634\n",
       "135    6634\n",
       "Name: runs, Length: 215, dtype: int64"
      ]
     },
     "execution_count": 42,
     "metadata": {},
     "output_type": "execute_result"
    }
   ],
   "source": [
    "kohli_runs.cumsum()"
   ]
  },
  {
   "cell_type": "code",
   "execution_count": 43,
   "id": "20968265",
   "metadata": {},
   "outputs": [
    {
     "data": {
      "text/plain": [
       "135.64383561643837"
      ]
     },
     "execution_count": 43,
     "metadata": {},
     "output_type": "execute_result"
    }
   ],
   "source": [
    "# Statistical Methods\n",
    "sub_series.mean()"
   ]
  },
  {
   "cell_type": "code",
   "execution_count": 44,
   "id": "e3e566e9",
   "metadata": {},
   "outputs": [
    {
     "data": {
      "text/plain": [
       "24.0"
      ]
     },
     "execution_count": 44,
     "metadata": {},
     "output_type": "execute_result"
    }
   ],
   "source": [
    "kohli_runs.median()"
   ]
  },
  {
   "cell_type": "code",
   "execution_count": 45,
   "id": "dc80975c",
   "metadata": {},
   "outputs": [
    {
     "data": {
      "text/plain": [
       "0    Akshay Kumar\n",
       "Name: lead, dtype: object"
      ]
     },
     "execution_count": 45,
     "metadata": {},
     "output_type": "execute_result"
    }
   ],
   "source": [
    "bollywood_series.mode()"
   ]
  },
  {
   "cell_type": "code",
   "execution_count": 46,
   "id": "0e1c141b",
   "metadata": {},
   "outputs": [
    {
     "data": {
      "text/plain": [
       "Akshay Kumar        48\n",
       "Amitabh Bachchan    45\n",
       "Ajay Devgn          38\n",
       "Salman Khan         31\n",
       "Sanjay Dutt         26\n",
       "                    ..\n",
       "Diganth              1\n",
       "Parveen Kaur         1\n",
       "Seema Azmi           1\n",
       "Akanksha Puri        1\n",
       "Edwin Fernandes      1\n",
       "Name: lead, Length: 566, dtype: int64"
      ]
     },
     "execution_count": 46,
     "metadata": {},
     "output_type": "execute_result"
    }
   ],
   "source": [
    "bollywood_series.value_counts(ascending=False)"
   ]
  },
  {
   "cell_type": "code",
   "execution_count": 47,
   "id": "dd3e61d0",
   "metadata": {},
   "outputs": [
    {
     "data": {
      "text/plain": [
       "26.22980132830278"
      ]
     },
     "execution_count": 47,
     "metadata": {},
     "output_type": "execute_result"
    }
   ],
   "source": [
    "kohli_runs.std()"
   ]
  },
  {
   "cell_type": "code",
   "execution_count": 48,
   "id": "6419cd4e",
   "metadata": {},
   "outputs": [
    {
     "data": {
      "text/plain": [
       "688.0024777222343"
      ]
     },
     "execution_count": 48,
     "metadata": {},
     "output_type": "execute_result"
    }
   ],
   "source": [
    "kohli_runs.var()"
   ]
  },
  {
   "cell_type": "code",
   "execution_count": 49,
   "id": "ecef40fa",
   "metadata": {},
   "outputs": [
    {
     "data": {
      "text/plain": [
       "396"
      ]
     },
     "execution_count": 49,
     "metadata": {},
     "output_type": "execute_result"
    }
   ],
   "source": [
    "sub_series.max()"
   ]
  },
  {
   "cell_type": "code",
   "execution_count": 50,
   "id": "57def9f0",
   "metadata": {},
   "outputs": [
    {
     "data": {
      "text/plain": [
       "33"
      ]
     },
     "execution_count": 50,
     "metadata": {},
     "output_type": "execute_result"
    }
   ],
   "source": [
    "sub_series.min()"
   ]
  },
  {
   "cell_type": "code",
   "execution_count": 51,
   "id": "2759c2ff",
   "metadata": {
    "scrolled": true
   },
   "outputs": [
    {
     "data": {
      "text/plain": [
       "[33,\n",
       " 33,\n",
       " 35,\n",
       " 37,\n",
       " 39,\n",
       " 40,\n",
       " 40,\n",
       " 40,\n",
       " 40,\n",
       " 42,\n",
       " 42,\n",
       " 43,\n",
       " 44,\n",
       " 44,\n",
       " 44,\n",
       " 45,\n",
       " 46,\n",
       " 46,\n",
       " 48,\n",
       " 49,\n",
       " 49,\n",
       " 49,\n",
       " 49,\n",
       " 50,\n",
       " 50,\n",
       " 50,\n",
       " 51,\n",
       " 54,\n",
       " 56,\n",
       " 56,\n",
       " 56,\n",
       " 56,\n",
       " 57,\n",
       " 61,\n",
       " 62,\n",
       " 64,\n",
       " 65,\n",
       " 65,\n",
       " 66,\n",
       " 66,\n",
       " 66,\n",
       " 66,\n",
       " 67,\n",
       " 68,\n",
       " 70,\n",
       " 70,\n",
       " 70,\n",
       " 71,\n",
       " 71,\n",
       " 72,\n",
       " 72,\n",
       " 72,\n",
       " 72,\n",
       " 72,\n",
       " 73,\n",
       " 74,\n",
       " 74,\n",
       " 75,\n",
       " 76,\n",
       " 76,\n",
       " 76,\n",
       " 76,\n",
       " 77,\n",
       " 77,\n",
       " 78,\n",
       " 78,\n",
       " 78,\n",
       " 79,\n",
       " 79,\n",
       " 80,\n",
       " 80,\n",
       " 80,\n",
       " 81,\n",
       " 81,\n",
       " 82,\n",
       " 82,\n",
       " 83,\n",
       " 83,\n",
       " 83,\n",
       " 84,\n",
       " 84,\n",
       " 84,\n",
       " 85,\n",
       " 86,\n",
       " 86,\n",
       " 86,\n",
       " 87,\n",
       " 87,\n",
       " 87,\n",
       " 87,\n",
       " 88,\n",
       " 88,\n",
       " 88,\n",
       " 88,\n",
       " 88,\n",
       " 89,\n",
       " 89,\n",
       " 89,\n",
       " 90,\n",
       " 90,\n",
       " 90,\n",
       " 90,\n",
       " 91,\n",
       " 92,\n",
       " 92,\n",
       " 92,\n",
       " 93,\n",
       " 93,\n",
       " 93,\n",
       " 93,\n",
       " 95,\n",
       " 95,\n",
       " 96,\n",
       " 96,\n",
       " 96,\n",
       " 96,\n",
       " 97,\n",
       " 97,\n",
       " 98,\n",
       " 98,\n",
       " 99,\n",
       " 99,\n",
       " 100,\n",
       " 100,\n",
       " 100,\n",
       " 101,\n",
       " 101,\n",
       " 101,\n",
       " 102,\n",
       " 102,\n",
       " 103,\n",
       " 103,\n",
       " 104,\n",
       " 104,\n",
       " 104,\n",
       " 105,\n",
       " 105,\n",
       " 105,\n",
       " 105,\n",
       " 105,\n",
       " 105,\n",
       " 105,\n",
       " 105,\n",
       " 105,\n",
       " 108,\n",
       " 108,\n",
       " 108,\n",
       " 108,\n",
       " 108,\n",
       " 108,\n",
       " 109,\n",
       " 109,\n",
       " 110,\n",
       " 110,\n",
       " 110,\n",
       " 111,\n",
       " 111,\n",
       " 112,\n",
       " 113,\n",
       " 113,\n",
       " 113,\n",
       " 114,\n",
       " 114,\n",
       " 114,\n",
       " 114,\n",
       " 115,\n",
       " 115,\n",
       " 115,\n",
       " 115,\n",
       " 117,\n",
       " 117,\n",
       " 117,\n",
       " 118,\n",
       " 118,\n",
       " 119,\n",
       " 119,\n",
       " 119,\n",
       " 119,\n",
       " 120,\n",
       " 122,\n",
       " 123,\n",
       " 123,\n",
       " 123,\n",
       " 123,\n",
       " 123,\n",
       " 124,\n",
       " 125,\n",
       " 126,\n",
       " 127,\n",
       " 128,\n",
       " 128,\n",
       " 129,\n",
       " 130,\n",
       " 131,\n",
       " 131,\n",
       " 132,\n",
       " 132,\n",
       " 134,\n",
       " 134,\n",
       " 134,\n",
       " 135,\n",
       " 135,\n",
       " 136,\n",
       " 136,\n",
       " 136,\n",
       " 137,\n",
       " 138,\n",
       " 138,\n",
       " 138,\n",
       " 139,\n",
       " 140,\n",
       " 144,\n",
       " 145,\n",
       " 146,\n",
       " 146,\n",
       " 146,\n",
       " 146,\n",
       " 147,\n",
       " 149,\n",
       " 150,\n",
       " 150,\n",
       " 150,\n",
       " 150,\n",
       " 151,\n",
       " 152,\n",
       " 152,\n",
       " 152,\n",
       " 153,\n",
       " 153,\n",
       " 153,\n",
       " 154,\n",
       " 154,\n",
       " 154,\n",
       " 155,\n",
       " 155,\n",
       " 156,\n",
       " 156,\n",
       " 156,\n",
       " 156,\n",
       " 157,\n",
       " 157,\n",
       " 157,\n",
       " 157,\n",
       " 158,\n",
       " 158,\n",
       " 159,\n",
       " 159,\n",
       " 160,\n",
       " 160,\n",
       " 160,\n",
       " 160,\n",
       " 162,\n",
       " 164,\n",
       " 166,\n",
       " 167,\n",
       " 167,\n",
       " 168,\n",
       " 170,\n",
       " 170,\n",
       " 170,\n",
       " 170,\n",
       " 171,\n",
       " 172,\n",
       " 172,\n",
       " 173,\n",
       " 173,\n",
       " 173,\n",
       " 174,\n",
       " 174,\n",
       " 175,\n",
       " 175,\n",
       " 176,\n",
       " 176,\n",
       " 177,\n",
       " 178,\n",
       " 179,\n",
       " 179,\n",
       " 180,\n",
       " 180,\n",
       " 180,\n",
       " 182,\n",
       " 183,\n",
       " 183,\n",
       " 183,\n",
       " 184,\n",
       " 184,\n",
       " 184,\n",
       " 185,\n",
       " 185,\n",
       " 185,\n",
       " 185,\n",
       " 186,\n",
       " 186,\n",
       " 186,\n",
       " 188,\n",
       " 189,\n",
       " 190,\n",
       " 190,\n",
       " 192,\n",
       " 192,\n",
       " 192,\n",
       " 196,\n",
       " 196,\n",
       " 196,\n",
       " 197,\n",
       " 197,\n",
       " 202,\n",
       " 202,\n",
       " 202,\n",
       " 203,\n",
       " 204,\n",
       " 206,\n",
       " 207,\n",
       " 209,\n",
       " 210,\n",
       " 210,\n",
       " 211,\n",
       " 212,\n",
       " 213,\n",
       " 214,\n",
       " 216,\n",
       " 219,\n",
       " 220,\n",
       " 221,\n",
       " 221,\n",
       " 222,\n",
       " 222,\n",
       " 224,\n",
       " 225,\n",
       " 225,\n",
       " 226,\n",
       " 227,\n",
       " 228,\n",
       " 229,\n",
       " 230,\n",
       " 231,\n",
       " 233,\n",
       " 236,\n",
       " 236,\n",
       " 237,\n",
       " 241,\n",
       " 243,\n",
       " 244,\n",
       " 245,\n",
       " 247,\n",
       " 249,\n",
       " 254,\n",
       " 254,\n",
       " 258,\n",
       " 259,\n",
       " 259,\n",
       " 261,\n",
       " 261,\n",
       " 265,\n",
       " 267,\n",
       " 268,\n",
       " 269,\n",
       " 276,\n",
       " 276,\n",
       " 290,\n",
       " 295,\n",
       " 301,\n",
       " 306,\n",
       " 312,\n",
       " 396]"
      ]
     },
     "execution_count": 51,
     "metadata": {},
     "output_type": "execute_result"
    }
   ],
   "source": [
    "sorted(sub_series.values)"
   ]
  },
  {
   "cell_type": "code",
   "execution_count": 52,
   "id": "feeed8ec",
   "metadata": {},
   "outputs": [
    {
     "data": {
      "text/plain": [
       "count    215.000000\n",
       "mean      30.855814\n",
       "std       26.229801\n",
       "min        0.000000\n",
       "25%        9.000000\n",
       "50%       24.000000\n",
       "75%       48.000000\n",
       "max      113.000000\n",
       "Name: runs, dtype: float64"
      ]
     },
     "execution_count": 52,
     "metadata": {},
     "output_type": "execute_result"
    }
   ],
   "source": [
    "# Describe\n",
    "kohli_runs.describe()"
   ]
  },
  {
   "cell_type": "code",
   "execution_count": 53,
   "id": "807c0c5e",
   "metadata": {},
   "outputs": [
    {
     "data": {
      "text/plain": [
       "12"
      ]
     },
     "execution_count": 53,
     "metadata": {},
     "output_type": "execute_result"
    }
   ],
   "source": [
    "# Series Indexing\n",
    "x = pd.Series([12,13,14,35,56,58,79,9])\n",
    "x[0]"
   ]
  },
  {
   "cell_type": "code",
   "execution_count": 54,
   "id": "99f764f0",
   "metadata": {},
   "outputs": [
    {
     "ename": "KeyError",
     "evalue": "-1",
     "output_type": "error",
     "traceback": [
      "\u001b[1;31m---------------------------------------------------------------------------\u001b[0m",
      "\u001b[1;31mValueError\u001b[0m                                Traceback (most recent call last)",
      "File \u001b[1;32m~\\anaconda3\\Lib\\site-packages\\pandas\\core\\indexes\\range.py:391\u001b[0m, in \u001b[0;36mRangeIndex.get_loc\u001b[1;34m(self, key, method, tolerance)\u001b[0m\n\u001b[0;32m    390\u001b[0m \u001b[38;5;28;01mtry\u001b[39;00m:\n\u001b[1;32m--> 391\u001b[0m     \u001b[38;5;28;01mreturn\u001b[39;00m \u001b[38;5;28mself\u001b[39m\u001b[38;5;241m.\u001b[39m_range\u001b[38;5;241m.\u001b[39mindex(new_key)\n\u001b[0;32m    392\u001b[0m \u001b[38;5;28;01mexcept\u001b[39;00m \u001b[38;5;167;01mValueError\u001b[39;00m \u001b[38;5;28;01mas\u001b[39;00m err:\n",
      "\u001b[1;31mValueError\u001b[0m: -1 is not in range",
      "\nThe above exception was the direct cause of the following exception:\n",
      "\u001b[1;31mKeyError\u001b[0m                                  Traceback (most recent call last)",
      "Cell \u001b[1;32mIn[54], line 2\u001b[0m\n\u001b[0;32m      1\u001b[0m \u001b[38;5;66;03m#negative indexing does not work\u001b[39;00m\n\u001b[1;32m----> 2\u001b[0m x[\u001b[38;5;241m-\u001b[39m\u001b[38;5;241m1\u001b[39m]\n",
      "File \u001b[1;32m~\\anaconda3\\Lib\\site-packages\\pandas\\core\\series.py:981\u001b[0m, in \u001b[0;36mSeries.__getitem__\u001b[1;34m(self, key)\u001b[0m\n\u001b[0;32m    978\u001b[0m     \u001b[38;5;28;01mreturn\u001b[39;00m \u001b[38;5;28mself\u001b[39m\u001b[38;5;241m.\u001b[39m_values[key]\n\u001b[0;32m    980\u001b[0m \u001b[38;5;28;01melif\u001b[39;00m key_is_scalar:\n\u001b[1;32m--> 981\u001b[0m     \u001b[38;5;28;01mreturn\u001b[39;00m \u001b[38;5;28mself\u001b[39m\u001b[38;5;241m.\u001b[39m_get_value(key)\n\u001b[0;32m    983\u001b[0m \u001b[38;5;28;01mif\u001b[39;00m is_hashable(key):\n\u001b[0;32m    984\u001b[0m     \u001b[38;5;66;03m# Otherwise index.get_value will raise InvalidIndexError\u001b[39;00m\n\u001b[0;32m    985\u001b[0m     \u001b[38;5;28;01mtry\u001b[39;00m:\n\u001b[0;32m    986\u001b[0m         \u001b[38;5;66;03m# For labels that don't resolve as scalars like tuples and frozensets\u001b[39;00m\n",
      "File \u001b[1;32m~\\anaconda3\\Lib\\site-packages\\pandas\\core\\series.py:1089\u001b[0m, in \u001b[0;36mSeries._get_value\u001b[1;34m(self, label, takeable)\u001b[0m\n\u001b[0;32m   1086\u001b[0m     \u001b[38;5;28;01mreturn\u001b[39;00m \u001b[38;5;28mself\u001b[39m\u001b[38;5;241m.\u001b[39m_values[label]\n\u001b[0;32m   1088\u001b[0m \u001b[38;5;66;03m# Similar to Index.get_value, but we do not fall back to positional\u001b[39;00m\n\u001b[1;32m-> 1089\u001b[0m loc \u001b[38;5;241m=\u001b[39m \u001b[38;5;28mself\u001b[39m\u001b[38;5;241m.\u001b[39mindex\u001b[38;5;241m.\u001b[39mget_loc(label)\n\u001b[0;32m   1090\u001b[0m \u001b[38;5;28;01mreturn\u001b[39;00m \u001b[38;5;28mself\u001b[39m\u001b[38;5;241m.\u001b[39mindex\u001b[38;5;241m.\u001b[39m_get_values_for_loc(\u001b[38;5;28mself\u001b[39m, loc, label)\n",
      "File \u001b[1;32m~\\anaconda3\\Lib\\site-packages\\pandas\\core\\indexes\\range.py:393\u001b[0m, in \u001b[0;36mRangeIndex.get_loc\u001b[1;34m(self, key, method, tolerance)\u001b[0m\n\u001b[0;32m    391\u001b[0m         \u001b[38;5;28;01mreturn\u001b[39;00m \u001b[38;5;28mself\u001b[39m\u001b[38;5;241m.\u001b[39m_range\u001b[38;5;241m.\u001b[39mindex(new_key)\n\u001b[0;32m    392\u001b[0m     \u001b[38;5;28;01mexcept\u001b[39;00m \u001b[38;5;167;01mValueError\u001b[39;00m \u001b[38;5;28;01mas\u001b[39;00m err:\n\u001b[1;32m--> 393\u001b[0m         \u001b[38;5;28;01mraise\u001b[39;00m \u001b[38;5;167;01mKeyError\u001b[39;00m(key) \u001b[38;5;28;01mfrom\u001b[39;00m \u001b[38;5;21;01merr\u001b[39;00m\n\u001b[0;32m    394\u001b[0m \u001b[38;5;28mself\u001b[39m\u001b[38;5;241m.\u001b[39m_check_indexing_error(key)\n\u001b[0;32m    395\u001b[0m \u001b[38;5;28;01mraise\u001b[39;00m \u001b[38;5;167;01mKeyError\u001b[39;00m(key)\n",
      "\u001b[1;31mKeyError\u001b[0m: -1"
     ]
    }
   ],
   "source": [
    "#negative indexing does not work\n",
    "x[-1]"
   ]
  },
  {
   "cell_type": "code",
   "execution_count": null,
   "id": "ab946227",
   "metadata": {},
   "outputs": [],
   "source": [
    "x[3] "
   ]
  },
  {
   "cell_type": "code",
   "execution_count": null,
   "id": "3066d3a5",
   "metadata": {},
   "outputs": [],
   "source": [
    "len(x)"
   ]
  },
  {
   "cell_type": "code",
   "execution_count": null,
   "id": "9ec608c7",
   "metadata": {},
   "outputs": [],
   "source": [
    "bollywood_series[0]"
   ]
  },
  {
   "cell_type": "code",
   "execution_count": null,
   "id": "a08108f8",
   "metadata": {},
   "outputs": [],
   "source": [
    "bollywood_series['Awara Paagal Deewana']"
   ]
  },
  {
   "cell_type": "code",
   "execution_count": null,
   "id": "44f61fa0",
   "metadata": {},
   "outputs": [],
   "source": [
    "marks_series"
   ]
  },
  {
   "cell_type": "code",
   "execution_count": null,
   "id": "64e53614",
   "metadata": {},
   "outputs": [],
   "source": [
    "marks_series[-1]"
   ]
  },
  {
   "cell_type": "code",
   "execution_count": null,
   "id": "4396dc12",
   "metadata": {},
   "outputs": [],
   "source": [
    "#slicing\n",
    "kohli_runs[0:10]"
   ]
  },
  {
   "cell_type": "code",
   "execution_count": null,
   "id": "ef6b4195",
   "metadata": {},
   "outputs": [],
   "source": [
    "kohli_runs[-5:]"
   ]
  },
  {
   "cell_type": "code",
   "execution_count": null,
   "id": "7b0eda89",
   "metadata": {},
   "outputs": [],
   "source": [
    "bollywood_series[-5:]"
   ]
  },
  {
   "cell_type": "code",
   "execution_count": null,
   "id": "a0b425e7",
   "metadata": {},
   "outputs": [],
   "source": [
    "kohli_runs[[1,3,4,5]]"
   ]
  },
  {
   "cell_type": "code",
   "execution_count": null,
   "id": "1a72d760",
   "metadata": {},
   "outputs": [],
   "source": [
    "bollywood_series[['Hum Tumhare Hain Sanam','Aankhen (2002 film)']]"
   ]
  },
  {
   "cell_type": "code",
   "execution_count": null,
   "id": "b477d723",
   "metadata": {},
   "outputs": [],
   "source": [
    "# Editing Series"
   ]
  },
  {
   "cell_type": "code",
   "execution_count": null,
   "id": "42569208",
   "metadata": {},
   "outputs": [],
   "source": [
    "marks_series"
   ]
  },
  {
   "cell_type": "code",
   "execution_count": null,
   "id": "761ceb67",
   "metadata": {},
   "outputs": [],
   "source": [
    "marks_series['english'] = 92"
   ]
  },
  {
   "cell_type": "code",
   "execution_count": null,
   "id": "54664aff",
   "metadata": {},
   "outputs": [],
   "source": [
    "marks_series[2] = 98"
   ]
  },
  {
   "cell_type": "code",
   "execution_count": null,
   "id": "ad38c2ac",
   "metadata": {},
   "outputs": [],
   "source": [
    "marks_series"
   ]
  },
  {
   "cell_type": "code",
   "execution_count": null,
   "id": "dc29a47a",
   "metadata": {},
   "outputs": [],
   "source": [
    "# When index is not present\n",
    "marks_series['SST'] = 96\n",
    "marks_series"
   ]
  },
  {
   "cell_type": "code",
   "execution_count": null,
   "id": "d74d3b45",
   "metadata": {},
   "outputs": [],
   "source": [
    "runs_series"
   ]
  },
  {
   "cell_type": "code",
   "execution_count": null,
   "id": "7aac8174",
   "metadata": {},
   "outputs": [],
   "source": [
    "runs_series[[0,2]] = 91,94"
   ]
  },
  {
   "cell_type": "code",
   "execution_count": null,
   "id": "f2d1000b",
   "metadata": {},
   "outputs": [],
   "source": [
    "runs_series"
   ]
  },
  {
   "cell_type": "code",
   "execution_count": null,
   "id": "1f2c26cc",
   "metadata": {},
   "outputs": [],
   "source": [
    "bollywood_series['Saathiya (film)'] = 'Rani Mukharjee'"
   ]
  },
  {
   "cell_type": "code",
   "execution_count": null,
   "id": "b2334572",
   "metadata": {},
   "outputs": [],
   "source": [
    "bollywood_series['Saathiya (film)']"
   ]
  },
  {
   "cell_type": "code",
   "execution_count": null,
   "id": "40cdeb02",
   "metadata": {},
   "outputs": [],
   "source": [
    "# Series with python functionalities"
   ]
  },
  {
   "cell_type": "code",
   "execution_count": null,
   "id": "a89b0918",
   "metadata": {},
   "outputs": [],
   "source": [
    "# len/dir/sorted/type/max/min\n",
    "len(bollywood_series)"
   ]
  },
  {
   "cell_type": "code",
   "execution_count": null,
   "id": "58aa1fcd",
   "metadata": {},
   "outputs": [],
   "source": [
    "dir(bollywood_series)"
   ]
  },
  {
   "cell_type": "code",
   "execution_count": null,
   "id": "97043f0a",
   "metadata": {},
   "outputs": [],
   "source": [
    "sorted(bollywood_series)"
   ]
  },
  {
   "cell_type": "code",
   "execution_count": null,
   "id": "46e4f966",
   "metadata": {},
   "outputs": [],
   "source": [
    "type(bollywood_series)"
   ]
  },
  {
   "cell_type": "code",
   "execution_count": null,
   "id": "3434e862",
   "metadata": {},
   "outputs": [],
   "source": [
    "max(sub_series)"
   ]
  },
  {
   "cell_type": "code",
   "execution_count": null,
   "id": "d14f077b",
   "metadata": {},
   "outputs": [],
   "source": [
    "min(sub_series)"
   ]
  },
  {
   "cell_type": "code",
   "execution_count": null,
   "id": "e081caf8",
   "metadata": {},
   "outputs": [],
   "source": [
    "# type conversion\n",
    "sub_series.astype('int64')"
   ]
  },
  {
   "cell_type": "code",
   "execution_count": null,
   "id": "7bd17b6d",
   "metadata": {},
   "outputs": [],
   "source": [
    "list(marks_series)"
   ]
  },
  {
   "cell_type": "code",
   "execution_count": null,
   "id": "66b3881c",
   "metadata": {},
   "outputs": [],
   "source": [
    "dict(marks_series)"
   ]
  },
  {
   "cell_type": "code",
   "execution_count": null,
   "id": "d42f9d38",
   "metadata": {},
   "outputs": [],
   "source": [
    "# membership operator\n",
    "\n",
    "'Evening Shadows' in bollywood_series"
   ]
  },
  {
   "cell_type": "code",
   "execution_count": null,
   "id": "e6cb95f5",
   "metadata": {},
   "outputs": [],
   "source": [
    "'Akshay Kumar' in bollywood_series.values"
   ]
  },
  {
   "cell_type": "code",
   "execution_count": null,
   "id": "49a44443",
   "metadata": {},
   "outputs": [],
   "source": [
    "# Looping\n",
    "for i in bollywood_series:\n",
    "    print(i)"
   ]
  },
  {
   "cell_type": "code",
   "execution_count": null,
   "id": "f0114dfe",
   "metadata": {},
   "outputs": [],
   "source": [
    "# Arithmatic operators --> broadcasting\n",
    "marks_series"
   ]
  },
  {
   "cell_type": "code",
   "execution_count": null,
   "id": "e1546714",
   "metadata": {},
   "outputs": [],
   "source": [
    "100-marks_series"
   ]
  },
  {
   "cell_type": "code",
   "execution_count": null,
   "id": "0d35600a",
   "metadata": {},
   "outputs": [],
   "source": [
    "# relational operators\n",
    "# Boolean indexing on series\n",
    "kohli_runs[kohli_runs >= 50]"
   ]
  },
  {
   "cell_type": "code",
   "execution_count": 55,
   "id": "ee5bbcae",
   "metadata": {},
   "outputs": [
    {
     "data": {
      "text/plain": [
       "match_no\n",
       "87     0\n",
       "91     0\n",
       "206    0\n",
       "207    0\n",
       "93     0\n",
       "211    0\n",
       "130    0\n",
       "8      0\n",
       "135    0\n",
       "Name: runs, dtype: int64"
      ]
     },
     "execution_count": 55,
     "metadata": {},
     "output_type": "execute_result"
    }
   ],
   "source": [
    "kohli_runs[kohli_runs == 0]"
   ]
  },
  {
   "cell_type": "code",
   "execution_count": 58,
   "id": "4d5a8f1a",
   "metadata": {},
   "outputs": [
    {
     "data": {
      "text/plain": [
       "59"
      ]
     },
     "execution_count": 58,
     "metadata": {},
     "output_type": "execute_result"
    }
   ],
   "source": [
    "sub_series[sub_series > 200].size"
   ]
  },
  {
   "cell_type": "code",
   "execution_count": 62,
   "id": "aaa6a7e4",
   "metadata": {},
   "outputs": [
    {
     "data": {
      "text/plain": [
       "Akshay Kumar        48\n",
       "Amitabh Bachchan    45\n",
       "Ajay Devgn          38\n",
       "Salman Khan         31\n",
       "Sanjay Dutt         26\n",
       "Shah Rukh Khan      22\n",
       "Emraan Hashmi       21\n",
       "Name: lead, dtype: int64"
      ]
     },
     "execution_count": 62,
     "metadata": {},
     "output_type": "execute_result"
    }
   ],
   "source": [
    "bollywood_series.value_counts()[bollywood_series.value_counts() > 20]"
   ]
  },
  {
   "cell_type": "code",
   "execution_count": 63,
   "id": "9f3b5221",
   "metadata": {},
   "outputs": [],
   "source": [
    "import matplotlib.pyplot as plt"
   ]
  },
  {
   "cell_type": "code",
   "execution_count": 64,
   "id": "ef7f21fe",
   "metadata": {},
   "outputs": [
    {
     "data": {
      "text/plain": [
       "<Axes: >"
      ]
     },
     "execution_count": 64,
     "metadata": {},
     "output_type": "execute_result"
    },
    {
     "data": {
      "image/png": "[encoded data removed]",
      "text/plain": [
       "<Figure size 640x480 with 1 Axes>"
      ]
     },
     "metadata": {},
     "output_type": "display_data"
    }
   ],
   "source": [
    "sub_series.plot()"
   ]
  },
  {
   "cell_type": "code",
   "execution_count": 70,
   "id": "10536480",
   "metadata": {},
   "outputs": [
    {
     "data": {
      "text/plain": [
       "<Axes: >"
      ]
     },
     "execution_count": 70,
     "metadata": {},
     "output_type": "execute_result"
    },
    {
     "data": {
      "image/png": "[encoded data removed]",
      "text/plain": [
       "<Figure size 640x480 with 1 Axes>"
      ]
     },
     "metadata": {},
     "output_type": "display_data"
    }
   ],
   "source": [
    "bollywood_series.value_counts().head(5).plot(kind = 'bar')"
   ]
  },
  {
   "cell_type": "code",
   "execution_count": 71,
   "id": "3f6dc4fd",
   "metadata": {},
   "outputs": [],
   "source": [
    "import sys"
   ]
  },
  {
   "cell_type": "code",
   "execution_count": 72,
   "id": "805a2250",
   "metadata": {},
   "outputs": [
    {
     "data": {
      "text/plain": [
       "3472"
      ]
     },
     "execution_count": 72,
     "metadata": {},
     "output_type": "execute_result"
    }
   ],
   "source": [
    "sys.getsizeof(kohli_runs)"
   ]
  },
  {
   "cell_type": "code",
   "execution_count": 73,
   "id": "202e9e59",
   "metadata": {},
   "outputs": [
    {
     "data": {
      "text/plain": [
       "match_no\n",
       "128    113\n",
       "126    109\n",
       "123    108\n",
       "164    100\n",
       "120    100\n",
       "Name: runs, dtype: int64"
      ]
     },
     "execution_count": 73,
     "metadata": {},
     "output_type": "execute_result"
    }
   ],
   "source": [
    "kohli_runs.head()"
   ]
  },
  {
   "cell_type": "code",
   "execution_count": 74,
   "id": "aff9b13a",
   "metadata": {},
   "outputs": [
    {
     "data": {
      "text/plain": [
       "match_no\n",
       "128    113\n",
       "126    109\n",
       "123    108\n",
       "164    100\n",
       "120    100\n",
       "      ... \n",
       "93       0\n",
       "211      0\n",
       "130      0\n",
       "8        0\n",
       "135      0\n",
       "Name: runs, Length: 215, dtype: int16"
      ]
     },
     "execution_count": 74,
     "metadata": {},
     "output_type": "execute_result"
    }
   ],
   "source": [
    "kohli_runs.astype('int16')"
   ]
  },
  {
   "cell_type": "code",
   "execution_count": 77,
   "id": "15499848",
   "metadata": {},
   "outputs": [
    {
     "data": {
      "text/plain": [
       "47"
      ]
     },
     "execution_count": 77,
     "metadata": {},
     "output_type": "execute_result"
    }
   ],
   "source": [
    "#between\n",
    "kohli_runs[kohli_runs.between(50,100)].size"
   ]
  },
  {
   "cell_type": "code",
   "execution_count": 78,
   "id": "39c3e221",
   "metadata": {},
   "outputs": [
    {
     "data": {
      "text/plain": [
       "0      100\n",
       "1      100\n",
       "2      100\n",
       "3      100\n",
       "4      100\n",
       "      ... \n",
       "360    200\n",
       "361    200\n",
       "362    155\n",
       "363    144\n",
       "364    172\n",
       "Name: Subscribers gained, Length: 365, dtype: int64"
      ]
     },
     "execution_count": 78,
     "metadata": {},
     "output_type": "execute_result"
    }
   ],
   "source": [
    "#clip\n",
    "sub_series.clip(100,200)"
   ]
  },
  {
   "cell_type": "code",
   "execution_count": 79,
   "id": "b45073f9",
   "metadata": {},
   "outputs": [],
   "source": [
    "# drop duplicates\n",
    "temp = pd.Series([1,2,3,4,12,1,1,12,34,5,6,3,2])"
   ]
  },
  {
   "cell_type": "code",
   "execution_count": 80,
   "id": "7f7ead6f",
   "metadata": {},
   "outputs": [
    {
     "data": {
      "text/plain": [
       "0      1\n",
       "1      2\n",
       "2      3\n",
       "3      4\n",
       "4     12\n",
       "8     34\n",
       "9      5\n",
       "10     6\n",
       "dtype: int64"
      ]
     },
     "execution_count": 80,
     "metadata": {},
     "output_type": "execute_result"
    }
   ],
   "source": [
    "temp.drop_duplicates()"
   ]
  },
  {
   "cell_type": "code",
   "execution_count": 81,
   "id": "c688ae14",
   "metadata": {},
   "outputs": [
    {
     "data": {
      "text/plain": [
       "3      4\n",
       "6      1\n",
       "7     12\n",
       "8     34\n",
       "9      5\n",
       "10     6\n",
       "11     3\n",
       "12     2\n",
       "dtype: int64"
      ]
     },
     "execution_count": 81,
     "metadata": {},
     "output_type": "execute_result"
    }
   ],
   "source": [
    "temp.drop_duplicates(keep= 'last')"
   ]
  },
  {
   "cell_type": "code",
   "execution_count": 83,
   "id": "bed81a61",
   "metadata": {},
   "outputs": [
    {
     "data": {
      "text/plain": [
       "movie\n",
       "Uri: The Surgical Strike                   Vicky Kaushal\n",
       "Battalion 609                                Vicky Ahuja\n",
       "The Accidental Prime Minister (film)         Anupam Kher\n",
       "Why Cheat India                            Emraan Hashmi\n",
       "Evening Shadows                         Mona Ambegaonkar\n",
       "                                              ...       \n",
       "Sssshhh...                              Tanishaa Mukerji\n",
       "Rules: Pyaar Ka Superhit Formula                  Tanuja\n",
       "Right Here Right Now (film)                        Ankit\n",
       "Talaash: The Hunt Begins...                Rakhee Gulzar\n",
       "The Pink Mirror                          Edwin Fernandes\n",
       "Name: lead, Length: 566, dtype: object"
      ]
     },
     "execution_count": 83,
     "metadata": {},
     "output_type": "execute_result"
    }
   ],
   "source": [
    "bollywood_series.drop_duplicates()"
   ]
  },
  {
   "cell_type": "code",
   "execution_count": 84,
   "id": "ad173cca",
   "metadata": {},
   "outputs": [
    {
     "data": {
      "text/plain": [
       "0     False\n",
       "1     False\n",
       "2     False\n",
       "3     False\n",
       "4     False\n",
       "5      True\n",
       "6      True\n",
       "7      True\n",
       "8     False\n",
       "9     False\n",
       "10    False\n",
       "11     True\n",
       "12     True\n",
       "dtype: bool"
      ]
     },
     "execution_count": 84,
     "metadata": {},
     "output_type": "execute_result"
    }
   ],
   "source": [
    "temp.duplicated()"
   ]
  },
  {
   "cell_type": "code",
   "execution_count": 92,
   "id": "3a9ac472",
   "metadata": {},
   "outputs": [],
   "source": [
    "# Missing Values\n",
    "# handling missing value - remove missing value or fill missing value\n",
    "temp = pd.Series([1,2,np.nan,3,np.nan,3,4,5,6,9,np.nan,np.nan,4,3,2,np.nan])"
   ]
  },
  {
   "cell_type": "code",
   "execution_count": 93,
   "id": "ca9b1969",
   "metadata": {},
   "outputs": [
    {
     "data": {
      "text/plain": [
       "16"
      ]
     },
     "execution_count": 93,
     "metadata": {},
     "output_type": "execute_result"
    }
   ],
   "source": [
    "temp.size"
   ]
  },
  {
   "cell_type": "code",
   "execution_count": 94,
   "id": "36d9c8d2",
   "metadata": {},
   "outputs": [
    {
     "data": {
      "text/plain": [
       "11"
      ]
     },
     "execution_count": 94,
     "metadata": {},
     "output_type": "execute_result"
    }
   ],
   "source": [
    "temp.count()"
   ]
  },
  {
   "cell_type": "code",
   "execution_count": 95,
   "id": "0c08e79b",
   "metadata": {},
   "outputs": [
    {
     "data": {
      "text/plain": [
       "5"
      ]
     },
     "execution_count": 95,
     "metadata": {},
     "output_type": "execute_result"
    }
   ],
   "source": [
    "temp.isnull().sum()"
   ]
  },
  {
   "cell_type": "code",
   "execution_count": 96,
   "id": "a702b531",
   "metadata": {},
   "outputs": [
    {
     "data": {
      "text/plain": [
       "0"
      ]
     },
     "execution_count": 96,
     "metadata": {},
     "output_type": "execute_result"
    }
   ],
   "source": [
    "kohli_runs.isnull().sum()"
   ]
  },
  {
   "cell_type": "code",
   "execution_count": 97,
   "id": "ab93e356",
   "metadata": {},
   "outputs": [
    {
     "data": {
      "text/plain": [
       "0     1.0\n",
       "1     2.0\n",
       "3     3.0\n",
       "5     3.0\n",
       "6     4.0\n",
       "7     5.0\n",
       "8     6.0\n",
       "9     9.0\n",
       "12    4.0\n",
       "13    3.0\n",
       "14    2.0\n",
       "dtype: float64"
      ]
     },
     "execution_count": 97,
     "metadata": {},
     "output_type": "execute_result"
    }
   ],
   "source": [
    "temp.dropna()"
   ]
  },
  {
   "cell_type": "code",
   "execution_count": 100,
   "id": "65d83e02",
   "metadata": {},
   "outputs": [
    {
     "data": {
      "text/plain": [
       "0     1\n",
       "1     2\n",
       "2     3\n",
       "3     3\n",
       "4     3\n",
       "5     3\n",
       "6     4\n",
       "7     5\n",
       "8     6\n",
       "9     9\n",
       "10    3\n",
       "11    3\n",
       "12    4\n",
       "13    3\n",
       "14    2\n",
       "15    3\n",
       "dtype: int16"
      ]
     },
     "execution_count": 100,
     "metadata": {},
     "output_type": "execute_result"
    }
   ],
   "source": [
    "temp.fillna(temp.mean()).astype('int16')"
   ]
  },
  {
   "cell_type": "code",
   "execution_count": 102,
   "id": "e3ad31d1",
   "metadata": {},
   "outputs": [
    {
     "data": {
      "text/plain": [
       "match_no\n",
       "82    99\n",
       "86    49\n",
       "Name: runs, dtype: int64"
      ]
     },
     "execution_count": 102,
     "metadata": {},
     "output_type": "execute_result"
    }
   ],
   "source": [
    "kohli_runs[kohli_runs.isin([49,99])]"
   ]
  },
  {
   "cell_type": "code",
   "execution_count": 105,
   "id": "3a57b94f",
   "metadata": {},
   "outputs": [
    {
     "data": {
      "text/plain": [
       "movie\n",
       "Uri: The Surgical Strike                  Vicky\n",
       "Battalion 609                             Vicky\n",
       "The Accidental Prime Minister (film)     Anupam\n",
       "Why Cheat India                          Emraan\n",
       "Evening Shadows                            Mona\n",
       "                                         ...   \n",
       "Hum Tumhare Hain Sanam                     Shah\n",
       "Aankhen (2002 film)                     Amitabh\n",
       "Saathiya (film)                           Vivek\n",
       "Company (film)                             Ajay\n",
       "Awara Paagal Deewana                     Akshay\n",
       "Name: lead, Length: 1500, dtype: object"
      ]
     },
     "execution_count": 105,
     "metadata": {},
     "output_type": "execute_result"
    }
   ],
   "source": [
    "# apply\n",
    "bollywood_series.apply(lambda x :x.split()[0].title())"
   ]
  },
  {
   "cell_type": "code",
   "execution_count": 106,
   "id": "ff76a165",
   "metadata": {},
   "outputs": [
    {
     "data": {
      "text/plain": [
       "match_no\n",
       "128    113\n",
       "126    109\n",
       "123    108\n",
       "164    100\n",
       "120    100\n",
       "      ... \n",
       "93       0\n",
       "211      0\n",
       "130      0\n",
       "8        0\n",
       "135      0\n",
       "Name: runs, Length: 215, dtype: int64"
      ]
     },
     "execution_count": 106,
     "metadata": {},
     "output_type": "execute_result"
    }
   ],
   "source": [
    "kohli_runs"
   ]
  },
  {
   "cell_type": "code",
   "execution_count": 107,
   "id": "d60d535b",
   "metadata": {},
   "outputs": [
    {
     "data": {
      "text/plain": [
       "30.855813953488372"
      ]
     },
     "execution_count": 107,
     "metadata": {},
     "output_type": "execute_result"
    }
   ],
   "source": [
    "kohli_runs.mean()"
   ]
  },
  {
   "cell_type": "code",
   "execution_count": 108,
   "id": "da81171a",
   "metadata": {},
   "outputs": [
    {
     "data": {
      "text/plain": [
       "match_no\n",
       "128    Good Day\n",
       "126    Good Day\n",
       "123    Good Day\n",
       "164    Good Day\n",
       "120    Good Day\n",
       "         ...   \n",
       "93      Bad Day\n",
       "211     Bad Day\n",
       "130     Bad Day\n",
       "8       Bad Day\n",
       "135     Bad Day\n",
       "Name: runs, Length: 215, dtype: object"
      ]
     },
     "execution_count": 108,
     "metadata": {},
     "output_type": "execute_result"
    }
   ],
   "source": [
    "kohli_runs.apply(lambda x: 'Good Day' if x > kohli_runs.mean() else 'Bad Day')"
   ]
  },
  {
   "cell_type": "code",
   "execution_count": 109,
   "id": "26d98dea",
   "metadata": {},
   "outputs": [],
   "source": [
    "# copy\n",
    "new = kohli_runs.head(5)"
   ]
  },
  {
   "cell_type": "code",
   "execution_count": 110,
   "id": "fcec8a02",
   "metadata": {},
   "outputs": [],
   "source": [
    "new[1] = 100"
   ]
  },
  {
   "cell_type": "code",
   "execution_count": 111,
   "id": "cbf6ded0",
   "metadata": {},
   "outputs": [
    {
     "data": {
      "text/plain": [
       "match_no\n",
       "128    113\n",
       "126    109\n",
       "123    108\n",
       "164    100\n",
       "120    100\n",
       "1      100\n",
       "Name: runs, dtype: int64"
      ]
     },
     "execution_count": 111,
     "metadata": {},
     "output_type": "execute_result"
    }
   ],
   "source": [
    "new"
   ]
  },
  {
   "cell_type": "code",
   "execution_count": 113,
   "id": "1701e55a",
   "metadata": {},
   "outputs": [
    {
     "data": {
      "text/plain": [
       "1"
      ]
     },
     "execution_count": 113,
     "metadata": {},
     "output_type": "execute_result"
    }
   ],
   "source": [
    "kohli_runs[1]"
   ]
  },
  {
   "cell_type": "code",
   "execution_count": 114,
   "id": "a453d8fb",
   "metadata": {},
   "outputs": [],
   "source": [
    "# copy and view"
   ]
  },
  {
   "cell_type": "code",
   "execution_count": 115,
   "id": "b6f3175f",
   "metadata": {},
   "outputs": [
    {
     "data": {
      "text/plain": [
       "match_no\n",
       "128    113\n",
       "126    109\n",
       "123    108\n",
       "164    100\n",
       "120    100\n",
       "      ... \n",
       "93       0\n",
       "211      0\n",
       "130      0\n",
       "8        0\n",
       "135      0\n",
       "Name: runs, Length: 215, dtype: int64"
      ]
     },
     "execution_count": 115,
     "metadata": {},
     "output_type": "execute_result"
    }
   ],
   "source": [
    "kohli_runs"
   ]
  },
  {
   "cell_type": "code",
   "execution_count": 128,
   "id": "4a90adfd",
   "metadata": {},
   "outputs": [],
   "source": [
    "kohli_match_5 = kohli_runs.head(5).copy()"
   ]
  },
  {
   "cell_type": "code",
   "execution_count": 129,
   "id": "33d34b1f",
   "metadata": {},
   "outputs": [
    {
     "data": {
      "text/plain": [
       "match_no\n",
       "128    113\n",
       "126    109\n",
       "123    108\n",
       "164    100\n",
       "120    100\n",
       "Name: runs, dtype: int64"
      ]
     },
     "execution_count": 129,
     "metadata": {},
     "output_type": "execute_result"
    }
   ],
   "source": [
    "kohli_match_5"
   ]
  },
  {
   "cell_type": "code",
   "execution_count": 130,
   "id": "13afa119",
   "metadata": {},
   "outputs": [],
   "source": [
    "kohli_match_5[128] = 100"
   ]
  },
  {
   "cell_type": "code",
   "execution_count": 131,
   "id": "d277b563",
   "metadata": {},
   "outputs": [
    {
     "data": {
      "text/plain": [
       "113"
      ]
     },
     "execution_count": 131,
     "metadata": {},
     "output_type": "execute_result"
    }
   ],
   "source": [
    "kohli_runs[128]"
   ]
  },
  {
   "cell_type": "code",
   "execution_count": 132,
   "id": "067064ff",
   "metadata": {},
   "outputs": [
    {
     "data": {
      "text/plain": [
       "match_no\n",
       "128    100\n",
       "126    109\n",
       "123    108\n",
       "164    100\n",
       "120    100\n",
       "Name: runs, dtype: int64"
      ]
     },
     "execution_count": 132,
     "metadata": {},
     "output_type": "execute_result"
    }
   ],
   "source": [
    "kohli_match_5"
   ]
  },
  {
   "cell_type": "code",
   "execution_count": 133,
   "id": "83511af2",
   "metadata": {},
   "outputs": [],
   "source": [
    "kohli_matches = kohli_runs[1:10]"
   ]
  },
  {
   "cell_type": "code",
   "execution_count": 134,
   "id": "9485e057",
   "metadata": {},
   "outputs": [
    {
     "data": {
      "text/plain": [
       "match_no\n",
       "126    109\n",
       "123    108\n",
       "164    100\n",
       "120    100\n",
       "82      99\n",
       "81      93\n",
       "145     92\n",
       "178     90\n",
       "160     84\n",
       "Name: runs, dtype: int64"
      ]
     },
     "execution_count": 134,
     "metadata": {},
     "output_type": "execute_result"
    }
   ],
   "source": [
    "kohli_matches"
   ]
  },
  {
   "cell_type": "code",
   "execution_count": 135,
   "id": "3d1289a7",
   "metadata": {},
   "outputs": [],
   "source": [
    "kohli_matches[126] = 100"
   ]
  },
  {
   "cell_type": "code",
   "execution_count": 136,
   "id": "92c2b7ae",
   "metadata": {},
   "outputs": [
    {
     "data": {
      "text/plain": [
       "100"
      ]
     },
     "execution_count": 136,
     "metadata": {},
     "output_type": "execute_result"
    }
   ],
   "source": [
    "kohli_runs[126] "
   ]
  },
  {
   "cell_type": "code",
   "execution_count": null,
   "id": "8a04ebeb",
   "metadata": {},
   "outputs": [],
   "source": []
  }
 ],
 "metadata": {
  "kernelspec": {
   "display_name": "Python 3 (ipykernel)",
   "language": "python",
   "name": "python3"
  },
  "language_info": {
   "codemirror_mode": {
    "name": "ipython",
    "version": 3
   },
   "file_extension": ".py",
   "mimetype": "text/x-python",
   "name": "python",
   "nbconvert_exporter": "python",
   "pygments_lexer": "ipython3",
   "version": "3.11.3"
  }
 },
 "nbformat": 4,
 "nbformat_minor": 5
}
