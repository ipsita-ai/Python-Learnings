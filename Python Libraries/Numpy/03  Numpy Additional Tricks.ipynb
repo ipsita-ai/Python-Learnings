{
 "cells": [
  {
   "cell_type": "code",
   "execution_count": 1,
   "id": "bd48b86b",
   "metadata": {},
   "outputs": [],
   "source": [
    "# np.sort\n",
    "# Return a sorted copy of an array.\n",
    "\n",
    "# https://numpy.org/doc/stable/reference/generated/numpy.sort.html"
   ]
  },
  {
   "cell_type": "code",
   "execution_count": 1,
   "id": "b198ac81",
   "metadata": {},
   "outputs": [
    {
     "data": {
      "text/plain": [
       "array([60, 28, 68, 89, 86, 26, 33, 38, 68,  8, 48, 12])"
      ]
     },
     "execution_count": 1,
     "metadata": {},
     "output_type": "execute_result"
    }
   ],
   "source": [
    "import numpy as np\n",
    "a = np.random.randint(1,100,12)\n",
    "a"
   ]
  },
  {
   "cell_type": "code",
   "execution_count": 2,
   "id": "52c15f7e",
   "metadata": {},
   "outputs": [
    {
     "data": {
      "text/plain": [
       "array([[57, 72, 20, 23],\n",
       "       [68, 88, 71, 66],\n",
       "       [40, 52, 94, 67],\n",
       "       [57,  7, 62, 78],\n",
       "       [37,  8, 46, 33],\n",
       "       [81, 64, 70, 90]])"
      ]
     },
     "execution_count": 2,
     "metadata": {},
     "output_type": "execute_result"
    }
   ],
   "source": [
    "b = np.random.randint(1,100,24).reshape(6,4)\n",
    "b"
   ]
  },
  {
   "cell_type": "code",
   "execution_count": 3,
   "id": "8bf4936f",
   "metadata": {},
   "outputs": [],
   "source": [
    "a = np.array([1,2,3,4,5,6,7,8,9]).reshape(3,3)"
   ]
  },
  {
   "cell_type": "code",
   "execution_count": 4,
   "id": "61a3fc23",
   "metadata": {},
   "outputs": [
    {
     "data": {
      "text/plain": [
       "array([[1, 2, 3],\n",
       "       [4, 5, 6],\n",
       "       [7, 8, 9]])"
      ]
     },
     "execution_count": 4,
     "metadata": {},
     "output_type": "execute_result"
    }
   ],
   "source": [
    "a"
   ]
  },
  {
   "cell_type": "code",
   "execution_count": 6,
   "id": "1f143a23",
   "metadata": {},
   "outputs": [
    {
     "data": {
      "text/plain": [
       "array([[1, 2, 3],\n",
       "       [4, 5, 6],\n",
       "       [7, 8, 9]])"
      ]
     },
     "execution_count": 6,
     "metadata": {},
     "output_type": "execute_result"
    }
   ],
   "source": [
    "np.sort(a,axis = 1)"
   ]
  },
  {
   "cell_type": "code",
   "execution_count": 13,
   "id": "fb5452d3",
   "metadata": {},
   "outputs": [
    {
     "data": {
      "text/plain": [
       "array([[55, 52,  1,  1, 59],\n",
       "       [37, 40, 82, 66, 24],\n",
       "       [89,  2, 19, 76, 86]])"
      ]
     },
     "execution_count": 13,
     "metadata": {},
     "output_type": "execute_result"
    }
   ],
   "source": [
    "x = np.random.randint(1,100,15)\n",
    "x = x.reshape(3,5)\n",
    "x"
   ]
  },
  {
   "cell_type": "code",
   "execution_count": 18,
   "id": "713cf6b7",
   "metadata": {},
   "outputs": [
    {
     "data": {
      "text/plain": [
       "array([[ 1,  1, 52, 55, 59],\n",
       "       [24, 37, 40, 66, 82],\n",
       "       [ 2, 19, 76, 86, 89]])"
      ]
     },
     "execution_count": 18,
     "metadata": {},
     "output_type": "execute_result"
    }
   ],
   "source": [
    "np.sort(x,axis= 1)"
   ]
  },
  {
   "cell_type": "code",
   "execution_count": 19,
   "id": "39aaf6ea",
   "metadata": {},
   "outputs": [
    {
     "data": {
      "text/plain": [
       "array([ 57,  56,  45,   8,  46,  50,  34,  18,  94,  66,  24,  15, 200])"
      ]
     },
     "execution_count": 19,
     "metadata": {},
     "output_type": "execute_result"
    }
   ],
   "source": [
    "# np.append()\n",
    "a = np.random.randint(1,100,12)\n",
    "a\n",
    "np.append(a,200)"
   ]
  },
  {
   "cell_type": "code",
   "execution_count": 20,
   "id": "5ec197db",
   "metadata": {},
   "outputs": [
    {
     "data": {
      "text/plain": [
       "array([[55, 52,  1,  1, 59],\n",
       "       [37, 40, 82, 66, 24],\n",
       "       [89,  2, 19, 76, 86]])"
      ]
     },
     "execution_count": 20,
     "metadata": {},
     "output_type": "execute_result"
    }
   ],
   "source": [
    "x"
   ]
  },
  {
   "cell_type": "code",
   "execution_count": 25,
   "id": "5f2cb140",
   "metadata": {},
   "outputs": [
    {
     "ename": "TypeError",
     "evalue": "Cannot interpret '1' as a data type",
     "output_type": "error",
     "traceback": [
      "\u001b[1;31m---------------------------------------------------------------------------\u001b[0m",
      "\u001b[1;31mTypeError\u001b[0m                                 Traceback (most recent call last)",
      "Cell \u001b[1;32mIn[25], line 1\u001b[0m\n\u001b[1;32m----> 1\u001b[0m np\u001b[38;5;241m.\u001b[39mappend(x,np\u001b[38;5;241m.\u001b[39mzeros(\u001b[38;5;241m3\u001b[39m,\u001b[38;5;241m1\u001b[39m))\n",
      "\u001b[1;31mTypeError\u001b[0m: Cannot interpret '1' as a data type"
     ]
    }
   ],
   "source": [
    "np.append(x,np.zeros(3,1))"
   ]
  },
  {
   "cell_type": "code",
   "execution_count": 30,
   "id": "18b3ec06",
   "metadata": {},
   "outputs": [
    {
     "data": {
      "text/plain": [
       "array([[0.],\n",
       "       [0.],\n",
       "       [0.]])"
      ]
     },
     "execution_count": 30,
     "metadata": {},
     "output_type": "execute_result"
    }
   ],
   "source": [
    "y = np.zeros((3,1))\n",
    "y"
   ]
  },
  {
   "cell_type": "code",
   "execution_count": 29,
   "id": "c498eca2",
   "metadata": {},
   "outputs": [
    {
     "data": {
      "text/plain": [
       "array([[55., 52.,  1.,  1., 59.,  0.],\n",
       "       [37., 40., 82., 66., 24.,  0.],\n",
       "       [89.,  2., 19., 76., 86.,  0.]])"
      ]
     },
     "execution_count": 29,
     "metadata": {},
     "output_type": "execute_result"
    }
   ],
   "source": [
    "np.append(x,y,axis = 1)"
   ]
  },
  {
   "cell_type": "code",
   "execution_count": 31,
   "id": "e6e6d69f",
   "metadata": {},
   "outputs": [],
   "source": [
    "# np.concatenate"
   ]
  },
  {
   "cell_type": "code",
   "execution_count": 32,
   "id": "2ce1b028",
   "metadata": {},
   "outputs": [],
   "source": [
    "c = np.arange(6).reshape(2,3)\n",
    "d = np.arange(6,12).reshape(2,3)"
   ]
  },
  {
   "cell_type": "code",
   "execution_count": 34,
   "id": "4603455c",
   "metadata": {},
   "outputs": [
    {
     "data": {
      "text/plain": [
       "array([[ 0,  1,  2],\n",
       "       [ 3,  4,  5],\n",
       "       [ 6,  7,  8],\n",
       "       [ 9, 10, 11]])"
      ]
     },
     "execution_count": 34,
     "metadata": {},
     "output_type": "execute_result"
    }
   ],
   "source": [
    "np.concatenate((c,d),axis = 0)"
   ]
  },
  {
   "cell_type": "code",
   "execution_count": 35,
   "id": "e28f3c72",
   "metadata": {},
   "outputs": [
    {
     "data": {
      "text/plain": [
       "array([0, 1, 2, 3, 4, 5, 6, 7, 8, 9])"
      ]
     },
     "execution_count": 35,
     "metadata": {},
     "output_type": "execute_result"
    }
   ],
   "source": [
    "# np.unique\n",
    "a = np.array([1,2,3,4,5,1,1,1,2,2,2,3,3,3,4,4,5,6,7,8,7,7,6,5,4,3,8,9,9,0,0,0,9])\n",
    "np.unique(a)"
   ]
  },
  {
   "cell_type": "code",
   "execution_count": 40,
   "id": "6f032b96",
   "metadata": {},
   "outputs": [
    {
     "name": "stdout",
     "output_type": "stream",
     "text": [
      "[ 0  1  2  3  4  5  6  7  8  9 10 11 12 13 14 15 16 17 18 19 20 21 22 23]\n",
      "[[ 0]\n",
      " [ 1]\n",
      " [ 2]\n",
      " [ 3]\n",
      " [ 4]\n",
      " [ 5]\n",
      " [ 6]\n",
      " [ 7]\n",
      " [ 8]\n",
      " [ 9]\n",
      " [10]\n",
      " [11]\n",
      " [12]\n",
      " [13]\n",
      " [14]\n",
      " [15]\n",
      " [16]\n",
      " [17]\n",
      " [18]\n",
      " [19]\n",
      " [20]\n",
      " [21]\n",
      " [22]\n",
      " [23]]\n"
     ]
    }
   ],
   "source": [
    "# np.expand_dims\n",
    "a = np.arange(24).reshape(24,)\n",
    "print(a)\n",
    "print(np.expand_dims(a,axis=1))"
   ]
  },
  {
   "cell_type": "code",
   "execution_count": 41,
   "id": "c7b5a38a",
   "metadata": {},
   "outputs": [
    {
     "data": {
      "text/plain": [
       "(array([ 9, 10, 11, 15, 16, 17, 18, 19, 20, 21, 22, 23, 26, 27, 30, 32],\n",
       "       dtype=int64),)"
      ]
     },
     "execution_count": 41,
     "metadata": {},
     "output_type": "execute_result"
    }
   ],
   "source": [
    "a = np.array([1,2,3,4,50,10,11,12,25,52,62,73,23,33,44,54,55,66,71,58,87,78,65,54,41,33,80,99,19,10,70,50,91])\n",
    "np.where(a > 50)\n"
   ]
  },
  {
   "cell_type": "code",
   "execution_count": 44,
   "id": "b6d96cbc",
   "metadata": {},
   "outputs": [
    {
     "data": {
      "text/plain": [
       "array([ 1,  2,  3,  4,  0, 10, 11, 12, 25,  0,  0,  0, 23, 33, 44,  0,  0,\n",
       "        0,  0,  0,  0,  0,  0,  0, 41, 33,  0,  0, 19, 10,  0,  0,  0])"
      ]
     },
     "execution_count": 44,
     "metadata": {},
     "output_type": "execute_result"
    }
   ],
   "source": [
    "# Replace values\n",
    "np.where(a>=50,0,a)"
   ]
  },
  {
   "cell_type": "code",
   "execution_count": 45,
   "id": "1215da19",
   "metadata": {},
   "outputs": [
    {
     "data": {
      "text/plain": [
       "array([[55, 52,  1,  1, 59],\n",
       "       [37, 40, 82, 66, 24],\n",
       "       [89,  2, 19, 76, 86]])"
      ]
     },
     "execution_count": 45,
     "metadata": {},
     "output_type": "execute_result"
    }
   ],
   "source": [
    "x"
   ]
  },
  {
   "cell_type": "code",
   "execution_count": 48,
   "id": "fc37f323",
   "metadata": {},
   "outputs": [
    {
     "data": {
      "text/plain": [
       "array([4, 2, 0], dtype=int64)"
      ]
     },
     "execution_count": 48,
     "metadata": {},
     "output_type": "execute_result"
    }
   ],
   "source": [
    "# Argmax\n",
    "np.argmax(x,axis = 1)"
   ]
  },
  {
   "cell_type": "code",
   "execution_count": 47,
   "id": "35367cd1",
   "metadata": {},
   "outputs": [
    {
     "data": {
      "text/plain": [
       "array([2, 0, 1, 2, 2], dtype=int64)"
      ]
     },
     "execution_count": 47,
     "metadata": {},
     "output_type": "execute_result"
    }
   ],
   "source": [
    "np.argmax(x,axis = 0)"
   ]
  },
  {
   "cell_type": "code",
   "execution_count": 49,
   "id": "f65043c1",
   "metadata": {},
   "outputs": [
    {
     "data": {
      "text/plain": [
       "array([2, 4, 1], dtype=int64)"
      ]
     },
     "execution_count": 49,
     "metadata": {},
     "output_type": "execute_result"
    }
   ],
   "source": [
    "np.argmin(x,axis = 1)"
   ]
  },
  {
   "cell_type": "code",
   "execution_count": 50,
   "id": "a40ace7f",
   "metadata": {},
   "outputs": [
    {
     "data": {
      "text/plain": [
       "array([[ 55, 107, 108, 109, 168],\n",
       "       [ 37,  77, 159, 225, 249],\n",
       "       [ 89,  91, 110, 186, 272]])"
      ]
     },
     "execution_count": 50,
     "metadata": {},
     "output_type": "execute_result"
    }
   ],
   "source": [
    "np.cumsum(x,axis = 1)"
   ]
  },
  {
   "cell_type": "code",
   "execution_count": 51,
   "id": "155cc611",
   "metadata": {},
   "outputs": [
    {
     "data": {
      "text/plain": [
       "array([[       55,      2860,      2860,      2860,    168740],\n",
       "       [       37,      1480,    121360,   8009760, 192234240],\n",
       "       [       89,       178,      3382,    257032,  22104752]])"
      ]
     },
     "execution_count": 51,
     "metadata": {},
     "output_type": "execute_result"
    }
   ],
   "source": [
    "np.cumprod(x,axis = 1)"
   ]
  },
  {
   "cell_type": "code",
   "execution_count": 52,
   "id": "f58ac283",
   "metadata": {},
   "outputs": [
    {
     "data": {
      "text/plain": [
       "array([[       55,      2860,      2860,      2860,    168740],\n",
       "       [       37,      1480,    121360,   8009760, 192234240],\n",
       "       [       89,       178,      3382,    257032,  22104752]])"
      ]
     },
     "execution_count": 52,
     "metadata": {},
     "output_type": "execute_result"
    }
   ],
   "source": [
    "np.cumproduct(x,axis = 1)"
   ]
  },
  {
   "cell_type": "code",
   "execution_count": 53,
   "id": "e9cda58e",
   "metadata": {},
   "outputs": [
    {
     "data": {
      "text/plain": [
       "array([ 1,  2,  3,  4, 50, 10, 11, 12, 25, 52, 62, 73, 23, 33, 44, 54, 55,\n",
       "       66, 71, 58, 87, 78, 65, 54, 41, 33, 80, 99, 19, 10, 70, 50, 91])"
      ]
     },
     "execution_count": 53,
     "metadata": {},
     "output_type": "execute_result"
    }
   ],
   "source": [
    "a"
   ]
  },
  {
   "cell_type": "code",
   "execution_count": 59,
   "id": "9c10a556",
   "metadata": {},
   "outputs": [
    {
     "data": {
      "text/plain": [
       "50.0"
      ]
     },
     "execution_count": 59,
     "metadata": {},
     "output_type": "execute_result"
    }
   ],
   "source": [
    "np.percentile(a,50)"
   ]
  },
  {
   "cell_type": "code",
   "execution_count": 60,
   "id": "c2c9eabe",
   "metadata": {},
   "outputs": [
    {
     "data": {
      "text/plain": [
       "(array([4, 5, 2, 2, 2, 7, 3, 4, 2, 2], dtype=int64),\n",
       " array([  0,  10,  20,  30,  40,  50,  60,  70,  80,  90, 100]))"
      ]
     },
     "execution_count": 60,
     "metadata": {},
     "output_type": "execute_result"
    }
   ],
   "source": [
    "np.histogram(a,bins =[0,10,20,30,40,50,60,70,80,90,100])"
   ]
  },
  {
   "cell_type": "code",
   "execution_count": 61,
   "id": "c66a666f",
   "metadata": {},
   "outputs": [],
   "source": [
    "salary = np.array([20000,40000,25000,35000,60000])\n",
    "experience = np.array([1,3,2,4,2])"
   ]
  },
  {
   "cell_type": "code",
   "execution_count": 62,
   "id": "b5aebba5",
   "metadata": {},
   "outputs": [
    {
     "data": {
      "text/plain": [
       "array([[1.        , 0.25344572],\n",
       "       [0.25344572, 1.        ]])"
      ]
     },
     "execution_count": 62,
     "metadata": {},
     "output_type": "execute_result"
    }
   ],
   "source": [
    "np.corrcoef(salary,experience)"
   ]
  },
  {
   "cell_type": "code",
   "execution_count": 63,
   "id": "af3fbac6",
   "metadata": {},
   "outputs": [
    {
     "data": {
      "text/plain": [
       "array([ 1,  2,  3,  4, 50, 10, 11, 12, 25, 52, 62, 73, 23, 33, 44, 54, 55,\n",
       "       66, 71, 58, 87, 78, 65, 54, 41, 33, 80, 99, 19, 10, 70, 50, 91])"
      ]
     },
     "execution_count": 63,
     "metadata": {},
     "output_type": "execute_result"
    }
   ],
   "source": [
    "a"
   ]
  },
  {
   "cell_type": "code",
   "execution_count": 67,
   "id": "02ae7368",
   "metadata": {},
   "outputs": [
    {
     "data": {
      "text/plain": [
       "array([50, 80, 70, 50])"
      ]
     },
     "execution_count": 67,
     "metadata": {},
     "output_type": "execute_result"
    }
   ],
   "source": [
    "a[np.isin(a,[50,60,70,80,90])]"
   ]
  },
  {
   "cell_type": "code",
   "execution_count": 68,
   "id": "999210eb",
   "metadata": {},
   "outputs": [
    {
     "data": {
      "text/plain": [
       "array([[55, 52,  1,  1, 59],\n",
       "       [37, 40, 82, 66, 24],\n",
       "       [89,  2, 19, 76, 86]])"
      ]
     },
     "execution_count": 68,
     "metadata": {},
     "output_type": "execute_result"
    }
   ],
   "source": [
    "x "
   ]
  },
  {
   "cell_type": "code",
   "execution_count": 71,
   "id": "2741157a",
   "metadata": {},
   "outputs": [
    {
     "data": {
      "text/plain": [
       "array([[59,  1,  1, 52, 55],\n",
       "       [24, 66, 82, 40, 37],\n",
       "       [86, 76, 19,  2, 89]])"
      ]
     },
     "execution_count": 71,
     "metadata": {},
     "output_type": "execute_result"
    }
   ],
   "source": [
    "np.flip(x,axis = 1)"
   ]
  },
  {
   "cell_type": "code",
   "execution_count": 77,
   "id": "e5d2def8",
   "metadata": {},
   "outputs": [
    {
     "data": {
      "text/plain": [
       "array([[59, 59,  1,  1, 59],\n",
       "       [37, 40, 82, 66, 24],\n",
       "       [89,  2, 19, 76, 86]])"
      ]
     },
     "execution_count": 77,
     "metadata": {},
     "output_type": "execute_result"
    }
   ],
   "source": [
    "np.put(x,[0,1],59)\n",
    "x"
   ]
  },
  {
   "cell_type": "code",
   "execution_count": 78,
   "id": "d586bb03",
   "metadata": {},
   "outputs": [
    {
     "data": {
      "text/plain": [
       "array([56,  2,  3,  4, 50, 10, 11, 12, 25, 52, 62, 73, 23, 33, 44, 54, 55,\n",
       "       66, 71, 58, 87, 78, 65, 54, 41, 33, 80, 99, 19, 10, 70, 50, 91])"
      ]
     },
     "execution_count": 78,
     "metadata": {},
     "output_type": "execute_result"
    }
   ],
   "source": [
    "a"
   ]
  },
  {
   "cell_type": "code",
   "execution_count": 79,
   "id": "2433fe64",
   "metadata": {},
   "outputs": [
    {
     "data": {
      "text/plain": [
       "array([ 2,  3,  4, 50, 10, 11, 12, 25, 52, 62, 73, 23, 33, 44, 54, 55, 66,\n",
       "       71, 58, 87, 78, 65, 54, 41, 33, 80, 99, 19, 10, 70, 50, 91])"
      ]
     },
     "execution_count": 79,
     "metadata": {},
     "output_type": "execute_result"
    }
   ],
   "source": [
    "np.delete(a,0)"
   ]
  },
  {
   "cell_type": "code",
   "execution_count": 82,
   "id": "b9aed0e9",
   "metadata": {},
   "outputs": [
    {
     "data": {
      "text/plain": [
       "array([[59,  1,  1, 59],\n",
       "       [40, 82, 66, 24],\n",
       "       [ 2, 19, 76, 86]])"
      ]
     },
     "execution_count": 82,
     "metadata": {},
     "output_type": "execute_result"
    }
   ],
   "source": [
    "np.delete(x,0,axis = 1)"
   ]
  },
  {
   "cell_type": "code",
   "execution_count": 83,
   "id": "30568fe2",
   "metadata": {},
   "outputs": [],
   "source": [
    "# Set functions"
   ]
  },
  {
   "cell_type": "code",
   "execution_count": 84,
   "id": "18940563",
   "metadata": {},
   "outputs": [
    {
     "data": {
      "text/plain": [
       "array([1, 2, 3, 4, 5, 6, 7])"
      ]
     },
     "execution_count": 84,
     "metadata": {},
     "output_type": "execute_result"
    }
   ],
   "source": [
    "a = np.array([1,2,3,4,5])\n",
    "b = np.array([3,4,5,6,7])\n",
    "np.union1d(a,b)"
   ]
  },
  {
   "cell_type": "code",
   "execution_count": 85,
   "id": "0b9eb075",
   "metadata": {},
   "outputs": [
    {
     "data": {
      "text/plain": [
       "array([3, 4, 5])"
      ]
     },
     "execution_count": 85,
     "metadata": {},
     "output_type": "execute_result"
    }
   ],
   "source": [
    "np.intersect1d(a,b)"
   ]
  },
  {
   "cell_type": "code",
   "execution_count": 86,
   "id": "6e68bf7f",
   "metadata": {},
   "outputs": [
    {
     "data": {
      "text/plain": [
       "array([1, 2])"
      ]
     },
     "execution_count": 86,
     "metadata": {},
     "output_type": "execute_result"
    }
   ],
   "source": [
    "np.setdiff1d(a,b)"
   ]
  },
  {
   "cell_type": "code",
   "execution_count": 87,
   "id": "773fbaff",
   "metadata": {},
   "outputs": [
    {
     "data": {
      "text/plain": [
       "array([6, 7])"
      ]
     },
     "execution_count": 87,
     "metadata": {},
     "output_type": "execute_result"
    }
   ],
   "source": [
    "np.setdiff1d(b,a)"
   ]
  },
  {
   "cell_type": "code",
   "execution_count": 88,
   "id": "c436c563",
   "metadata": {},
   "outputs": [
    {
     "data": {
      "text/plain": [
       "array([1, 2, 6, 7])"
      ]
     },
     "execution_count": 88,
     "metadata": {},
     "output_type": "execute_result"
    }
   ],
   "source": [
    "np.setxor1d(a,b)"
   ]
  },
  {
   "cell_type": "code",
   "execution_count": 90,
   "id": "238ecd81",
   "metadata": {},
   "outputs": [
    {
     "data": {
      "text/plain": [
       "array([False, False, False, False, False])"
      ]
     },
     "execution_count": 90,
     "metadata": {},
     "output_type": "execute_result"
    }
   ],
   "source": [
    "np.in1d(a,9)"
   ]
  },
  {
   "cell_type": "code",
   "execution_count": 95,
   "id": "1fb84ffa",
   "metadata": {},
   "outputs": [
    {
     "data": {
      "text/plain": [
       "array([25, 25, 25, 25, 50, 25, 25, 25, 25, 52, 62, 73, 25, 33, 44, 54, 55,\n",
       "       66, 71, 58, 75, 75, 65, 54, 41, 33, 75, 75, 25, 25, 70, 50, 75])"
      ]
     },
     "execution_count": 95,
     "metadata": {},
     "output_type": "execute_result"
    }
   ],
   "source": [
    "a = np.array([1,2,3,4,50,10,11,12,25,52,62,73,23,33,44,54,55,66,71,58,87,78,65,54,41,33,80,99,19,10,70,50,91])\n",
    "np.clip(a,a_min=25,a_max=75)"
   ]
  },
  {
   "cell_type": "code",
   "execution_count": null,
   "id": "95ae4c81",
   "metadata": {},
   "outputs": [],
   "source": []
  }
 ],
 "metadata": {
  "kernelspec": {
   "display_name": "Python 3 (ipykernel)",
   "language": "python",
   "name": "python3"
  },
  "language_info": {
   "codemirror_mode": {
    "name": "ipython",
    "version": 3
   },
   "file_extension": ".py",
   "mimetype": "text/x-python",
   "name": "python",
   "nbconvert_exporter": "python",
   "pygments_lexer": "ipython3",
   "version": "3.11.3"
  }
 },
 "nbformat": 4,
 "nbformat_minor": 5
}
