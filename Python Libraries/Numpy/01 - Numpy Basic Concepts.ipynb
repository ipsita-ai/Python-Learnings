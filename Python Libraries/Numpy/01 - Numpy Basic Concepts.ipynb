{
 "cells": [
  {
   "cell_type": "code",
   "execution_count": 1,
   "id": "bc2ad001",
   "metadata": {},
   "outputs": [],
   "source": [
    "#  Numpy is funcdamental package for scientific computing in python .\n",
    "# What is numpy?\n",
    "# NumPy is the fundamental package for scientific computing in Python. It is a Python library that provides a multidimensional array object, various derived objects (such as masked arrays and matrices), and an assortment of routines for fast operations on arrays, including mathematical, logical, shape manipulation, sorting, selecting, I/O, discrete Fourier transforms, basic linear algebra, basic statistical operations, random simulation and much more.\n",
    "\n",
    "# At the core of the NumPy package, is the ndarray object. This encapsulates n-dimensional arrays of homogeneous data types"
   ]
  },
  {
   "cell_type": "code",
   "execution_count": 2,
   "id": "3fde2c36",
   "metadata": {},
   "outputs": [],
   "source": [
    "# Numpy Arrays Vs Python Sequences\n",
    "## NumPy arrays have a fixed size at creation, unlike Python lists (which can grow dynamically). Changing the size of an ndarray will create a new array and delete the original.\n",
    "\n",
    "## The elements in a NumPy array are all required to be of the same data type, and thus will be the same size in memory.\n",
    "\n",
    "## NumPy arrays facilitate advanced mathematical and other types of operations on large numbers of data. Typically, such operations are executed more efficiently and with less code than is possible using Python’s built-in sequences.\n",
    "\n",
    "## A growing plethora of scientific and mathematical Python-based packages are using NumPy arrays; though these typically support Python-sequence input, they convert such input to NumPy arrays prior to processing, and they often output NumPy arrays."
   ]
  },
  {
   "cell_type": "code",
   "execution_count": 3,
   "id": "8670a6ea",
   "metadata": {},
   "outputs": [],
   "source": [
    "# Importing numpy library\n",
    "import numpy as np"
   ]
  },
  {
   "cell_type": "code",
   "execution_count": 4,
   "id": "ac6e7229",
   "metadata": {},
   "outputs": [
    {
     "name": "stdout",
     "output_type": "stream",
     "text": [
      "[1 3 5 7 9]\n",
      "<class 'numpy.ndarray'>\n"
     ]
    }
   ],
   "source": [
    "# Creation of numpy array using different techniques\n",
    "arr_0 = np.arange(1,10,2)\n",
    "print(arr_0)\n",
    "print(type(arr_0))"
   ]
  },
  {
   "cell_type": "code",
   "execution_count": 5,
   "id": "10226218",
   "metadata": {},
   "outputs": [
    {
     "name": "stdout",
     "output_type": "stream",
     "text": [
      "[ 1.  2.  3.  4.  5.  6.  7.  8.  9. 10.]\n",
      "<class 'numpy.ndarray'>\n"
     ]
    }
   ],
   "source": [
    "arr_1 = np.linspace(1,10,10)\n",
    "print(arr_1)\n",
    "print(type(arr_1))"
   ]
  },
  {
   "cell_type": "code",
   "execution_count": 6,
   "id": "d805f7ef",
   "metadata": {},
   "outputs": [
    {
     "name": "stdout",
     "output_type": "stream",
     "text": [
      "[[1 2 3]\n",
      " [4 5 6]\n",
      " [7 8 9]]\n",
      "<class 'numpy.ndarray'>\n"
     ]
    }
   ],
   "source": [
    "# 2-d array\n",
    "arr_2 = np.array([1,2,3,4,5,6,7,8,9]).reshape(3,3)\n",
    "print(arr_2)\n",
    "print(type(arr_2))"
   ]
  },
  {
   "cell_type": "code",
   "execution_count": 7,
   "id": "00fdb573",
   "metadata": {},
   "outputs": [
    {
     "name": "stdout",
     "output_type": "stream",
     "text": [
      "[[[1 2]\n",
      "  [3 4]]\n",
      "\n",
      " [[5 6]\n",
      "  [7 8]]]\n"
     ]
    }
   ],
   "source": [
    "# 3-d array or tensor\n",
    "arr_3 = np.array([[[1,2],[3,4]],[[5,6],[7,8]]])\n",
    "print(arr_3)"
   ]
  },
  {
   "cell_type": "code",
   "execution_count": 8,
   "id": "b3b24f69",
   "metadata": {},
   "outputs": [
    {
     "data": {
      "text/plain": [
       "array([1., 2., 3.])"
      ]
     },
     "execution_count": 8,
     "metadata": {},
     "output_type": "execute_result"
    }
   ],
   "source": [
    "# dtype\n",
    "np.array([1,2,3],dtype = float)"
   ]
  },
  {
   "cell_type": "code",
   "execution_count": 9,
   "id": "6979fc0e",
   "metadata": {},
   "outputs": [
    {
     "data": {
      "text/plain": [
       "array([ True, False, False,  True,  True,  True, False])"
      ]
     },
     "execution_count": 9,
     "metadata": {},
     "output_type": "execute_result"
    }
   ],
   "source": [
    "np.array([1,0,0,1,1,1,0],dtype = bool)"
   ]
  },
  {
   "cell_type": "code",
   "execution_count": 10,
   "id": "5e0b56ca",
   "metadata": {},
   "outputs": [
    {
     "data": {
      "text/plain": [
       "array([1.+0.j, 2.+0.j, 3.+0.j])"
      ]
     },
     "execution_count": 10,
     "metadata": {},
     "output_type": "execute_result"
    }
   ],
   "source": [
    "np.array([1,2,3],dtype = complex)"
   ]
  },
  {
   "cell_type": "code",
   "execution_count": 11,
   "id": "e361c195",
   "metadata": {},
   "outputs": [
    {
     "name": "stdout",
     "output_type": "stream",
     "text": [
      "2\n"
     ]
    }
   ],
   "source": [
    "# reshape\n",
    "a = np.arange(1,11).reshape(5,2)\n",
    "print(a.ndim)"
   ]
  },
  {
   "cell_type": "code",
   "execution_count": 12,
   "id": "60f7ff27",
   "metadata": {},
   "outputs": [
    {
     "name": "stdout",
     "output_type": "stream",
     "text": [
      "[[1. 1.]\n",
      " [1. 1.]\n",
      " [1. 1.]\n",
      " [1. 1.]\n",
      " [1. 1.]]\n",
      "[[0. 0.]\n",
      " [0. 0.]\n",
      " [0. 0.]\n",
      " [0. 0.]\n",
      " [0. 0.]]\n"
     ]
    }
   ],
   "source": [
    "# np.ones and np.zeros # to initialize values in deep learning (weights)\n",
    "print(np.ones((5,2)))\n",
    "print(np.zeros((5,2)))"
   ]
  },
  {
   "cell_type": "code",
   "execution_count": 13,
   "id": "cbb45666",
   "metadata": {},
   "outputs": [
    {
     "data": {
      "text/plain": [
       "array([[0.67727649, 0.59499317, 0.95987007, 0.27946675],\n",
       "       [0.68393404, 0.05423305, 0.47920474, 0.23849638],\n",
       "       [0.37867697, 0.3419007 , 0.84020292, 0.43580726]])"
      ]
     },
     "execution_count": 13,
     "metadata": {},
     "output_type": "execute_result"
    }
   ],
   "source": [
    "# np.random\n",
    "np.random.random((3,4))"
   ]
  },
  {
   "cell_type": "code",
   "execution_count": 14,
   "id": "c358973f",
   "metadata": {},
   "outputs": [
    {
     "data": {
      "text/plain": [
       "array([[1., 0., 0.],\n",
       "       [0., 1., 0.],\n",
       "       [0., 0., 1.]])"
      ]
     },
     "execution_count": 14,
     "metadata": {},
     "output_type": "execute_result"
    }
   ],
   "source": [
    "# identity\n",
    "np.identity(3)"
   ]
  },
  {
   "cell_type": "code",
   "execution_count": 15,
   "id": "5e87a148",
   "metadata": {},
   "outputs": [],
   "source": [
    "# Array attributes\n",
    "a1 = np.arange(10,dtype = np.int32)\n",
    "a2 = np.arange(12,dtype = float).reshape(3,4)\n",
    "a3 = np.arange(8,dtype = np.int64).reshape(2,2,2)"
   ]
  },
  {
   "cell_type": "code",
   "execution_count": 43,
   "id": "851f11bb",
   "metadata": {},
   "outputs": [
    {
     "name": "stdout",
     "output_type": "stream",
     "text": [
      "1 a1\n",
      "2 a2\n",
      "3 a3\n",
      "1\n",
      "2\n",
      "3\n"
     ]
    }
   ],
   "source": [
    "# ndim\n",
    "print(np.ndim(a1),'a1')\n",
    "print(np.ndim(a2),'a2')\n",
    "print(np.ndim(a3),'a3')\n",
    "print(a1.ndim)\n",
    "print(a2.ndim)\n",
    "print(a3.ndim)"
   ]
  },
  {
   "cell_type": "code",
   "execution_count": 49,
   "id": "0c97e988",
   "metadata": {},
   "outputs": [
    {
     "name": "stdout",
     "output_type": "stream",
     "text": [
      "a1 (10,)\n",
      "a2 (3, 4)\n",
      "a3 (2, 2, 2)\n",
      "(10,)\n",
      "(3, 4)\n",
      "(2, 2, 2)\n"
     ]
    }
   ],
   "source": [
    "# shape\n",
    "print('a1',a1.shape)\n",
    "print('a2',a2.shape)\n",
    "print('a3',a3.shape)\n",
    "print(np.shape(a1))\n",
    "print(np.shape(a2))\n",
    "print(np.shape(a3))"
   ]
  },
  {
   "cell_type": "code",
   "execution_count": 51,
   "id": "93f3e187",
   "metadata": {},
   "outputs": [
    {
     "name": "stdout",
     "output_type": "stream",
     "text": [
      "a1 10\n",
      "a2 12\n",
      "a3 8\n"
     ]
    }
   ],
   "source": [
    "# size \n",
    "print('a1',a1.size)\n",
    "print('a2',a2.size)\n",
    "print('a3',a3.size)"
   ]
  },
  {
   "cell_type": "code",
   "execution_count": 54,
   "id": "f38a3711",
   "metadata": {},
   "outputs": [
    {
     "name": "stdout",
     "output_type": "stream",
     "text": [
      "a1 4\n",
      "a2 8\n",
      "a3 8\n"
     ]
    }
   ],
   "source": [
    "# item size\n",
    "print('a1',a1.itemsize)\n",
    "print('a2',a2.itemsize)\n",
    "print('a3',a3.itemsize)"
   ]
  },
  {
   "cell_type": "code",
   "execution_count": 55,
   "id": "c9aa3b3b",
   "metadata": {},
   "outputs": [
    {
     "name": "stdout",
     "output_type": "stream",
     "text": [
      "a1 int32\n",
      "a2 float64\n",
      "a3 int64\n"
     ]
    }
   ],
   "source": [
    "# dtype\n",
    "print('a1',a1.dtype)\n",
    "print('a2',a2.dtype)\n",
    "print('a3',a3.dtype)"
   ]
  },
  {
   "cell_type": "code",
   "execution_count": 61,
   "id": "c6b4c2bc",
   "metadata": {},
   "outputs": [
    {
     "name": "stdout",
     "output_type": "stream",
     "text": [
      "int64\n",
      "[[[0 1]\n",
      "  [2 3]]\n",
      "\n",
      " [[4 5]\n",
      "  [6 7]]]\n",
      "int64\n"
     ]
    }
   ],
   "source": [
    "# Changing Data Type\n",
    "# astype --> used for memory optimisation\n",
    "print(a3.dtype)\n",
    "print(a3.astype(np.int16))\n",
    "print(a3.dtype)"
   ]
  },
  {
   "cell_type": "code",
   "execution_count": 62,
   "id": "4f3dd6b6",
   "metadata": {},
   "outputs": [],
   "source": [
    "# array operations\n",
    "a1 = np.arange(12).reshape(3,4)\n",
    "a2 = np.arange(12,24).reshape(3,4)"
   ]
  },
  {
   "cell_type": "code",
   "execution_count": 63,
   "id": "00b94a50",
   "metadata": {},
   "outputs": [
    {
     "data": {
      "text/plain": [
       "array([[ 0,  1,  2,  3],\n",
       "       [ 4,  5,  6,  7],\n",
       "       [ 8,  9, 10, 11]])"
      ]
     },
     "execution_count": 63,
     "metadata": {},
     "output_type": "execute_result"
    }
   ],
   "source": [
    "a1"
   ]
  },
  {
   "cell_type": "code",
   "execution_count": 64,
   "id": "68ad571f",
   "metadata": {},
   "outputs": [
    {
     "data": {
      "text/plain": [
       "array([[12, 13, 14, 15],\n",
       "       [16, 17, 18, 19],\n",
       "       [20, 21, 22, 23]])"
      ]
     },
     "execution_count": 64,
     "metadata": {},
     "output_type": "execute_result"
    }
   ],
   "source": [
    "a2"
   ]
  },
  {
   "cell_type": "code",
   "execution_count": 66,
   "id": "025b29a6",
   "metadata": {},
   "outputs": [
    {
     "name": "stdout",
     "output_type": "stream",
     "text": [
      "[[ 0  2  4  6]\n",
      " [ 8 10 12 14]\n",
      " [16 18 20 22]]\n",
      "[[0 0 1 1]\n",
      " [2 2 3 3]\n",
      " [4 4 5 5]]\n",
      "[[0.  0.5 1.  1.5]\n",
      " [2.  2.5 3.  3.5]\n",
      " [4.  4.5 5.  5.5]]\n",
      "[[0 1 0 1]\n",
      " [0 1 0 1]\n",
      " [0 1 0 1]]\n",
      "[[ 2  3  4  5]\n",
      " [ 6  7  8  9]\n",
      " [10 11 12 13]]\n",
      "[[-2 -1  0  1]\n",
      " [ 2  3  4  5]\n",
      " [ 6  7  8  9]]\n"
     ]
    }
   ],
   "source": [
    "# scalar operations\n",
    "# arithmatic\n",
    "print(a1*2)\n",
    "print(a1//2)\n",
    "print(a1/2)\n",
    "print(a1%2)\n",
    "print(a1 + 2)\n",
    "print(a1 - 2)"
   ]
  },
  {
   "cell_type": "code",
   "execution_count": 67,
   "id": "bbada109",
   "metadata": {},
   "outputs": [
    {
     "data": {
      "text/plain": [
       "array([[False, False, False, False],\n",
       "       [False, False,  True,  True],\n",
       "       [ True,  True,  True,  True]])"
      ]
     },
     "execution_count": 67,
     "metadata": {},
     "output_type": "execute_result"
    }
   ],
   "source": [
    "# relational\n",
    "a1 > 5"
   ]
  },
  {
   "cell_type": "code",
   "execution_count": 68,
   "id": "45207c52",
   "metadata": {},
   "outputs": [
    {
     "name": "stdout",
     "output_type": "stream",
     "text": [
      "[[12 14 16 18]\n",
      " [20 22 24 26]\n",
      " [28 30 32 34]]\n",
      "[[12 12 12 12]\n",
      " [12 12 12 12]\n",
      " [12 12 12 12]]\n",
      "[[  0  13  28  45]\n",
      " [ 64  85 108 133]\n",
      " [160 189 220 253]]\n",
      "[[0.         0.07692308 0.14285714 0.2       ]\n",
      " [0.25       0.29411765 0.33333333 0.36842105]\n",
      " [0.4        0.42857143 0.45454545 0.47826087]]\n"
     ]
    }
   ],
   "source": [
    "# Vector operations\n",
    "# arithmatic\n",
    "print(a1 + a2)\n",
    "print(a2 - a1)\n",
    "print(a1*a2)\n",
    "print(a1/a2)\n"
   ]
  },
  {
   "cell_type": "code",
   "execution_count": 69,
   "id": "3d1476cb",
   "metadata": {},
   "outputs": [
    {
     "data": {
      "text/plain": [
       "array([[False, False, False, False],\n",
       "       [False, False, False, False],\n",
       "       [False, False, False, False]])"
      ]
     },
     "execution_count": 69,
     "metadata": {},
     "output_type": "execute_result"
    }
   ],
   "source": [
    "# relational\n",
    "a1 > a2"
   ]
  },
  {
   "cell_type": "code",
   "execution_count": 70,
   "id": "c5b18753",
   "metadata": {},
   "outputs": [],
   "source": [
    "# Array Functions "
   ]
  },
  {
   "cell_type": "code",
   "execution_count": 71,
   "id": "0709c072",
   "metadata": {},
   "outputs": [
    {
     "name": "stdout",
     "output_type": "stream",
     "text": [
      "[[33.  3. 32.]\n",
      " [ 9. 29. 84.]\n",
      " [99. 14. 21.]]\n"
     ]
    }
   ],
   "source": [
    "a1 = np.random.random((3,3))\n",
    "a1 = np.round(a1*100)\n",
    "print(a1)"
   ]
  },
  {
   "cell_type": "code",
   "execution_count": 73,
   "id": "de566d86",
   "metadata": {},
   "outputs": [
    {
     "name": "stdout",
     "output_type": "stream",
     "text": [
      "99.0\n",
      "3.0\n",
      "324.0\n",
      "2021563982592.0\n"
     ]
    }
   ],
   "source": [
    "# max/min/sum/prod\n",
    "print(np.max(a1))\n",
    "print(np.min(a1))\n",
    "print(np.sum(a1))\n",
    "print(np.prod(a1))"
   ]
  },
  {
   "cell_type": "code",
   "execution_count": 74,
   "id": "b631ebb9",
   "metadata": {},
   "outputs": [
    {
     "name": "stdout",
     "output_type": "stream",
     "text": [
      "[33. 84. 99.]\n",
      "[ 3.  9. 14.]\n",
      "[ 68. 122. 134.]\n",
      "[ 3168. 21924. 29106.]\n"
     ]
    }
   ],
   "source": [
    "# max/min/sum/prod to find the axis row wise\n",
    "print(np.max(a1,axis = 1))\n",
    "print(np.min(a1,axis = 1))\n",
    "print(np.sum(a1,axis = 1))\n",
    "print(np.prod(a1,axis = 1))"
   ]
  },
  {
   "cell_type": "code",
   "execution_count": 75,
   "id": "5c8689dc",
   "metadata": {},
   "outputs": [
    {
     "name": "stdout",
     "output_type": "stream",
     "text": [
      "[99. 29. 84.]\n",
      "[ 9.  3. 21.]\n",
      "[141.  46. 137.]\n",
      "[29403.  1218. 56448.]\n"
     ]
    }
   ],
   "source": [
    "# max/min/sum/prod to find the axis column wise\n",
    "print(np.max(a1,axis = 0))\n",
    "print(np.min(a1,axis = 0))\n",
    "print(np.sum(a1,axis = 0))\n",
    "print(np.prod(a1,axis = 0))"
   ]
  },
  {
   "cell_type": "code",
   "execution_count": 78,
   "id": "64b0f309",
   "metadata": {},
   "outputs": [
    {
     "name": "stdout",
     "output_type": "stream",
     "text": [
      "[22.66666667 40.66666667 44.66666667]\n",
      "[32. 29. 21.]\n",
      "[13.9124245  31.71049598 38.52560476]\n",
      "[ 193.55555556 1005.55555556 1484.22222222]\n"
     ]
    }
   ],
   "source": [
    "# mean/median/std/var\n",
    "print(np.mean(a1,axis = 1))\n",
    "print(np.median(a1,axis = 1))\n",
    "print(np.std(a1,axis = 1))\n",
    "print(np.var(a1,axis = 1))"
   ]
  },
  {
   "cell_type": "code",
   "execution_count": 80,
   "id": "283f265e",
   "metadata": {},
   "outputs": [
    {
     "data": {
      "text/plain": [
       "array([[114, 120, 126],\n",
       "       [378, 400, 422],\n",
       "       [642, 680, 718]])"
      ]
     },
     "execution_count": 80,
     "metadata": {},
     "output_type": "execute_result"
    }
   ],
   "source": [
    "# dot product\n",
    "a3 = np.arange(12).reshape(3,4)\n",
    "a4 = np.arange(12,24).reshape(4,3)\n",
    "np.dot(a3,a4)"
   ]
  },
  {
   "cell_type": "code",
   "execution_count": 81,
   "id": "ad74dcf0",
   "metadata": {},
   "outputs": [
    {
     "name": "stdout",
     "output_type": "stream",
     "text": [
      "[[3.49650756 1.09861229 3.4657359 ]\n",
      " [2.19722458 3.36729583 4.4308168 ]\n",
      " [4.59511985 2.63905733 3.04452244]]\n",
      "[[2.14643580e+14 2.00855369e+01 7.89629602e+13]\n",
      " [8.10308393e+03 3.93133430e+12 3.02507732e+36]\n",
      " [9.88903032e+42 1.20260428e+06 1.31881573e+09]]\n"
     ]
    }
   ],
   "source": [
    "# log and exponent\n",
    "print(np.log(a1))\n",
    "print(np.exp(a1))"
   ]
  },
  {
   "cell_type": "code",
   "execution_count": 83,
   "id": "9659577d",
   "metadata": {},
   "outputs": [
    {
     "name": "stdout",
     "output_type": "stream",
     "text": [
      "[[79. 52.  3.]\n",
      " [64. 95. 95.]]\n",
      "[[78. 51.  2.]\n",
      " [64. 94. 95.]]\n",
      "[[79. 52.  3.]\n",
      " [65. 95. 96.]]\n"
     ]
    }
   ],
   "source": [
    "a = np.random.random((2,3))*100\n",
    "print(np.round(a))\n",
    "print(np.floor(a))\n",
    "print(np.ceil(a))"
   ]
  },
  {
   "cell_type": "code",
   "execution_count": 84,
   "id": "3984dc64",
   "metadata": {},
   "outputs": [],
   "source": [
    "# Indexing and Slicing\n",
    "a1 = np.arange(10)\n",
    "a2 = np.arange(12).reshape(3,4)\n",
    "a3 = np.arange(8).reshape(2,2,2)"
   ]
  },
  {
   "cell_type": "code",
   "execution_count": 85,
   "id": "2dcd39e2",
   "metadata": {},
   "outputs": [
    {
     "name": "stdout",
     "output_type": "stream",
     "text": [
      "[0 1 2 3 4 5 6 7 8 9]\n",
      "[[ 0  1  2  3]\n",
      " [ 4  5  6  7]\n",
      " [ 8  9 10 11]]\n",
      "[[[0 1]\n",
      "  [2 3]]\n",
      "\n",
      " [[4 5]\n",
      "  [6 7]]]\n"
     ]
    }
   ],
   "source": [
    "print(a1)\n",
    "print(a2)\n",
    "print(a3)"
   ]
  },
  {
   "cell_type": "code",
   "execution_count": 101,
   "id": "d6fd51b1",
   "metadata": {},
   "outputs": [
    {
     "name": "stdout",
     "output_type": "stream",
     "text": [
      "9\n",
      "[0 1 2]\n"
     ]
    }
   ],
   "source": [
    "# 1d array\n",
    "print(a1[-1])\n",
    "print(a1[0:3])"
   ]
  },
  {
   "cell_type": "code",
   "execution_count": 93,
   "id": "5248f3da",
   "metadata": {},
   "outputs": [
    {
     "name": "stdout",
     "output_type": "stream",
     "text": [
      "[0 1]\n",
      "6\n",
      "11\n",
      "4\n"
     ]
    }
   ],
   "source": [
    "# 2d array\n",
    "print(a2[0][0:2])\n",
    "print(a2[1][-2])\n",
    "print(a2[2][-1])\n",
    "print(a2[1][0])"
   ]
  },
  {
   "cell_type": "code",
   "execution_count": 100,
   "id": "f205cd0a",
   "metadata": {},
   "outputs": [
    {
     "name": "stdout",
     "output_type": "stream",
     "text": [
      "1\n",
      "[0 1]\n",
      "6\n",
      "6\n"
     ]
    }
   ],
   "source": [
    "# 3d array\n",
    "print(a3[0][0][1])\n",
    "print(a3[0][0])\n",
    "print(a3[1][1][0])\n",
    "# another method\n",
    "print(a3[1,1,0])"
   ]
  },
  {
   "cell_type": "code",
   "execution_count": 113,
   "id": "d355ef79",
   "metadata": {},
   "outputs": [
    {
     "name": "stdout",
     "output_type": "stream",
     "text": [
      "[2 3 4]\n",
      "[[0 1]\n",
      " [4 5]]\n",
      "[4 5 6 7]\n",
      "[ 2  6 10]\n",
      "[[ 5  6]\n",
      " [ 9 10]]\n",
      "[[ 0  3]\n",
      " [ 8 11]]\n",
      "[[ 1  3]\n",
      " [ 9 11]]\n",
      "[[1 2 3]\n",
      " [5 6 7]]\n",
      "[[[0 1]\n",
      "  [2 3]]\n",
      "\n",
      " [[4 5]\n",
      "  [6 7]]]\n"
     ]
    }
   ],
   "source": [
    "# slicing\n",
    "# 1d array\n",
    "print(a1[2:5])\n",
    "# 2d array\n",
    "print(a2[0:2,0:2])\n",
    "print(a2[1,:])\n",
    "print(a2[:,2])\n",
    "print(a2[1:,1:3])\n",
    "print(a2[::2,::3])\n",
    "print(a2[::2,1::2])\n",
    "print(a2[0:2,1:])\n",
    "\n"
   ]
  },
  {
   "cell_type": "code",
   "execution_count": 125,
   "id": "15470f62",
   "metadata": {},
   "outputs": [
    {
     "name": "stdout",
     "output_type": "stream",
     "text": [
      "[[[ 0  1  2]\n",
      "  [ 3  4  5]\n",
      "  [ 6  7  8]]\n",
      "\n",
      " [[ 9 10 11]\n",
      "  [12 13 14]\n",
      "  [15 16 17]]\n",
      "\n",
      " [[18 19 20]\n",
      "  [21 22 23]\n",
      "  [24 25 26]]]\n",
      "\n",
      "In between array \n",
      "[[ 9 10 11]\n",
      " [12 13 14]\n",
      " [15 16 17]]\n",
      "\n",
      "Another between array \n",
      "[[[ 0  1  2]\n",
      "  [ 3  4  5]\n",
      "  [ 6  7  8]]\n",
      "\n",
      " [[18 19 20]\n",
      "  [21 22 23]\n",
      "  [24 25 26]]]\n",
      "\n",
      "In between column\n",
      "[10 13 16]\n",
      "\n",
      "Another example\n",
      "[[22 23]\n",
      " [25 26]]\n",
      "\n",
      "Yet another example\n",
      "[[ 0  2]\n",
      " [18 20]]\n"
     ]
    }
   ],
   "source": [
    "a3 = np.arange(27).reshape(3,3,3)\n",
    "print(a3)\n",
    "print()\n",
    "print('In between array ',a3[1,:,:],sep = '\\n')\n",
    "print()\n",
    "print('Another between array ',a3[::2,:,:],sep = '\\n')\n",
    "print()\n",
    "print('In between column',a3[1,:,1],sep = '\\n')\n",
    "print()\n",
    "print('Another example',a3[2,1:,1:],sep = '\\n')\n",
    "print()\n",
    "print('Yet another example',a3[::2,0,::2],sep = '\\n')"
   ]
  },
  {
   "cell_type": "code",
   "execution_count": 128,
   "id": "b592c597",
   "metadata": {},
   "outputs": [
    {
     "name": "stdout",
     "output_type": "stream",
     "text": [
      "[0 1 2 3 4 5 6 7 8 9]\n",
      "0 <class 'numpy.int32'>\n",
      "1 <class 'numpy.int32'>\n",
      "2 <class 'numpy.int32'>\n",
      "3 <class 'numpy.int32'>\n",
      "4 <class 'numpy.int32'>\n",
      "5 <class 'numpy.int32'>\n",
      "6 <class 'numpy.int32'>\n",
      "7 <class 'numpy.int32'>\n",
      "8 <class 'numpy.int32'>\n",
      "9 <class 'numpy.int32'>\n"
     ]
    }
   ],
   "source": [
    "# Iterating --> 1d array\n",
    "print(a1)\n",
    "for i in a1:\n",
    "    print(i,type(i))"
   ]
  },
  {
   "cell_type": "code",
   "execution_count": 131,
   "id": "e6ba0611",
   "metadata": {},
   "outputs": [
    {
     "name": "stdout",
     "output_type": "stream",
     "text": [
      "[[ 0  1  2  3]\n",
      " [ 4  5  6  7]\n",
      " [ 8  9 10 11]]\n",
      "[0 1 2 3] <class 'numpy.ndarray'>\n",
      "[4 5 6 7] <class 'numpy.ndarray'>\n",
      "[ 8  9 10 11] <class 'numpy.ndarray'>\n",
      "0\n",
      "1\n",
      "2\n",
      "3\n",
      "4\n",
      "5\n",
      "6\n",
      "7\n",
      "8\n",
      "9\n",
      "10\n",
      "11\n"
     ]
    }
   ],
   "source": [
    "# Iterating --> 2d array\n",
    "print(a2)\n",
    "for i in a2:\n",
    "    print(i,type(i))\n",
    "\n",
    "# looping through each item in 2 d array\n",
    "for i in np.nditer(a2):\n",
    "    print(i)"
   ]
  },
  {
   "cell_type": "code",
   "execution_count": 132,
   "id": "844f354d",
   "metadata": {},
   "outputs": [
    {
     "name": "stdout",
     "output_type": "stream",
     "text": [
      "[[[ 0  1  2]\n",
      "  [ 3  4  5]\n",
      "  [ 6  7  8]]\n",
      "\n",
      " [[ 9 10 11]\n",
      "  [12 13 14]\n",
      "  [15 16 17]]\n",
      "\n",
      " [[18 19 20]\n",
      "  [21 22 23]\n",
      "  [24 25 26]]]\n",
      "[[0 1 2]\n",
      " [3 4 5]\n",
      " [6 7 8]] <class 'numpy.ndarray'>\n",
      "[[ 9 10 11]\n",
      " [12 13 14]\n",
      " [15 16 17]] <class 'numpy.ndarray'>\n",
      "[[18 19 20]\n",
      " [21 22 23]\n",
      " [24 25 26]] <class 'numpy.ndarray'>\n",
      "0\n",
      "1\n",
      "2\n",
      "3\n",
      "4\n",
      "5\n",
      "6\n",
      "7\n",
      "8\n",
      "9\n",
      "10\n",
      "11\n",
      "12\n",
      "13\n",
      "14\n",
      "15\n",
      "16\n",
      "17\n",
      "18\n",
      "19\n",
      "20\n",
      "21\n",
      "22\n",
      "23\n",
      "24\n",
      "25\n",
      "26\n"
     ]
    }
   ],
   "source": [
    "# Iterating --> 3d array\n",
    "print(a3)\n",
    "for i in a3:\n",
    "    print(i,type(i))\n",
    "    \n",
    "# looping through each item in 3 d array\n",
    "for i in np.nditer(a3):\n",
    "    print(i)"
   ]
  },
  {
   "cell_type": "code",
   "execution_count": 142,
   "id": "30e74eb6",
   "metadata": {},
   "outputs": [
    {
     "name": "stdout",
     "output_type": "stream",
     "text": [
      "True\n",
      "True\n",
      "0\n",
      "1\n",
      "2\n",
      "3\n",
      "4\n",
      "5\n",
      "6\n",
      "7\n",
      "8\n",
      "9\n",
      "10\n",
      "11\n",
      "12\n",
      "13\n",
      "14\n",
      "15\n",
      "16\n",
      "17\n",
      "18\n",
      "19\n",
      "20\n",
      "21\n",
      "22\n",
      "23\n",
      "24\n",
      "25\n",
      "26\n"
     ]
    }
   ],
   "source": [
    "# Iterator --> nditer\n",
    "x = np.nditer(a3)\n",
    "print('__iter__' in dir(x))\n",
    "print('__next__' in dir(x))\n",
    "for i in x:\n",
    "    print(i)"
   ]
  },
  {
   "cell_type": "code",
   "execution_count": 153,
   "id": "8598067f",
   "metadata": {},
   "outputs": [
    {
     "name": "stdout",
     "output_type": "stream",
     "text": [
      "Reshape\n",
      "[[1 2 3]\n",
      " [4 5 6]\n",
      " [7 8 9]]\n",
      "original\n",
      "[[ 0  1  2  3]\n",
      " [ 4  5  6  7]\n",
      " [ 8  9 10 11]]\n",
      "Transpose\n",
      "[[ 0  4  8]\n",
      " [ 1  5  9]\n",
      " [ 2  6 10]\n",
      " [ 3  7 11]]\n",
      "Another way to Transpose\n",
      "[[ 0  4  8]\n",
      " [ 1  5  9]\n",
      " [ 2  6 10]\n",
      " [ 3  7 11]]\n",
      "Ravel 2d array\n",
      "[ 0  1  2  3  4  5  6  7  8  9 10 11]\n",
      "Ravel 3d array\n",
      "[ 0  1  2  3  4  5  6  7  8  9 10 11 12 13 14 15 16 17 18 19 20 21 22 23\n",
      " 24 25 26]\n"
     ]
    }
   ],
   "source": [
    "# Reshaping\n",
    "# reshape\n",
    "print('Reshape',np.array([1,2,3,4,5,6,7,8,9]).reshape((3,3)),sep = '\\n')\n",
    "# transpose\n",
    "print('original',a2,sep = '\\n')\n",
    "print('Transpose',a2.T,sep = '\\n')\n",
    "print('Another way to Transpose',np.transpose(a2),sep = '\\n')\n",
    "# ravel --> converts array into 1 d array\n",
    "print('Ravel 2d array',np.ravel(a2),sep = '\\n')\n",
    "print('Ravel 3d array',np.ravel(a3),sep = '\\n')"
   ]
  },
  {
   "cell_type": "code",
   "execution_count": 154,
   "id": "9f54e452",
   "metadata": {},
   "outputs": [
    {
     "name": "stdout",
     "output_type": "stream",
     "text": [
      "[[ 0  1  2  3 12 13 14 15]\n",
      " [ 4  5  6  7 16 17 18 19]\n",
      " [ 8  9 10 11 20 21 22 23]]\n",
      "[[ 0  1  2  3]\n",
      " [ 4  5  6  7]\n",
      " [ 8  9 10 11]\n",
      " [12 13 14 15]\n",
      " [16 17 18 19]\n",
      " [20 21 22 23]]\n"
     ]
    }
   ],
   "source": [
    "# Stacking\n",
    "a4 = np.arange(12).reshape(3,4)\n",
    "a5 = np.arange(12,24).reshape(3,4)\n",
    "\n",
    "# horizontal stacking\n",
    "print(np.hstack((a4,a5)))\n",
    "\n",
    "# vertical stacking\n",
    "print(np.vstack((a4,a5)))"
   ]
  },
  {
   "cell_type": "code",
   "execution_count": 161,
   "id": "fbc31261",
   "metadata": {},
   "outputs": [
    {
     "name": "stdout",
     "output_type": "stream",
     "text": [
      "[[ 0  1  2  3 12 13 14 15]\n",
      " [ 4  5  6  7 16 17 18 19]\n",
      " [ 8  9 10 11 20 21 22 23]]\n"
     ]
    },
    {
     "data": {
      "text/plain": [
       "[array([[ 0,  1,  2,  3, 12, 13, 14, 15]]),\n",
       " array([[ 4,  5,  6,  7, 16, 17, 18, 19]]),\n",
       " array([[ 8,  9, 10, 11, 20, 21, 22, 23]])]"
      ]
     },
     "execution_count": 161,
     "metadata": {},
     "output_type": "execute_result"
    }
   ],
   "source": [
    "# Spliting \n",
    "a6 = np.hstack((a4,a5))\n",
    "# horizontal spliting\n",
    "print(a6)\n",
    "np.hsplit(a6,4)\n",
    "# vertical split\n",
    "np.vsplit(a6,3)"
   ]
  },
  {
   "cell_type": "code",
   "execution_count": 16,
   "id": "be835f96",
   "metadata": {},
   "outputs": [
    {
     "data": {
      "text/plain": [
       "array([0, 1, 2, 3, 4, 5, 6, 7, 8, 9])"
      ]
     },
     "execution_count": 16,
     "metadata": {},
     "output_type": "execute_result"
    }
   ],
   "source": [
    "a1"
   ]
  },
  {
   "cell_type": "code",
   "execution_count": 17,
   "id": "66fa8bd6",
   "metadata": {},
   "outputs": [
    {
     "data": {
      "text/plain": [
       "array([2, 3, 4])"
      ]
     },
     "execution_count": 17,
     "metadata": {},
     "output_type": "execute_result"
    }
   ],
   "source": [
    "a1[2:5]"
   ]
  },
  {
   "cell_type": "code",
   "execution_count": 18,
   "id": "0e2f6fc2",
   "metadata": {},
   "outputs": [
    {
     "data": {
      "text/plain": [
       "array([[ 0.,  1.,  2.,  3.],\n",
       "       [ 4.,  5.,  6.,  7.],\n",
       "       [ 8.,  9., 10., 11.]])"
      ]
     },
     "execution_count": 18,
     "metadata": {},
     "output_type": "execute_result"
    }
   ],
   "source": [
    "a2"
   ]
  },
  {
   "cell_type": "code",
   "execution_count": 19,
   "id": "6aed4814",
   "metadata": {},
   "outputs": [
    {
     "data": {
      "text/plain": [
       "array([[ 0.,  2.],\n",
       "       [ 8., 10.]])"
      ]
     },
     "execution_count": 19,
     "metadata": {},
     "output_type": "execute_result"
    }
   ],
   "source": [
    "a2[0::2,0::2]"
   ]
  },
  {
   "cell_type": "code",
   "execution_count": 22,
   "id": "42ddb9e9",
   "metadata": {},
   "outputs": [
    {
     "data": {
      "text/plain": [
       "array([[ 1.,  3.],\n",
       "       [ 9., 11.]])"
      ]
     },
     "execution_count": 22,
     "metadata": {},
     "output_type": "execute_result"
    }
   ],
   "source": [
    "a2[0::2,1::2]"
   ]
  },
  {
   "cell_type": "code",
   "execution_count": 24,
   "id": "16b097d8",
   "metadata": {},
   "outputs": [
    {
     "data": {
      "text/plain": [
       "array([ 2.,  6., 10.])"
      ]
     },
     "execution_count": 24,
     "metadata": {},
     "output_type": "execute_result"
    }
   ],
   "source": [
    "a2[:,2]"
   ]
  },
  {
   "cell_type": "code",
   "execution_count": 25,
   "id": "a5bc0a8d",
   "metadata": {},
   "outputs": [
    {
     "data": {
      "text/plain": [
       "array([[ 0.,  3.],\n",
       "       [ 8., 11.]])"
      ]
     },
     "execution_count": 25,
     "metadata": {},
     "output_type": "execute_result"
    }
   ],
   "source": [
    "a2[0::2,0::3]"
   ]
  },
  {
   "cell_type": "code",
   "execution_count": 27,
   "id": "0487cd09",
   "metadata": {},
   "outputs": [
    {
     "data": {
      "text/plain": [
       "array([[ 1.,  3.],\n",
       "       [ 9., 11.]])"
      ]
     },
     "execution_count": 27,
     "metadata": {},
     "output_type": "execute_result"
    }
   ],
   "source": [
    "a2[0::2,1::2]"
   ]
  },
  {
   "cell_type": "code",
   "execution_count": null,
   "id": "2f5334bf",
   "metadata": {},
   "outputs": [],
   "source": []
  }
 ],
 "metadata": {
  "kernelspec": {
   "display_name": "Python 3 (ipykernel)",
   "language": "python",
   "name": "python3"
  },
  "language_info": {
   "codemirror_mode": {
    "name": "ipython",
    "version": 3
   },
   "file_extension": ".py",
   "mimetype": "text/x-python",
   "name": "python",
   "nbconvert_exporter": "python",
   "pygments_lexer": "ipython3",
   "version": "3.11.3"
  }
 },
 "nbformat": 4,
 "nbformat_minor": 5
}
