{
 "cells": [
  {
   "cell_type": "code",
   "execution_count": 1,
   "id": "83354e95",
   "metadata": {},
   "outputs": [],
   "source": [
    "# Numpy Practice"
   ]
  },
  {
   "cell_type": "code",
   "execution_count": 11,
   "id": "a5313d26",
   "metadata": {},
   "outputs": [],
   "source": [
    "import numpy as np"
   ]
  },
  {
   "cell_type": "code",
   "execution_count": 16,
   "id": "7824f65b",
   "metadata": {},
   "outputs": [],
   "source": [
    "# Ways to create an array in numpy"
   ]
  },
  {
   "cell_type": "code",
   "execution_count": 19,
   "id": "82c80935",
   "metadata": {},
   "outputs": [],
   "source": [
    "arr1 = np.arange(0,10,1)"
   ]
  },
  {
   "cell_type": "code",
   "execution_count": 20,
   "id": "4461047c",
   "metadata": {},
   "outputs": [],
   "source": [
    "arr2 = np.array([1,2,3,4,5])"
   ]
  },
  {
   "cell_type": "code",
   "execution_count": 53,
   "id": "8fceaa23",
   "metadata": {},
   "outputs": [],
   "source": [
    "arr3 = np.zeros((2,3)) # np.zeros and np.ones are used to initialise array"
   ]
  },
  {
   "cell_type": "code",
   "execution_count": 22,
   "id": "89ab216f",
   "metadata": {},
   "outputs": [],
   "source": [
    "arr4 = np.ones((3,3))"
   ]
  },
  {
   "cell_type": "code",
   "execution_count": 32,
   "id": "ed5ad748",
   "metadata": {},
   "outputs": [],
   "source": [
    "arr5 = np.ndarray((2,3),(bool))"
   ]
  },
  {
   "cell_type": "code",
   "execution_count": 34,
   "id": "e4580760",
   "metadata": {
    "scrolled": true
   },
   "outputs": [],
   "source": [
    "arr6 = np.linspace(0,10,20)"
   ]
  },
  {
   "cell_type": "code",
   "execution_count": 37,
   "id": "7d212929",
   "metadata": {},
   "outputs": [],
   "source": [
    "arr7 = np.identity(3)"
   ]
  },
  {
   "cell_type": "code",
   "execution_count": 39,
   "id": "2f766059",
   "metadata": {},
   "outputs": [],
   "source": [
    "arr8 = np.array([1,2,3,4,5,6]).reshape((2,3))"
   ]
  },
  {
   "cell_type": "code",
   "execution_count": 40,
   "id": "8e7cab0b",
   "metadata": {},
   "outputs": [],
   "source": [
    "arr9 = np.array([[1,2],[3,4],[5,6],[7,8]]).reshape((4,2))"
   ]
  },
  {
   "cell_type": "code",
   "execution_count": 57,
   "id": "9d64785f",
   "metadata": {},
   "outputs": [],
   "source": [
    "arr10 = np.array([1,2,3,4],dtype = complex)"
   ]
  },
  {
   "cell_type": "code",
   "execution_count": 58,
   "id": "7f5cc425",
   "metadata": {},
   "outputs": [],
   "source": [
    "arr11 = np.random.random((2,3))"
   ]
  },
  {
   "cell_type": "code",
   "execution_count": 59,
   "id": "26ba08be",
   "metadata": {},
   "outputs": [
    {
     "name": "stdout",
     "output_type": "stream",
     "text": [
      "arr1\n",
      "[0 1 2 3 4 5 6 7 8 9]\n",
      "arr2\n",
      "[1 2 3 4 5]\n",
      "arr3\n",
      "[[0. 0. 0.]\n",
      " [0. 0. 0.]]\n",
      "arr4\n",
      "[[1. 1. 1.]\n",
      " [1. 1. 1.]\n",
      " [1. 1. 1.]]\n",
      "arr5\n",
      "[[False False False]\n",
      " [False False False]]\n",
      "arr6\n",
      "[ 0.          0.52631579  1.05263158  1.57894737  2.10526316  2.63157895\n",
      "  3.15789474  3.68421053  4.21052632  4.73684211  5.26315789  5.78947368\n",
      "  6.31578947  6.84210526  7.36842105  7.89473684  8.42105263  8.94736842\n",
      "  9.47368421 10.        ]\n",
      "arr7\n",
      "[[1. 0. 0.]\n",
      " [0. 1. 0.]\n",
      " [0. 0. 1.]]\n",
      "arr8\n",
      "[[1 2 3]\n",
      " [4 5 6]]\n",
      "arr9\n",
      "[[1 2]\n",
      " [3 4]\n",
      " [5 6]\n",
      " [7 8]]\n",
      "arr10\n",
      "[1.+0.j 2.+0.j 3.+0.j 4.+0.j]\n",
      "arr11\n",
      "[[0.73957981 0.57035656 0.18791819]\n",
      " [0.82670509 0.03222892 0.48570033]]\n"
     ]
    }
   ],
   "source": [
    "print('arr1',arr1,sep = \"\\n\")\n",
    "print('arr2',arr2,sep = \"\\n\")\n",
    "print('arr3',arr3,sep = \"\\n\")\n",
    "print('arr4',arr4,sep = \"\\n\")\n",
    "print('arr5',arr5,sep = \"\\n\")\n",
    "print('arr6',arr6,sep = \"\\n\")\n",
    "print('arr7',arr7,sep = \"\\n\")\n",
    "print('arr8',arr8,sep = \"\\n\")\n",
    "print('arr9',arr9,sep = \"\\n\")\n",
    "print('arr10',arr10,sep = \"\\n\")\n",
    "print('arr11',arr11,sep = \"\\n\")"
   ]
  },
  {
   "cell_type": "code",
   "execution_count": 60,
   "id": "8914b07f",
   "metadata": {},
   "outputs": [
    {
     "data": {
      "text/plain": [
       "numpy.ndarray"
      ]
     },
     "execution_count": 60,
     "metadata": {},
     "output_type": "execute_result"
    }
   ],
   "source": [
    "type(arr2)"
   ]
  },
  {
   "cell_type": "code",
   "execution_count": 48,
   "id": "13bc757b",
   "metadata": {},
   "outputs": [
    {
     "data": {
      "text/plain": [
       "array([[[ 1,  2],\n",
       "        [ 3,  4]],\n",
       "\n",
       "       [[ 5,  6],\n",
       "        [ 7,  8]],\n",
       "\n",
       "       [[ 9, 10],\n",
       "        [11, 12]]])"
      ]
     },
     "execution_count": 48,
     "metadata": {},
     "output_type": "execute_result"
    }
   ],
   "source": [
    "np.array([\n",
    "    [\n",
    "        [1,2],\n",
    "        [3,4]\n",
    "    ],\n",
    "    [\n",
    "        [5,6],\n",
    "        [7,8]\n",
    "    ],\n",
    "    [\n",
    "        [9,10],\n",
    "        [11,12]\n",
    "    ]\n",
    "])"
   ]
  },
  {
   "cell_type": "code",
   "execution_count": 61,
   "id": "53695dca",
   "metadata": {},
   "outputs": [],
   "source": [
    "# attributes in array "
   ]
  },
  {
   "cell_type": "code",
   "execution_count": 80,
   "id": "46634dca",
   "metadata": {},
   "outputs": [],
   "source": [
    "arr_1 = np.arange(0,12).reshape(3,4)\n",
    "arr_2 = np.arange(12,24).reshape(3,4)\n",
    "arr_3 = np.arange(24,36).reshape(3,4)\n",
    "arr_4 = np.arange(10)\n",
    "arr_5 = np.arange(8).reshape(2,2,2)"
   ]
  },
  {
   "cell_type": "code",
   "execution_count": 81,
   "id": "75c072ad",
   "metadata": {},
   "outputs": [
    {
     "name": "stdout",
     "output_type": "stream",
     "text": [
      "[[ 0  1  2  3]\n",
      " [ 4  5  6  7]\n",
      " [ 8  9 10 11]]\n",
      "[[12 13 14 15]\n",
      " [16 17 18 19]\n",
      " [20 21 22 23]]\n",
      "[[24 25 26 27]\n",
      " [28 29 30 31]\n",
      " [32 33 34 35]]\n",
      "[0 1 2 3 4 5 6 7 8 9]\n",
      "[[[0 1]\n",
      "  [2 3]]\n",
      "\n",
      " [[4 5]\n",
      "  [6 7]]]\n"
     ]
    }
   ],
   "source": [
    "print(arr_1)\n",
    "print(arr_2)\n",
    "print(arr_3)\n",
    "print(arr_4)\n",
    "print(arr_5)"
   ]
  },
  {
   "cell_type": "code",
   "execution_count": 82,
   "id": "71008c42",
   "metadata": {},
   "outputs": [
    {
     "data": {
      "text/plain": [
       "3"
      ]
     },
     "execution_count": 82,
     "metadata": {},
     "output_type": "execute_result"
    }
   ],
   "source": [
    "# number of dimensions in a given array\n",
    "arr_5.ndim"
   ]
  },
  {
   "cell_type": "code",
   "execution_count": 83,
   "id": "3fc6c7b0",
   "metadata": {},
   "outputs": [
    {
     "data": {
      "text/plain": [
       "(2, 2, 2)"
      ]
     },
     "execution_count": 83,
     "metadata": {},
     "output_type": "execute_result"
    }
   ],
   "source": [
    "# shape\n",
    "arr_5.shape"
   ]
  },
  {
   "cell_type": "code",
   "execution_count": 88,
   "id": "2b0adc57",
   "metadata": {},
   "outputs": [
    {
     "data": {
      "text/plain": [
       "8"
      ]
     },
     "execution_count": 88,
     "metadata": {},
     "output_type": "execute_result"
    }
   ],
   "source": [
    "# size\n",
    "arr_5.size"
   ]
  },
  {
   "cell_type": "code",
   "execution_count": 97,
   "id": "e3fc6f48",
   "metadata": {},
   "outputs": [
    {
     "name": "stdout",
     "output_type": "stream",
     "text": [
      "[[0.73957981 0.57035656 0.18791819]\n",
      " [0.82670509 0.03222892 0.48570033]]\n",
      "8\n"
     ]
    }
   ],
   "source": [
    "# itemsize # item size for float is 8\n",
    "print(arr11)\n",
    "print(arr11.itemsize)"
   ]
  },
  {
   "cell_type": "code",
   "execution_count": 105,
   "id": "1db011b4",
   "metadata": {},
   "outputs": [],
   "source": [
    "arr_1 = arr_1.astype('int64')"
   ]
  },
  {
   "cell_type": "code",
   "execution_count": 106,
   "id": "808d8ef7",
   "metadata": {},
   "outputs": [
    {
     "data": {
      "text/plain": [
       "8"
      ]
     },
     "execution_count": 106,
     "metadata": {},
     "output_type": "execute_result"
    }
   ],
   "source": [
    "arr_1.itemsize"
   ]
  },
  {
   "cell_type": "code",
   "execution_count": 111,
   "id": "b004a90a",
   "metadata": {},
   "outputs": [
    {
     "data": {
      "text/plain": [
       "dtype('int32')"
      ]
     },
     "execution_count": 111,
     "metadata": {},
     "output_type": "execute_result"
    }
   ],
   "source": [
    "arr_5.dtype"
   ]
  },
  {
   "cell_type": "code",
   "execution_count": 113,
   "id": "7a74230f",
   "metadata": {},
   "outputs": [
    {
     "data": {
      "text/plain": [
       "(32, 8)"
      ]
     },
     "execution_count": 113,
     "metadata": {},
     "output_type": "execute_result"
    }
   ],
   "source": [
    "arr_1.strides"
   ]
  },
  {
   "cell_type": "code",
   "execution_count": 115,
   "id": "2dd1eb21",
   "metadata": {},
   "outputs": [
    {
     "data": {
      "text/plain": [
       "array([[ 0,  1,  2,  3],\n",
       "       [ 4,  5,  6,  7],\n",
       "       [ 8,  9, 10, 11]], dtype=int64)"
      ]
     },
     "execution_count": 115,
     "metadata": {},
     "output_type": "execute_result"
    }
   ],
   "source": [
    "arr_1"
   ]
  },
  {
   "cell_type": "code",
   "execution_count": 116,
   "id": "73d65efc",
   "metadata": {},
   "outputs": [
    {
     "data": {
      "text/plain": [
       "  C_CONTIGUOUS : True\n",
       "  F_CONTIGUOUS : False\n",
       "  OWNDATA : True\n",
       "  WRITEABLE : True\n",
       "  ALIGNED : True\n",
       "  WRITEBACKIFCOPY : False"
      ]
     },
     "execution_count": 116,
     "metadata": {},
     "output_type": "execute_result"
    }
   ],
   "source": [
    "arr_1.flags"
   ]
  },
  {
   "cell_type": "code",
   "execution_count": 119,
   "id": "174d2c8a",
   "metadata": {},
   "outputs": [
    {
     "data": {
      "text/plain": [
       "array([[ 0,  4,  8],\n",
       "       [ 1,  5,  9],\n",
       "       [ 2,  6, 10],\n",
       "       [ 3,  7, 11]], dtype=int64)"
      ]
     },
     "execution_count": 119,
     "metadata": {},
     "output_type": "execute_result"
    }
   ],
   "source": [
    "# Transpose\n",
    "arr_1.T"
   ]
  },
  {
   "cell_type": "code",
   "execution_count": 120,
   "id": "28868bc3",
   "metadata": {},
   "outputs": [
    {
     "data": {
      "text/plain": [
       "array([[ 0,  1,  2,  3],\n",
       "       [ 4,  5,  6,  7],\n",
       "       [ 8,  9, 10, 11]], dtype=int64)"
      ]
     },
     "execution_count": 120,
     "metadata": {},
     "output_type": "execute_result"
    }
   ],
   "source": [
    "arr_1"
   ]
  },
  {
   "cell_type": "code",
   "execution_count": 121,
   "id": "dd9dc0b4",
   "metadata": {},
   "outputs": [],
   "source": [
    "arr_a = np.arange(12).reshape((3,4))\n",
    "arr_b = np.arange(12,24).reshape((3,4))"
   ]
  },
  {
   "cell_type": "code",
   "execution_count": 122,
   "id": "58e65303",
   "metadata": {},
   "outputs": [
    {
     "data": {
      "text/plain": [
       "array([[ 2,  3,  4,  5],\n",
       "       [ 6,  7,  8,  9],\n",
       "       [10, 11, 12, 13]])"
      ]
     },
     "execution_count": 122,
     "metadata": {},
     "output_type": "execute_result"
    }
   ],
   "source": [
    "# scalar operation\n",
    "arr_a + 2"
   ]
  },
  {
   "cell_type": "code",
   "execution_count": 123,
   "id": "409093ae",
   "metadata": {},
   "outputs": [
    {
     "data": {
      "text/plain": [
       "array([[-2, -1,  0,  1],\n",
       "       [ 2,  3,  4,  5],\n",
       "       [ 6,  7,  8,  9]])"
      ]
     },
     "execution_count": 123,
     "metadata": {},
     "output_type": "execute_result"
    }
   ],
   "source": [
    "arr_a -2"
   ]
  },
  {
   "cell_type": "code",
   "execution_count": 124,
   "id": "34057585",
   "metadata": {},
   "outputs": [
    {
     "data": {
      "text/plain": [
       "array([[False, False, False,  True],\n",
       "       [ True,  True,  True,  True],\n",
       "       [ True,  True,  True,  True]])"
      ]
     },
     "execution_count": 124,
     "metadata": {},
     "output_type": "execute_result"
    }
   ],
   "source": [
    "arr_a > 2"
   ]
  },
  {
   "cell_type": "code",
   "execution_count": 125,
   "id": "81777918",
   "metadata": {},
   "outputs": [
    {
     "data": {
      "text/plain": [
       "array([[False, False, False, False],\n",
       "       [False, False, False, False],\n",
       "       [False, False, False, False]])"
      ]
     },
     "execution_count": 125,
     "metadata": {},
     "output_type": "execute_result"
    }
   ],
   "source": [
    "arr_b > 50"
   ]
  },
  {
   "cell_type": "code",
   "execution_count": 127,
   "id": "920f3663",
   "metadata": {},
   "outputs": [
    {
     "data": {
      "text/plain": [
       "array([[12, 14, 16, 18],\n",
       "       [20, 22, 24, 26],\n",
       "       [28, 30, 32, 34]])"
      ]
     },
     "execution_count": 127,
     "metadata": {},
     "output_type": "execute_result"
    }
   ],
   "source": [
    "# Vector Operation\n",
    "arr_a + arr_b"
   ]
  },
  {
   "cell_type": "code",
   "execution_count": 128,
   "id": "a1118b23",
   "metadata": {},
   "outputs": [
    {
     "data": {
      "text/plain": [
       "array([[0.        , 0.07692308, 0.14285714, 0.2       ],\n",
       "       [0.25      , 0.29411765, 0.33333333, 0.36842105],\n",
       "       [0.4       , 0.42857143, 0.45454545, 0.47826087]])"
      ]
     },
     "execution_count": 128,
     "metadata": {},
     "output_type": "execute_result"
    }
   ],
   "source": [
    "arr_a / arr_b"
   ]
  },
  {
   "cell_type": "code",
   "execution_count": 129,
   "id": "6e2b0fdf",
   "metadata": {},
   "outputs": [],
   "source": [
    "# Array Functions"
   ]
  },
  {
   "cell_type": "code",
   "execution_count": 130,
   "id": "96b14b94",
   "metadata": {},
   "outputs": [],
   "source": [
    "a1 = np.random.random((3,3))\n",
    "a1 = np.round(a1*100)"
   ]
  },
  {
   "cell_type": "code",
   "execution_count": 131,
   "id": "3b7e9c2b",
   "metadata": {},
   "outputs": [
    {
     "data": {
      "text/plain": [
       "array([[59., 29., 68.],\n",
       "       [57., 48., 92.],\n",
       "       [50., 43., 74.]])"
      ]
     },
     "execution_count": 131,
     "metadata": {},
     "output_type": "execute_result"
    }
   ],
   "source": [
    "a1"
   ]
  },
  {
   "cell_type": "code",
   "execution_count": 132,
   "id": "148b9c5a",
   "metadata": {},
   "outputs": [
    {
     "data": {
      "text/plain": [
       "92.0"
      ]
     },
     "execution_count": 132,
     "metadata": {},
     "output_type": "execute_result"
    }
   ],
   "source": [
    "np.max(a1)"
   ]
  },
  {
   "cell_type": "code",
   "execution_count": 133,
   "id": "306f0003",
   "metadata": {},
   "outputs": [
    {
     "data": {
      "text/plain": [
       "29.0"
      ]
     },
     "execution_count": 133,
     "metadata": {},
     "output_type": "execute_result"
    }
   ],
   "source": [
    "np.min(a1)"
   ]
  },
  {
   "cell_type": "code",
   "execution_count": 135,
   "id": "2934c5de",
   "metadata": {},
   "outputs": [
    {
     "data": {
      "text/plain": [
       "array([68., 92., 74.])"
      ]
     },
     "execution_count": 135,
     "metadata": {},
     "output_type": "execute_result"
    }
   ],
   "source": [
    "np.max(a1,axis = 1)"
   ]
  },
  {
   "cell_type": "code",
   "execution_count": 136,
   "id": "45977df8",
   "metadata": {},
   "outputs": [
    {
     "data": {
      "text/plain": [
       "520.0"
      ]
     },
     "execution_count": 136,
     "metadata": {},
     "output_type": "execute_result"
    }
   ],
   "source": [
    "np.sum(a1)"
   ]
  },
  {
   "cell_type": "code",
   "execution_count": 138,
   "id": "13e27786",
   "metadata": {},
   "outputs": [
    {
     "data": {
      "text/plain": [
       "array([29., 48., 43.])"
      ]
     },
     "execution_count": 138,
     "metadata": {},
     "output_type": "execute_result"
    }
   ],
   "source": [
    "np.min(a1,axis = 1)"
   ]
  },
  {
   "cell_type": "code",
   "execution_count": 139,
   "id": "5a09061f",
   "metadata": {},
   "outputs": [
    {
     "data": {
      "text/plain": [
       "57.77777777777778"
      ]
     },
     "execution_count": 139,
     "metadata": {},
     "output_type": "execute_result"
    }
   ],
   "source": [
    "np.mean(a1)"
   ]
  },
  {
   "cell_type": "code",
   "execution_count": 140,
   "id": "33a3c83d",
   "metadata": {},
   "outputs": [
    {
     "data": {
      "text/plain": [
       "57.0"
      ]
     },
     "execution_count": 140,
     "metadata": {},
     "output_type": "execute_result"
    }
   ],
   "source": [
    "np.median(a1)"
   ]
  },
  {
   "cell_type": "code",
   "execution_count": 144,
   "id": "424f3e80",
   "metadata": {},
   "outputs": [
    {
     "data": {
      "text/plain": [
       "304.83950617283944"
      ]
     },
     "execution_count": 144,
     "metadata": {},
     "output_type": "execute_result"
    }
   ],
   "source": [
    "np.std(a1)"
   ]
  },
  {
   "cell_type": "code",
   "execution_count": 143,
   "id": "30ccb603",
   "metadata": {},
   "outputs": [
    {
     "data": {
      "text/plain": [
       "304.8395061728395"
      ]
     },
     "execution_count": 143,
     "metadata": {},
     "output_type": "execute_result"
    }
   ],
   "source": [
    "np.var(a1)"
   ]
  },
  {
   "cell_type": "code",
   "execution_count": 145,
   "id": "bc588c35",
   "metadata": {},
   "outputs": [
    {
     "data": {
      "text/plain": [
       "array([[ 0.63673801, -0.66363388, -0.89792768],\n",
       "       [ 0.43616476, -0.76825466, -0.77946607],\n",
       "       [-0.26237485, -0.83177474, -0.98514626]])"
      ]
     },
     "execution_count": 145,
     "metadata": {},
     "output_type": "execute_result"
    }
   ],
   "source": [
    "np.sin(a1)"
   ]
  },
  {
   "cell_type": "code",
   "execution_count": 146,
   "id": "f0bb200d",
   "metadata": {},
   "outputs": [
    {
     "data": {
      "text/plain": [
       "array([[-0.77108022, -0.74805753,  0.44014302],\n",
       "       [ 0.89986683, -0.64014434, -0.62644445],\n",
       "       [ 0.96496603,  0.5551133 ,  0.17171734]])"
      ]
     },
     "execution_count": 146,
     "metadata": {},
     "output_type": "execute_result"
    }
   ],
   "source": [
    "np.cos(a1)"
   ]
  },
  {
   "cell_type": "code",
   "execution_count": 147,
   "id": "806f5d6d",
   "metadata": {},
   "outputs": [
    {
     "data": {
      "text/plain": [
       "array([[114, 120, 126],\n",
       "       [378, 400, 422],\n",
       "       [642, 680, 718]])"
      ]
     },
     "execution_count": 147,
     "metadata": {},
     "output_type": "execute_result"
    }
   ],
   "source": [
    "arr_x = np.arange(12).reshape((3,4))\n",
    "arr_y = np.arange(12,24).reshape((4,3))\n",
    "np.dot(arr_x,arr_y)"
   ]
  },
  {
   "cell_type": "code",
   "execution_count": 148,
   "id": "7d7367c8",
   "metadata": {},
   "outputs": [
    {
     "name": "stderr",
     "output_type": "stream",
     "text": [
      "C:\\Users\\ipsit\\AppData\\Local\\Temp\\ipykernel_41544\\2188269271.py:1: RuntimeWarning: divide by zero encountered in log\n",
      "  np.log(arr_a)\n"
     ]
    },
    {
     "data": {
      "text/plain": [
       "array([[      -inf, 0.        , 0.69314718, 1.09861229],\n",
       "       [1.38629436, 1.60943791, 1.79175947, 1.94591015],\n",
       "       [2.07944154, 2.19722458, 2.30258509, 2.39789527]])"
      ]
     },
     "execution_count": 148,
     "metadata": {},
     "output_type": "execute_result"
    }
   ],
   "source": [
    "np.log(arr_a)"
   ]
  },
  {
   "cell_type": "code",
   "execution_count": 149,
   "id": "8a434fd8",
   "metadata": {},
   "outputs": [
    {
     "data": {
      "text/plain": [
       "array([[1.00000000e+00, 2.71828183e+00, 7.38905610e+00, 2.00855369e+01],\n",
       "       [5.45981500e+01, 1.48413159e+02, 4.03428793e+02, 1.09663316e+03],\n",
       "       [2.98095799e+03, 8.10308393e+03, 2.20264658e+04, 5.98741417e+04]])"
      ]
     },
     "execution_count": 149,
     "metadata": {},
     "output_type": "execute_result"
    }
   ],
   "source": [
    "np.exp(arr_a)"
   ]
  },
  {
   "cell_type": "code",
   "execution_count": 153,
   "id": "3a6bb6f6",
   "metadata": {},
   "outputs": [
    {
     "data": {
      "text/plain": [
       "array([[78, 39, 18],\n",
       "       [77, 95, 26]], dtype=int64)"
      ]
     },
     "execution_count": 153,
     "metadata": {},
     "output_type": "execute_result"
    }
   ],
   "source": [
    "np.int64(np.round(np.random.random((2,3))*100))"
   ]
  },
  {
   "cell_type": "code",
   "execution_count": 159,
   "id": "a4697068",
   "metadata": {},
   "outputs": [
    {
     "data": {
      "text/plain": [
       "array([[39., 49., 59.],\n",
       "       [50., 53., 72.],\n",
       "       [33., 19., 60.]])"
      ]
     },
     "execution_count": 159,
     "metadata": {},
     "output_type": "execute_result"
    }
   ],
   "source": [
    "a = np.random.random((3,3))*75\n",
    "np.floor(a)"
   ]
  },
  {
   "cell_type": "code",
   "execution_count": 160,
   "id": "b23983ea",
   "metadata": {},
   "outputs": [
    {
     "data": {
      "text/plain": [
       "array([[40., 50., 60.],\n",
       "       [51., 54., 73.],\n",
       "       [34., 20., 61.]])"
      ]
     },
     "execution_count": 160,
     "metadata": {},
     "output_type": "execute_result"
    }
   ],
   "source": [
    "np.ceil(a)"
   ]
  },
  {
   "cell_type": "code",
   "execution_count": 161,
   "id": "473c0317",
   "metadata": {},
   "outputs": [
    {
     "data": {
      "text/plain": [
       "array([[39.04726003, 49.12222435, 59.23449042],\n",
       "       [50.10268968, 53.14093306, 72.43828832],\n",
       "       [33.95093939, 19.8471104 , 60.34958268]])"
      ]
     },
     "execution_count": 161,
     "metadata": {},
     "output_type": "execute_result"
    }
   ],
   "source": [
    "a"
   ]
  },
  {
   "cell_type": "code",
   "execution_count": 162,
   "id": "e085c1b0",
   "metadata": {},
   "outputs": [],
   "source": [
    "# Indexing and slicing"
   ]
  },
  {
   "cell_type": "code",
   "execution_count": 163,
   "id": "e8cf33a9",
   "metadata": {},
   "outputs": [],
   "source": [
    "a1 = np.arange(10)\n",
    "a2 = np.arange(12).reshape(3,4)\n",
    "a3 = np.arange(8).reshape(2,2,2)"
   ]
  },
  {
   "cell_type": "code",
   "execution_count": 164,
   "id": "5025cede",
   "metadata": {},
   "outputs": [
    {
     "data": {
      "text/plain": [
       "9"
      ]
     },
     "execution_count": 164,
     "metadata": {},
     "output_type": "execute_result"
    }
   ],
   "source": [
    "a1[-1]"
   ]
  },
  {
   "cell_type": "code",
   "execution_count": 165,
   "id": "11d57a02",
   "metadata": {},
   "outputs": [
    {
     "data": {
      "text/plain": [
       "array([0, 1, 2, 3, 4, 5, 6, 7, 8, 9])"
      ]
     },
     "execution_count": 165,
     "metadata": {},
     "output_type": "execute_result"
    }
   ],
   "source": [
    "a1"
   ]
  },
  {
   "cell_type": "code",
   "execution_count": 166,
   "id": "45cdbf9f",
   "metadata": {},
   "outputs": [
    {
     "data": {
      "text/plain": [
       "0"
      ]
     },
     "execution_count": 166,
     "metadata": {},
     "output_type": "execute_result"
    }
   ],
   "source": [
    "a1[0]"
   ]
  },
  {
   "cell_type": "code",
   "execution_count": 167,
   "id": "4e1838d2",
   "metadata": {},
   "outputs": [
    {
     "data": {
      "text/plain": [
       "array([0, 1])"
      ]
     },
     "execution_count": 167,
     "metadata": {},
     "output_type": "execute_result"
    }
   ],
   "source": [
    "a1[0:2]"
   ]
  },
  {
   "cell_type": "code",
   "execution_count": 171,
   "id": "6c9009d3",
   "metadata": {},
   "outputs": [
    {
     "data": {
      "text/plain": [
       "array([9, 8, 7, 6, 5, 4, 3, 2, 1, 0])"
      ]
     },
     "execution_count": 171,
     "metadata": {},
     "output_type": "execute_result"
    }
   ],
   "source": [
    "a1[-1::-1]"
   ]
  },
  {
   "cell_type": "code",
   "execution_count": 172,
   "id": "448d3cca",
   "metadata": {},
   "outputs": [
    {
     "data": {
      "text/plain": [
       "array([[ 0,  1,  2,  3],\n",
       "       [ 4,  5,  6,  7],\n",
       "       [ 8,  9, 10, 11]])"
      ]
     },
     "execution_count": 172,
     "metadata": {},
     "output_type": "execute_result"
    }
   ],
   "source": [
    "a2"
   ]
  },
  {
   "cell_type": "code",
   "execution_count": 173,
   "id": "18690a50",
   "metadata": {},
   "outputs": [
    {
     "data": {
      "text/plain": [
       "6"
      ]
     },
     "execution_count": 173,
     "metadata": {},
     "output_type": "execute_result"
    }
   ],
   "source": [
    "a2[1][2]"
   ]
  },
  {
   "cell_type": "code",
   "execution_count": 177,
   "id": "07c4ffe5",
   "metadata": {},
   "outputs": [
    {
     "data": {
      "text/plain": [
       "6"
      ]
     },
     "execution_count": 177,
     "metadata": {},
     "output_type": "execute_result"
    }
   ],
   "source": [
    "a2[1,2]"
   ]
  },
  {
   "cell_type": "code",
   "execution_count": 178,
   "id": "554cbf00",
   "metadata": {},
   "outputs": [
    {
     "data": {
      "text/plain": [
       "11"
      ]
     },
     "execution_count": 178,
     "metadata": {},
     "output_type": "execute_result"
    }
   ],
   "source": [
    "a2[2,3]"
   ]
  },
  {
   "cell_type": "code",
   "execution_count": 179,
   "id": "9ea2c2ab",
   "metadata": {},
   "outputs": [
    {
     "data": {
      "text/plain": [
       "11"
      ]
     },
     "execution_count": 179,
     "metadata": {},
     "output_type": "execute_result"
    }
   ],
   "source": [
    "a2[-1,-1]"
   ]
  },
  {
   "cell_type": "code",
   "execution_count": 180,
   "id": "5d89063b",
   "metadata": {},
   "outputs": [
    {
     "data": {
      "text/plain": [
       "array([[[0, 1],\n",
       "        [2, 3]],\n",
       "\n",
       "       [[4, 5],\n",
       "        [6, 7]]])"
      ]
     },
     "execution_count": 180,
     "metadata": {},
     "output_type": "execute_result"
    }
   ],
   "source": [
    "a3"
   ]
  },
  {
   "cell_type": "code",
   "execution_count": 181,
   "id": "dd747373",
   "metadata": {},
   "outputs": [
    {
     "data": {
      "text/plain": [
       "5"
      ]
     },
     "execution_count": 181,
     "metadata": {},
     "output_type": "execute_result"
    }
   ],
   "source": [
    "a3[1,0,1]"
   ]
  },
  {
   "cell_type": "code",
   "execution_count": 182,
   "id": "f5d35721",
   "metadata": {},
   "outputs": [
    {
     "data": {
      "text/plain": [
       "6"
      ]
     },
     "execution_count": 182,
     "metadata": {},
     "output_type": "execute_result"
    }
   ],
   "source": [
    "a3[1,1,0]"
   ]
  },
  {
   "cell_type": "code",
   "execution_count": 183,
   "id": "13992924",
   "metadata": {},
   "outputs": [
    {
     "data": {
      "text/plain": [
       "array([[ 0,  1,  2,  3],\n",
       "       [ 4,  5,  6,  7],\n",
       "       [ 8,  9, 10, 11]])"
      ]
     },
     "execution_count": 183,
     "metadata": {},
     "output_type": "execute_result"
    }
   ],
   "source": [
    "a2"
   ]
  },
  {
   "cell_type": "code",
   "execution_count": 184,
   "id": "374c7129",
   "metadata": {},
   "outputs": [
    {
     "data": {
      "text/plain": [
       "array([4, 7])"
      ]
     },
     "execution_count": 184,
     "metadata": {},
     "output_type": "execute_result"
    }
   ],
   "source": [
    "a2[1,::3]"
   ]
  },
  {
   "cell_type": "code",
   "execution_count": 185,
   "id": "f9f6ba1e",
   "metadata": {},
   "outputs": [
    {
     "data": {
      "text/plain": [
       "array([[ 0,  1,  2,  3],\n",
       "       [ 4,  5,  6,  7],\n",
       "       [ 8,  9, 10, 11]])"
      ]
     },
     "execution_count": 185,
     "metadata": {},
     "output_type": "execute_result"
    }
   ],
   "source": [
    "a2"
   ]
  },
  {
   "cell_type": "code",
   "execution_count": 188,
   "id": "518b19e0",
   "metadata": {},
   "outputs": [
    {
     "data": {
      "text/plain": [
       "array([[ 1,  2],\n",
       "       [ 9, 10]])"
      ]
     },
     "execution_count": 188,
     "metadata": {},
     "output_type": "execute_result"
    }
   ],
   "source": [
    "a2[::2,:]"
   ]
  },
  {
   "cell_type": "code",
   "execution_count": 189,
   "id": "461dbb65",
   "metadata": {},
   "outputs": [
    {
     "data": {
      "text/plain": [
       "array([[1, 2, 3],\n",
       "       [5, 6, 7]])"
      ]
     },
     "execution_count": 189,
     "metadata": {},
     "output_type": "execute_result"
    }
   ],
   "source": [
    "a2[0:2,1:]"
   ]
  },
  {
   "cell_type": "code",
   "execution_count": 190,
   "id": "0b1e48b3",
   "metadata": {},
   "outputs": [
    {
     "data": {
      "text/plain": [
       "array([[1, 3],\n",
       "       [5, 7]])"
      ]
     },
     "execution_count": 190,
     "metadata": {},
     "output_type": "execute_result"
    }
   ],
   "source": [
    "a2[0:2,1::2]"
   ]
  },
  {
   "cell_type": "code",
   "execution_count": 191,
   "id": "d0e35107",
   "metadata": {},
   "outputs": [],
   "source": [
    "a3 = np.arange(27).reshape(3,3,3)"
   ]
  },
  {
   "cell_type": "code",
   "execution_count": 192,
   "id": "73de3e49",
   "metadata": {},
   "outputs": [
    {
     "data": {
      "text/plain": [
       "array([[[ 0,  1,  2],\n",
       "        [ 3,  4,  5],\n",
       "        [ 6,  7,  8]],\n",
       "\n",
       "       [[ 9, 10, 11],\n",
       "        [12, 13, 14],\n",
       "        [15, 16, 17]],\n",
       "\n",
       "       [[18, 19, 20],\n",
       "        [21, 22, 23],\n",
       "        [24, 25, 26]]])"
      ]
     },
     "execution_count": 192,
     "metadata": {},
     "output_type": "execute_result"
    }
   ],
   "source": [
    "a3"
   ]
  },
  {
   "cell_type": "code",
   "execution_count": 194,
   "id": "0e03d7a5",
   "metadata": {},
   "outputs": [
    {
     "data": {
      "text/plain": [
       "array([[ 9, 10, 11],\n",
       "       [12, 13, 14],\n",
       "       [15, 16, 17]])"
      ]
     },
     "execution_count": 194,
     "metadata": {},
     "output_type": "execute_result"
    }
   ],
   "source": [
    "a3[1,:,:]"
   ]
  },
  {
   "cell_type": "code",
   "execution_count": 195,
   "id": "6f22a6ab",
   "metadata": {},
   "outputs": [
    {
     "data": {
      "text/plain": [
       "array([[ 9, 10, 11],\n",
       "       [12, 13, 14],\n",
       "       [15, 16, 17]])"
      ]
     },
     "execution_count": 195,
     "metadata": {},
     "output_type": "execute_result"
    }
   ],
   "source": [
    "a3[1]"
   ]
  },
  {
   "cell_type": "code",
   "execution_count": 197,
   "id": "f047f9ce",
   "metadata": {},
   "outputs": [
    {
     "data": {
      "text/plain": [
       "array([[[ 0,  1,  2],\n",
       "        [ 3,  4,  5],\n",
       "        [ 6,  7,  8]],\n",
       "\n",
       "       [[18, 19, 20],\n",
       "        [21, 22, 23],\n",
       "        [24, 25, 26]]])"
      ]
     },
     "execution_count": 197,
     "metadata": {},
     "output_type": "execute_result"
    }
   ],
   "source": [
    "a3[::2,:,:]"
   ]
  },
  {
   "cell_type": "code",
   "execution_count": 198,
   "id": "816f950e",
   "metadata": {},
   "outputs": [
    {
     "data": {
      "text/plain": [
       "array([3, 4, 5])"
      ]
     },
     "execution_count": 198,
     "metadata": {},
     "output_type": "execute_result"
    }
   ],
   "source": [
    "a3[0,1,:]"
   ]
  },
  {
   "cell_type": "code",
   "execution_count": 199,
   "id": "b4900e63",
   "metadata": {},
   "outputs": [
    {
     "data": {
      "text/plain": [
       "array([10, 13, 16])"
      ]
     },
     "execution_count": 199,
     "metadata": {},
     "output_type": "execute_result"
    }
   ],
   "source": [
    "a3[1,:,1]"
   ]
  },
  {
   "cell_type": "code",
   "execution_count": 200,
   "id": "8074b5f4",
   "metadata": {},
   "outputs": [
    {
     "data": {
      "text/plain": [
       "array([[22, 23],\n",
       "       [25, 26]])"
      ]
     },
     "execution_count": 200,
     "metadata": {},
     "output_type": "execute_result"
    }
   ],
   "source": [
    "a3[2,1:,1:]"
   ]
  },
  {
   "cell_type": "code",
   "execution_count": 201,
   "id": "8693a818",
   "metadata": {},
   "outputs": [
    {
     "data": {
      "text/plain": [
       "array([[[ 0,  1,  2],\n",
       "        [ 3,  4,  5],\n",
       "        [ 6,  7,  8]],\n",
       "\n",
       "       [[ 9, 10, 11],\n",
       "        [12, 13, 14],\n",
       "        [15, 16, 17]],\n",
       "\n",
       "       [[18, 19, 20],\n",
       "        [21, 22, 23],\n",
       "        [24, 25, 26]]])"
      ]
     },
     "execution_count": 201,
     "metadata": {},
     "output_type": "execute_result"
    }
   ],
   "source": [
    "a3"
   ]
  },
  {
   "cell_type": "code",
   "execution_count": 203,
   "id": "1dc3e394",
   "metadata": {},
   "outputs": [
    {
     "data": {
      "text/plain": [
       "array([[ 0,  2],\n",
       "       [18, 20]])"
      ]
     },
     "execution_count": 203,
     "metadata": {},
     "output_type": "execute_result"
    }
   ],
   "source": [
    "a3[::2,0,::2]"
   ]
  },
  {
   "cell_type": "code",
   "execution_count": 204,
   "id": "e38cb039",
   "metadata": {},
   "outputs": [
    {
     "name": "stdout",
     "output_type": "stream",
     "text": [
      "0\n",
      "1\n",
      "2\n",
      "3\n",
      "4\n",
      "5\n",
      "6\n",
      "7\n",
      "8\n",
      "9\n"
     ]
    }
   ],
   "source": [
    "for i in a1:\n",
    "    print(i)"
   ]
  },
  {
   "cell_type": "code",
   "execution_count": 205,
   "id": "da682630",
   "metadata": {},
   "outputs": [
    {
     "name": "stdout",
     "output_type": "stream",
     "text": [
      "[0 1 2 3 4 5 6 7 8 9]\n"
     ]
    }
   ],
   "source": [
    "print(a1)"
   ]
  },
  {
   "cell_type": "code",
   "execution_count": 206,
   "id": "db2ff752",
   "metadata": {},
   "outputs": [
    {
     "name": "stdout",
     "output_type": "stream",
     "text": [
      "[0 1 2 3]\n",
      "[4 5 6 7]\n",
      "[ 8  9 10 11]\n"
     ]
    }
   ],
   "source": [
    "for i in a2:\n",
    "    print(i)"
   ]
  },
  {
   "cell_type": "code",
   "execution_count": 207,
   "id": "570c284d",
   "metadata": {},
   "outputs": [
    {
     "name": "stdout",
     "output_type": "stream",
     "text": [
      "0\n",
      "1\n",
      "2\n",
      "3\n",
      "4\n",
      "5\n",
      "6\n",
      "7\n",
      "8\n",
      "9\n",
      "10\n",
      "11\n",
      "12\n",
      "13\n",
      "14\n",
      "15\n",
      "16\n",
      "17\n",
      "18\n",
      "19\n",
      "20\n",
      "21\n",
      "22\n",
      "23\n",
      "24\n",
      "25\n",
      "26\n"
     ]
    }
   ],
   "source": [
    "for i in np.nditer(a3):\n",
    "    print(i)"
   ]
  },
  {
   "cell_type": "code",
   "execution_count": 208,
   "id": "aa5a9ba4",
   "metadata": {},
   "outputs": [
    {
     "name": "stdout",
     "output_type": "stream",
     "text": [
      "[[0 1 2]\n",
      " [3 4 5]\n",
      " [6 7 8]]\n",
      "[[ 9 10 11]\n",
      " [12 13 14]\n",
      " [15 16 17]]\n",
      "[[18 19 20]\n",
      " [21 22 23]\n",
      " [24 25 26]]\n"
     ]
    }
   ],
   "source": [
    "for i in a3:\n",
    "    print(i)"
   ]
  },
  {
   "cell_type": "code",
   "execution_count": 209,
   "id": "52606aee",
   "metadata": {},
   "outputs": [
    {
     "name": "stdout",
     "output_type": "stream",
     "text": [
      "0\n",
      "1\n",
      "2\n",
      "3\n",
      "4\n",
      "5\n",
      "6\n",
      "7\n",
      "8\n",
      "9\n",
      "10\n",
      "11\n",
      "12\n",
      "13\n",
      "14\n",
      "15\n",
      "16\n",
      "17\n",
      "18\n",
      "19\n",
      "20\n",
      "21\n",
      "22\n",
      "23\n",
      "24\n",
      "25\n",
      "26\n"
     ]
    }
   ],
   "source": [
    "for i in np.nditer(a3):\n",
    "    print(i)"
   ]
  },
  {
   "cell_type": "code",
   "execution_count": 210,
   "id": "d4ab1b63",
   "metadata": {},
   "outputs": [
    {
     "data": {
      "text/plain": [
       "array([[[ 0,  9, 18],\n",
       "        [ 3, 12, 21],\n",
       "        [ 6, 15, 24]],\n",
       "\n",
       "       [[ 1, 10, 19],\n",
       "        [ 4, 13, 22],\n",
       "        [ 7, 16, 25]],\n",
       "\n",
       "       [[ 2, 11, 20],\n",
       "        [ 5, 14, 23],\n",
       "        [ 8, 17, 26]]])"
      ]
     },
     "execution_count": 210,
     "metadata": {},
     "output_type": "execute_result"
    }
   ],
   "source": [
    "np.transpose(a3)"
   ]
  },
  {
   "cell_type": "code",
   "execution_count": 211,
   "id": "7a5ec2be",
   "metadata": {},
   "outputs": [
    {
     "data": {
      "text/plain": [
       "array([[[ 0,  1,  2],\n",
       "        [ 3,  4,  5],\n",
       "        [ 6,  7,  8]],\n",
       "\n",
       "       [[ 9, 10, 11],\n",
       "        [12, 13, 14],\n",
       "        [15, 16, 17]],\n",
       "\n",
       "       [[18, 19, 20],\n",
       "        [21, 22, 23],\n",
       "        [24, 25, 26]]])"
      ]
     },
     "execution_count": 211,
     "metadata": {},
     "output_type": "execute_result"
    }
   ],
   "source": [
    "a3"
   ]
  },
  {
   "cell_type": "code",
   "execution_count": 212,
   "id": "15a3b583",
   "metadata": {},
   "outputs": [
    {
     "data": {
      "text/plain": [
       "array([[ 0,  1,  2,  3],\n",
       "       [ 4,  5,  6,  7],\n",
       "       [ 8,  9, 10, 11]])"
      ]
     },
     "execution_count": 212,
     "metadata": {},
     "output_type": "execute_result"
    }
   ],
   "source": [
    "a2"
   ]
  },
  {
   "cell_type": "code",
   "execution_count": 214,
   "id": "4def75b7",
   "metadata": {},
   "outputs": [
    {
     "data": {
      "text/plain": [
       "array([ 0,  1,  2,  3,  4,  5,  6,  7,  8,  9, 10, 11])"
      ]
     },
     "execution_count": 214,
     "metadata": {},
     "output_type": "execute_result"
    }
   ],
   "source": [
    "a2.ravel()"
   ]
  },
  {
   "cell_type": "code",
   "execution_count": 215,
   "id": "b520b7ed",
   "metadata": {},
   "outputs": [
    {
     "data": {
      "text/plain": [
       "array([[ 0,  1,  2,  3],\n",
       "       [ 4,  5,  6,  7],\n",
       "       [ 8,  9, 10, 11]])"
      ]
     },
     "execution_count": 215,
     "metadata": {},
     "output_type": "execute_result"
    }
   ],
   "source": [
    "a2"
   ]
  },
  {
   "cell_type": "code",
   "execution_count": 216,
   "id": "cc00747e",
   "metadata": {},
   "outputs": [
    {
     "data": {
      "text/plain": [
       "array([ 0,  1,  2,  3,  4,  5,  6,  7,  8,  9, 10, 11, 12, 13, 14, 15, 16,\n",
       "       17, 18, 19, 20, 21, 22, 23, 24, 25, 26])"
      ]
     },
     "execution_count": 216,
     "metadata": {},
     "output_type": "execute_result"
    }
   ],
   "source": [
    "np.ravel(a3)"
   ]
  },
  {
   "cell_type": "code",
   "execution_count": 217,
   "id": "e55b5cd7",
   "metadata": {},
   "outputs": [
    {
     "data": {
      "text/plain": [
       "array([ 0,  1,  2,  3,  4,  5,  6,  7,  8,  9, 10, 11, 12, 13, 14, 15, 16,\n",
       "       17, 18, 19, 20, 21, 22, 23, 24, 25, 26])"
      ]
     },
     "execution_count": 217,
     "metadata": {},
     "output_type": "execute_result"
    }
   ],
   "source": [
    "a3.flatten()"
   ]
  },
  {
   "cell_type": "code",
   "execution_count": 218,
   "id": "719ad7e9",
   "metadata": {},
   "outputs": [
    {
     "data": {
      "text/plain": [
       "array([[ 0,  1,  2,  3],\n",
       "       [ 4,  5,  6,  7],\n",
       "       [ 8,  9, 10, 11]])"
      ]
     },
     "execution_count": 218,
     "metadata": {},
     "output_type": "execute_result"
    }
   ],
   "source": [
    "arr1"
   ]
  },
  {
   "cell_type": "code",
   "execution_count": 219,
   "id": "514f00c2",
   "metadata": {},
   "outputs": [
    {
     "data": {
      "text/plain": [
       "array([[12, 13, 14, 15],\n",
       "       [16, 17, 18, 19],\n",
       "       [20, 21, 22, 23]])"
      ]
     },
     "execution_count": 219,
     "metadata": {},
     "output_type": "execute_result"
    }
   ],
   "source": [
    "arr2"
   ]
  },
  {
   "cell_type": "code",
   "execution_count": 223,
   "id": "31e294ea",
   "metadata": {},
   "outputs": [],
   "source": [
    "arr_h = np.hstack((arr1,arr2))"
   ]
  },
  {
   "cell_type": "code",
   "execution_count": 222,
   "id": "52a28575",
   "metadata": {},
   "outputs": [],
   "source": [
    "arr_v = np.vstack((arr_1,arr2))"
   ]
  },
  {
   "cell_type": "code",
   "execution_count": 224,
   "id": "32373208",
   "metadata": {},
   "outputs": [
    {
     "data": {
      "text/plain": [
       "array([[ 0,  1,  2,  3, 12, 13, 14, 15],\n",
       "       [ 4,  5,  6,  7, 16, 17, 18, 19],\n",
       "       [ 8,  9, 10, 11, 20, 21, 22, 23]])"
      ]
     },
     "execution_count": 224,
     "metadata": {},
     "output_type": "execute_result"
    }
   ],
   "source": [
    "arr_h"
   ]
  },
  {
   "cell_type": "code",
   "execution_count": 225,
   "id": "d5b4e901",
   "metadata": {},
   "outputs": [
    {
     "data": {
      "text/plain": [
       "array([[ 0,  1,  2,  3],\n",
       "       [ 4,  5,  6,  7],\n",
       "       [ 8,  9, 10, 11],\n",
       "       [12, 13, 14, 15],\n",
       "       [16, 17, 18, 19],\n",
       "       [20, 21, 22, 23]], dtype=int64)"
      ]
     },
     "execution_count": 225,
     "metadata": {},
     "output_type": "execute_result"
    }
   ],
   "source": [
    "arr_v"
   ]
  },
  {
   "cell_type": "code",
   "execution_count": 228,
   "id": "3f56a949",
   "metadata": {},
   "outputs": [],
   "source": [
    "arr_hs = np.hsplit(arr_h,4)"
   ]
  },
  {
   "cell_type": "code",
   "execution_count": 229,
   "id": "aaa8db93",
   "metadata": {},
   "outputs": [
    {
     "data": {
      "text/plain": [
       "[array([[0, 1],\n",
       "        [4, 5],\n",
       "        [8, 9]]),\n",
       " array([[ 2,  3],\n",
       "        [ 6,  7],\n",
       "        [10, 11]]),\n",
       " array([[12, 13],\n",
       "        [16, 17],\n",
       "        [20, 21]]),\n",
       " array([[14, 15],\n",
       "        [18, 19],\n",
       "        [22, 23]])]"
      ]
     },
     "execution_count": 229,
     "metadata": {},
     "output_type": "execute_result"
    }
   ],
   "source": [
    "arr_hs"
   ]
  },
  {
   "cell_type": "code",
   "execution_count": 232,
   "id": "ecf1052d",
   "metadata": {},
   "outputs": [
    {
     "data": {
      "text/plain": [
       "list"
      ]
     },
     "execution_count": 232,
     "metadata": {},
     "output_type": "execute_result"
    }
   ],
   "source": [
    "type(arr_hs)"
   ]
  },
  {
   "cell_type": "code",
   "execution_count": 233,
   "id": "929abc0f",
   "metadata": {},
   "outputs": [],
   "source": [
    "arr_vs = np.vsplit(arr_v,2)"
   ]
  },
  {
   "cell_type": "code",
   "execution_count": 234,
   "id": "56ec37d2",
   "metadata": {},
   "outputs": [
    {
     "data": {
      "text/plain": [
       "[array([[ 0,  1,  2,  3],\n",
       "        [ 4,  5,  6,  7],\n",
       "        [ 8,  9, 10, 11]], dtype=int64),\n",
       " array([[12, 13, 14, 15],\n",
       "        [16, 17, 18, 19],\n",
       "        [20, 21, 22, 23]], dtype=int64)]"
      ]
     },
     "execution_count": 234,
     "metadata": {},
     "output_type": "execute_result"
    }
   ],
   "source": [
    "arr_vs"
   ]
  },
  {
   "cell_type": "code",
   "execution_count": 236,
   "id": "3016f0f2",
   "metadata": {},
   "outputs": [],
   "source": [
    "a = [i for i in range(10000000)]"
   ]
  },
  {
   "cell_type": "code",
   "execution_count": 237,
   "id": "c75895e3",
   "metadata": {},
   "outputs": [],
   "source": [
    "b = [i for i in range(10000000,20000000)]"
   ]
  },
  {
   "cell_type": "code",
   "execution_count": 241,
   "id": "43ab3aa6",
   "metadata": {},
   "outputs": [
    {
     "name": "stdout",
     "output_type": "stream",
     "text": [
      "1.563040018081665\n"
     ]
    }
   ],
   "source": [
    "c = []\n",
    "import time\n",
    "start = time.time()\n",
    "for i in range(len(a)):\n",
    "    c.append(a[i]+b[i])\n",
    "    \n",
    "total_time_list = time.time()-start\n",
    "print(total_time_list)"
   ]
  },
  {
   "cell_type": "code",
   "execution_count": 242,
   "id": "5e335b42",
   "metadata": {},
   "outputs": [
    {
     "name": "stdout",
     "output_type": "stream",
     "text": [
      "0.014033794403076172\n"
     ]
    }
   ],
   "source": [
    "a_x = np.arange(10000000)\n",
    "b_x =  np.arange(10000000,20000000)\n",
    "start = time.time()\n",
    "c_x = a_x + b_x\n",
    "total_time_np = time.time()-start\n",
    "print(total_time_np)"
   ]
  },
  {
   "cell_type": "code",
   "execution_count": 243,
   "id": "ee4538c0",
   "metadata": {},
   "outputs": [
    {
     "data": {
      "text/plain": [
       "111.37686453059699"
      ]
     },
     "execution_count": 243,
     "metadata": {},
     "output_type": "execute_result"
    }
   ],
   "source": [
    "total_time_list/total_time_np"
   ]
  },
  {
   "cell_type": "code",
   "execution_count": 244,
   "id": "aef56f6a",
   "metadata": {},
   "outputs": [],
   "source": [
    "import sys"
   ]
  },
  {
   "cell_type": "code",
   "execution_count": 248,
   "id": "25b88d7f",
   "metadata": {},
   "outputs": [
    {
     "name": "stdout",
     "output_type": "stream",
     "text": [
      "89095160\n",
      "80000112\n",
      "40000112\n"
     ]
    }
   ],
   "source": [
    "a = [i for i in range(10000000)]\n",
    "b = np.arange(10000000,dtype = 'int64')\n",
    "c = np.arange(10000000,dtype = 'int32')\n",
    "print(sys.getsizeof(a))\n",
    "print(sys.getsizeof(b))\n",
    "print(sys.getsizeof(c))\n"
   ]
  },
  {
   "cell_type": "code",
   "execution_count": 249,
   "id": "53d92a23",
   "metadata": {},
   "outputs": [],
   "source": [
    "d = np.arange(10000000,dtype = 'int8')"
   ]
  },
  {
   "cell_type": "code",
   "execution_count": 254,
   "id": "05bbd393",
   "metadata": {},
   "outputs": [],
   "source": [
    "d = d.reshape(100000,100)"
   ]
  },
  {
   "cell_type": "code",
   "execution_count": 261,
   "id": "ed8d30d6",
   "metadata": {},
   "outputs": [
    {
     "data": {
      "text/plain": [
       "array([  80,   81,   82,   83,   84,   85,   86,   87,   88,   89,   90,\n",
       "         91,   92,   93,   94,   95,   96,   97,   98,   99,  100,  101,\n",
       "        102,  103,  104,  105,  106,  107,  108,  109,  110,  111,  112,\n",
       "        113,  114,  115,  116,  117,  118,  119,  120,  121,  122,  123,\n",
       "        124,  125,  126,  127, -128, -127, -126, -125, -124, -123, -122,\n",
       "       -121, -120, -119, -118, -117, -116, -115, -114, -113, -112, -111,\n",
       "       -110, -109, -108, -107, -106, -105, -104, -103, -102, -101, -100,\n",
       "        -99,  -98,  -97,  -96,  -95,  -94,  -93,  -92,  -91,  -90,  -89,\n",
       "        -88,  -87,  -86,  -85,  -84,  -83,  -82,  -81,  -80,  -79,  -78,\n",
       "        -77], dtype=int8)"
      ]
     },
     "execution_count": 261,
     "metadata": {},
     "output_type": "execute_result"
    }
   ],
   "source": [
    "d[1012]"
   ]
  },
  {
   "cell_type": "code",
   "execution_count": 262,
   "id": "818ccf45",
   "metadata": {},
   "outputs": [],
   "source": [
    "# fancy indexing\n",
    "a = np.arange(12).reshape((4,3))"
   ]
  },
  {
   "cell_type": "code",
   "execution_count": 263,
   "id": "bc7cda80",
   "metadata": {},
   "outputs": [
    {
     "data": {
      "text/plain": [
       "array([[ 0,  1,  2],\n",
       "       [ 3,  4,  5],\n",
       "       [ 6,  7,  8],\n",
       "       [ 9, 10, 11]])"
      ]
     },
     "execution_count": 263,
     "metadata": {},
     "output_type": "execute_result"
    }
   ],
   "source": [
    "a"
   ]
  },
  {
   "cell_type": "code",
   "execution_count": 266,
   "id": "555f83a7",
   "metadata": {},
   "outputs": [
    {
     "data": {
      "text/plain": [
       "array([[ 0,  1,  2],\n",
       "       [ 3,  4,  5],\n",
       "       [ 9, 10, 11]])"
      ]
     },
     "execution_count": 266,
     "metadata": {},
     "output_type": "execute_result"
    }
   ],
   "source": [
    "a[[0,1,3]]"
   ]
  },
  {
   "cell_type": "code",
   "execution_count": 267,
   "id": "56e8766e",
   "metadata": {},
   "outputs": [],
   "source": [
    "a = np.arange(24).reshape((6,4))"
   ]
  },
  {
   "cell_type": "code",
   "execution_count": 268,
   "id": "00e67302",
   "metadata": {},
   "outputs": [
    {
     "data": {
      "text/plain": [
       "array([[ 0,  1,  2,  3],\n",
       "       [ 4,  5,  6,  7],\n",
       "       [ 8,  9, 10, 11],\n",
       "       [12, 13, 14, 15],\n",
       "       [16, 17, 18, 19],\n",
       "       [20, 21, 22, 23]])"
      ]
     },
     "execution_count": 268,
     "metadata": {},
     "output_type": "execute_result"
    }
   ],
   "source": [
    "a"
   ]
  },
  {
   "cell_type": "code",
   "execution_count": 269,
   "id": "2ef84453",
   "metadata": {},
   "outputs": [
    {
     "data": {
      "text/plain": [
       "array([[ 0,  1,  2,  3],\n",
       "       [ 8,  9, 10, 11],\n",
       "       [12, 13, 14, 15],\n",
       "       [20, 21, 22, 23]])"
      ]
     },
     "execution_count": 269,
     "metadata": {},
     "output_type": "execute_result"
    }
   ],
   "source": [
    "a[[0,2,3,5]]"
   ]
  },
  {
   "cell_type": "code",
   "execution_count": 270,
   "id": "894337d8",
   "metadata": {},
   "outputs": [
    {
     "data": {
      "text/plain": [
       "array([[ 0,  2,  3],\n",
       "       [ 4,  6,  7],\n",
       "       [ 8, 10, 11],\n",
       "       [12, 14, 15],\n",
       "       [16, 18, 19],\n",
       "       [20, 22, 23]])"
      ]
     },
     "execution_count": 270,
     "metadata": {},
     "output_type": "execute_result"
    }
   ],
   "source": [
    "a[:,[0,2,3]]"
   ]
  },
  {
   "cell_type": "code",
   "execution_count": 271,
   "id": "36d743b1",
   "metadata": {},
   "outputs": [],
   "source": [
    "# boolean indexing \n",
    "import numpy as np\n",
    "a = np.random.randint(1,100,24).reshape((6,4))"
   ]
  },
  {
   "cell_type": "code",
   "execution_count": 272,
   "id": "6fd34c74",
   "metadata": {},
   "outputs": [
    {
     "data": {
      "text/plain": [
       "array([[11, 19, 14, 64],\n",
       "       [90, 20, 84,  7],\n",
       "       [14, 11, 90, 13],\n",
       "       [42, 80, 82, 60],\n",
       "       [63, 16, 29, 96],\n",
       "       [11, 48, 58, 51]])"
      ]
     },
     "execution_count": 272,
     "metadata": {},
     "output_type": "execute_result"
    }
   ],
   "source": [
    "a"
   ]
  },
  {
   "cell_type": "code",
   "execution_count": 273,
   "id": "ffae3382",
   "metadata": {},
   "outputs": [
    {
     "data": {
      "text/plain": [
       "array([64, 90, 84, 90, 80, 82, 60, 63, 96, 58, 51])"
      ]
     },
     "execution_count": 273,
     "metadata": {},
     "output_type": "execute_result"
    }
   ],
   "source": [
    "a[a > 50]"
   ]
  },
  {
   "cell_type": "code",
   "execution_count": 274,
   "id": "e08434e2",
   "metadata": {},
   "outputs": [
    {
     "data": {
      "text/plain": [
       "array([[False, False, False,  True],\n",
       "       [ True, False,  True, False],\n",
       "       [False, False,  True, False],\n",
       "       [False,  True,  True,  True],\n",
       "       [ True, False, False,  True],\n",
       "       [False, False,  True,  True]])"
      ]
     },
     "execution_count": 274,
     "metadata": {},
     "output_type": "execute_result"
    }
   ],
   "source": [
    "a > 50"
   ]
  },
  {
   "cell_type": "code",
   "execution_count": 280,
   "id": "576f724c",
   "metadata": {},
   "outputs": [
    {
     "data": {
      "text/plain": [
       "array([64, 90, 84, 90, 80, 82, 60, 96, 58])"
      ]
     },
     "execution_count": 280,
     "metadata": {},
     "output_type": "execute_result"
    }
   ],
   "source": [
    "a[(a > 50) & (a%2 == 0)]"
   ]
  },
  {
   "cell_type": "code",
   "execution_count": 284,
   "id": "c8191b7b",
   "metadata": {},
   "outputs": [
    {
     "data": {
      "text/plain": [
       "array([11, 19, 64, 90, 20, 11, 90, 13, 80, 82, 60, 16, 29, 96, 11, 48, 58,\n",
       "       51])"
      ]
     },
     "execution_count": 284,
     "metadata": {},
     "output_type": "execute_result"
    }
   ],
   "source": [
    "a[a%7 != 0]"
   ]
  },
  {
   "cell_type": "code",
   "execution_count": 285,
   "id": "778e06d2",
   "metadata": {},
   "outputs": [],
   "source": [
    "a = np.arange(6).reshape((2,3))\n",
    "b = np.arange(3).reshape((1,3))"
   ]
  },
  {
   "cell_type": "code",
   "execution_count": 286,
   "id": "4478528c",
   "metadata": {},
   "outputs": [
    {
     "data": {
      "text/plain": [
       "array([[0, 1, 2],\n",
       "       [3, 4, 5]])"
      ]
     },
     "execution_count": 286,
     "metadata": {},
     "output_type": "execute_result"
    }
   ],
   "source": [
    "a "
   ]
  },
  {
   "cell_type": "code",
   "execution_count": 287,
   "id": "9f283ebd",
   "metadata": {},
   "outputs": [
    {
     "data": {
      "text/plain": [
       "array([[0, 1, 2]])"
      ]
     },
     "execution_count": 287,
     "metadata": {},
     "output_type": "execute_result"
    }
   ],
   "source": [
    "b"
   ]
  },
  {
   "cell_type": "code",
   "execution_count": 288,
   "id": "0c861fe8",
   "metadata": {},
   "outputs": [
    {
     "data": {
      "text/plain": [
       "array([[0, 2, 4],\n",
       "       [3, 5, 7]])"
      ]
     },
     "execution_count": 288,
     "metadata": {},
     "output_type": "execute_result"
    }
   ],
   "source": [
    "a + b"
   ]
  },
  {
   "cell_type": "code",
   "execution_count": 292,
   "id": "0b997368",
   "metadata": {},
   "outputs": [],
   "source": [
    "a = np.arange(3)"
   ]
  },
  {
   "cell_type": "code",
   "execution_count": 293,
   "id": "7655d5e6",
   "metadata": {},
   "outputs": [
    {
     "data": {
      "text/plain": [
       "array([0, 1, 2])"
      ]
     },
     "execution_count": 293,
     "metadata": {},
     "output_type": "execute_result"
    }
   ],
   "source": [
    "a"
   ]
  },
  {
   "cell_type": "code",
   "execution_count": 294,
   "id": "b712a68f",
   "metadata": {},
   "outputs": [],
   "source": [
    "a = np.arange(3).reshape((1,3))"
   ]
  },
  {
   "cell_type": "code",
   "execution_count": 295,
   "id": "d343d52b",
   "metadata": {},
   "outputs": [
    {
     "data": {
      "text/plain": [
       "array([[0, 1, 2]])"
      ]
     },
     "execution_count": 295,
     "metadata": {},
     "output_type": "execute_result"
    }
   ],
   "source": [
    "a"
   ]
  },
  {
   "cell_type": "code",
   "execution_count": 296,
   "id": "941c52e8",
   "metadata": {},
   "outputs": [
    {
     "data": {
      "text/plain": [
       "(1, 3)"
      ]
     },
     "execution_count": 296,
     "metadata": {},
     "output_type": "execute_result"
    }
   ],
   "source": [
    "a.shape"
   ]
  },
  {
   "cell_type": "code",
   "execution_count": 297,
   "id": "982dce8d",
   "metadata": {},
   "outputs": [
    {
     "data": {
      "text/plain": [
       "2"
      ]
     },
     "execution_count": 297,
     "metadata": {},
     "output_type": "execute_result"
    }
   ],
   "source": [
    "a.ndim"
   ]
  },
  {
   "cell_type": "code",
   "execution_count": 298,
   "id": "ab4cc324",
   "metadata": {},
   "outputs": [],
   "source": [
    "a = np.arange(12).reshape((4,3))\n",
    "b = np.arange(3)"
   ]
  },
  {
   "cell_type": "code",
   "execution_count": 299,
   "id": "92d1a371",
   "metadata": {},
   "outputs": [
    {
     "data": {
      "text/plain": [
       "array([[ 0,  1,  2],\n",
       "       [ 3,  4,  5],\n",
       "       [ 6,  7,  8],\n",
       "       [ 9, 10, 11]])"
      ]
     },
     "execution_count": 299,
     "metadata": {},
     "output_type": "execute_result"
    }
   ],
   "source": [
    "a "
   ]
  },
  {
   "cell_type": "code",
   "execution_count": 300,
   "id": "03ebf863",
   "metadata": {},
   "outputs": [
    {
     "data": {
      "text/plain": [
       "array([0, 1, 2])"
      ]
     },
     "execution_count": 300,
     "metadata": {},
     "output_type": "execute_result"
    }
   ],
   "source": [
    "b"
   ]
  },
  {
   "cell_type": "code",
   "execution_count": 301,
   "id": "d5e8f1ec",
   "metadata": {},
   "outputs": [
    {
     "data": {
      "text/plain": [
       "array([[ 0,  2,  4],\n",
       "       [ 3,  5,  7],\n",
       "       [ 6,  8, 10],\n",
       "       [ 9, 11, 13]])"
      ]
     },
     "execution_count": 301,
     "metadata": {},
     "output_type": "execute_result"
    }
   ],
   "source": [
    "a + b"
   ]
  },
  {
   "cell_type": "code",
   "execution_count": 302,
   "id": "cb7de476",
   "metadata": {},
   "outputs": [
    {
     "ename": "ValueError",
     "evalue": "operands could not be broadcast together with shapes (3,4) (3,) ",
     "output_type": "error",
     "traceback": [
      "\u001b[1;31m---------------------------------------------------------------------------\u001b[0m",
      "\u001b[1;31mValueError\u001b[0m                                Traceback (most recent call last)",
      "Cell \u001b[1;32mIn[302], line 3\u001b[0m\n\u001b[0;32m      1\u001b[0m a \u001b[38;5;241m=\u001b[39m np\u001b[38;5;241m.\u001b[39marange(\u001b[38;5;241m12\u001b[39m)\u001b[38;5;241m.\u001b[39mreshape((\u001b[38;5;241m3\u001b[39m,\u001b[38;5;241m4\u001b[39m))\n\u001b[0;32m      2\u001b[0m b \u001b[38;5;241m=\u001b[39m np\u001b[38;5;241m.\u001b[39marange(\u001b[38;5;241m3\u001b[39m)\n\u001b[1;32m----> 3\u001b[0m a \u001b[38;5;241m+\u001b[39m b\n",
      "\u001b[1;31mValueError\u001b[0m: operands could not be broadcast together with shapes (3,4) (3,) "
     ]
    }
   ],
   "source": [
    "a = np.arange(12).reshape((3,4))\n",
    "b = np.arange(3)\n",
    "a + b"
   ]
  },
  {
   "cell_type": "code",
   "execution_count": 303,
   "id": "e66ce9e3",
   "metadata": {},
   "outputs": [],
   "source": [
    "a = np.arange(3).reshape((1,3))\n",
    "b = np.arange(3).reshape((3,1))"
   ]
  },
  {
   "cell_type": "code",
   "execution_count": 305,
   "id": "f1b5ed85",
   "metadata": {},
   "outputs": [
    {
     "data": {
      "text/plain": [
       "array([[0, 1, 2]])"
      ]
     },
     "execution_count": 305,
     "metadata": {},
     "output_type": "execute_result"
    }
   ],
   "source": [
    "a"
   ]
  },
  {
   "cell_type": "code",
   "execution_count": 306,
   "id": "703ff5f0",
   "metadata": {},
   "outputs": [
    {
     "data": {
      "text/plain": [
       "array([[0],\n",
       "       [1],\n",
       "       [2]])"
      ]
     },
     "execution_count": 306,
     "metadata": {},
     "output_type": "execute_result"
    }
   ],
   "source": [
    "b"
   ]
  },
  {
   "cell_type": "code",
   "execution_count": 307,
   "id": "3836f895",
   "metadata": {},
   "outputs": [
    {
     "data": {
      "text/plain": [
       "array([[0, 1, 2],\n",
       "       [1, 2, 3],\n",
       "       [2, 3, 4]])"
      ]
     },
     "execution_count": 307,
     "metadata": {},
     "output_type": "execute_result"
    }
   ],
   "source": [
    "a+b"
   ]
  },
  {
   "cell_type": "code",
   "execution_count": 308,
   "id": "11f0ff93",
   "metadata": {},
   "outputs": [
    {
     "data": {
      "text/plain": [
       "array([[0, 1, 2],\n",
       "       [1, 2, 3],\n",
       "       [2, 3, 4],\n",
       "       [3, 4, 5]])"
      ]
     },
     "execution_count": 308,
     "metadata": {},
     "output_type": "execute_result"
    }
   ],
   "source": [
    "a = np.arange(3).reshape((1,3))\n",
    "b = np.arange(4).reshape((4,1))\n",
    "a + b"
   ]
  },
  {
   "cell_type": "code",
   "execution_count": 309,
   "id": "b1041384",
   "metadata": {},
   "outputs": [],
   "source": [
    "# working with mathematical formulas "
   ]
  },
  {
   "cell_type": "code",
   "execution_count": 311,
   "id": "fe3c71e6",
   "metadata": {},
   "outputs": [
    {
     "data": {
      "text/plain": [
       "array([[0.5       , 0.73105858, 0.88079708, 0.95257413, 0.98201379,\n",
       "        0.99330715, 0.99752738, 0.99908895, 0.99966465, 0.99987661]])"
      ]
     },
     "execution_count": 311,
     "metadata": {},
     "output_type": "execute_result"
    }
   ],
   "source": [
    "a = np.arange(10).reshape((1,10))\n",
    "def sigmoid(arr):\n",
    "    return np.exp(a)/(1 + np.exp(a))\n",
    "\n",
    "sigmoid(a)"
   ]
  },
  {
   "cell_type": "code",
   "execution_count": 313,
   "id": "1870390b",
   "metadata": {},
   "outputs": [
    {
     "data": {
      "text/plain": [
       "array([[0.5       , 0.73105858, 0.88079708, 0.95257413, 0.98201379,\n",
       "        0.99330715, 0.99752738, 0.99908895, 0.99966465, 0.99987661]])"
      ]
     },
     "execution_count": 313,
     "metadata": {},
     "output_type": "execute_result"
    }
   ],
   "source": [
    "a = np.arange(10).reshape((1,10))\n",
    "def sigmoid1(arr):\n",
    "    return 1/(1 + np.exp(-(arr)))\n",
    "\n",
    "sigmoid1(a)"
   ]
  },
  {
   "cell_type": "code",
   "execution_count": 315,
   "id": "1f06730d",
   "metadata": {},
   "outputs": [
    {
     "name": "stdout",
     "output_type": "stream",
     "text": [
      "[ 169    9    9  441  324   81   16 1089   16  625  100  196  100    9\n",
      "  100  900 1521  169   49 1444   36  841  361    9   25]\n",
      "345.56\n"
     ]
    }
   ],
   "source": [
    "# loss function\n",
    "actual = np.random.randint(1,50,25)\n",
    "predicted = np.random.randint(1,50,25)\n",
    "error = np.square(predicted-actual)\n",
    "print(error)\n",
    "\n",
    "mse = np.mean(error)\n",
    "print(mse)"
   ]
  },
  {
   "cell_type": "code",
   "execution_count": 316,
   "id": "1be74bd5",
   "metadata": {},
   "outputs": [
    {
     "data": {
      "text/plain": [
       "345.56"
      ]
     },
     "execution_count": 316,
     "metadata": {},
     "output_type": "execute_result"
    }
   ],
   "source": [
    "def mse(act,pred):\n",
    "    return np.mean((act - pred)**2)\n",
    "mse(actual,predicted)"
   ]
  },
  {
   "cell_type": "code",
   "execution_count": 317,
   "id": "cf484b5d",
   "metadata": {},
   "outputs": [],
   "source": [
    "# working with missing values np.nan\n",
    "a = np.array([1,2,3,np.nan,5,6])"
   ]
  },
  {
   "cell_type": "code",
   "execution_count": 318,
   "id": "19f95bf1",
   "metadata": {},
   "outputs": [
    {
     "data": {
      "text/plain": [
       "array([ 1.,  2.,  3., nan,  5.,  6.])"
      ]
     },
     "execution_count": 318,
     "metadata": {},
     "output_type": "execute_result"
    }
   ],
   "source": [
    "a"
   ]
  },
  {
   "cell_type": "code",
   "execution_count": 321,
   "id": "b8738342",
   "metadata": {},
   "outputs": [
    {
     "data": {
      "text/plain": [
       "array([1., 2., 3., 5., 6.])"
      ]
     },
     "execution_count": 321,
     "metadata": {},
     "output_type": "execute_result"
    }
   ],
   "source": [
    "a[np.isnan(a) == False]"
   ]
  },
  {
   "cell_type": "code",
   "execution_count": 322,
   "id": "e64b3253",
   "metadata": {},
   "outputs": [],
   "source": [
    "# plotting graph\n",
    "x = np.linspace(-10,10,100)\n",
    "y = x\n",
    "import matplotlib.pyplot as plt"
   ]
  },
  {
   "cell_type": "code",
   "execution_count": 326,
   "id": "4652139a",
   "metadata": {},
   "outputs": [
    {
     "data": {
      "text/plain": [
       "[<matplotlib.lines.Line2D at 0x241804c1c10>]"
      ]
     },
     "execution_count": 326,
     "metadata": {},
     "output_type": "execute_result"
    },
    {
     "data": {
      "image/png": "[encoded data removed]",
      "text/plain": [
       "<Figure size 640x480 with 1 Axes>"
      ]
     },
     "metadata": {},
     "output_type": "display_data"
    }
   ],
   "source": [
    "plt.plot(x,y)"
   ]
  },
  {
   "cell_type": "code",
   "execution_count": 327,
   "id": "05ff0a9d",
   "metadata": {},
   "outputs": [],
   "source": [
    "x = np.linspace(-10,10,100)\n",
    "y = np.square(x)"
   ]
  },
  {
   "cell_type": "code",
   "execution_count": 328,
   "id": "765f6c46",
   "metadata": {},
   "outputs": [
    {
     "data": {
      "text/plain": [
       "[<matplotlib.lines.Line2D at 0x24180dba150>]"
      ]
     },
     "execution_count": 328,
     "metadata": {},
     "output_type": "execute_result"
    },
    {
     "data": {
      "image/png": "[encoded data removed]",
      "text/plain": [
       "<Figure size 640x480 with 1 Axes>"
      ]
     },
     "metadata": {},
     "output_type": "display_data"
    }
   ],
   "source": [
    "plt.plot(x,y)"
   ]
  },
  {
   "cell_type": "code",
   "execution_count": 329,
   "id": "bfd1613f",
   "metadata": {},
   "outputs": [
    {
     "data": {
      "text/plain": [
       "[<matplotlib.lines.Line2D at 0x24189c69e90>]"
      ]
     },
     "execution_count": 329,
     "metadata": {},
     "output_type": "execute_result"
    },
    {
     "data": {
      "image/png": "[encoded data removed]",
      "text/plain": [
       "<Figure size 640x480 with 1 Axes>"
      ]
     },
     "metadata": {},
     "output_type": "display_data"
    }
   ],
   "source": [
    "x = np.linspace(-10,10,100)\n",
    "y = 1/(1+np.exp(-x))\n",
    "plt.plot(x,y)"
   ]
  },
  {
   "cell_type": "code",
   "execution_count": 330,
   "id": "2e865d3a",
   "metadata": {},
   "outputs": [],
   "source": [
    "a = np.random.randint(1,100,15)"
   ]
  },
  {
   "cell_type": "code",
   "execution_count": 331,
   "id": "857192bb",
   "metadata": {},
   "outputs": [
    {
     "data": {
      "text/plain": [
       "array([16, 21, 23, 44, 46, 57, 62, 63, 73, 80, 83, 86, 86, 90, 93])"
      ]
     },
     "execution_count": 331,
     "metadata": {},
     "output_type": "execute_result"
    }
   ],
   "source": [
    "np.sort(a)"
   ]
  },
  {
   "cell_type": "code",
   "execution_count": 338,
   "id": "74bb3ade",
   "metadata": {},
   "outputs": [
    {
     "data": {
      "text/plain": [
       "array([93, 90, 86, 86, 83, 80, 73, 63, 62, 57, 46, 44, 23, 21, 16])"
      ]
     },
     "execution_count": 338,
     "metadata": {},
     "output_type": "execute_result"
    }
   ],
   "source": [
    "np.sort(a)[::-1]"
   ]
  },
  {
   "cell_type": "code",
   "execution_count": 334,
   "id": "6482a09e",
   "metadata": {},
   "outputs": [],
   "source": [
    "b = a.reshape((3,5))"
   ]
  },
  {
   "cell_type": "code",
   "execution_count": 335,
   "id": "64959cb2",
   "metadata": {},
   "outputs": [
    {
     "data": {
      "text/plain": [
       "array([[86, 83, 86, 80, 93],\n",
       "       [63, 90, 46, 57, 21],\n",
       "       [62, 73, 44, 16, 23]])"
      ]
     },
     "execution_count": 335,
     "metadata": {},
     "output_type": "execute_result"
    }
   ],
   "source": [
    "b"
   ]
  },
  {
   "cell_type": "code",
   "execution_count": 337,
   "id": "bb785355",
   "metadata": {},
   "outputs": [
    {
     "data": {
      "text/plain": [
       "array([[80, 83, 86, 86, 93],\n",
       "       [21, 46, 57, 63, 90],\n",
       "       [16, 23, 44, 62, 73]])"
      ]
     },
     "execution_count": 337,
     "metadata": {},
     "output_type": "execute_result"
    }
   ],
   "source": [
    "np.sort(b,axis = 1)"
   ]
  },
  {
   "cell_type": "code",
   "execution_count": 341,
   "id": "27002b50",
   "metadata": {},
   "outputs": [
    {
     "data": {
      "text/plain": [
       "array([[80, 83, 86, 86, 93],\n",
       "       [21, 46, 57, 63, 90],\n",
       "       [16, 23, 44, 62, 73]])"
      ]
     },
     "execution_count": 341,
     "metadata": {},
     "output_type": "execute_result"
    }
   ],
   "source": [
    "np.sort(b,axis = 1)"
   ]
  },
  {
   "cell_type": "code",
   "execution_count": 342,
   "id": "814e327f",
   "metadata": {},
   "outputs": [
    {
     "data": {
      "text/plain": [
       "array([ 86,  83,  86,  80,  93,  63,  90,  46,  57,  21,  62,  73,  44,\n",
       "        16,  23, 200])"
      ]
     },
     "execution_count": 342,
     "metadata": {},
     "output_type": "execute_result"
    }
   ],
   "source": [
    "# append\n",
    "np.append(a,200)"
   ]
  },
  {
   "cell_type": "code",
   "execution_count": 343,
   "id": "da333a80",
   "metadata": {},
   "outputs": [
    {
     "data": {
      "text/plain": [
       "array([86, 83, 86, 80, 93, 63, 90, 46, 57, 21, 62, 73, 44, 16, 23])"
      ]
     },
     "execution_count": 343,
     "metadata": {},
     "output_type": "execute_result"
    }
   ],
   "source": [
    "a"
   ]
  },
  {
   "cell_type": "code",
   "execution_count": 344,
   "id": "24828c5b",
   "metadata": {},
   "outputs": [
    {
     "data": {
      "text/plain": [
       "array([[86, 83, 86, 80, 93],\n",
       "       [63, 90, 46, 57, 21],\n",
       "       [62, 73, 44, 16, 23]])"
      ]
     },
     "execution_count": 344,
     "metadata": {},
     "output_type": "execute_result"
    }
   ],
   "source": [
    "b"
   ]
  },
  {
   "cell_type": "code",
   "execution_count": 346,
   "id": "6eb796ce",
   "metadata": {},
   "outputs": [
    {
     "data": {
      "text/plain": [
       "array([[86., 83., 86., 80., 93.,  1.],\n",
       "       [63., 90., 46., 57., 21.,  1.],\n",
       "       [62., 73., 44., 16., 23.,  1.]])"
      ]
     },
     "execution_count": 346,
     "metadata": {},
     "output_type": "execute_result"
    }
   ],
   "source": [
    "np.append(b,np.ones(3).reshape((3,1)),axis = 1)"
   ]
  },
  {
   "cell_type": "code",
   "execution_count": 347,
   "id": "1de705c8",
   "metadata": {},
   "outputs": [],
   "source": [
    "c = np.arange(6).reshape((3,2))\n",
    "d = np.arange(6,12).reshape((3,2))"
   ]
  },
  {
   "cell_type": "code",
   "execution_count": 349,
   "id": "72286960",
   "metadata": {},
   "outputs": [
    {
     "data": {
      "text/plain": [
       "array([[ 0,  1,  6,  7],\n",
       "       [ 2,  3,  8,  9],\n",
       "       [ 4,  5, 10, 11]])"
      ]
     },
     "execution_count": 349,
     "metadata": {},
     "output_type": "execute_result"
    }
   ],
   "source": [
    "np.concatenate((c,d),axis = 1)"
   ]
  },
  {
   "cell_type": "code",
   "execution_count": 350,
   "id": "bcc47deb",
   "metadata": {},
   "outputs": [
    {
     "data": {
      "text/plain": [
       "array([[0, 1],\n",
       "       [2, 3],\n",
       "       [4, 5]])"
      ]
     },
     "execution_count": 350,
     "metadata": {},
     "output_type": "execute_result"
    }
   ],
   "source": [
    "c"
   ]
  },
  {
   "cell_type": "code",
   "execution_count": 351,
   "id": "1fa1920e",
   "metadata": {},
   "outputs": [
    {
     "data": {
      "text/plain": [
       "array([[ 6,  7],\n",
       "       [ 8,  9],\n",
       "       [10, 11]])"
      ]
     },
     "execution_count": 351,
     "metadata": {},
     "output_type": "execute_result"
    }
   ],
   "source": [
    "d"
   ]
  },
  {
   "cell_type": "code",
   "execution_count": 352,
   "id": "3ff08915",
   "metadata": {},
   "outputs": [
    {
     "data": {
      "text/plain": [
       "array([[ 0,  1],\n",
       "       [ 2,  3],\n",
       "       [ 4,  5],\n",
       "       [ 6,  7],\n",
       "       [ 8,  9],\n",
       "       [10, 11]])"
      ]
     },
     "execution_count": 352,
     "metadata": {},
     "output_type": "execute_result"
    }
   ],
   "source": [
    "np.concatenate((c,d),axis = 0)"
   ]
  },
  {
   "cell_type": "code",
   "execution_count": 353,
   "id": "6929caab",
   "metadata": {},
   "outputs": [
    {
     "data": {
      "text/plain": [
       "array([ 0,  1,  2,  3,  4,  5,  6,  7,  8,  9, 10, 12])"
      ]
     },
     "execution_count": 353,
     "metadata": {},
     "output_type": "execute_result"
    }
   ],
   "source": [
    "np.unique(np.array([1,2,3,1,1,1,3,2,4,4,5,6,7,8,5,0,9,10,12,4,5,6,7,9,10,12]))"
   ]
  },
  {
   "cell_type": "code",
   "execution_count": 358,
   "id": "195b9d39",
   "metadata": {},
   "outputs": [
    {
     "data": {
      "text/plain": [
       "array([86, 83, 86, 80, 93, 63, 90, 46, 57, 21, 62, 73, 44, 16, 23])"
      ]
     },
     "execution_count": 358,
     "metadata": {},
     "output_type": "execute_result"
    }
   ],
   "source": [
    "a"
   ]
  },
  {
   "cell_type": "code",
   "execution_count": 359,
   "id": "b45354f8",
   "metadata": {},
   "outputs": [
    {
     "data": {
      "text/plain": [
       "array([[86],\n",
       "       [83],\n",
       "       [86],\n",
       "       [80],\n",
       "       [93],\n",
       "       [63],\n",
       "       [90],\n",
       "       [46],\n",
       "       [57],\n",
       "       [21],\n",
       "       [62],\n",
       "       [73],\n",
       "       [44],\n",
       "       [16],\n",
       "       [23]])"
      ]
     },
     "execution_count": 359,
     "metadata": {},
     "output_type": "execute_result"
    }
   ],
   "source": [
    "np.expand_dims(a,axis = 1)"
   ]
  },
  {
   "cell_type": "code",
   "execution_count": 360,
   "id": "9ee08068",
   "metadata": {},
   "outputs": [
    {
     "data": {
      "text/plain": [
       "array([86, 83, 86, 80, 93, 63, 90, 46, 57, 21, 62, 73, 44, 16, 23])"
      ]
     },
     "execution_count": 360,
     "metadata": {},
     "output_type": "execute_result"
    }
   ],
   "source": [
    "a"
   ]
  },
  {
   "cell_type": "code",
   "execution_count": 362,
   "id": "f0b6a68e",
   "metadata": {},
   "outputs": [
    {
     "data": {
      "text/plain": [
       "(array([0, 1, 2, 4, 6], dtype=int64),)"
      ]
     },
     "execution_count": 362,
     "metadata": {},
     "output_type": "execute_result"
    }
   ],
   "source": [
    "np.where(a>80)"
   ]
  },
  {
   "cell_type": "code",
   "execution_count": 363,
   "id": "f4838ae8",
   "metadata": {},
   "outputs": [
    {
     "data": {
      "text/plain": [
       "array([86, 83, 86, 80,  0, 63, 90, 46, 57, 21, 62, 73, 44, 16, 23])"
      ]
     },
     "execution_count": 363,
     "metadata": {},
     "output_type": "execute_result"
    }
   ],
   "source": [
    "np.where(a>90,0,a)"
   ]
  },
  {
   "cell_type": "code",
   "execution_count": 364,
   "id": "6dc34242",
   "metadata": {},
   "outputs": [
    {
     "data": {
      "text/plain": [
       "array([100,  83, 100, 100,  93,  63, 100, 100,  57,  21, 100,  73, 100,\n",
       "       100,  23])"
      ]
     },
     "execution_count": 364,
     "metadata": {},
     "output_type": "execute_result"
    }
   ],
   "source": [
    "np.where(a%2==0,100,a)"
   ]
  },
  {
   "cell_type": "code",
   "execution_count": 365,
   "id": "90b6b994",
   "metadata": {},
   "outputs": [],
   "source": [
    "# np.expand_dims np.sort np.unique np.where np.append np.concatenate"
   ]
  },
  {
   "cell_type": "code",
   "execution_count": 366,
   "id": "10efba93",
   "metadata": {},
   "outputs": [
    {
     "data": {
      "text/plain": [
       "4"
      ]
     },
     "execution_count": 366,
     "metadata": {},
     "output_type": "execute_result"
    }
   ],
   "source": [
    "np.argmax(a)"
   ]
  },
  {
   "cell_type": "code",
   "execution_count": 367,
   "id": "9a503bb0",
   "metadata": {},
   "outputs": [
    {
     "data": {
      "text/plain": [
       "array([[86, 83, 86, 80, 93],\n",
       "       [63, 90, 46, 57, 21],\n",
       "       [62, 73, 44, 16, 23]])"
      ]
     },
     "execution_count": 367,
     "metadata": {},
     "output_type": "execute_result"
    }
   ],
   "source": [
    "b"
   ]
  },
  {
   "cell_type": "code",
   "execution_count": 369,
   "id": "3a3a80f3",
   "metadata": {},
   "outputs": [
    {
     "data": {
      "text/plain": [
       "array([4, 1, 1], dtype=int64)"
      ]
     },
     "execution_count": 369,
     "metadata": {},
     "output_type": "execute_result"
    }
   ],
   "source": [
    "np.argmax(b,axis = 1)"
   ]
  },
  {
   "cell_type": "code",
   "execution_count": 370,
   "id": "59006118",
   "metadata": {},
   "outputs": [
    {
     "data": {
      "text/plain": [
       "array([2, 2, 2, 2, 1], dtype=int64)"
      ]
     },
     "execution_count": 370,
     "metadata": {},
     "output_type": "execute_result"
    }
   ],
   "source": [
    "np.argmin(b,axis = 0)"
   ]
  },
  {
   "cell_type": "code",
   "execution_count": 371,
   "id": "71d39738",
   "metadata": {},
   "outputs": [
    {
     "data": {
      "text/plain": [
       "array([ 86, 169, 255, 335, 428, 491, 581, 627, 684, 705, 767, 840, 884,\n",
       "       900, 923])"
      ]
     },
     "execution_count": 371,
     "metadata": {},
     "output_type": "execute_result"
    }
   ],
   "source": [
    "np.cumsum(a)"
   ]
  },
  {
   "cell_type": "code",
   "execution_count": 372,
   "id": "7d8d4aa8",
   "metadata": {},
   "outputs": [
    {
     "data": {
      "text/plain": [
       "array([[ 86,  83,  86,  80,  93],\n",
       "       [149, 173, 132, 137, 114],\n",
       "       [211, 246, 176, 153, 137]])"
      ]
     },
     "execution_count": 372,
     "metadata": {},
     "output_type": "execute_result"
    }
   ],
   "source": [
    "np.cumsum(b , axis = 0)"
   ]
  },
  {
   "cell_type": "code",
   "execution_count": 373,
   "id": "40398a7e",
   "metadata": {},
   "outputs": [
    {
     "data": {
      "text/plain": [
       "array([[86, 83, 86, 80, 93],\n",
       "       [63, 90, 46, 57, 21],\n",
       "       [62, 73, 44, 16, 23]])"
      ]
     },
     "execution_count": 373,
     "metadata": {},
     "output_type": "execute_result"
    }
   ],
   "source": [
    "b"
   ]
  },
  {
   "cell_type": "code",
   "execution_count": 374,
   "id": "b9f14fe5",
   "metadata": {},
   "outputs": [
    {
     "data": {
      "text/plain": [
       "array([         86,        7138,      613868,    49109440,   272210624,\n",
       "         -30599872,  1540978816, -2129418496, -1117769984, -1998333184,\n",
       "         657394176,   745134592, -1573816320,   588742656,   656179200])"
      ]
     },
     "execution_count": 374,
     "metadata": {},
     "output_type": "execute_result"
    }
   ],
   "source": [
    "np.cumprod(a)"
   ]
  },
  {
   "cell_type": "code",
   "execution_count": 375,
   "id": "18fa19e9",
   "metadata": {},
   "outputs": [
    {
     "data": {
      "text/plain": [
       "array([86, 83, 86, 80, 93, 63, 90, 46, 57, 21, 62, 73, 44, 16, 23])"
      ]
     },
     "execution_count": 375,
     "metadata": {},
     "output_type": "execute_result"
    }
   ],
   "source": [
    "a"
   ]
  },
  {
   "cell_type": "code",
   "execution_count": 382,
   "id": "a2f16b09",
   "metadata": {},
   "outputs": [],
   "source": [
    "a = a+50"
   ]
  },
  {
   "cell_type": "code",
   "execution_count": 383,
   "id": "ffafca52",
   "metadata": {},
   "outputs": [
    {
     "data": {
      "text/plain": [
       "array([  6,   3,   6,   0,  13, -17,  10, -34, -23, -59, -18,  -7, -36,\n",
       "       -64, -57])"
      ]
     },
     "execution_count": 383,
     "metadata": {},
     "output_type": "execute_result"
    }
   ],
   "source": [
    "a"
   ]
  },
  {
   "cell_type": "code",
   "execution_count": 384,
   "id": "630487ef",
   "metadata": {},
   "outputs": [
    {
     "data": {
      "text/plain": [
       "array([  6,  18, 108,   0,   0,   0,   0,   0,   0,   0,   0,   0,   0,\n",
       "         0,   0])"
      ]
     },
     "execution_count": 384,
     "metadata": {},
     "output_type": "execute_result"
    }
   ],
   "source": [
    "np.cumprod(a)"
   ]
  },
  {
   "cell_type": "code",
   "execution_count": 385,
   "id": "dc430ce4",
   "metadata": {},
   "outputs": [
    {
     "data": {
      "text/plain": [
       "-17.0"
      ]
     },
     "execution_count": 385,
     "metadata": {},
     "output_type": "execute_result"
    }
   ],
   "source": [
    "np.percentile(a,50)"
   ]
  },
  {
   "cell_type": "code",
   "execution_count": 386,
   "id": "626e7d13",
   "metadata": {},
   "outputs": [],
   "source": [
    "a = np.random.randint(1,100,24)"
   ]
  },
  {
   "cell_type": "code",
   "execution_count": 387,
   "id": "bca071ad",
   "metadata": {},
   "outputs": [
    {
     "data": {
      "text/plain": [
       "array([ 2, 63,  5, 42, 83, 76, 95, 70, 34, 93, 40,  4, 33, 70, 11, 34, 58,\n",
       "       98, 21, 68, 14, 49,  5, 96])"
      ]
     },
     "execution_count": 387,
     "metadata": {},
     "output_type": "execute_result"
    }
   ],
   "source": [
    "a"
   ]
  },
  {
   "cell_type": "code",
   "execution_count": 388,
   "id": "1b4c7720",
   "metadata": {},
   "outputs": [
    {
     "data": {
      "text/plain": [
       "45.5"
      ]
     },
     "execution_count": 388,
     "metadata": {},
     "output_type": "execute_result"
    }
   ],
   "source": [
    "np.percentile(a,50)"
   ]
  },
  {
   "cell_type": "code",
   "execution_count": 389,
   "id": "390122d9",
   "metadata": {},
   "outputs": [
    {
     "data": {
      "text/plain": [
       "45.5"
      ]
     },
     "execution_count": 389,
     "metadata": {},
     "output_type": "execute_result"
    }
   ],
   "source": [
    "np.median(a)"
   ]
  },
  {
   "cell_type": "code",
   "execution_count": 391,
   "id": "3cb2b04e",
   "metadata": {},
   "outputs": [
    {
     "data": {
      "text/plain": [
       "(array([4, 2, 1, 3, 3, 1, 2, 3, 1, 4], dtype=int64),\n",
       " array([  0,  10,  20,  30,  40,  50,  60,  70,  80,  90, 100]))"
      ]
     },
     "execution_count": 391,
     "metadata": {},
     "output_type": "execute_result"
    }
   ],
   "source": [
    "np.histogram(a,bins = [0,10,20,30,40,50,60,70,80,90,100])"
   ]
  },
  {
   "cell_type": "code",
   "execution_count": 392,
   "id": "05008b64",
   "metadata": {},
   "outputs": [
    {
     "data": {
      "text/plain": [
       "array([[1.        , 0.56920998],\n",
       "       [0.56920998, 1.        ]])"
      ]
     },
     "execution_count": 392,
     "metadata": {},
     "output_type": "execute_result"
    }
   ],
   "source": [
    "salary = np.array([20000,30000,90000,100000])\n",
    "exp = np.array([1,3,2,4])\n",
    "np.corrcoef(salary,exp)"
   ]
  },
  {
   "cell_type": "code",
   "execution_count": 393,
   "id": "045a8763",
   "metadata": {},
   "outputs": [
    {
     "data": {
      "text/plain": [
       "array([ 2, 63,  5, 42, 83, 76, 95, 70, 34, 93, 40,  4, 33, 70, 11, 34, 58,\n",
       "       98, 21, 68, 14, 49,  5, 96])"
      ]
     },
     "execution_count": 393,
     "metadata": {},
     "output_type": "execute_result"
    }
   ],
   "source": [
    "a "
   ]
  },
  {
   "cell_type": "code",
   "execution_count": 394,
   "id": "84be931a",
   "metadata": {},
   "outputs": [],
   "source": [
    "items = [2,30,50,60,70,45,49,70,95]"
   ]
  },
  {
   "cell_type": "code",
   "execution_count": 396,
   "id": "401fc195",
   "metadata": {},
   "outputs": [
    {
     "data": {
      "text/plain": [
       "array([ 2, 95, 70, 70, 49])"
      ]
     },
     "execution_count": 396,
     "metadata": {},
     "output_type": "execute_result"
    }
   ],
   "source": [
    "a[np.isin(a,items)]"
   ]
  },
  {
   "cell_type": "code",
   "execution_count": 397,
   "id": "3fe0f053",
   "metadata": {},
   "outputs": [
    {
     "data": {
      "text/plain": [
       "array([[86, 83, 86, 80, 93],\n",
       "       [63, 90, 46, 57, 21],\n",
       "       [62, 73, 44, 16, 23]])"
      ]
     },
     "execution_count": 397,
     "metadata": {},
     "output_type": "execute_result"
    }
   ],
   "source": [
    "b"
   ]
  },
  {
   "cell_type": "code",
   "execution_count": 399,
   "id": "831d3c82",
   "metadata": {},
   "outputs": [
    {
     "data": {
      "text/plain": [
       "array([[73, 62, 44, 23, 16],\n",
       "       [90, 63, 57, 46, 21],\n",
       "       [93, 86, 86, 83, 80]])"
      ]
     },
     "execution_count": 399,
     "metadata": {},
     "output_type": "execute_result"
    }
   ],
   "source": [
    "np.flip(np.sort(b,axis = 1))"
   ]
  },
  {
   "cell_type": "code",
   "execution_count": 400,
   "id": "2655a844",
   "metadata": {},
   "outputs": [
    {
     "data": {
      "text/plain": [
       "array([ 2, 63,  5, 42, 83, 76, 95, 70, 34, 93, 40,  4, 33, 70, 11, 34, 58,\n",
       "       98, 21, 68, 14, 49,  5, 96])"
      ]
     },
     "execution_count": 400,
     "metadata": {},
     "output_type": "execute_result"
    }
   ],
   "source": [
    "a"
   ]
  },
  {
   "cell_type": "code",
   "execution_count": 401,
   "id": "7eb48f26",
   "metadata": {},
   "outputs": [],
   "source": [
    "np.put(a,[0,1],[53,530])"
   ]
  },
  {
   "cell_type": "code",
   "execution_count": 402,
   "id": "1957e917",
   "metadata": {},
   "outputs": [
    {
     "data": {
      "text/plain": [
       "array([ 53, 530,   5,  42,  83,  76,  95,  70,  34,  93,  40,   4,  33,\n",
       "        70,  11,  34,  58,  98,  21,  68,  14,  49,   5,  96])"
      ]
     },
     "execution_count": 402,
     "metadata": {},
     "output_type": "execute_result"
    }
   ],
   "source": [
    "a"
   ]
  },
  {
   "cell_type": "code",
   "execution_count": 405,
   "id": "c5f2407e",
   "metadata": {},
   "outputs": [
    {
     "data": {
      "text/plain": [
       "array([42, 76, 95, 70, 34, 93, 40,  4, 33, 70, 11, 34, 58, 98, 21, 68, 14,\n",
       "       49,  5, 96])"
      ]
     },
     "execution_count": 405,
     "metadata": {},
     "output_type": "execute_result"
    }
   ],
   "source": [
    "np.delete(a,[0,1,2,4])"
   ]
  },
  {
   "cell_type": "code",
   "execution_count": 406,
   "id": "e77eb029",
   "metadata": {},
   "outputs": [
    {
     "data": {
      "text/plain": [
       "array([1, 2, 3, 4, 5, 6, 7])"
      ]
     },
     "execution_count": 406,
     "metadata": {},
     "output_type": "execute_result"
    }
   ],
   "source": [
    "x = np.array([1,2,3,4,5])\n",
    "y = np.array([3,4,5,6,7])\n",
    "np.union1d(x,y)"
   ]
  },
  {
   "cell_type": "code",
   "execution_count": 408,
   "id": "4b03c302",
   "metadata": {},
   "outputs": [
    {
     "data": {
      "text/plain": [
       "array([3, 4, 5])"
      ]
     },
     "execution_count": 408,
     "metadata": {},
     "output_type": "execute_result"
    }
   ],
   "source": [
    "np.intersect1d(x,y)"
   ]
  },
  {
   "cell_type": "code",
   "execution_count": 409,
   "id": "bc0a53f3",
   "metadata": {},
   "outputs": [
    {
     "data": {
      "text/plain": [
       "array([1, 2])"
      ]
     },
     "execution_count": 409,
     "metadata": {},
     "output_type": "execute_result"
    }
   ],
   "source": [
    "np.setdiff1d(x,y)"
   ]
  },
  {
   "cell_type": "code",
   "execution_count": 410,
   "id": "5ac8564a",
   "metadata": {},
   "outputs": [
    {
     "data": {
      "text/plain": [
       "array([1, 2, 6, 7])"
      ]
     },
     "execution_count": 410,
     "metadata": {},
     "output_type": "execute_result"
    }
   ],
   "source": [
    "np.setxor1d(x,y)"
   ]
  },
  {
   "cell_type": "code",
   "execution_count": 411,
   "id": "711a08b2",
   "metadata": {},
   "outputs": [
    {
     "data": {
      "text/plain": [
       "array([False, False,  True,  True,  True])"
      ]
     },
     "execution_count": 411,
     "metadata": {},
     "output_type": "execute_result"
    }
   ],
   "source": [
    "np.in1d(x,y)"
   ]
  },
  {
   "cell_type": "code",
   "execution_count": 412,
   "id": "f6f8a17d",
   "metadata": {},
   "outputs": [
    {
     "data": {
      "text/plain": [
       "array([ 53, 530,   5,  42,  83,  76,  95,  70,  34,  93,  40,   4,  33,\n",
       "        70,  11,  34,  58,  98,  21,  68,  14,  49,   5,  96])"
      ]
     },
     "execution_count": 412,
     "metadata": {},
     "output_type": "execute_result"
    }
   ],
   "source": [
    "a"
   ]
  },
  {
   "cell_type": "code",
   "execution_count": 413,
   "id": "2e0b7d74",
   "metadata": {},
   "outputs": [
    {
     "data": {
      "text/plain": [
       "array([ 53, 100,  25,  42,  83,  76,  95,  70,  34,  93,  40,  25,  33,\n",
       "        70,  25,  34,  58,  98,  25,  68,  25,  49,  25,  96])"
      ]
     },
     "execution_count": 413,
     "metadata": {},
     "output_type": "execute_result"
    }
   ],
   "source": [
    "np.clip(a,25,100)"
   ]
  },
  {
   "cell_type": "code",
   "execution_count": null,
   "id": "3c45e87f",
   "metadata": {},
   "outputs": [],
   "source": []
  }
 ],
 "metadata": {
  "kernelspec": {
   "display_name": "Python 3 (ipykernel)",
   "language": "python",
   "name": "python3"
  },
  "language_info": {
   "codemirror_mode": {
    "name": "ipython",
    "version": 3
   },
   "file_extension": ".py",
   "mimetype": "text/x-python",
   "name": "python",
   "nbconvert_exporter": "python",
   "pygments_lexer": "ipython3",
   "version": "3.11.3"
  }
 },
 "nbformat": 4,
 "nbformat_minor": 5
}
